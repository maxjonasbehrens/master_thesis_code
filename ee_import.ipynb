{
  "nbformat": 4,
  "nbformat_minor": 0,
  "metadata": {
    "colab": {
      "name": "ee_import.ipynb",
      "provenance": [],
      "collapsed_sections": [],
      "include_colab_link": true
    },
    "kernelspec": {
      "name": "python3",
      "display_name": "Python 3"
    },
    "accelerator": "GPU"
  },
  "cells": [
    {
      "cell_type": "markdown",
      "metadata": {
        "id": "view-in-github",
        "colab_type": "text"
      },
      "source": [
        "<a href=\"https://colab.research.google.com/github/maxjonasbehrens/master_thesis_code/blob/master/ee_import.ipynb\" target=\"_parent\"><img src=\"https://colab.research.google.com/assets/colab-badge.svg\" alt=\"Open In Colab\"/></a>"
      ]
    },
    {
      "cell_type": "markdown",
      "metadata": {
        "id": "jcCwLDmWkrHi",
        "colab_type": "text"
      },
      "source": [
        "## First Test to import tfrecords images from EE"
      ]
    },
    {
      "cell_type": "code",
      "metadata": {
        "id": "KnRwnXgRkXTH",
        "colab_type": "code",
        "outputId": "b8f766ca-465e-40d3-8b0b-44d62f9e238b",
        "colab": {
          "base_uri": "https://localhost:8080/",
          "height": 125
        }
      },
      "source": [
        "from google.colab import drive\n",
        "drive.mount('/gdrive')"
      ],
      "execution_count": 1,
      "outputs": [
        {
          "output_type": "stream",
          "text": [
            "Go to this URL in a browser: https://accounts.google.com/o/oauth2/auth?client_id=947318989803-6bn6qk8qdgf4n4g3pfee6491hc0brc4i.apps.googleusercontent.com&redirect_uri=urn%3Aietf%3Awg%3Aoauth%3A2.0%3Aoob&scope=email%20https%3A%2F%2Fwww.googleapis.com%2Fauth%2Fdocs.test%20https%3A%2F%2Fwww.googleapis.com%2Fauth%2Fdrive%20https%3A%2F%2Fwww.googleapis.com%2Fauth%2Fdrive.photos.readonly%20https%3A%2F%2Fwww.googleapis.com%2Fauth%2Fpeopleapi.readonly&response_type=code\n",
            "\n",
            "Enter your authorization code:\n",
            "··········\n",
            "Mounted at /gdrive\n"
          ],
          "name": "stdout"
        }
      ]
    },
    {
      "cell_type": "code",
      "metadata": {
        "id": "1Lfk-ya7Ux0k",
        "colab_type": "code",
        "outputId": "4a80625b-9073-4a98-af6d-2bbd306cc248",
        "colab": {
          "base_uri": "https://localhost:8080/",
          "height": 87
        }
      },
      "source": [
        "!pip install pyrsgis"
      ],
      "execution_count": 2,
      "outputs": [
        {
          "output_type": "stream",
          "text": [
            "Collecting pyrsgis\n",
            "  Downloading https://files.pythonhosted.org/packages/be/33/b095ae8e3f770bca9b8f8179da3009a16bd2773daccfe1dc04a9e7870974/pyrsgis-0.2.4-py3-none-any.whl\n",
            "Installing collected packages: pyrsgis\n",
            "Successfully installed pyrsgis-0.2.4\n"
          ],
          "name": "stdout"
        }
      ]
    },
    {
      "cell_type": "code",
      "metadata": {
        "id": "CwZd9v4Ukxt6",
        "colab_type": "code",
        "outputId": "1fc7cb8f-5a18-4d4d-df32-690d3e0fcd29",
        "colab": {
          "base_uri": "https://localhost:8080/",
          "height": 81
        }
      },
      "source": [
        "import tensorflow as tf\n",
        "import numpy as np\n",
        "import pandas as pd\n",
        "from tensorflow import keras\n",
        "import pyrsgis\n",
        "import cv2\n",
        "from skimage.transform import resize\n",
        "from PIL import Image\n",
        "%matplotlib inline \n",
        "from matplotlib import pyplot as plt\n",
        "from os import listdir\n",
        "from os.path import isfile, join\n",
        "import scipy.io"
      ],
      "execution_count": 3,
      "outputs": [
        {
          "output_type": "display_data",
          "data": {
            "text/html": [
              "<p style=\"color: red;\">\n",
              "The default version of TensorFlow in Colab will soon switch to TensorFlow 2.x.<br>\n",
              "We recommend you <a href=\"https://www.tensorflow.org/guide/migrate\" target=\"_blank\">upgrade</a> now \n",
              "or ensure your notebook will continue to use TensorFlow 1.x via the <code>%tensorflow_version 1.x</code> magic:\n",
              "<a href=\"https://colab.research.google.com/notebooks/tensorflow_version.ipynb\" target=\"_blank\">more info</a>.</p>\n"
            ],
            "text/plain": [
              "<IPython.core.display.HTML object>"
            ]
          },
          "metadata": {
            "tags": []
          }
        },
        {
          "output_type": "stream",
          "text": [
            "Warning! matplotlib_scalebar library not found.\n"
          ],
          "name": "stdout"
        }
      ]
    },
    {
      "cell_type": "markdown",
      "metadata": {
        "id": "V8Lm_M34332n",
        "colab_type": "text"
      },
      "source": [
        "## Exploration"
      ]
    },
    {
      "cell_type": "code",
      "metadata": {
        "id": "a5KAKR7AgaJf",
        "colab_type": "code",
        "colab": {
          "base_uri": "https://localhost:8080/",
          "height": 54
        },
        "outputId": "1b60c473-e412-4ed2-fded-d967ac70ddcb"
      },
      "source": [
        "# Reload missed images\n",
        "mypath = \"/gdrive/My Drive/nuts_geotiff/\"\n",
        "onlyfiles = [f.split('.')[0] for f in listdir(mypath) if isfile(join(mypath, f))]\n",
        "print(onlyfiles)"
      ],
      "execution_count": 6,
      "outputs": [
        {
          "output_type": "stream",
          "text": [
            "['AL02_2016', 'AL02_2017', 'CZ05_2016', 'AT32_2016', 'AT32_2017', 'CZ05_2017', 'AT11_2017', 'AT11_2016', 'BG41_2016', 'BG41_2017', 'DE14_2016', 'DE14_2017', 'AT34_2016', 'BE10_2016', 'BE10_2017', 'AT34_2017', 'CZ08_2016', 'AT22_2016', 'CZ08_2017', 'AT22_2017', 'BG32_2016', 'BE24_2016', 'BE24_2017', 'BG32_2017', 'BE25_2017', 'CZ06_2016', 'BE25_2016', 'CZ06_2017', 'AT12_2016', 'AT13_2016', 'AT13_2017', 'AT12_2017', 'AT21_2016', 'AT21_2017', 'CZ03_2017', 'CZ01_2016', 'CZ01_2017', 'CZ03_2016', 'BE23_2016', 'BE33_2016', 'BE33_2017', 'BE23_2017', 'CZ07_2016', 'BE34_2016', 'BE34_2017', 'DE22_2016', 'DE22_2017', 'BE35_2016', 'BE35_2017', 'CZ07_2017', 'CZ04_2016', 'CZ04_2017', 'BG31_2016', 'BG31_2017', 'AL01_2016', 'AL01_2017', 'AT31_2016', 'AT31_2017', 'DE73_2016', 'DE73_2017', 'DE93_2016', 'DE93_2017', 'DE91_2016', 'DE91_2017', 'DE92_2016', 'DE92_2017', 'DE26_2016', 'DE26_2017', 'EL53_2016', 'EL53_2017', 'FR10_2016', 'FR10_2017', 'DE30_2016', 'DE30_2017', 'ES23_2017', 'HU11_2016', 'HU11_2017', 'ES23_2016', 'MK00_2017', 'MK00_2016', 'NL13_2017', 'NL13_2016', 'LT01_2016', 'LT01_2017', 'NL21_2016', 'NL22_2016', 'NL21_2017', 'NL22_2017', 'NL23_2016', 'NL23_2017', 'NL31_2017', 'NL31_2016', 'NL33_2016', 'NL42_2016', 'NL33_2017', 'LU00_2016', 'NL42_2017', 'LU00_2017', 'RO12_2016', 'RO12_2017', 'SI04_2016', 'PL51_2016', 'SI04_2017', 'PL51_2017', 'PL52_2016', 'PL52_2017', 'RO11_2016', 'RO11_2017', 'PL62_2016', 'PL62_2017', 'PL63_2016', 'RS22_2016', 'RS22_2017', 'PL43_2016', 'PL43_2017', 'PL63_2017', 'PL21_2017', 'PL21_2016', 'PL72_2016', 'PL72_2017', 'PL82_2017', 'RO32_2016', 'RO32_2017', 'RS11_2016', 'PL82_2016', 'RS11_2017', 'PL84_2016', 'PL84_2017', 'PL91_2016', 'RO41_2016', 'RO41_2017', 'RO42_2016', 'PL91_2017', 'HU31_2016', 'RO42_2017', 'HU12_2016', 'HU31_2017', 'HU12_2017', 'HU32_2016', 'HU32_2017', 'HU33_2016', 'HU33_2017', 'HU21_2016', 'HU21_2017', 'HU22_2016', 'HU22_2017', 'SK02_2016', 'SK02_2017', 'SK03_2016', 'TR82_2016', 'SK03_2017', 'TR83_2016', 'TR83_2017', 'TR63_2016', 'TR82_2017', 'TR63_2017', 'TR71_2016', 'TR81_2016', 'TR81_2017', 'TR21_2016', 'TR71_2017', 'TR21_2017', 'TR42_2016', 'TR42_2017', 'TR51_2016', 'TR51_2017', 'AL02_2010', 'AL02_2009', 'AL02_2008', 'AL02_2011', 'AL02_2012', 'AL02_2013', 'AL02_2014', 'CZ05_2008', 'CZ05_2009', 'AL02_2015', 'CZ05_2011', 'CZ05_2010', 'CZ05_2012', 'CZ05_2013', 'CZ05_2014', 'CZ05_2015', 'AT32_2008', 'AT32_2009', 'AT32_2010', 'AT32_2011', 'AT32_2014', 'AT32_2013', 'AT32_2012', 'AT32_2015', 'AT11_2008', 'AT11_2009', 'AT11_2010', 'AT11_2011', 'AT11_2013', 'AT11_2012', 'AT11_2014', 'BG41_2008', 'AT11_2015', 'BG41_2009', 'BG41_2011', 'BG41_2010', 'BG41_2013', 'BG41_2012', 'BG41_2014', 'BG41_2015', 'DE14_2009', 'DE14_2008', 'DE14_2010', 'DE14_2011', 'DE14_2013', 'DE14_2012', 'DE14_2014', 'AT34_2008', 'DE14_2015', 'AT34_2009', 'AT34_2010', 'AT34_2011', 'AT34_2013', 'AT34_2012', 'BE10_2009', 'BE10_2008', 'BE10_2010', 'AT34_2014', 'BE10_2011', 'BE10_2013', 'BE10_2012', 'BE10_2014', 'BE10_2015', 'AT34_2015', 'CZ08_2010', 'CZ08_2008', 'CZ08_2009', 'CZ08_2011', 'CZ08_2013', 'CZ08_2014', 'CZ08_2012', 'CZ08_2015', 'AT22_2008', 'AT22_2009', 'AT22_2010', 'AT22_2011', 'AT22_2012', 'AT22_2013', 'AT22_2014', 'AT22_2015', 'BG32_2008', 'BG32_2009', 'BG32_2011', 'BG32_2010', 'BG32_2012', 'BG32_2013', 'BE24_2008', 'BG32_2015', 'BE24_2009', 'BG32_2014', 'BE24_2010', 'BE24_2011', 'BE24_2012', 'BE24_2013', 'BE24_2014', 'BE24_2015', 'BE25_2008', 'BE25_2009', 'BE25_2010', 'BE25_2011', 'BE25_2012', 'BE25_2013', 'BE25_2015', 'BE25_2014', 'CZ06_2008', 'CZ06_2009', 'CZ06_2010', 'CZ06_2011', 'CZ06_2012', 'CZ06_2013', 'CZ06_2014', 'CZ06_2015', 'AT12_2008', 'AT12_2009', 'AT12_2012', 'AT12_2010', 'AT12_2014', 'AT13_2008', 'AT12_2015', 'AT13_2009', 'AT12_2011', 'AT13_2010', 'AT13_2011', 'AT13_2012', 'AT13_2013', 'AT13_2014', 'AT13_2015', 'AT12_2013', 'AT21_2010', 'AT21_2008', 'AT21_2009', 'AT21_2011', 'AT21_2013', 'AT21_2014', 'AT21_2015', 'AT21_2012', 'CZ03_2008', 'CZ03_2009', 'CZ03_2011', 'CZ03_2010', 'CZ03_2014', 'CZ03_2013', 'CZ01_2008', 'CZ03_2015', 'CZ01_2009', 'CZ01_2010', 'CZ01_2011', 'CZ01_2012', 'CZ01_2013', 'CZ01_2014', 'CZ01_2015', 'BE23_2008', 'CZ03_2012', 'BE23_2009', 'BE23_2010', 'BE23_2012', 'BE23_2011', 'BE23_2013', 'BE23_2014', 'BE33_2008', 'BE23_2015', 'BE33_2009', 'BE33_2010', 'BE33_2013', 'BE33_2011', 'BE33_2012', 'CZ07_2009', 'BE33_2014', 'CZ07_2008', 'BE33_2015', 'CZ07_2010', 'CZ07_2011', 'CZ07_2012', 'CZ07_2014', 'BE34_2008', 'CZ07_2015', 'BE34_2009', 'CZ07_2013', 'BE34_2011', 'BE34_2010', 'BE34_2013', 'BE34_2012', 'DE22_2008', 'BE34_2015', 'BE34_2014', 'DE22_2009', 'DE22_2012', 'DE22_2013', 'DE22_2010', 'DE22_2014', 'DE22_2015', 'BE35_2008', 'BE35_2009', 'BE35_2010', 'BE35_2011', 'BE35_2012', 'BE35_2013', 'BE35_2014', 'BE35_2015', 'CZ04_2008', 'CZ04_2009', 'CZ04_2010', 'CZ04_2011', 'CZ04_2012', 'CZ04_2013', 'CZ04_2014', 'CZ04_2015', 'ES24_2008', 'ES24_2009', 'ES24_2010', 'ES24_2012', 'ES24_2011', 'ES24_2013', 'ES24_2015', 'ES24_2014', 'BG31_2008', 'BG31_2010', 'BG31_2009', 'BG31_2011', 'BG31_2012', 'BG31_2014', 'BG31_2015', 'AL01_2008', 'BG31_2013', 'AL01_2009', 'AL01_2010', 'AL01_2011', 'AL01_2013', 'AL01_2012', 'AL01_2014', 'AL01_2015', 'AT31_2008', 'AT31_2009', 'AT31_2010', 'AT31_2011', 'AT31_2012', 'AT31_2014', 'AT31_2013', 'AT31_2015', 'DE73_2008', 'DE73_2009', 'DE73_2011', 'DE73_2012', 'DE73_2013', 'DE73_2010', 'DE73_2014', 'DE73_2015', 'DE93_2008', 'DE93_2009', 'DE93_2011', 'DE93_2012', 'DE93_2010', 'DE93_2013', 'DE93_2014', 'DE93_2015', 'DE91_2008', 'DE91_2009', 'DE91_2010', 'DE91_2011', 'DE91_2012', 'DE91_2013', 'DE91_2015', 'DE92_2008', 'DE91_2014', 'DE92_2010', 'DE92_2009', 'DE92_2011', 'DE92_2013', 'DE92_2012', 'DE92_2014', 'DE26_2008', 'DE26_2009', 'DE26_2010', 'DE92_2015', 'DE26_2012', 'DE26_2011', 'DE26_2013', 'DE26_2014', 'DE26_2015', 'EL53_2008', 'EL53_2009', 'EL53_2010', 'EL53_2011', 'EL53_2012', 'EL53_2013', 'EL53_2015', 'FR10_2008', 'FR10_2009', 'EL53_2014', 'FR10_2010', 'FR10_2011', 'FR10_2012', 'FR10_2013', 'FR10_2014', 'DE30_2008', 'DE30_2009', 'FR10_2015', 'DE30_2010', 'DE30_2013', 'DE30_2011', 'DE30_2012', 'DE30_2014', 'DE30_2015', 'ES43_2008', 'ES43_2009', 'ES43_2010', 'ES43_2011', 'ES43_2012', 'ES43_2013', 'ES43_2014', 'ES43_2015', 'ES23_2008', 'ES23_2010', 'ES23_2009', 'ES23_2011', 'ES23_2013', 'ES23_2014', 'ES23_2012', 'HR04_2008', 'HR04_2009', 'ES23_2015', 'HR04_2010', 'HR04_2011', 'HR04_2012', 'HR04_2013', 'HU11_2008', 'HU11_2009', 'HU11_2010', 'HU11_2011', 'HR04_2015', 'HU11_2012', 'HU11_2014', 'HU11_2013', 'HU11_2015', 'MK00_2008', 'MK00_2009', 'MK00_2010', 'MK00_2011', 'MK00_2013', 'MK00_2012', 'MK00_2015', 'MK00_2014', 'NL13_2008', 'NL13_2010', 'NL13_2011', 'NL13_2009', 'NL13_2012', 'NL13_2013', 'NL13_2014', 'DE22_2011', 'NL13_2015', 'LT01_2008', 'LT01_2009', 'LT01_2011', 'HR04_2014', 'LT01_2013', 'LT01_2014', 'LT01_2015', 'NL21_2008', 'NL21_2009', 'NL21_2010', 'NL21_2011', 'NL21_2012', 'NL21_2013', 'NL21_2015', 'NL21_2014', 'NL22_2008', 'NL22_2009', 'NL22_2010', 'NL22_2011', 'NL22_2013', 'NL22_2012', 'NL22_2014', 'NL22_2015', 'NL23_2008', 'NL23_2009', 'NL23_2010', 'NL23_2011', 'NL23_2012', 'NL23_2013', 'NL23_2014', 'NL23_2015', 'NL31_2008', 'NL31_2010', 'NL31_2009', 'NL31_2012', 'NL31_2011', 'NL31_2013', 'NL31_2014', 'NL31_2015', 'NL33_2008', 'NL33_2009', 'NL33_2010', 'NL33_2011', 'NL33_2012', 'NL33_2013', 'NL33_2014', 'NL33_2015', 'NL42_2008', 'NL42_2009', 'NL42_2010', 'NL42_2011', 'NL42_2012', 'NL42_2013', 'NL42_2014', 'NL42_2015', 'LU00_2008', 'LU00_2009', 'LU00_2010', 'LU00_2012', 'LU00_2011', 'LU00_2013', 'LU00_2015', 'LU00_2014', 'PL92_2009', 'PL92_2008', 'SI04_2008', 'RO32_2008', 'RO32_2009', 'RO32_2010', 'RS11_2012', 'RS11_2011', 'RS11_2013', 'RS11_2014', 'PL84_2008', 'RS11_2015', 'PL84_2009', 'PL84_2010', 'PL84_2011', 'PL84_2012', 'PL84_2013', 'PL84_2015', 'PL84_2014', 'PL91_2008', 'PL91_2010', 'PL91_2011', 'PL91_2009', 'PL91_2012', 'PL91_2015', 'PL91_2014', 'RO41_2008', 'RO41_2009', 'PL91_2013', 'RO41_2010', 'RO41_2011', 'RO41_2012', 'RO41_2013', 'RO41_2014', 'RO41_2015', 'RO42_2008', 'RO42_2009', 'RO42_2010', 'RO42_2011', 'RO42_2012', 'RO42_2014', 'RO42_2015', 'RO42_2013', 'HU31_2008', 'HU31_2009', 'HU31_2010', 'HU31_2011', 'HU31_2012', 'HU31_2013', 'HU31_2014', 'HU31_2015', 'HU12_2008', 'HU12_2009', 'HU12_2010', 'HU12_2011', 'HU12_2013', 'HU12_2012', 'HU12_2014', 'HU12_2015', 'HU32_2008', 'HU32_2009', 'HU32_2010', 'HU32_2011', 'HU32_2012', 'HU32_2013', 'HU32_2014', 'HU32_2015', 'HU33_2008', 'HU33_2009', 'HU33_2010', 'HU33_2011', 'HU33_2013', 'HU33_2012', 'HU33_2015', 'HU33_2014', 'HU21_2008', 'HU21_2009', 'HU21_2010', 'HU21_2011', 'HU21_2012', 'HU21_2013', 'HU21_2014', 'HU22_2008', 'HU21_2015', 'HU22_2010', 'HU22_2009', 'HU22_2011', 'HU22_2012', 'HU22_2013', 'HU22_2014', 'HU22_2015', 'SK02_2008', 'SK02_2009', 'SK02_2010', 'SK02_2011', 'SK02_2012', 'SK02_2013', 'SK02_2014', 'SK02_2015', 'SK03_2008', 'SK03_2009', 'SK03_2010', 'SK03_2011', 'SK03_2012', 'SK03_2013', 'SK03_2014', 'SK03_2015', 'TR82_2009', 'TR82_2008', 'TR82_2010', 'TR82_2011', 'TR82_2012', 'TR82_2013', 'TR82_2014', 'TR82_2015', 'TR83_2008', 'TR83_2009', 'TR83_2010', 'TR83_2011', 'TR83_2012', 'TR83_2013', 'TR83_2014', 'TR83_2015', 'TR63_2008', 'TR63_2009', 'TR63_2010', 'TR63_2012', 'TR63_2011', 'TR63_2013', 'TR63_2014', 'TR71_2008', 'TR63_2015', 'TR71_2010', 'TR71_2009', 'TR71_2011', 'TR71_2012', 'TR71_2013', 'TR71_2014', 'TR71_2015', 'TR72_2008', 'TR72_2009', 'TR72_2010', 'TR72_2011', 'TR72_2012', 'TR72_2013', 'TR72_2014', 'TR72_2015', 'TR81_2008', 'TR81_2010', 'TR81_2009', 'TR81_2011', 'TR81_2013', 'TR81_2014', 'TR81_2015', 'TR33_2008', 'TR33_2009', 'TR33_2010', 'TR33_2011', 'TR81_2012', 'TR33_2012', 'PL21_2015', 'TR33_2014', 'TR33_2015', 'TR21_2009', 'TR33_2013', 'TR21_2010', 'TR21_2011', 'TR21_2013', 'TR21_2014', 'TR21_2012', 'TR42_2008', 'TR42_2009', 'TR21_2015', 'TR42_2011', 'TR42_2012', 'TR42_2010', 'TR42_2013', 'TR21_2008', 'TR42_2014', 'TR51_2008', 'TR51_2009', 'TR42_2015', 'TR51_2011', 'TR51_2010', 'TR51_2012', 'TR51_2013', 'TR51_2014', 'TR51_2015', 'TR52_2009', 'TR52_2010', 'TR52_2011', 'TR52_2013', 'TR52_2008', 'TR52_2014', 'TR52_2015', 'TR52_2012']\n"
          ],
          "name": "stdout"
        }
      ]
    },
    {
      "cell_type": "code",
      "metadata": {
        "id": "VLRyltYwk3HL",
        "colab_type": "code",
        "colab": {}
      },
      "source": [
        "al01_2016_path = \"/gdrive/My Drive/nuts_night_all/DE22_2012.tif\"\n",
        "\n",
        "ds1, featuresAL01 = pyrsgis.raster.read(al01_2016_path)"
      ],
      "execution_count": 0,
      "outputs": []
    },
    {
      "cell_type": "code",
      "metadata": {
        "id": "vGEELO3uujS5",
        "colab_type": "code",
        "outputId": "09398983-01a3-4168-8d17-f1fbbae7843d",
        "colab": {
          "base_uri": "https://localhost:8080/",
          "height": 34
        }
      },
      "source": [
        "print(\"AL01 shape: \",featuresAL01.shape)"
      ],
      "execution_count": 5,
      "outputs": [
        {
          "output_type": "stream",
          "text": [
            "AL01 shape:  (3588, 8325)\n"
          ],
          "name": "stdout"
        }
      ]
    },
    {
      "cell_type": "code",
      "metadata": {
        "id": "gGDyj1HHJ4cL",
        "colab_type": "code",
        "outputId": "4ec5afa4-c75f-47a6-ca89-782a965f277c",
        "colab": {
          "base_uri": "https://localhost:8080/",
          "height": 34
        }
      },
      "source": [
        "len_list = []\n",
        "for i in range(featuresAL01.shape[0]):\n",
        "  len_list.append(len(featuresAL01[i][~np.isnan(featuresAL01[i])]))\n",
        "\n",
        "print(np.mean(len_list))"
      ],
      "execution_count": 0,
      "outputs": [
        {
          "output_type": "stream",
          "text": [
            "4845.33723522854\n"
          ],
          "name": "stdout"
        }
      ]
    },
    {
      "cell_type": "code",
      "metadata": {
        "id": "DkBpJPPG4-uz",
        "colab_type": "code",
        "colab": {}
      },
      "source": [
        "# Reshape image to be a rectangle\n",
        "raw_list = []\n",
        "h_temp = None\n",
        "x_step = 12\n",
        "y_step = 25\n",
        "y_len = len_mean\n",
        "\n",
        "for x in range(0,featuresAL01.shape[0],x_step):\n",
        "  for y in range(0,featuresAL01.shape[1],y_step):\n",
        "    if np.any(np.isnan(featuresAL01[x:x+x_step,y:y+y_step])) == False:\n",
        "      if h_temp is None:\n",
        "        h_temp = featuresAL01[x:x+x_step,y:y+y_step]\n",
        "      elif h_temp.shape[1] >= len_mean:\n",
        "        raw_list.append(h_temp)\n",
        "        h_temp = None\n",
        "      else:\n",
        "        h_temp = np.hstack((h_temp,featuresAL01[x:x+x_step,y:y+y_step]))"
      ],
      "execution_count": 0,
      "outputs": []
    },
    {
      "cell_type": "code",
      "metadata": {
        "id": "lI2ifjFcIq_Z",
        "colab_type": "code",
        "colab": {}
      },
      "source": [
        "# Test function\n",
        "raw_list = prepocess_image(featuresAL01)"
      ],
      "execution_count": 0,
      "outputs": []
    },
    {
      "cell_type": "code",
      "metadata": {
        "id": "I9lyfTd9LR0G",
        "colab_type": "code",
        "colab": {}
      },
      "source": [
        "# Check function if the output is correct\n",
        "len_list = []\n",
        "for i in range(len(raw_list)):\n",
        "  if raw_list[i] is None:\n",
        "    pass\n",
        "  else:\n",
        "    len_list.append(raw_list[i].shape[1])"
      ],
      "execution_count": 0,
      "outputs": []
    },
    {
      "cell_type": "code",
      "metadata": {
        "id": "YibqJ1msM7K2",
        "colab_type": "code",
        "outputId": "b20f3855-4cae-4ad0-f8d0-9547b811e42a",
        "colab": {
          "base_uri": "https://localhost:8080/",
          "height": 68
        }
      },
      "source": [
        "print(np.max(len_list))\n",
        "print(np.min(len_list))\n",
        "print(len(raw_list))"
      ],
      "execution_count": 0,
      "outputs": [
        {
          "output_type": "stream",
          "text": [
            "4875\n",
            "4875\n",
            "35\n"
          ],
          "name": "stdout"
        }
      ]
    },
    {
      "cell_type": "code",
      "metadata": {
        "id": "GPVh7JhN6l08",
        "colab_type": "code",
        "outputId": "f0a23470-8888-4b93-9ecb-7f14d36d7e77",
        "colab": {
          "base_uri": "https://localhost:8080/",
          "height": 34
        }
      },
      "source": [
        "final_features = np.array(raw_list,dtype=np.uint8)\n",
        "new_shape = final_features.shape[0]*final_features.shape[1]\n",
        "final_features = final_features.reshape((new_shape,final_features.shape[2]))\n",
        "print(final_features.shape)"
      ],
      "execution_count": 0,
      "outputs": [
        {
          "output_type": "stream",
          "text": [
            "(3220, 4875)\n"
          ],
          "name": "stdout"
        }
      ]
    },
    {
      "cell_type": "code",
      "metadata": {
        "id": "KAh7NFewVrKe",
        "colab_type": "code",
        "colab": {}
      },
      "source": [
        "al01_resized = resize(featuresAL01, (256,256))"
      ],
      "execution_count": 0,
      "outputs": []
    },
    {
      "cell_type": "code",
      "metadata": {
        "id": "lzov3rpeckrN",
        "colab_type": "code",
        "outputId": "757f2cb6-fd84-493e-a69b-a6c63c98adc7",
        "colab": {
          "base_uri": "https://localhost:8080/",
          "height": 268
        }
      },
      "source": [
        "# Show the test image\n",
        "plt.imshow(al01_resized, interpolation='nearest')\n",
        "plt.show()"
      ],
      "execution_count": 7,
      "outputs": [
        {
          "output_type": "display_data",
          "data": {
            "image/png": "[encoded data removed]",
            "text/plain": [
              "<Figure size 432x288 with 1 Axes>"
            ]
          },
          "metadata": {
            "tags": []
          }
        }
      ]
    },
    {
      "cell_type": "code",
      "metadata": {
        "id": "1NURzseNL_yH",
        "colab_type": "code",
        "outputId": "b341a9b2-42ed-4de1-e359-81526deb999f",
        "colab": {
          "base_uri": "https://localhost:8080/",
          "height": 197
        }
      },
      "source": [
        "# Check the data frame\n",
        "y_dat = pd.read_csv(\"/gdrive/My Drive/ThesisData/Data/nuts_gdp_cleaned.csv\")\n",
        "y_dat.head()"
      ],
      "execution_count": 8,
      "outputs": [
        {
          "output_type": "execute_result",
          "data": {
            "text/html": [
              "<div>\n",
              "<style scoped>\n",
              "    .dataframe tbody tr th:only-of-type {\n",
              "        vertical-align: middle;\n",
              "    }\n",
              "\n",
              "    .dataframe tbody tr th {\n",
              "        vertical-align: top;\n",
              "    }\n",
              "\n",
              "    .dataframe thead th {\n",
              "        text-align: right;\n",
              "    }\n",
              "</style>\n",
              "<table border=\"1\" class=\"dataframe\">\n",
              "  <thead>\n",
              "    <tr style=\"text-align: right;\">\n",
              "      <th></th>\n",
              "      <th>region</th>\n",
              "      <th>year</th>\n",
              "      <th>value</th>\n",
              "      <th>code</th>\n",
              "      <th>country</th>\n",
              "    </tr>\n",
              "  </thead>\n",
              "  <tbody>\n",
              "    <tr>\n",
              "      <th>0</th>\n",
              "      <td>BE</td>\n",
              "      <td>2008</td>\n",
              "      <td>33100.0</td>\n",
              "      <td>BE</td>\n",
              "      <td>Belgium</td>\n",
              "    </tr>\n",
              "    <tr>\n",
              "      <th>1</th>\n",
              "      <td>BE1</td>\n",
              "      <td>2008</td>\n",
              "      <td>61100.0</td>\n",
              "      <td>BE</td>\n",
              "      <td>Belgium</td>\n",
              "    </tr>\n",
              "    <tr>\n",
              "      <th>2</th>\n",
              "      <td>BE10</td>\n",
              "      <td>2008</td>\n",
              "      <td>61100.0</td>\n",
              "      <td>BE</td>\n",
              "      <td>Belgium</td>\n",
              "    </tr>\n",
              "    <tr>\n",
              "      <th>3</th>\n",
              "      <td>BE2</td>\n",
              "      <td>2008</td>\n",
              "      <td>33100.0</td>\n",
              "      <td>BE</td>\n",
              "      <td>Belgium</td>\n",
              "    </tr>\n",
              "    <tr>\n",
              "      <th>4</th>\n",
              "      <td>BE21</td>\n",
              "      <td>2008</td>\n",
              "      <td>39200.0</td>\n",
              "      <td>BE</td>\n",
              "      <td>Belgium</td>\n",
              "    </tr>\n",
              "  </tbody>\n",
              "</table>\n",
              "</div>"
            ],
            "text/plain": [
              "  region  year    value code  country\n",
              "0     BE  2008  33100.0   BE  Belgium\n",
              "1    BE1  2008  61100.0   BE  Belgium\n",
              "2   BE10  2008  61100.0   BE  Belgium\n",
              "3    BE2  2008  33100.0   BE  Belgium\n",
              "4   BE21  2008  39200.0   BE  Belgium"
            ]
          },
          "metadata": {
            "tags": []
          },
          "execution_count": 8
        }
      ]
    },
    {
      "cell_type": "code",
      "metadata": {
        "id": "F92WAIpgI4eK",
        "colab_type": "code",
        "colab": {}
      },
      "source": [
        "def prepocess_image(image):\n",
        "  len_list = []\n",
        "  for i in range(image.shape[0]):\n",
        "    len_list.append(len(image[i][~np.isnan(image[i])]))\n",
        "\n",
        "  for i in range(1,101):\n",
        "    if image.shape[0] % i == 0:\n",
        "      x_step = i\n",
        "    if image.shape[1] % i == 0:\n",
        "      y_step = i\n",
        "\n",
        "  len_mean = np.mean(len_list)\n",
        "  processed_image = []\n",
        "  h_temp = None\n",
        "\n",
        "  for x in range(0,image.shape[0],x_step):\n",
        "    for y in range(0,image.shape[1],y_step):\n",
        "      if np.any(np.isnan(image[x:x+x_step,y:y+y_step])) == False:\n",
        "        if h_temp is None:\n",
        "          h_temp = image[x:x+x_step,y:y+y_step]\n",
        "        elif h_temp.shape[1] >= len_mean:\n",
        "          processed_image.append(h_temp)\n",
        "          h_temp = None\n",
        "        else:\n",
        "          h_temp = np.hstack((h_temp,image[x:x+x_step,y:y+y_step]))\n",
        "  \n",
        "  final_features = np.array(processed_image,dtype=np.uint8)\n",
        "  new_shape = final_features.shape[0]*final_features.shape[1]\n",
        "  final_features = final_features.reshape((new_shape,final_features.shape[2]))\n",
        "  \n",
        "  return final_features"
      ],
      "execution_count": 0,
      "outputs": []
    },
    {
      "cell_type": "code",
      "metadata": {
        "id": "JNvd2m-wqYBq",
        "colab_type": "code",
        "colab": {}
      },
      "source": [
        "def create_data(files,path,y_dat,resolution = 256):\n",
        "  x = []\n",
        "  y = []\n",
        "  label = []\n",
        "  i = 0\n",
        "  for f in files:\n",
        "    if i % 10 == 0:\n",
        "      print(\"Image processed: \",str(i),\" of \",str(len(files)))\n",
        "    ds, temp = pyrsgis.raster.read(str(path+f))\n",
        "    temp = prepocess_image(temp)\n",
        "    temp_resized = resize(temp, (resolution, resolution))\n",
        "    x.append(temp_resized)\n",
        "    split1 = f.rsplit('_',1)[0]\n",
        "    split2 = int(f.rsplit('_',1)[1].rsplit('.',1)[0])\n",
        "    y.append(y_dat.loc[(y_dat['region']==split1) & (y_dat['year']==split2),'value'])\n",
        "    label.append(f)\n",
        "    i += 1\n",
        "  return x, y, label\n",
        "\n",
        "def create_y_label(files,path,y_dat):\n",
        "  y = []\n",
        "  label = []\n",
        "  for f in files:\n",
        "    split1 = f.rsplit('_',1)[0]\n",
        "    split2 = int(f.rsplit('_',1)[1].rsplit('.',1)[0])\n",
        "    y.append(y_dat.loc[(y_dat['region']==split1) & (y_dat['year']==split2),'value'])\n",
        "    label.append(f)\n",
        "  return y, label"
      ],
      "execution_count": 0,
      "outputs": []
    },
    {
      "cell_type": "code",
      "metadata": {
        "id": "Ogm4ndTFkrib",
        "colab_type": "code",
        "colab": {}
      },
      "source": [
        "# List of all files in directory\n",
        "mypath = \"/gdrive/My Drive/nuts_night_all/\"\n",
        "onlyfiles = [f for f in listdir(mypath) if isfile(join(mypath, f))]"
      ],
      "execution_count": 0,
      "outputs": []
    },
    {
      "cell_type": "code",
      "metadata": {
        "id": "LHq0y4SCsQFp",
        "colab_type": "code",
        "outputId": "24fe5ab7-87ed-4693-fc9d-52dc9d527ca9",
        "colab": {
          "base_uri": "https://localhost:8080/",
          "height": 1000
        }
      },
      "source": [
        "res = 512\n",
        "x,y,label = create_data(onlyfiles,mypath,y_dat,resolution=res)"
      ],
      "execution_count": 12,
      "outputs": [
        {
          "output_type": "stream",
          "text": [
            "Image processed:  0  of  558\n",
            "Image processed:  10  of  558\n",
            "Image processed:  20  of  558\n",
            "Image processed:  30  of  558\n",
            "Image processed:  40  of  558\n",
            "Image processed:  50  of  558\n",
            "Image processed:  60  of  558\n",
            "Image processed:  70  of  558\n",
            "Image processed:  80  of  558\n",
            "Image processed:  90  of  558\n",
            "Image processed:  100  of  558\n",
            "Image processed:  110  of  558\n",
            "Image processed:  120  of  558\n",
            "Image processed:  130  of  558\n",
            "Image processed:  140  of  558\n",
            "Image processed:  150  of  558\n",
            "Image processed:  160  of  558\n",
            "Image processed:  170  of  558\n",
            "Image processed:  180  of  558\n",
            "Image processed:  190  of  558\n",
            "Image processed:  200  of  558\n",
            "Image processed:  210  of  558\n",
            "Image processed:  220  of  558\n",
            "Image processed:  230  of  558\n",
            "Image processed:  240  of  558\n",
            "Image processed:  250  of  558\n",
            "Image processed:  260  of  558\n",
            "Image processed:  270  of  558\n",
            "Image processed:  280  of  558\n",
            "Image processed:  290  of  558\n",
            "Image processed:  300  of  558\n",
            "Image processed:  310  of  558\n",
            "Image processed:  320  of  558\n",
            "Image processed:  330  of  558\n",
            "Image processed:  340  of  558\n",
            "Image processed:  350  of  558\n",
            "Image processed:  360  of  558\n",
            "Image processed:  370  of  558\n",
            "Image processed:  380  of  558\n",
            "Image processed:  390  of  558\n",
            "Image processed:  400  of  558\n",
            "Image processed:  410  of  558\n",
            "Image processed:  420  of  558\n",
            "Image processed:  430  of  558\n",
            "Image processed:  440  of  558\n",
            "Image processed:  450  of  558\n",
            "Image processed:  460  of  558\n",
            "Image processed:  470  of  558\n",
            "Image processed:  480  of  558\n",
            "Image processed:  490  of  558\n",
            "Image processed:  500  of  558\n",
            "Image processed:  510  of  558\n",
            "Image processed:  520  of  558\n",
            "Image processed:  530  of  558\n",
            "Image processed:  540  of  558\n",
            "Image processed:  550  of  558\n"
          ],
          "name": "stdout"
        }
      ]
    },
    {
      "cell_type": "code",
      "metadata": {
        "id": "zyApEAExjtTp",
        "colab_type": "code",
        "colab": {}
      },
      "source": [
        "# Save ndarray to reproduce\n",
        "scipy.io.savemat(\"/gdrive/My Drive/ThesisData/Data/data_all_input_512.mat\", mdict={'x': x}, oned_as='row')"
      ],
      "execution_count": 0,
      "outputs": []
    },
    {
      "cell_type": "code",
      "metadata": {
        "id": "OgjMrcIH5H5o",
        "colab_type": "code",
        "colab": {}
      },
      "source": [
        "# Load input from scratch\n",
        "x = scipy.io.loadmat(\"/gdrive/My Drive/ThesisData/Data/data_all_input_512.mat\")['x']\n",
        "y, label = create_y_label(onlyfiles,mypath,y_dat)"
      ],
      "execution_count": 0,
      "outputs": []
    },
    {
      "cell_type": "code",
      "metadata": {
        "id": "4si-J7h9JBa7",
        "colab_type": "code",
        "outputId": "1a15e21d-bc92-4171-9365-593d3b4d0ff9",
        "colab": {
          "base_uri": "https://localhost:8080/",
          "height": 70
        }
      },
      "source": [
        "print('Shape of x: ',len(x))\n",
        "print('Shape of y: ',len(y))\n",
        "print('Shape of labels: ', len(label))"
      ],
      "execution_count": 32,
      "outputs": [
        {
          "output_type": "stream",
          "text": [
            "Shape of x:  558\n",
            "Shape of y:  558\n",
            "Shape of labels:  558\n"
          ],
          "name": "stdout"
        }
      ]
    },
    {
      "cell_type": "code",
      "metadata": {
        "id": "LMee7rQ9L1yz",
        "colab_type": "code",
        "outputId": "2ad15fe0-9f5c-4e91-904a-3e4cb2fb7c87",
        "colab": {
          "base_uri": "https://localhost:8080/",
          "height": 34
        }
      },
      "source": [
        "# Make x to a 3 channel image\n",
        "x = np.repeat(x[..., np.newaxis], 3, -1)\n",
        "print(x.shape)"
      ],
      "execution_count": 33,
      "outputs": [
        {
          "output_type": "stream",
          "text": [
            "(558, 512, 512, 3)\n"
          ],
          "name": "stdout"
        }
      ]
    },
    {
      "cell_type": "markdown",
      "metadata": {
        "id": "ypHbpM5ZAKmb",
        "colab_type": "text"
      },
      "source": [
        "## Create Train and Test Sets"
      ]
    },
    {
      "cell_type": "code",
      "metadata": {
        "id": "sTyG9Ew6mgrH",
        "colab_type": "code",
        "outputId": "43a32089-dcc5-4597-b879-c5522dccf941",
        "colab": {
          "base_uri": "https://localhost:8080/",
          "height": 34
        }
      },
      "source": [
        "regions = []\n",
        "for i in range(len(label)):\n",
        "  regions.append(label[i].rsplit('_',1)[0])\n",
        "\n",
        "regions = np.unique(regions)\n",
        "print(len(regions))"
      ],
      "execution_count": 34,
      "outputs": [
        {
          "output_type": "stream",
          "text": [
            "93\n"
          ],
          "name": "stdout"
        }
      ]
    },
    {
      "cell_type": "code",
      "metadata": {
        "id": "pBDk2TjtqEmw",
        "colab_type": "code",
        "outputId": "f48021f1-8436-4c51-a366-833096700785",
        "colab": {
          "base_uri": "https://localhost:8080/",
          "height": 52
        }
      },
      "source": [
        "msk = np.random.rand(len(regions)) < 0.7\n",
        "train_split = regions[msk]\n",
        "test_split = regions[~msk]\n",
        "print(len(train_split))\n",
        "print(len(test_split))"
      ],
      "execution_count": 35,
      "outputs": [
        {
          "output_type": "stream",
          "text": [
            "67\n",
            "26\n"
          ],
          "name": "stdout"
        }
      ]
    },
    {
      "cell_type": "code",
      "metadata": {
        "id": "a8-L2N-XrKN3",
        "colab_type": "code",
        "outputId": "554cf212-c95c-4204-a03a-06ee78cb9d06",
        "colab": {
          "base_uri": "https://localhost:8080/",
          "height": 70
        }
      },
      "source": [
        "import math\n",
        "label_train = []\n",
        "label_test = []\n",
        "x_train = []\n",
        "y_train = []\n",
        "x_test = []\n",
        "y_test = []\n",
        "for i in range(len(label)):\n",
        "  if label[i].rsplit('_',1)[0] in train_split:\n",
        "    if math.isnan(y[i]):\n",
        "      pass\n",
        "    else:\n",
        "      label_train.append(label[i])\n",
        "      x_train.append(x[i])\n",
        "      y_train.append(int(y[i]))\n",
        "  else:\n",
        "    if math.isnan(y[i]):\n",
        "      pass\n",
        "    else:\n",
        "      label_test.append(label[i])\n",
        "      x_test.append(x[i])\n",
        "      y_test.append(int(y[i]))\n",
        "  \n",
        "label_train = np.array(label_train)\n",
        "label_test = np.array(label_test)\n",
        "x_train = np.array(x_train)\n",
        "x_test = np.array(x_test)\n",
        "y_train = np.array(y_train)\n",
        "y_test = np.array(y_test)  \n",
        "print(x_train.shape)\n",
        "print(x_test.shape)\n",
        "print(y_test.shape)"
      ],
      "execution_count": 38,
      "outputs": [
        {
          "output_type": "stream",
          "text": [
            "(286, 512, 512, 3)\n",
            "(148, 512, 512, 3)\n",
            "(148,)\n"
          ],
          "name": "stdout"
        }
      ]
    },
    {
      "cell_type": "code",
      "metadata": {
        "id": "aKRDGusTeNXU",
        "colab_type": "code",
        "outputId": "c6fe490f-66cb-4ed6-b22f-909bb056cd6b",
        "colab": {
          "base_uri": "https://localhost:8080/",
          "height": 52
        }
      },
      "source": [
        "x_train = np.array([x_train])\n",
        "x_train = np.moveaxis(x_train,0,-1)\n",
        "print(x_train.shape)\n",
        "x_test = np.array([x_test])\n",
        "x_test = np.moveaxis(x_test,0,-1)\n",
        "print(x_test.shape)"
      ],
      "execution_count": 37,
      "outputs": [
        {
          "output_type": "stream",
          "text": [
            "(286, 512, 512, 3, 1)\n",
            "(148, 512, 512, 3, 1)\n"
          ],
          "name": "stdout"
        }
      ]
    },
    {
      "cell_type": "code",
      "metadata": {
        "id": "blVC16VGw4af",
        "colab_type": "code",
        "outputId": "d03d3ec5-d6c8-43d1-e5b0-9b1a6300af15",
        "colab": {
          "base_uri": "https://localhost:8080/",
          "height": 90
        }
      },
      "source": [
        "# Deep Model\n",
        "model = tf.keras.Sequential()\n",
        "\n",
        "model.add(tf.keras.layers.Conv2D(32, 3, padding='same', input_shape=(512,512,1), activation='relu'))\n",
        "model.add(tf.keras.layers.Conv2D(32, 3, padding='same', activation='relu'))\n",
        "model.add(tf.keras.layers.BatchNormalization())\n",
        "model.add(tf.keras.layers.MaxPooling2D(pool_size = (2,2)))\n",
        "\n",
        "model.add(tf.keras.layers.Conv2D(64, 3, padding='same', activation='relu'))\n",
        "model.add(tf.keras.layers.Conv2D(64, 3, padding='same', activation='relu'))\n",
        "model.add(tf.keras.layers.BatchNormalization())\n",
        "model.add(tf.keras.layers.MaxPooling2D(pool_size = (2,2)))\n",
        "\n",
        "model.add(tf.keras.layers.Conv2D(128, 3, padding='same', activation='relu'))\n",
        "model.add(tf.keras.layers.Conv2D(128, 3, padding='same', activation='relu'))\n",
        "model.add(tf.keras.layers.BatchNormalization())\n",
        "model.add(tf.keras.layers.MaxPooling2D(pool_size = (2,2)))\n",
        "\n",
        "model.add(tf.keras.layers.Conv2D(256, 3, padding='same', activation='relu'))\n",
        "model.add(tf.keras.layers.Conv2D(256, 3, padding='same', activation='relu'))\n",
        "model.add(tf.keras.layers.BatchNormalization())\n",
        "model.add(tf.keras.layers.MaxPooling2D(pool_size = (2,2)))\n",
        "\n",
        "model.add(tf.keras.layers.Conv2D(512, 3, padding='same', activation='relu'))\n",
        "model.add(tf.keras.layers.Conv2D(512, 3, padding='same', activation='relu'))\n",
        "model.add(tf.keras.layers.BatchNormalization())\n",
        "model.add(tf.keras.layers.MaxPooling2D(pool_size = (2,2)))\n",
        "\n",
        "model.add(tf.keras.layers.Flatten())\n",
        "model.add(tf.keras.layers.Dense(512, activation='relu', activity_regularizer=tf.keras.regularizers.l1(0.0001)))\n",
        "model.add(tf.keras.layers.Dropout(0.5))\n",
        "\n",
        "model.add(tf.keras.layers.Dense(512, activation='relu', activity_regularizer=tf.keras.regularizers.l1(0.0001)))\n",
        "model.add(tf.keras.layers.Dropout(0.5))\n",
        "model.add(tf.keras.layers.Dense(units=1, activation = 'linear'))"
      ],
      "execution_count": 19,
      "outputs": [
        {
          "output_type": "stream",
          "text": [
            "WARNING:tensorflow:From /usr/local/lib/python3.6/dist-packages/tensorflow_core/python/ops/resource_variable_ops.py:1630: calling BaseResourceVariable.__init__ (from tensorflow.python.ops.resource_variable_ops) with constraint is deprecated and will be removed in a future version.\n",
            "Instructions for updating:\n",
            "If using Keras pass *_constraint arguments to layers.\n"
          ],
          "name": "stdout"
        }
      ]
    },
    {
      "cell_type": "code",
      "metadata": {
        "id": "GXlz_HWWCQuT",
        "colab_type": "code",
        "colab": {
          "base_uri": "https://localhost:8080/",
          "height": 52
        },
        "outputId": "cd0c92ef-25e9-40ad-d46e-2a4124320892"
      },
      "source": [
        "# Transfer Learning\n",
        "base_model = tf.keras.applications.MobileNet(input_shape=(512,512,3),include_top=False)\n",
        "x=base_model.output\n",
        "x=tf.keras.layers.GlobalAveragePooling2D()(x)\n",
        "x=tf.keras.layers.Dense(1024,activation='relu')(x) #we add dense layers so that the model can learn more complex functions and classify for better results.\n",
        "x=tf.keras.layers.Dense(1024,activation='relu')(x) #dense layer 2\n",
        "x=tf.keras.layers.Dense(512,activation='relu')(x) #dense layer 3\n",
        "preds=tf.keras.layers.Dense(units=1, activation = 'linear')(x)\n",
        "model=tf.keras.models.Model(inputs=base_model.input,outputs=preds)"
      ],
      "execution_count": 39,
      "outputs": [
        {
          "output_type": "stream",
          "text": [
            "Downloading data from https://github.com/fchollet/deep-learning-models/releases/download/v0.6/mobilenet_1_0_224_tf_no_top.h5\n",
            "17227776/17225924 [==============================] - 1s 0us/step\n"
          ],
          "name": "stdout"
        }
      ]
    },
    {
      "cell_type": "code",
      "metadata": {
        "id": "3hhLQUBa0NiP",
        "colab_type": "code",
        "colab": {}
      },
      "source": [
        "model.compile(loss='mean_squared_error', optimizer='adam', metrics=['mse','mae'])"
      ],
      "execution_count": 0,
      "outputs": []
    },
    {
      "cell_type": "code",
      "metadata": {
        "id": "4ihqmhUq0nES",
        "colab_type": "code",
        "colab": {}
      },
      "source": [
        "# Data Augmentation\n",
        "training_data_generator = tf.keras.preprocessing.image.ImageDataGenerator()\n",
        "test_data_generator = tf.keras.preprocessing.image.ImageDataGenerator()"
      ],
      "execution_count": 0,
      "outputs": []
    },
    {
      "cell_type": "code",
      "metadata": {
        "id": "yH4IdyFm0u0B",
        "colab_type": "code",
        "colab": {}
      },
      "source": [
        "# Data Preparation\n",
        "batch_size = 5\n",
        "\n",
        "# Define the data flow\n",
        "training_generator = training_data_generator.flow(x_train,y_train,batch_size=batch_size)\n",
        "test_generator = test_data_generator.flow(x_test,y_test,batch_size=1,shuffle=False)"
      ],
      "execution_count": 0,
      "outputs": []
    },
    {
      "cell_type": "code",
      "metadata": {
        "id": "X_QVrMSF1i3f",
        "colab_type": "code",
        "outputId": "002a626e-74bd-4297-ab48-fb208f1a6fe9",
        "colab": {
          "base_uri": "https://localhost:8080/",
          "height": 1000
        }
      },
      "source": [
        "# Calculate the number of steps\n",
        "training_steps = training_generator.n/batch_size\n",
        "\n",
        "# Run the model\n",
        "model.fit_generator(training_generator,\n",
        "                    steps_per_epoch=training_steps,\n",
        "                    epochs = 100,\n",
        "                    verbose = 1\n",
        "                   )"
      ],
      "execution_count": 43,
      "outputs": [
        {
          "output_type": "stream",
          "text": [
            "Epoch 1/100\n",
            "58/57 [==============================] - 25s 438ms/step - loss: 347219103.0766 - mean_squared_error: 344693568.0000 - mean_absolute_error: 12921.1885\n",
            "Epoch 2/100\n",
            "58/57 [==============================] - 18s 308ms/step - loss: 166973392.8075 - mean_squared_error: 168419072.0000 - mean_absolute_error: 9376.7510\n",
            "Epoch 3/100\n",
            "58/57 [==============================] - 18s 308ms/step - loss: 158110951.4784 - mean_squared_error: 158260992.0000 - mean_absolute_error: 9118.2188\n",
            "Epoch 4/100\n",
            "58/57 [==============================] - 18s 306ms/step - loss: 147959354.9010 - mean_squared_error: 146895344.0000 - mean_absolute_error: 8613.9072\n",
            "Epoch 5/100\n",
            "58/57 [==============================] - 18s 310ms/step - loss: 126158127.5803 - mean_squared_error: 124743136.0000 - mean_absolute_error: 7875.1206\n",
            "Epoch 6/100\n",
            "58/57 [==============================] - 18s 306ms/step - loss: 94128973.3866 - mean_squared_error: 94482928.0000 - mean_absolute_error: 7231.8521\n",
            "Epoch 7/100\n",
            "58/57 [==============================] - 18s 309ms/step - loss: 46863769.6985 - mean_squared_error: 47304772.0000 - mean_absolute_error: 5250.6357\n",
            "Epoch 8/100\n",
            "58/57 [==============================] - 18s 311ms/step - loss: 45004765.4735 - mean_squared_error: 43441588.0000 - mean_absolute_error: 4739.9180\n",
            "Epoch 9/100\n",
            "58/57 [==============================] - 18s 309ms/step - loss: 32602816.8990 - mean_squared_error: 33018780.0000 - mean_absolute_error: 4160.2485\n",
            "Epoch 10/100\n",
            "58/57 [==============================] - 18s 310ms/step - loss: 36104842.0291 - mean_squared_error: 35323956.0000 - mean_absolute_error: 4279.8223\n",
            "Epoch 11/100\n",
            "58/57 [==============================] - 18s 308ms/step - loss: 53641911.7572 - mean_squared_error: 54180276.0000 - mean_absolute_error: 4788.8315\n",
            "Epoch 12/100\n",
            "58/57 [==============================] - 18s 308ms/step - loss: 26508921.8760 - mean_squared_error: 23915134.0000 - mean_absolute_error: 3590.4429\n",
            "Epoch 13/100\n",
            "58/57 [==============================] - 18s 311ms/step - loss: 23479004.4338 - mean_squared_error: 22996582.0000 - mean_absolute_error: 3455.8711\n",
            "Epoch 14/100\n",
            "58/57 [==============================] - 18s 308ms/step - loss: 20736234.5357 - mean_squared_error: 20800674.0000 - mean_absolute_error: 3231.5500\n",
            "Epoch 15/100\n",
            "58/57 [==============================] - 18s 310ms/step - loss: 17499535.3820 - mean_squared_error: 16911490.0000 - mean_absolute_error: 2928.0679\n",
            "Epoch 16/100\n",
            "58/57 [==============================] - 18s 310ms/step - loss: 13175148.5869 - mean_squared_error: 12877705.0000 - mean_absolute_error: 2676.7397\n",
            "Epoch 17/100\n",
            "58/57 [==============================] - 18s 310ms/step - loss: 9576941.1556 - mean_squared_error: 9372878.0000 - mean_absolute_error: 2088.1487\n",
            "Epoch 18/100\n",
            "58/57 [==============================] - 18s 309ms/step - loss: 9642727.7502 - mean_squared_error: 9594463.0000 - mean_absolute_error: 2240.6052\n",
            "Epoch 19/100\n",
            "58/57 [==============================] - 18s 309ms/step - loss: 5928085.4529 - mean_squared_error: 6008164.5000 - mean_absolute_error: 1832.5770\n",
            "Epoch 20/100\n",
            "58/57 [==============================] - 18s 310ms/step - loss: 6596710.7958 - mean_squared_error: 6678867.0000 - mean_absolute_error: 1819.7716\n",
            "Epoch 21/100\n",
            "58/57 [==============================] - 18s 309ms/step - loss: 7434021.6929 - mean_squared_error: 6863731.0000 - mean_absolute_error: 1869.1765\n",
            "Epoch 22/100\n",
            "58/57 [==============================] - 18s 309ms/step - loss: 9734691.5234 - mean_squared_error: 9836309.0000 - mean_absolute_error: 2232.5300\n",
            "Epoch 23/100\n",
            "58/57 [==============================] - 18s 310ms/step - loss: 8236598.9408 - mean_squared_error: 7953848.5000 - mean_absolute_error: 2068.1965\n",
            "Epoch 24/100\n",
            "58/57 [==============================] - 18s 309ms/step - loss: 8137015.2319 - mean_squared_error: 8193687.5000 - mean_absolute_error: 2024.7389\n",
            "Epoch 25/100\n",
            "58/57 [==============================] - 18s 309ms/step - loss: 6566004.6749 - mean_squared_error: 6633758.5000 - mean_absolute_error: 1755.8899\n",
            "Epoch 26/100\n",
            "58/57 [==============================] - 18s 311ms/step - loss: 6679259.3959 - mean_squared_error: 6770917.0000 - mean_absolute_error: 1685.1617\n",
            "Epoch 27/100\n",
            "58/57 [==============================] - 18s 311ms/step - loss: 6403150.1479 - mean_squared_error: 6424889.5000 - mean_absolute_error: 1773.5416\n",
            "Epoch 28/100\n",
            "58/57 [==============================] - 18s 311ms/step - loss: 5154401.9626 - mean_squared_error: 5078513.0000 - mean_absolute_error: 1601.6851\n",
            "Epoch 29/100\n",
            "58/57 [==============================] - 18s 310ms/step - loss: 8596718.4999 - mean_squared_error: 8677526.0000 - mean_absolute_error: 2034.9679\n",
            "Epoch 30/100\n",
            "58/57 [==============================] - 18s 310ms/step - loss: 7540055.0534 - mean_squared_error: 7551789.5000 - mean_absolute_error: 1949.0024\n",
            "Epoch 31/100\n",
            "58/57 [==============================] - 18s 310ms/step - loss: 12616773.4215 - mean_squared_error: 12435878.0000 - mean_absolute_error: 2431.6316\n",
            "Epoch 32/100\n",
            "58/57 [==============================] - 18s 312ms/step - loss: 6174213.4875 - mean_squared_error: 6163112.0000 - mean_absolute_error: 1750.4869\n",
            "Epoch 33/100\n",
            "58/57 [==============================] - 18s 312ms/step - loss: 3504233.6885 - mean_squared_error: 3375930.5000 - mean_absolute_error: 1372.3956\n",
            "Epoch 34/100\n",
            "58/57 [==============================] - 18s 310ms/step - loss: 2666417.0985 - mean_squared_error: 2685286.7500 - mean_absolute_error: 1209.0391\n",
            "Epoch 35/100\n",
            "58/57 [==============================] - 18s 310ms/step - loss: 3287116.9056 - mean_squared_error: 3226859.5000 - mean_absolute_error: 1313.8071\n",
            "Epoch 36/100\n",
            "58/57 [==============================] - 18s 313ms/step - loss: 3106983.0715 - mean_squared_error: 2913011.5000 - mean_absolute_error: 1220.3398\n",
            "Epoch 37/100\n",
            "58/57 [==============================] - 18s 308ms/step - loss: 7188939.5111 - mean_squared_error: 6199380.5000 - mean_absolute_error: 1749.0294\n",
            "Epoch 38/100\n",
            "58/57 [==============================] - 18s 312ms/step - loss: 6860107.3132 - mean_squared_error: 6846106.5000 - mean_absolute_error: 1776.3876\n",
            "Epoch 39/100\n",
            "58/57 [==============================] - 18s 311ms/step - loss: 9057260.5500 - mean_squared_error: 8853297.0000 - mean_absolute_error: 2045.2240\n",
            "Epoch 40/100\n",
            "58/57 [==============================] - 18s 309ms/step - loss: 8594314.0359 - mean_squared_error: 8562494.0000 - mean_absolute_error: 2085.4958\n",
            "Epoch 41/100\n",
            "58/57 [==============================] - 18s 311ms/step - loss: 4210222.5827 - mean_squared_error: 4268032.0000 - mean_absolute_error: 1504.9835\n",
            "Epoch 42/100\n",
            "58/57 [==============================] - 18s 310ms/step - loss: 10423418.1424 - mean_squared_error: 10566673.0000 - mean_absolute_error: 2059.9248\n",
            "Epoch 43/100\n",
            "58/57 [==============================] - 18s 310ms/step - loss: 8130056.5960 - mean_squared_error: 7185959.5000 - mean_absolute_error: 1860.6287\n",
            "Epoch 44/100\n",
            "58/57 [==============================] - 18s 311ms/step - loss: 8594282.7953 - mean_squared_error: 8645616.0000 - mean_absolute_error: 2102.8706\n",
            "Epoch 45/100\n",
            "58/57 [==============================] - 18s 313ms/step - loss: 6051086.3127 - mean_squared_error: 6133359.5000 - mean_absolute_error: 1580.5587\n",
            "Epoch 46/100\n",
            "58/57 [==============================] - 18s 308ms/step - loss: 6503675.7862 - mean_squared_error: 6592992.5000 - mean_absolute_error: 1850.8214\n",
            "Epoch 47/100\n",
            "58/57 [==============================] - 18s 311ms/step - loss: 3133073.8856 - mean_squared_error: 3148235.7500 - mean_absolute_error: 1313.7896\n",
            "Epoch 48/100\n",
            "58/57 [==============================] - 18s 312ms/step - loss: 2358266.5268 - mean_squared_error: 2354480.0000 - mean_absolute_error: 1185.8911\n",
            "Epoch 49/100\n",
            "58/57 [==============================] - 18s 312ms/step - loss: 2682990.0804 - mean_squared_error: 2642994.0000 - mean_absolute_error: 1131.5466\n",
            "Epoch 50/100\n",
            "58/57 [==============================] - 18s 311ms/step - loss: 2177105.0257 - mean_squared_error: 2116531.2500 - mean_absolute_error: 984.3148\n",
            "Epoch 51/100\n",
            "58/57 [==============================] - 18s 312ms/step - loss: 5085723.8348 - mean_squared_error: 4569058.5000 - mean_absolute_error: 1516.5175\n",
            "Epoch 52/100\n",
            "58/57 [==============================] - 18s 310ms/step - loss: 5735134.2122 - mean_squared_error: 5811896.0000 - mean_absolute_error: 1701.7646\n",
            "Epoch 53/100\n",
            "58/57 [==============================] - 18s 312ms/step - loss: 4272323.7185 - mean_squared_error: 4313988.0000 - mean_absolute_error: 1506.1930\n",
            "Epoch 54/100\n",
            "58/57 [==============================] - 18s 308ms/step - loss: 2084005.9237 - mean_squared_error: 2095398.2500 - mean_absolute_error: 1049.4985\n",
            "Epoch 55/100\n",
            "58/57 [==============================] - 18s 309ms/step - loss: 138017201.8864 - mean_squared_error: 110478624.0000 - mean_absolute_error: 6017.0488\n",
            "Epoch 56/100\n",
            "58/57 [==============================] - 18s 309ms/step - loss: 212502231.2696 - mean_squared_error: 209737952.0000 - mean_absolute_error: 10716.7158\n",
            "Epoch 57/100\n",
            "58/57 [==============================] - 18s 309ms/step - loss: 162007253.1842 - mean_squared_error: 160295824.0000 - mean_absolute_error: 9121.5566\n",
            "Epoch 58/100\n",
            "58/57 [==============================] - 18s 309ms/step - loss: 99804431.2416 - mean_squared_error: 98513080.0000 - mean_absolute_error: 6871.2437\n",
            "Epoch 59/100\n",
            "58/57 [==============================] - 18s 308ms/step - loss: 110944178.2122 - mean_squared_error: 110729024.0000 - mean_absolute_error: 7245.4697\n",
            "Epoch 60/100\n",
            "58/57 [==============================] - 18s 310ms/step - loss: 65056377.6018 - mean_squared_error: 65702080.0000 - mean_absolute_error: 6055.6777\n",
            "Epoch 61/100\n",
            "58/57 [==============================] - 18s 309ms/step - loss: 32976856.2173 - mean_squared_error: 33411050.0000 - mean_absolute_error: 4166.7251\n",
            "Epoch 62/100\n",
            "58/57 [==============================] - 18s 309ms/step - loss: 32881924.9193 - mean_squared_error: 33266036.0000 - mean_absolute_error: 4031.5254\n",
            "Epoch 63/100\n",
            "58/57 [==============================] - 18s 309ms/step - loss: 23754610.4108 - mean_squared_error: 23499022.0000 - mean_absolute_error: 3585.7710\n",
            "Epoch 64/100\n",
            "58/57 [==============================] - 18s 309ms/step - loss: 32534533.6456 - mean_squared_error: 31024598.0000 - mean_absolute_error: 3969.8506\n",
            "Epoch 65/100\n",
            "58/57 [==============================] - 18s 313ms/step - loss: 25913902.4090 - mean_squared_error: 26246646.0000 - mean_absolute_error: 3673.8269\n",
            "Epoch 66/100\n",
            "58/57 [==============================] - 18s 311ms/step - loss: 12515906.0422 - mean_squared_error: 12683416.0000 - mean_absolute_error: 2684.5825\n",
            "Epoch 67/100\n",
            "58/57 [==============================] - 18s 310ms/step - loss: 10143224.6259 - mean_squared_error: 9430100.0000 - mean_absolute_error: 2273.7271\n",
            "Epoch 68/100\n",
            "58/57 [==============================] - 18s 308ms/step - loss: 9405346.4320 - mean_squared_error: 9462573.0000 - mean_absolute_error: 2214.0330\n",
            "Epoch 69/100\n",
            "58/57 [==============================] - 18s 310ms/step - loss: 8297951.6109 - mean_squared_error: 8392533.0000 - mean_absolute_error: 2119.3462\n",
            "Epoch 70/100\n",
            "58/57 [==============================] - 18s 311ms/step - loss: 7168265.7848 - mean_squared_error: 6932958.0000 - mean_absolute_error: 1957.3604\n",
            "Epoch 71/100\n",
            "58/57 [==============================] - 18s 309ms/step - loss: 6245725.6109 - mean_squared_error: 6144293.5000 - mean_absolute_error: 1841.6737\n",
            "Epoch 72/100\n",
            "58/57 [==============================] - 18s 311ms/step - loss: 8943465.2386 - mean_squared_error: 7613724.5000 - mean_absolute_error: 1978.6836\n",
            "Epoch 73/100\n",
            "58/57 [==============================] - 18s 310ms/step - loss: 12803657.2613 - mean_squared_error: 12952456.0000 - mean_absolute_error: 2568.7764\n",
            "Epoch 74/100\n",
            "58/57 [==============================] - 18s 310ms/step - loss: 10374973.7043 - mean_squared_error: 10102051.0000 - mean_absolute_error: 2365.8296\n",
            "Epoch 75/100\n",
            "58/57 [==============================] - 18s 309ms/step - loss: 7628711.5625 - mean_squared_error: 7650134.0000 - mean_absolute_error: 1903.0334\n",
            "Epoch 76/100\n",
            "58/57 [==============================] - 18s 310ms/step - loss: 6354842.6047 - mean_squared_error: 6060476.0000 - mean_absolute_error: 1761.0931\n",
            "Epoch 77/100\n",
            "58/57 [==============================] - 18s 312ms/step - loss: 4762955.5721 - mean_squared_error: 4816332.0000 - mean_absolute_error: 1565.7137\n",
            "Epoch 78/100\n",
            "58/57 [==============================] - 18s 310ms/step - loss: 5288495.3852 - mean_squared_error: 5359904.0000 - mean_absolute_error: 1712.4589\n",
            "Epoch 79/100\n",
            "58/57 [==============================] - 18s 308ms/step - loss: 4659532.1596 - mean_squared_error: 4713271.5000 - mean_absolute_error: 1587.5594\n",
            "Epoch 80/100\n",
            "58/57 [==============================] - 18s 312ms/step - loss: 3600069.3027 - mean_squared_error: 3468352.2500 - mean_absolute_error: 1372.5021\n",
            "Epoch 81/100\n",
            "58/57 [==============================] - 18s 309ms/step - loss: 5656680.8442 - mean_squared_error: 5684000.0000 - mean_absolute_error: 1757.5139\n",
            "Epoch 82/100\n",
            "58/57 [==============================] - 18s 312ms/step - loss: 3798620.4440 - mean_squared_error: 3773703.2500 - mean_absolute_error: 1461.6924\n",
            "Epoch 83/100\n",
            "58/57 [==============================] - 18s 305ms/step - loss: 3695796.1058 - mean_squared_error: 3744328.5000 - mean_absolute_error: 1451.3877\n",
            "Epoch 84/100\n",
            "58/57 [==============================] - 18s 311ms/step - loss: 3636852.4519 - mean_squared_error: 2642276.5000 - mean_absolute_error: 1166.6027\n",
            "Epoch 85/100\n",
            "58/57 [==============================] - 18s 309ms/step - loss: 7715525.6803 - mean_squared_error: 6222289.0000 - mean_absolute_error: 1747.3993\n",
            "Epoch 86/100\n",
            "58/57 [==============================] - 18s 308ms/step - loss: 8444925.1475 - mean_squared_error: 8554419.0000 - mean_absolute_error: 2030.7522\n",
            "Epoch 87/100\n",
            "58/57 [==============================] - 18s 307ms/step - loss: 4389795.4723 - mean_squared_error: 4441599.0000 - mean_absolute_error: 1559.0005\n",
            "Epoch 88/100\n",
            "58/57 [==============================] - 18s 308ms/step - loss: 2036584.4597 - mean_squared_error: 2033989.8750 - mean_absolute_error: 1103.1531\n",
            "Epoch 89/100\n",
            "58/57 [==============================] - 18s 310ms/step - loss: 4126033.6542 - mean_squared_error: 3755583.0000 - mean_absolute_error: 1390.4316\n",
            "Epoch 90/100\n",
            "58/57 [==============================] - 18s 308ms/step - loss: 3405692.0342 - mean_squared_error: 3409811.2500 - mean_absolute_error: 1384.7261\n",
            "Epoch 91/100\n",
            "58/57 [==============================] - 18s 308ms/step - loss: 2459726.3679 - mean_squared_error: 2250290.2500 - mean_absolute_error: 1093.0598\n",
            "Epoch 92/100\n",
            "58/57 [==============================] - 18s 311ms/step - loss: 3394477.4320 - mean_squared_error: 3382138.7500 - mean_absolute_error: 1378.7753\n",
            "Epoch 93/100\n",
            "58/57 [==============================] - 18s 308ms/step - loss: 3349024.1310 - mean_squared_error: 3361765.2500 - mean_absolute_error: 1330.5636\n",
            "Epoch 94/100\n",
            "58/57 [==============================] - 18s 308ms/step - loss: 2261494.1498 - mean_squared_error: 2154326.0000 - mean_absolute_error: 1087.1130\n",
            "Epoch 95/100\n",
            "58/57 [==============================] - 18s 311ms/step - loss: 3561861.7588 - mean_squared_error: 3411831.5000 - mean_absolute_error: 1365.6562\n",
            "Epoch 96/100\n",
            "58/57 [==============================] - 18s 312ms/step - loss: 4268535.8015 - mean_squared_error: 4101940.0000 - mean_absolute_error: 1528.4016\n",
            "Epoch 97/100\n",
            "58/57 [==============================] - 18s 310ms/step - loss: 2568123.1041 - mean_squared_error: 2351019.7500 - mean_absolute_error: 1143.4681\n",
            "Epoch 98/100\n",
            "58/57 [==============================] - 18s 310ms/step - loss: 3077386.9637 - mean_squared_error: 3079917.7500 - mean_absolute_error: 1298.4940\n",
            "Epoch 99/100\n",
            "58/57 [==============================] - 18s 310ms/step - loss: 2379262.8652 - mean_squared_error: 2387719.7500 - mean_absolute_error: 1195.7443\n",
            "Epoch 100/100\n",
            "58/57 [==============================] - 18s 312ms/step - loss: 2059685.1344 - mean_squared_error: 2084061.1250 - mean_absolute_error: 1012.8558\n"
          ],
          "name": "stdout"
        },
        {
          "output_type": "execute_result",
          "data": {
            "text/plain": [
              "<tensorflow.python.keras.callbacks.History at 0x7f8b6f03f2e8>"
            ]
          },
          "metadata": {
            "tags": []
          },
          "execution_count": 43
        }
      ]
    },
    {
      "cell_type": "code",
      "metadata": {
        "id": "n1XeOAyH1vIN",
        "colab_type": "code",
        "outputId": "7d26fc79-0a5a-441f-d9e9-a0fe5acc30de",
        "colab": {
          "base_uri": "https://localhost:8080/",
          "height": 70
        }
      },
      "source": [
        "# Calculate the test performance\n",
        "test_score = model.evaluate_generator(test_generator)\n",
        "print('Test loss: '+str(test_score[0]))\n",
        "print('Test MSE: '+str(test_score[1]))\n",
        "print('Test MAE: '+str(test_score[2]))"
      ],
      "execution_count": 44,
      "outputs": [
        {
          "output_type": "stream",
          "text": [
            "Test loss: 213706958.70185646\n",
            "Test MSE: 213706930.0\n",
            "Test MAE: 10974.577\n"
          ],
          "name": "stdout"
        }
      ]
    },
    {
      "cell_type": "code",
      "metadata": {
        "id": "jmzlLEqIyAEc",
        "colab_type": "code",
        "colab": {}
      },
      "source": [
        ""
      ],
      "execution_count": 0,
      "outputs": []
    }
  ]
}