{
 "nbformat": 4,
 "nbformat_minor": 2,
 "metadata": {
  "language_info": {
   "name": "python",
   "codemirror_mode": {
    "name": "ipython",
    "version": 3
   },
   "version": "3.7.4-final"
  },
  "orig_nbformat": 2,
  "file_extension": ".py",
  "mimetype": "text/x-python",
  "name": "python",
  "npconvert_exporter": "python",
  "pygments_lexer": "ipython3",
  "version": 3,
  "kernelspec": {
   "name": "python37464bitbasecondafb44a98a6ad746338a5dffef910e88a3",
   "display_name": "Python 3.7.4 64-bit ('base': conda)"
  }
 },
 "cells": [
  {
   "cell_type": "markdown",
   "execution_count": null,
   "metadata": {},
   "outputs": [],
   "source": [
    "# Predict difference over time"
   ]
  },
  {
   "cell_type": "code",
   "execution_count": 1,
   "metadata": {},
   "outputs": [],
   "source": [
    "# Import libraries\n",
    "import pandas as pd\n",
    "import numpy as np\n",
    "import json\n",
    "import matplotlib.pyplot as plt"
   ]
  },
  {
   "cell_type": "code",
   "execution_count": 6,
   "metadata": {},
   "outputs": [
    {
     "data": {
      "text/html": "<div>\n<style scoped>\n    .dataframe tbody tr th:only-of-type {\n        vertical-align: middle;\n    }\n\n    .dataframe tbody tr th {\n        vertical-align: top;\n    }\n\n    .dataframe thead th {\n        text-align: right;\n    }\n</style>\n<table border=\"1\" class=\"dataframe\">\n  <thead>\n    <tr style=\"text-align: right;\">\n      <th></th>\n      <th>GEO/TIME</th>\n      <th>2008</th>\n      <th>2009</th>\n      <th>2010</th>\n      <th>2011</th>\n      <th>2012</th>\n      <th>2013</th>\n      <th>2014</th>\n      <th>2015</th>\n      <th>2016</th>\n      <th>2017</th>\n    </tr>\n  </thead>\n  <tbody>\n    <tr>\n      <th>0</th>\n      <td>EU28</td>\n      <td>26100.0</td>\n      <td>24500.0</td>\n      <td>25500.0</td>\n      <td>26200.0</td>\n      <td>26600.0</td>\n      <td>26800.0</td>\n      <td>27700.0</td>\n      <td>29100.0</td>\n      <td>29300.0</td>\n      <td>30000.0</td>\n    </tr>\n    <tr>\n      <th>1</th>\n      <td>EU27_2019</td>\n      <td>25300.0</td>\n      <td>24100.0</td>\n      <td>24900.0</td>\n      <td>25600.0</td>\n      <td>25800.0</td>\n      <td>26000.0</td>\n      <td>26600.0</td>\n      <td>27500.0</td>\n      <td>28200.0</td>\n      <td>29200.0</td>\n    </tr>\n    <tr>\n      <th>2</th>\n      <td>BE</td>\n      <td>33100.0</td>\n      <td>32300.0</td>\n      <td>33500.0</td>\n      <td>34500.0</td>\n      <td>35000.0</td>\n      <td>35300.0</td>\n      <td>35800.0</td>\n      <td>36600.0</td>\n      <td>37600.0</td>\n      <td>38700.0</td>\n    </tr>\n    <tr>\n      <th>3</th>\n      <td>BE1</td>\n      <td>61100.0</td>\n      <td>60100.0</td>\n      <td>61300.0</td>\n      <td>62700.0</td>\n      <td>62700.0</td>\n      <td>62300.0</td>\n      <td>61700.0</td>\n      <td>63100.0</td>\n      <td>64200.0</td>\n      <td>65000.0</td>\n    </tr>\n    <tr>\n      <th>4</th>\n      <td>BE10</td>\n      <td>61100.0</td>\n      <td>60100.0</td>\n      <td>61300.0</td>\n      <td>62700.0</td>\n      <td>62700.0</td>\n      <td>62300.0</td>\n      <td>61700.0</td>\n      <td>63100.0</td>\n      <td>64200.0</td>\n      <td>65000.0</td>\n    </tr>\n  </tbody>\n</table>\n</div>",
      "text/plain": "    GEO/TIME     2008     2009     2010     2011     2012     2013     2014  \\\n0       EU28  26100.0  24500.0  25500.0  26200.0  26600.0  26800.0  27700.0   \n1  EU27_2019  25300.0  24100.0  24900.0  25600.0  25800.0  26000.0  26600.0   \n2         BE  33100.0  32300.0  33500.0  34500.0  35000.0  35300.0  35800.0   \n3        BE1  61100.0  60100.0  61300.0  62700.0  62700.0  62300.0  61700.0   \n4       BE10  61100.0  60100.0  61300.0  62700.0  62700.0  62300.0  61700.0   \n\n      2015     2016     2017  \n0  29100.0  29300.0  30000.0  \n1  27500.0  28200.0  29200.0  \n2  36600.0  37600.0  38700.0  \n3  63100.0  64200.0  65000.0  \n4  63100.0  64200.0  65000.0  "
     },
     "execution_count": 6,
     "metadata": {},
     "output_type": "execute_result"
    }
   ],
   "source": [
    "# Import gdp data\n",
    "gdp_data_long = pd.read_excel(\"/Users/maxbehrens/Documents/Msc/Thesis/Data/gdp_data/nuts2_gdp.xls\",sheet_name='Data',skiprows=530,nrows=516)\n",
    "gdp_data_long.head()"
   ]
  },
  {
   "cell_type": "code",
   "execution_count": 4,
   "metadata": {},
   "outputs": [
    {
     "data": {
      "text/html": "<div>\n<style scoped>\n    .dataframe tbody tr th:only-of-type {\n        vertical-align: middle;\n    }\n\n    .dataframe tbody tr th {\n        vertical-align: top;\n    }\n\n    .dataframe thead th {\n        text-align: right;\n    }\n</style>\n<table border=\"1\" class=\"dataframe\">\n  <thead>\n    <tr style=\"text-align: right;\">\n      <th></th>\n      <th>nuts2</th>\n      <th>year</th>\n      <th>nuts_value</th>\n      <th>code</th>\n      <th>country</th>\n      <th>country_value</th>\n      <th>mean_value</th>\n      <th>ppp</th>\n    </tr>\n  </thead>\n  <tbody>\n    <tr>\n      <th>0</th>\n      <td>BE10</td>\n      <td>2008</td>\n      <td>61100.0</td>\n      <td>BE</td>\n      <td>Belgium</td>\n      <td>33100.0</td>\n      <td>31881.818182</td>\n      <td>213.0</td>\n    </tr>\n    <tr>\n      <th>1</th>\n      <td>BE21</td>\n      <td>2008</td>\n      <td>39200.0</td>\n      <td>BE</td>\n      <td>Belgium</td>\n      <td>33100.0</td>\n      <td>31881.818182</td>\n      <td>137.0</td>\n    </tr>\n    <tr>\n      <th>2</th>\n      <td>BE22</td>\n      <td>2008</td>\n      <td>27500.0</td>\n      <td>BE</td>\n      <td>Belgium</td>\n      <td>33100.0</td>\n      <td>31881.818182</td>\n      <td>96.0</td>\n    </tr>\n    <tr>\n      <th>3</th>\n      <td>BE23</td>\n      <td>2008</td>\n      <td>29400.0</td>\n      <td>BE</td>\n      <td>Belgium</td>\n      <td>33100.0</td>\n      <td>31881.818182</td>\n      <td>102.0</td>\n    </tr>\n    <tr>\n      <th>4</th>\n      <td>BE24</td>\n      <td>2008</td>\n      <td>34500.0</td>\n      <td>BE</td>\n      <td>Belgium</td>\n      <td>33100.0</td>\n      <td>31881.818182</td>\n      <td>120.0</td>\n    </tr>\n  </tbody>\n</table>\n</div>",
      "text/plain": "  nuts2  year  nuts_value code  country  country_value    mean_value    ppp\n0  BE10  2008     61100.0   BE  Belgium        33100.0  31881.818182  213.0\n1  BE21  2008     39200.0   BE  Belgium        33100.0  31881.818182  137.0\n2  BE22  2008     27500.0   BE  Belgium        33100.0  31881.818182   96.0\n3  BE23  2008     29400.0   BE  Belgium        33100.0  31881.818182  102.0\n4  BE24  2008     34500.0   BE  Belgium        33100.0  31881.818182  120.0"
     },
     "execution_count": 4,
     "metadata": {},
     "output_type": "execute_result"
    }
   ],
   "source": [
    "gdp_data = pd.read_csv(\"/Users/maxbehrens/Documents/Msc/Thesis/Data/gdp_data/enhanced_gdp_data.csv\")\n",
    "gdp_data.head()"
   ]
  },
  {
   "cell_type": "code",
   "execution_count": 16,
   "metadata": {},
   "outputs": [
    {
     "data": {
      "text/html": "<div>\n<style scoped>\n    .dataframe tbody tr th:only-of-type {\n        vertical-align: middle;\n    }\n\n    .dataframe tbody tr th {\n        vertical-align: top;\n    }\n\n    .dataframe thead th {\n        text-align: right;\n    }\n</style>\n<table border=\"1\" class=\"dataframe\">\n  <thead>\n    <tr style=\"text-align: right;\">\n      <th></th>\n      <th>2014</th>\n      <th>2015</th>\n      <th>2016</th>\n      <th>2017</th>\n      <th>nuts2</th>\n      <th>code</th>\n      <th>country</th>\n    </tr>\n  </thead>\n  <tbody>\n    <tr>\n      <th>0</th>\n      <td>61700.0</td>\n      <td>63100.0</td>\n      <td>64200.0</td>\n      <td>65000.0</td>\n      <td>BE10</td>\n      <td>BE</td>\n      <td>Belgium</td>\n    </tr>\n    <tr>\n      <th>1</th>\n      <td>61700.0</td>\n      <td>63100.0</td>\n      <td>64200.0</td>\n      <td>65000.0</td>\n      <td>BE10</td>\n      <td>BE</td>\n      <td>Belgium</td>\n    </tr>\n    <tr>\n      <th>2</th>\n      <td>61700.0</td>\n      <td>63100.0</td>\n      <td>64200.0</td>\n      <td>65000.0</td>\n      <td>BE10</td>\n      <td>BE</td>\n      <td>Belgium</td>\n    </tr>\n    <tr>\n      <th>3</th>\n      <td>61700.0</td>\n      <td>63100.0</td>\n      <td>64200.0</td>\n      <td>65000.0</td>\n      <td>BE10</td>\n      <td>BE</td>\n      <td>Belgium</td>\n    </tr>\n    <tr>\n      <th>4</th>\n      <td>61700.0</td>\n      <td>63100.0</td>\n      <td>64200.0</td>\n      <td>65000.0</td>\n      <td>BE10</td>\n      <td>BE</td>\n      <td>Belgium</td>\n    </tr>\n  </tbody>\n</table>\n</div>",
      "text/plain": "      2014     2015     2016     2017 nuts2 code  country\n0  61700.0  63100.0  64200.0  65000.0  BE10   BE  Belgium\n1  61700.0  63100.0  64200.0  65000.0  BE10   BE  Belgium\n2  61700.0  63100.0  64200.0  65000.0  BE10   BE  Belgium\n3  61700.0  63100.0  64200.0  65000.0  BE10   BE  Belgium\n4  61700.0  63100.0  64200.0  65000.0  BE10   BE  Belgium"
     },
     "execution_count": 16,
     "metadata": {},
     "output_type": "execute_result"
    }
   ],
   "source": [
    "gdp_data_long = gdp_data_long.loc[(gdp_data_long['GEO/TIME'].isin(gdp_data['nuts2'])),['2014','2015','2016','2017','GEO/TIME']]\n",
    "gdp_long = gdp_data_long.merge(gdp_data.loc[:,['nuts2','code','country']], how='left', left_on='GEO/TIME',right_on='nuts2').drop(columns=['GEO/TIME'])\n",
    "gdp_long.head()"
   ]
  },
  {
   "cell_type": "code",
   "execution_count": 17,
   "metadata": {},
   "outputs": [
    {
     "data": {
      "text/html": "<div>\n<style scoped>\n    .dataframe tbody tr th:only-of-type {\n        vertical-align: middle;\n    }\n\n    .dataframe tbody tr th {\n        vertical-align: top;\n    }\n\n    .dataframe thead th {\n        text-align: right;\n    }\n</style>\n<table border=\"1\" class=\"dataframe\">\n  <thead>\n    <tr style=\"text-align: right;\">\n      <th></th>\n      <th>nuts2</th>\n      <th>code</th>\n      <th>country</th>\n      <th>diff_1415</th>\n      <th>diff_1516</th>\n      <th>diff_1617</th>\n    </tr>\n  </thead>\n  <tbody>\n    <tr>\n      <th>0</th>\n      <td>BE10</td>\n      <td>BE</td>\n      <td>Belgium</td>\n      <td>1400.0</td>\n      <td>1100.0</td>\n      <td>800.0</td>\n    </tr>\n    <tr>\n      <th>10</th>\n      <td>BE21</td>\n      <td>BE</td>\n      <td>Belgium</td>\n      <td>1100.0</td>\n      <td>1400.0</td>\n      <td>1800.0</td>\n    </tr>\n    <tr>\n      <th>20</th>\n      <td>BE22</td>\n      <td>BE</td>\n      <td>Belgium</td>\n      <td>200.0</td>\n      <td>800.0</td>\n      <td>1200.0</td>\n    </tr>\n    <tr>\n      <th>30</th>\n      <td>BE23</td>\n      <td>BE</td>\n      <td>Belgium</td>\n      <td>1100.0</td>\n      <td>1000.0</td>\n      <td>1100.0</td>\n    </tr>\n    <tr>\n      <th>40</th>\n      <td>BE24</td>\n      <td>BE</td>\n      <td>Belgium</td>\n      <td>900.0</td>\n      <td>1300.0</td>\n      <td>800.0</td>\n    </tr>\n  </tbody>\n</table>\n</div>",
      "text/plain": "   nuts2 code  country  diff_1415  diff_1516  diff_1617\n0   BE10   BE  Belgium     1400.0     1100.0      800.0\n10  BE21   BE  Belgium     1100.0     1400.0     1800.0\n20  BE22   BE  Belgium      200.0      800.0     1200.0\n30  BE23   BE  Belgium     1100.0     1000.0     1100.0\n40  BE24   BE  Belgium      900.0     1300.0      800.0"
     },
     "execution_count": 17,
     "metadata": {},
     "output_type": "execute_result"
    }
   ],
   "source": [
    "gdp_long['diff_1415'] = gdp_long['2015']-gdp_long['2014']\n",
    "gdp_long['diff_1516'] = gdp_long['2016']-gdp_long['2015']\n",
    "gdp_long['diff_1617'] = gdp_long['2017']-gdp_long['2016']\n",
    "gdp_long = gdp_long.drop(columns=['2014','2015','2016','2017']).drop_duplicates()\n",
    "gdp_long.head()"
   ]
  },
  {
   "cell_type": "code",
   "execution_count": 19,
   "metadata": {},
   "outputs": [],
   "source": [
    "gdp_long.to_csv('/Users/maxbehrens/Documents/Msc/Thesis/Data/gdp_data/gdp_time_series.csv', index=False)"
   ]
  },
  {
   "cell_type": "code",
   "execution_count": null,
   "metadata": {},
   "outputs": [],
   "source": []
  }
 ]
}