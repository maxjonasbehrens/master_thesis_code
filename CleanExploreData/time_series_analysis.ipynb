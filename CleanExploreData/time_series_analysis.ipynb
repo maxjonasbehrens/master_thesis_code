{
 "cells": [
  {
   "cell_type": "markdown",
   "metadata": {},
   "source": [
    "# NOT USED IN THESIS -  Predict difference over time"
   ]
  },
  {
   "cell_type": "code",
   "execution_count": null,
   "metadata": {},
   "outputs": [],
   "source": [
    "# Import libraries\n",
    "import pandas as pd\n",
    "import numpy as np\n",
    "import json\n",
    "import matplotlib.pyplot as plt"
   ]
  },
  {
   "cell_type": "code",
   "execution_count": null,
   "metadata": {},
   "outputs": [],
   "source": [
    "# Import gdp data\n",
    "gdp_data_long = pd.read_excel(\"/Users/maxbehrens/Documents/Msc/Thesis/Data/gdp_data/nuts2_gdp.xls\",sheet_name='Data',skiprows=530,nrows=516)\n",
    "gdp_data_long.head()"
   ]
  },
  {
   "cell_type": "code",
   "execution_count": null,
   "metadata": {},
   "outputs": [],
   "source": [
    "# Import cleaned gdp data\n",
    "gdp_data = pd.read_csv(\"/Users/maxbehrens/Documents/Msc/Thesis/Data/gdp_data/enhanced_gdp_data.csv\")\n",
    "gdp_data.head()"
   ]
  },
  {
   "cell_type": "code",
   "execution_count": null,
   "metadata": {},
   "outputs": [],
   "source": [
    "# Merge together\n",
    "gdp_data_long = gdp_data_long.loc[(gdp_data_long['GEO/TIME'].isin(gdp_data['nuts2'])),['2014','2015','2016','2017','GEO/TIME']]\n",
    "gdp_long = gdp_data_long.merge(gdp_data.loc[:,['nuts2','code','country']], how='left', left_on='GEO/TIME',right_on='nuts2').drop(columns=['GEO/TIME'])\n",
    "gdp_long.head()"
   ]
  },
  {
   "cell_type": "code",
   "execution_count": null,
   "metadata": {},
   "outputs": [],
   "source": [
    "# Compute GDP difference between years\n",
    "gdp_long['diff_1415'] = gdp_long['2015']-gdp_long['2014']\n",
    "gdp_long['diff_1516'] = gdp_long['2016']-gdp_long['2015']\n",
    "gdp_long['diff_1617'] = gdp_long['2017']-gdp_long['2016']\n",
    "gdp_long = gdp_long.drop(columns=['2014','2015','2016','2017']).drop_duplicates().dropna()\n",
    "gdp_long.head()"
   ]
  },
  {
   "cell_type": "code",
   "execution_count": null,
   "metadata": {},
   "outputs": [],
   "source": [
    "# Save\n",
    "gdp_long.to_csv('/Users/maxbehrens/Documents/Msc/Thesis/Data/gdp_data/gdp_time_series.csv', index=False)"
   ]
  }
 ],
 "metadata": {
  "language_info": {
   "name": "python",
   "codemirror_mode": {
    "name": "ipython",
    "version": 3
   },
   "version": "3.7.4-final"
  },
  "orig_nbformat": 2,
  "file_extension": ".py",
  "mimetype": "text/x-python",
  "name": "python",
  "npconvert_exporter": "python",
  "pygments_lexer": "ipython3",
  "version": 3,
  "kernelspec": {
   "name": "python37464bitbasecondafb44a98a6ad746338a5dffef910e88a3",
   "display_name": "Python 3.7.4 64-bit ('base': conda)"
  }
 },
 "nbformat": 4,
 "nbformat_minor": 2
}