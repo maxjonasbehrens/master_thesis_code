{
 "cells": [
  {
   "cell_type": "markdown",
   "metadata": {},
   "source": [
    "# Spatial Analysis"
   ]
  },
  {
   "cell_type": "code",
   "execution_count": 1,
   "metadata": {},
   "outputs": [],
   "source": [
    "from descartes import PolygonPatch\n",
    "import geopandas as gp\n",
    "#import pysal as ps\n",
    "import numpy as np\n",
    "import pandas as pd\n",
    "\n",
    "# Import libraries for visualization\n",
    "from matplotlib import pyplot as plt\n",
    "from matplotlib.patches import Polygon\n",
    "from matplotlib.collections import PatchCollection\n",
    "import json\n",
    "from descartes import PolygonPatch\n",
    "from matplotlib.colors import ListedColormap, LinearSegmentedColormap\n",
    "import matplotlib as mpl"
   ]
  },
  {
   "cell_type": "code",
   "execution_count": 2,
   "metadata": {},
   "outputs": [],
   "source": [
    "# Open the geojson of NUTS 2 regions to get the coordinates of the regions\n",
    "with open(\"/Users/maxbehrens/Documents/Msc/Thesis/Data/geo_data_2016/NUTS_RG_01M_2016_4326_LEVL_2.geojson\") as f:\n",
    "    nuts2_poly_2016 = json.load(f)"
   ]
  },
  {
   "cell_type": "code",
   "execution_count": 3,
   "metadata": {},
   "outputs": [
    {
     "data": {
      "text/html": "<div>\n<style scoped>\n    .dataframe tbody tr th:only-of-type {\n        vertical-align: middle;\n    }\n\n    .dataframe tbody tr th {\n        vertical-align: top;\n    }\n\n    .dataframe thead th {\n        text-align: right;\n    }\n</style>\n<table border=\"1\" class=\"dataframe\">\n  <thead>\n    <tr style=\"text-align: right;\">\n      <th></th>\n      <th>region</th>\n      <th>year</th>\n      <th>value</th>\n      <th>code</th>\n      <th>country</th>\n    </tr>\n  </thead>\n  <tbody>\n    <tr>\n      <th>0</th>\n      <td>BE</td>\n      <td>2008</td>\n      <td>33100.0</td>\n      <td>BE</td>\n      <td>Belgium</td>\n    </tr>\n    <tr>\n      <th>1</th>\n      <td>BE1</td>\n      <td>2008</td>\n      <td>61100.0</td>\n      <td>BE</td>\n      <td>Belgium</td>\n    </tr>\n    <tr>\n      <th>2</th>\n      <td>BE10</td>\n      <td>2008</td>\n      <td>61100.0</td>\n      <td>BE</td>\n      <td>Belgium</td>\n    </tr>\n    <tr>\n      <th>3</th>\n      <td>BE2</td>\n      <td>2008</td>\n      <td>33100.0</td>\n      <td>BE</td>\n      <td>Belgium</td>\n    </tr>\n    <tr>\n      <th>4</th>\n      <td>BE21</td>\n      <td>2008</td>\n      <td>39200.0</td>\n      <td>BE</td>\n      <td>Belgium</td>\n    </tr>\n  </tbody>\n</table>\n</div>",
      "text/plain": "  region  year    value code  country\n0     BE  2008  33100.0   BE  Belgium\n1    BE1  2008  61100.0   BE  Belgium\n2   BE10  2008  61100.0   BE  Belgium\n3    BE2  2008  33100.0   BE  Belgium\n4   BE21  2008  39200.0   BE  Belgium"
     },
     "execution_count": 3,
     "metadata": {},
     "output_type": "execute_result"
    }
   ],
   "source": [
    "# Get the cleaned GDP data to match with regions and download correct data\n",
    "gdp_data = pd.read_csv('/Users/maxbehrens/Documents/Msc/Thesis/Data/gdp_data/nuts_gdp_cleaned.csv')\n",
    "gdp_data.head()"
   ]
  },
  {
   "cell_type": "code",
   "execution_count": 4,
   "metadata": {},
   "outputs": [],
   "source": [
    "# Countries which are banned from the analysis\n",
    "banned_mean_countries = ['FI','SE','NO','BE']"
   ]
  },
  {
   "cell_type": "code",
   "execution_count": 5,
   "metadata": {},
   "outputs": [
    {
     "data": {},
     "metadata": {
      "needs_background": "light"
     },
     "output_type": "display_data"
    },
    {
     "data": {
      "text/plain": "<Figure size 5000x2500 with 0 Axes>"
     },
     "metadata": {},
     "output_type": "display_data"
    },
    {
     "data": {},
     "metadata": {
      "needs_background": "light"
     },
     "output_type": "display_data"
    },
    {
     "data": {
      "text/plain": "<Figure size 5000x2500 with 0 Axes>"
     },
     "metadata": {},
     "output_type": "display_data"
    },
    {
     "data": {},
     "metadata": {
      "needs_background": "light"
     },
     "output_type": "display_data"
    },
    {
     "data": {
      "text/plain": "<Figure size 5000x2500 with 0 Axes>"
     },
     "metadata": {},
     "output_type": "display_data"
    },
    {
     "data": {},
     "metadata": {
      "needs_background": "light"
     },
     "output_type": "display_data"
    },
    {
     "data": {
      "text/plain": "<Figure size 5000x2500 with 0 Axes>"
     },
     "metadata": {},
     "output_type": "display_data"
    }
   ],
   "source": [
    "poly_used = []\n",
    "poly_banned = []\n",
    "poly_not = []\n",
    "\n",
    "# Years used in the analysis\n",
    "years = [2014,2015,2016,2017]\n",
    "\n",
    "# Iterate through years to create plot for each year\n",
    "for year in years:\n",
    "\n",
    "    # Iterate through NUTS 2 regions\n",
    "    for i in range(len(nuts2_poly_2016['features'])):\n",
    "\n",
    "        # If region in banned countries then colour it red\n",
    "        if nuts2_poly_2016['features'][i]['properties']['NUTS_ID'][:2] in banned_mean_countries:\n",
    "            \n",
    "            # Multipolygon, only use main polygon\n",
    "            if nuts2_poly_2016['features'][i]['geometry']['type'] == 'MultiPolygon':\n",
    "                t = nuts2_poly_2016['features'][i]['geometry']['coordinates'][0][0]\n",
    "            else:    \n",
    "                t = nuts2_poly_2016['features'][i]['geometry']['coordinates'][0]\n",
    "\n",
    "            x = [coord[0] for coord in t]\n",
    "            y = [coord[1] for coord in t]\n",
    "\n",
    "            # Convert to polygon and append to list\n",
    "            p = Polygon(tuple(zip(x,y)))\n",
    "            poly_banned.append(p)\n",
    "\n",
    "        # If polygon was used, then append to specific list and colour it grey\n",
    "        elif np.any(gdp_data.loc[gdp_data['year']==year,'region'].isin([nuts2_poly_2016['features'][i]['properties']['NUTS_ID']])):\n",
    "            if nuts2_poly_2016['features'][i]['geometry']['type'] == 'MultiPolygon':\n",
    "                t = nuts2_poly_2016['features'][i]['geometry']['coordinates'][0][0]\n",
    "            else:    \n",
    "                t = nuts2_poly_2016['features'][i]['geometry']['coordinates'][0]\n",
    "\n",
    "            x = [coord[0] for coord in t]\n",
    "            y = [coord[1] for coord in t]\n",
    "\n",
    "            p = Polygon(tuple(zip(x,y)))\n",
    "            poly_used.append(p)\n",
    "\n",
    "        # If polygon was not used, append to other list\n",
    "        else:\n",
    "            if nuts2_poly_2016['features'][i]['geometry']['type'] == 'MultiPolygon':\n",
    "                t = nuts2_poly_2016['features'][i]['geometry']['coordinates'][0][0]\n",
    "            else:    \n",
    "                t = nuts2_poly_2016['features'][i]['geometry']['coordinates'][0]\n",
    "\n",
    "            x = [coord[0] for coord in t]\n",
    "            y = [coord[1] for coord in t]\n",
    "\n",
    "            p = Polygon(tuple(zip(x,y)))\n",
    "            poly_not.append(p)\n",
    "\n",
    "    # Create empty plot\n",
    "    fig, ax = plt.subplots()\n",
    "\n",
    "    # Colour used regions in grey\n",
    "    p = PatchCollection(poly_used, color='gray',lw=0.5,edgecolor='k')\n",
    "    ax.add_collection(p)\n",
    "\n",
    "    # Colour used regions in red\n",
    "    p = PatchCollection(poly_banned, color='red',lw=0.5,edgecolor='k')\n",
    "    ax.add_collection(p)\n",
    "\n",
    "    # Colour used regions in \"white\"\n",
    "    p = PatchCollection(poly_not, color='white',lw=0.5,edgecolor='k')\n",
    "    ax.add_collection(p)\n",
    "\n",
    "    # Create plot and save it\n",
    "    ax.autoscale_view()\n",
    "    ax.set_xlim((-12,45))\n",
    "    ax.set_ylim((30,75))\n",
    "    ax.get_xaxis().set_visible(False)\n",
    "    ax.get_yaxis().set_visible(False)\n",
    "    ax.set_title(str(year))\n",
    "    plt.figure(figsize=(20,10), dpi=250)\n",
    "    fig.tight_layout()\n",
    "    fig.savefig(str('/Users/maxbehrens/Documents/Msc/Thesis/Data/plots/nuts'+str(year)+'_mapping.png'), dpi=250)\n",
    "    #plt.show()"
   ]
  },
  {
   "cell_type": "code",
   "execution_count": null,
   "metadata": {},
   "outputs": [],
   "source": []
  }
 ],
 "metadata": {
  "language_info": {
   "name": "python",
   "codemirror_mode": {
    "name": "ipython",
    "version": 3
   },
   "version": "3.7.4-final"
  },
  "orig_nbformat": 2,
  "file_extension": ".py",
  "mimetype": "text/x-python",
  "name": "python",
  "npconvert_exporter": "python",
  "pygments_lexer": "ipython3",
  "version": 3,
  "kernelspec": {
   "name": "python37464bitbasecondafb44a98a6ad746338a5dffef910e88a3",
   "display_name": "Python 3.7.4 64-bit ('base': conda)"
  }
 },
 "nbformat": 4,
 "nbformat_minor": 2
}