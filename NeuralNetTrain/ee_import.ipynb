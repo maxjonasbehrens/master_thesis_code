{
  "nbformat": 4,
  "nbformat_minor": 0,
  "metadata": {
    "colab": {
      "name": "ee_import.ipynb",
      "provenance": [],
      "collapsed_sections": [],
      "toc_visible": true,
      "machine_shape": "hm"
    },
    "kernelspec": {
      "name": "python3",
      "display_name": "Python 3"
    },
    "accelerator": "GPU"
  },
  "cells": [
    {
      "cell_type": "markdown",
      "metadata": {
        "colab_type": "text",
        "id": "jcCwLDmWkrHi"
      },
      "source": [
        "## PreProcess Images and feed into CNN"
      ]
    },
    {
      "cell_type": "code",
      "metadata": {
        "colab_type": "code",
        "id": "KnRwnXgRkXTH",
        "outputId": "fba91d86-bab4-48ce-84ae-69ee8f4d587c",
        "colab": {
          "base_uri": "https://localhost:8080/",
          "height": 125
        }
      },
      "source": [
        "# Mount Google Drice\n",
        "from google.colab import drive\n",
        "drive.mount('/gdrive')"
      ],
      "execution_count": 1,
      "outputs": [
        {
          "output_type": "stream",
          "text": [
            "Go to this URL in a browser: https://accounts.google.com/o/oauth2/auth?client_id=947318989803-6bn6qk8qdgf4n4g3pfee6491hc0brc4i.apps.googleusercontent.com&redirect_uri=urn%3aietf%3awg%3aoauth%3a2.0%3aoob&response_type=code&scope=email%20https%3a%2f%2fwww.googleapis.com%2fauth%2fdocs.test%20https%3a%2f%2fwww.googleapis.com%2fauth%2fdrive%20https%3a%2f%2fwww.googleapis.com%2fauth%2fdrive.photos.readonly%20https%3a%2f%2fwww.googleapis.com%2fauth%2fpeopleapi.readonly\n",
            "\n",
            "Enter your authorization code:\n",
            "··········\n",
            "Mounted at /gdrive\n"
          ],
          "name": "stdout"
        }
      ]
    },
    {
      "cell_type": "code",
      "metadata": {
        "colab_type": "code",
        "id": "1Lfk-ya7Ux0k",
        "outputId": "9dc5a699-cf9b-4c8d-8552-cb1c3678ab1b",
        "colab": {
          "base_uri": "https://localhost:8080/",
          "height": 87
        }
      },
      "source": [
        "!pip install pyrsgis"
      ],
      "execution_count": 2,
      "outputs": [
        {
          "output_type": "stream",
          "text": [
            "Collecting pyrsgis\n",
            "  Downloading https://files.pythonhosted.org/packages/35/ab/7fcabaa7a75977e79fa535d781f2be92cd71331e9b21457b836442f3a475/pyrsgis-0.2.6-py3-none-any.whl\n",
            "Installing collected packages: pyrsgis\n",
            "Successfully installed pyrsgis-0.2.6\n"
          ],
          "name": "stdout"
        }
      ]
    },
    {
      "cell_type": "code",
      "metadata": {
        "id": "eA5AhCi0KFdG",
        "colab_type": "code",
        "outputId": "e7c8641a-b0de-45f7-e785-bbe69a0ac6cf",
        "colab": {
          "base_uri": "https://localhost:8080/",
          "height": 141
        }
      },
      "source": [
        "!git clone https://github.com/maxjonasbehrens/master_thesis_code\n",
        "#%cd /content/master_thesis_code\n",
        "#!git pull"
      ],
      "execution_count": 3,
      "outputs": [
        {
          "output_type": "stream",
          "text": [
            "Cloning into 'master_thesis_code'...\n",
            "remote: Enumerating objects: 258, done.\u001b[K\n",
            "remote: Counting objects:   0% (1/258)\u001b[K\rremote: Counting objects:   1% (3/258)\u001b[K\rremote: Counting objects:   2% (6/258)\u001b[K\rremote: Counting objects:   3% (8/258)\u001b[K\rremote: Counting objects:   4% (11/258)\u001b[K\rremote: Counting objects:   5% (13/258)\u001b[K\rremote: Counting objects:   6% (16/258)\u001b[K\rremote: Counting objects:   7% (19/258)\u001b[K\rremote: Counting objects:   8% (21/258)\u001b[K\rremote: Counting objects:   9% (24/258)\u001b[K\rremote: Counting objects:  10% (26/258)\u001b[K\rremote: Counting objects:  11% (29/258)\u001b[K\rremote: Counting objects:  12% (31/258)\u001b[K\rremote: Counting objects:  13% (34/258)\u001b[K\rremote: Counting objects:  14% (37/258)\u001b[K\rremote: Counting objects:  15% (39/258)\u001b[K\rremote: Counting objects:  16% (42/258)\u001b[K\rremote: Counting objects:  17% (44/258)\u001b[K\rremote: Counting objects:  18% (47/258)\u001b[K\rremote: Counting objects:  19% (50/258)\u001b[K\rremote: Counting objects:  20% (52/258)\u001b[K\rremote: Counting objects:  21% (55/258)\u001b[K\rremote: Counting objects:  22% (57/258)\u001b[K\rremote: Counting objects:  23% (60/258)\u001b[K\rremote: Counting objects:  24% (62/258)\u001b[K\rremote: Counting objects:  25% (65/258)\u001b[K\rremote: Counting objects:  26% (68/258)\u001b[K\rremote: Counting objects:  27% (70/258)\u001b[K\rremote: Counting objects:  28% (73/258)\u001b[K\rremote: Counting objects:  29% (75/258)\u001b[K\rremote: Counting objects:  30% (78/258)\u001b[K\rremote: Counting objects:  31% (80/258)\u001b[K\rremote: Counting objects:  32% (83/258)\u001b[K\rremote: Counting objects:  33% (86/258)\u001b[K\rremote: Counting objects:  34% (88/258)\u001b[K\rremote: Counting objects:  35% (91/258)\u001b[K\rremote: Counting objects:  36% (93/258)\u001b[K\rremote: Counting objects:  37% (96/258)\u001b[K\rremote: Counting objects:  38% (99/258)\u001b[K\rremote: Counting objects:  39% (101/258)\u001b[K\rremote: Counting objects:  40% (104/258)\u001b[K\rremote: Counting objects:  41% (106/258)\u001b[K\rremote: Counting objects:  42% (109/258)\u001b[K\rremote: Counting objects:  43% (111/258)\u001b[K\rremote: Counting objects:  44% (114/258)\u001b[K\rremote: Counting objects:  45% (117/258)\u001b[K\rremote: Counting objects:  46% (119/258)\u001b[K\rremote: Counting objects:  47% (122/258)\u001b[K\rremote: Counting objects:  48% (124/258)\u001b[K\rremote: Counting objects:  49% (127/258)\u001b[K\rremote: Counting objects:  50% (129/258)\u001b[K\rremote: Counting objects:  51% (132/258)\u001b[K\rremote: Counting objects:  52% (135/258)\u001b[K\rremote: Counting objects:  53% (137/258)\u001b[K\rremote: Counting objects:  54% (140/258)\u001b[K\rremote: Counting objects:  55% (142/258)\u001b[K\rremote: Counting objects:  56% (145/258)\u001b[K\rremote: Counting objects:  57% (148/258)\u001b[K\rremote: Counting objects:  58% (150/258)\u001b[K\rremote: Counting objects:  59% (153/258)\u001b[K\rremote: Counting objects:  60% (155/258)\u001b[K\rremote: Counting objects:  61% (158/258)\u001b[K\rremote: Counting objects:  62% (160/258)\u001b[K\rremote: Counting objects:  63% (163/258)\u001b[K\rremote: Counting objects:  64% (166/258)\u001b[K\rremote: Counting objects:  65% (168/258)\u001b[K\rremote: Counting objects:  66% (171/258)\u001b[K\rremote: Counting objects:  67% (173/258)\u001b[K\rremote: Counting objects:  68% (176/258)\u001b[K\rremote: Counting objects:  69% (179/258)\u001b[K\rremote: Counting objects:  70% (181/258)\u001b[K\rremote: Counting objects:  71% (184/258)\u001b[K\rremote: Counting objects:  72% (186/258)\u001b[K\rremote: Counting objects:  73% (189/258)\u001b[K\rremote: Counting objects:  74% (191/258)\u001b[K\rremote: Counting objects:  75% (194/258)\u001b[K\rremote: Counting objects:  76% (197/258)\u001b[K\rremote: Counting objects:  77% (199/258)\u001b[K\rremote: Counting objects:  78% (202/258)\u001b[K\rremote: Counting objects:  79% (204/258)\u001b[K\rremote: Counting objects:  80% (207/258)\u001b[K\rremote: Counting objects:  81% (209/258)\u001b[K\rremote: Counting objects:  82% (212/258)\u001b[K\rremote: Counting objects:  83% (215/258)\u001b[K\rremote: Counting objects:  84% (217/258)\u001b[K\rremote: Counting objects:  85% (220/258)\u001b[K\rremote: Counting objects:  86% (222/258)\u001b[K\rremote: Counting objects:  87% (225/258)\u001b[K\rremote: Counting objects:  88% (228/258)\u001b[K\rremote: Counting objects:  89% (230/258)\u001b[K\rremote: Counting objects:  90% (233/258)\u001b[K\rremote: Counting objects:  91% (235/258)\u001b[K\rremote: Counting objects:  92% (238/258)\u001b[K\rremote: Counting objects:  93% (240/258)\u001b[K\rremote: Counting objects:  94% (243/258)\u001b[K\rremote: Counting objects:  95% (246/258)\u001b[K\rremote: Counting objects:  96% (248/258)\u001b[K\rremote: Counting objects:  97% (251/258)\u001b[K\rremote: Counting objects:  98% (253/258)\u001b[K\rremote: Counting objects:  99% (256/258)\u001b[K\rremote: Counting objects: 100% (258/258)\u001b[K\rremote: Counting objects: 100% (258/258), done.\u001b[K\n",
            "remote: Compressing objects:   0% (1/178)\u001b[K\rremote: Compressing objects:   1% (2/178)\u001b[K\rremote: Compressing objects:   2% (4/178)\u001b[K\rremote: Compressing objects:   3% (6/178)\u001b[K\rremote: Compressing objects:   4% (8/178)\u001b[K\rremote: Compressing objects:   5% (9/178)\u001b[K\rremote: Compressing objects:   6% (11/178)\u001b[K\rremote: Compressing objects:   7% (13/178)\u001b[K\rremote: Compressing objects:   8% (15/178)\u001b[K\rremote: Compressing objects:   9% (17/178)\u001b[K\rremote: Compressing objects:  10% (18/178)\u001b[K\rremote: Compressing objects:  11% (20/178)\u001b[K\rremote: Compressing objects:  12% (22/178)\u001b[K\rremote: Compressing objects:  13% (24/178)\u001b[K\rremote: Compressing objects:  14% (25/178)\u001b[K\rremote: Compressing objects:  15% (27/178)\u001b[K\rremote: Compressing objects:  16% (29/178)\u001b[K\rremote: Compressing objects:  17% (31/178)\u001b[K\rremote: Compressing objects:  18% (33/178)\u001b[K\rremote: Compressing objects:  19% (34/178)\u001b[K\rremote: Compressing objects:  20% (36/178)\u001b[K\rremote: Compressing objects:  21% (38/178)\u001b[K\rremote: Compressing objects:  22% (40/178)\u001b[K\rremote: Compressing objects:  23% (41/178)\u001b[K\rremote: Compressing objects:  24% (43/178)\u001b[K\rremote: Compressing objects:  25% (45/178)\u001b[K\rremote: Compressing objects:  26% (47/178)\u001b[K\rremote: Compressing objects:  27% (49/178)\u001b[K\rremote: Compressing objects:  28% (50/178)\u001b[K\rremote: Compressing objects:  29% (52/178)\u001b[K\rremote: Compressing objects:  30% (54/178)\u001b[K\rremote: Compressing objects:  31% (56/178)\u001b[K\rremote: Compressing objects:  32% (57/178)\u001b[K\rremote: Compressing objects:  33% (59/178)\u001b[K\rremote: Compressing objects:  34% (61/178)\u001b[K\rremote: Compressing objects:  35% (63/178)\u001b[K\rremote: Compressing objects:  36% (65/178)\u001b[K\rremote: Compressing objects:  37% (66/178)\u001b[K\rremote: Compressing objects:  38% (68/178)\u001b[K\rremote: Compressing objects:  39% (70/178)\u001b[K\rremote: Compressing objects:  40% (72/178)\u001b[K\rremote: Compressing objects:  41% (73/178)\u001b[K\rremote: Compressing objects:  42% (75/178)\u001b[K\rremote: Compressing objects:  43% (77/178)\u001b[K\rremote: Compressing objects:  44% (79/178)\u001b[K\rremote: Compressing objects:  45% (81/178)\u001b[K\rremote: Compressing objects:  46% (82/178)\u001b[K\rremote: Compressing objects:  47% (84/178)\u001b[K\rremote: Compressing objects:  48% (86/178)\u001b[K\rremote: Compressing objects:  49% (88/178)\u001b[K\rremote: Compressing objects:  50% (89/178)\u001b[K\rremote: Compressing objects:  51% (91/178)\u001b[K\rremote: Compressing objects:  52% (93/178)\u001b[K\rremote: Compressing objects:  53% (95/178)\u001b[K\rremote: Compressing objects:  54% (97/178)\u001b[K\rremote: Compressing objects:  55% (98/178)\u001b[K\rremote: Compressing objects:  56% (100/178)\u001b[K\rremote: Compressing objects:  57% (102/178)\u001b[K\rremote: Compressing objects:  58% (104/178)\u001b[K\rremote: Compressing objects:  59% (106/178)\u001b[K\rremote: Compressing objects:  60% (107/178)\u001b[K\rremote: Compressing objects:  61% (109/178)\u001b[K\rremote: Compressing objects:  62% (111/178)\u001b[K\rremote: Compressing objects:  63% (113/178)\u001b[K\rremote: Compressing objects:  64% (114/178)\u001b[K\rremote: Compressing objects:  65% (116/178)\u001b[K\rremote: Compressing objects:  66% (118/178)\u001b[K\rremote: Compressing objects:  67% (120/178)\u001b[K\rremote: Compressing objects:  68% (122/178)\u001b[K\rremote: Compressing objects:  69% (123/178)\u001b[K\rremote: Compressing objects:  70% (125/178)\u001b[K\rremote: Compressing objects:  71% (127/178)\u001b[K\rremote: Compressing objects:  72% (129/178)\u001b[K\rremote: Compressing objects:  73% (130/178)\u001b[K\rremote: Compressing objects:  74% (132/178)\u001b[K\rremote: Compressing objects:  75% (134/178)\u001b[K\rremote: Compressing objects:  76% (136/178)\u001b[K\rremote: Compressing objects:  77% (138/178)\u001b[K\rremote: Compressing objects:  78% (139/178)\u001b[K\rremote: Compressing objects:  79% (141/178)\u001b[K\rremote: Compressing objects:  80% (143/178)\u001b[K\rremote: Compressing objects:  81% (145/178)\u001b[K\rremote: Compressing objects:  82% (146/178)\u001b[K\rremote: Compressing objects:  83% (148/178)\u001b[K\rremote: Compressing objects:  84% (150/178)\u001b[K\rremote: Compressing objects:  85% (152/178)\u001b[K\rremote: Compressing objects:  86% (154/178)\u001b[K\rremote: Compressing objects:  87% (155/178)\u001b[K\rremote: Compressing objects:  88% (157/178)\u001b[K\rremote: Compressing objects:  89% (159/178)\u001b[K\rremote: Compressing objects:  90% (161/178)\u001b[K\rremote: Compressing objects:  91% (162/178)\u001b[K\rremote: Compressing objects:  92% (164/178)\u001b[K\rremote: Compressing objects:  93% (166/178)\u001b[K\rremote: Compressing objects:  94% (168/178)\u001b[K\rremote: Compressing objects:  95% (170/178)\u001b[K\rremote: Compressing objects:  96% (171/178)\u001b[K\rremote: Compressing objects:  97% (173/178)\u001b[K\rremote: Compressing objects:  98% (175/178)\u001b[K\rremote: Compressing objects:  99% (177/178)\u001b[K\rremote: Compressing objects: 100% (178/178)\u001b[K\rremote: Compressing objects: 100% (178/178), done.\u001b[K\n",
            "Receiving objects:   0% (1/258)   \rReceiving objects:   1% (3/258)   \rReceiving objects:   2% (6/258)   \rReceiving objects:   3% (8/258)   \rReceiving objects:   4% (11/258)   \rReceiving objects:   5% (13/258)   \rReceiving objects:   6% (16/258)   \rReceiving objects:   7% (19/258)   \rReceiving objects:   8% (21/258)   \rReceiving objects:   9% (24/258)   \rReceiving objects:  10% (26/258)   \rReceiving objects:  11% (29/258)   \rReceiving objects:  12% (31/258)   \rReceiving objects:  13% (34/258)   \rReceiving objects:  14% (37/258)   \rReceiving objects:  15% (39/258)   \rReceiving objects:  16% (42/258)   \rReceiving objects:  17% (44/258)   \rReceiving objects:  18% (47/258)   \rReceiving objects:  19% (50/258)   \rReceiving objects:  20% (52/258)   \rReceiving objects:  21% (55/258)   \rReceiving objects:  22% (57/258)   \rReceiving objects:  23% (60/258)   \rReceiving objects:  24% (62/258)   \rReceiving objects:  25% (65/258)   \rReceiving objects:  26% (68/258)   \rReceiving objects:  27% (70/258)   \rReceiving objects:  28% (73/258)   \rReceiving objects:  29% (75/258)   \rReceiving objects:  30% (78/258)   \rReceiving objects:  31% (80/258)   \rReceiving objects:  32% (83/258)   \rReceiving objects:  33% (86/258)   \rReceiving objects:  34% (88/258)   \rReceiving objects:  35% (91/258)   \rReceiving objects:  36% (93/258)   \rReceiving objects:  37% (96/258)   \rReceiving objects:  38% (99/258)   \rReceiving objects:  39% (101/258)   \rReceiving objects:  40% (104/258)   \rReceiving objects:  41% (106/258)   \rReceiving objects:  42% (109/258)   \rReceiving objects:  43% (111/258)   \rReceiving objects:  44% (114/258)   \rReceiving objects:  45% (117/258)   \rReceiving objects:  46% (119/258)   \rReceiving objects:  47% (122/258)   \rReceiving objects:  48% (124/258)   \rReceiving objects:  49% (127/258)   \rReceiving objects:  50% (129/258)   \rReceiving objects:  51% (132/258)   \rReceiving objects:  52% (135/258)   \rReceiving objects:  53% (137/258)   \rReceiving objects:  54% (140/258)   \rReceiving objects:  55% (142/258)   \rReceiving objects:  56% (145/258)   \rReceiving objects:  57% (148/258)   \rReceiving objects:  58% (150/258)   \rReceiving objects:  59% (153/258)   \rReceiving objects:  60% (155/258)   \rReceiving objects:  61% (158/258)   \rReceiving objects:  62% (160/258)   \rReceiving objects:  63% (163/258)   \rReceiving objects:  64% (166/258)   \rReceiving objects:  65% (168/258)   \rReceiving objects:  66% (171/258)   \rReceiving objects:  67% (173/258)   \rReceiving objects:  68% (176/258)   \rReceiving objects:  69% (179/258)   \rReceiving objects:  70% (181/258)   \rReceiving objects:  71% (184/258)   \rReceiving objects:  72% (186/258)   \rReceiving objects:  73% (189/258)   \rReceiving objects:  74% (191/258)   \rReceiving objects:  75% (194/258)   \rReceiving objects:  76% (197/258)   \rReceiving objects:  77% (199/258)   \rReceiving objects:  78% (202/258)   \rReceiving objects:  79% (204/258)   \rReceiving objects:  80% (207/258)   \rReceiving objects:  81% (209/258)   \rReceiving objects:  82% (212/258)   \rReceiving objects:  83% (215/258)   \rReceiving objects:  84% (217/258)   \rReceiving objects:  85% (220/258)   \rReceiving objects:  86% (222/258)   \rReceiving objects:  87% (225/258)   \rremote: Total 258 (delta 132), reused 176 (delta 78), pack-reused 0\u001b[K\n",
            "Receiving objects:  88% (228/258)   \rReceiving objects:  89% (230/258)   \rReceiving objects:  90% (233/258)   \rReceiving objects:  91% (235/258)   \rReceiving objects:  92% (238/258)   \rReceiving objects:  93% (240/258)   \rReceiving objects:  94% (243/258)   \rReceiving objects:  95% (246/258)   \rReceiving objects:  96% (248/258)   \rReceiving objects:  97% (251/258)   \rReceiving objects:  98% (253/258)   \rReceiving objects:  99% (256/258)   \rReceiving objects: 100% (258/258)   \rReceiving objects: 100% (258/258), 607.65 KiB | 17.36 MiB/s, done.\n",
            "Resolving deltas:   0% (0/132)   \rResolving deltas:   6% (9/132)   \rResolving deltas:  10% (14/132)   \rResolving deltas:  13% (18/132)   \rResolving deltas:  16% (22/132)   \rResolving deltas:  18% (24/132)   \rResolving deltas:  31% (41/132)   \rResolving deltas:  33% (44/132)   \rResolving deltas:  45% (60/132)   \rResolving deltas:  46% (62/132)   \rResolving deltas:  47% (63/132)   \rResolving deltas:  48% (64/132)   \rResolving deltas:  70% (93/132)   \rResolving deltas:  71% (95/132)   \rResolving deltas:  72% (96/132)   \rResolving deltas:  77% (102/132)   \rResolving deltas:  80% (106/132)   \rResolving deltas:  81% (108/132)   \rResolving deltas:  84% (112/132)   \rResolving deltas:  86% (114/132)   \rResolving deltas:  87% (116/132)   \rResolving deltas:  88% (117/132)   \rResolving deltas:  95% (126/132)   \rResolving deltas:  96% (127/132)   \rResolving deltas: 100% (132/132)   \rResolving deltas: 100% (132/132), done.\n"
          ],
          "name": "stdout"
        }
      ]
    },
    {
      "cell_type": "code",
      "metadata": {
        "id": "MbcpkAIYKSkw",
        "colab_type": "code",
        "colab": {}
      },
      "source": [
        "%load /content/master_thesis_code/NeuralNetTrain/imgProcessing/sat_images.py"
      ],
      "execution_count": 0,
      "outputs": []
    },
    {
      "cell_type": "code",
      "metadata": {
        "colab_type": "code",
        "id": "CwZd9v4Ukxt6",
        "colab": {
          "base_uri": "https://localhost:8080/",
          "height": 81
        },
        "outputId": "e77635ce-50cf-4b9d-d558-7424042b9eca"
      },
      "source": [
        "import tensorflow as tf\n",
        "import numpy as np\n",
        "import pandas as pd\n",
        "from tensorflow import keras\n",
        "import pyrsgis\n",
        "import cv2\n",
        "from skimage.transform import resize\n",
        "from PIL import Image\n",
        "%matplotlib inline \n",
        "from matplotlib import pyplot as plt\n",
        "from os import listdir\n",
        "from os.path import isfile, join\n",
        "import scipy.io\n",
        "import sklearn.model_selection"
      ],
      "execution_count": 5,
      "outputs": [
        {
          "output_type": "display_data",
          "data": {
            "text/html": [
              "<p style=\"color: red;\">\n",
              "The default version of TensorFlow in Colab will soon switch to TensorFlow 2.x.<br>\n",
              "We recommend you <a href=\"https://www.tensorflow.org/guide/migrate\" target=\"_blank\">upgrade</a> now \n",
              "or ensure your notebook will continue to use TensorFlow 1.x via the <code>%tensorflow_version 1.x</code> magic:\n",
              "<a href=\"https://colab.research.google.com/notebooks/tensorflow_version.ipynb\" target=\"_blank\">more info</a>.</p>\n"
            ],
            "text/plain": [
              "<IPython.core.display.HTML object>"
            ]
          },
          "metadata": {
            "tags": []
          }
        },
        {
          "output_type": "stream",
          "text": [
            "Warning! matplotlib_scalebar library not found.\n"
          ],
          "name": "stdout"
        }
      ]
    },
    {
      "cell_type": "code",
      "metadata": {
        "id": "yoaE3NmFOOAD",
        "colab_type": "code",
        "colab": {}
      },
      "source": [
        "# Import own module to preprocess images\n",
        "import imp\n",
        "sat_images = imp.new_module('sat_images')\n",
        "exec(open(\"/content/master_thesis_code/NeuralNetTrain/imgProcessing/sat_images.py\").read(), sat_images.__dict__)"
      ],
      "execution_count": 0,
      "outputs": []
    },
    {
      "cell_type": "markdown",
      "metadata": {
        "colab_type": "text",
        "id": "V8Lm_M34332n"
      },
      "source": [
        "## Test for one image"
      ]
    },
    {
      "cell_type": "code",
      "metadata": {
        "colab_type": "code",
        "id": "VLRyltYwk3HL",
        "colab": {}
      },
      "source": [
        "# Download test image from drive\n",
        "img_path = \"/gdrive/My Drive/nuts_night/BE34_2013.tif\"\n",
        "\n",
        "ds1, img = pyrsgis.raster.read(img_path)"
      ],
      "execution_count": 0,
      "outputs": []
    },
    {
      "cell_type": "code",
      "metadata": {
        "colab_type": "code",
        "id": "vGEELO3uujS5",
        "outputId": "d20ee6c4-ee25-4494-9a2e-53fc1388a53e",
        "colab": {
          "base_uri": "https://localhost:8080/",
          "height": 34
        }
      },
      "source": [
        "# Print its shape\n",
        "print(\"Image shape: \",img.shape)"
      ],
      "execution_count": 0,
      "outputs": [
        {
          "output_type": "stream",
          "text": [
            "Image shape:  (1299, 1482)\n"
          ],
          "name": "stdout"
        }
      ]
    },
    {
      "cell_type": "code",
      "metadata": {
        "colab_type": "code",
        "id": "KAh7NFewVrKe",
        "colab": {}
      },
      "source": [
        "# Resize original image to compatible size\n",
        "orig_img = np.swapaxes(img,0,-1)\n",
        "orig_resized = resize(orig_img, (256,256))"
      ],
      "execution_count": 0,
      "outputs": []
    },
    {
      "cell_type": "code",
      "metadata": {
        "colab_type": "code",
        "id": "lzov3rpeckrN",
        "outputId": "8f1d92a7-3feb-44d3-a9a6-31ecf4f03549",
        "colab": {
          "base_uri": "https://localhost:8080/",
          "height": 268
        }
      },
      "source": [
        "# Show the original image\n",
        "plt.imshow(orig_resized, interpolation='nearest')\n",
        "plt.show()"
      ],
      "execution_count": 0,
      "outputs": [
        {
          "output_type": "display_data",
          "data": {
            "image/png": "[encoded data removed]",
            "text/plain": [
              "<Figure size 432x288 with 1 Axes>"
            ]
          },
          "metadata": {
            "tags": []
          }
        }
      ]
    },
    {
      "cell_type": "code",
      "metadata": {
        "colab_type": "code",
        "id": "1NURzseNL_yH",
        "outputId": "1ab132a0-ca7a-4df1-e9ef-091b9e23f54b",
        "colab": {
          "base_uri": "https://localhost:8080/",
          "height": 197
        }
      },
      "source": [
        "# Check the data frame\n",
        "y_dat = pd.read_csv(\"/gdrive/My Drive/ThesisData/Data/enhanced_gdp_data.csv\")\n",
        "y_dat.head()"
      ],
      "execution_count": 8,
      "outputs": [
        {
          "output_type": "execute_result",
          "data": {
            "text/html": [
              "<div>\n",
              "<style scoped>\n",
              "    .dataframe tbody tr th:only-of-type {\n",
              "        vertical-align: middle;\n",
              "    }\n",
              "\n",
              "    .dataframe tbody tr th {\n",
              "        vertical-align: top;\n",
              "    }\n",
              "\n",
              "    .dataframe thead th {\n",
              "        text-align: right;\n",
              "    }\n",
              "</style>\n",
              "<table border=\"1\" class=\"dataframe\">\n",
              "  <thead>\n",
              "    <tr style=\"text-align: right;\">\n",
              "      <th></th>\n",
              "      <th>nuts2</th>\n",
              "      <th>year</th>\n",
              "      <th>nuts_value</th>\n",
              "      <th>code</th>\n",
              "      <th>country</th>\n",
              "      <th>country_value</th>\n",
              "      <th>mean_value</th>\n",
              "      <th>diff_value</th>\n",
              "    </tr>\n",
              "  </thead>\n",
              "  <tbody>\n",
              "    <tr>\n",
              "      <th>0</th>\n",
              "      <td>BE10</td>\n",
              "      <td>2008</td>\n",
              "      <td>61100.0</td>\n",
              "      <td>BE</td>\n",
              "      <td>Belgium</td>\n",
              "      <td>33100.0</td>\n",
              "      <td>31881.818182</td>\n",
              "      <td>28000.0</td>\n",
              "    </tr>\n",
              "    <tr>\n",
              "      <th>1</th>\n",
              "      <td>BE21</td>\n",
              "      <td>2008</td>\n",
              "      <td>39200.0</td>\n",
              "      <td>BE</td>\n",
              "      <td>Belgium</td>\n",
              "      <td>33100.0</td>\n",
              "      <td>31881.818182</td>\n",
              "      <td>6100.0</td>\n",
              "    </tr>\n",
              "    <tr>\n",
              "      <th>2</th>\n",
              "      <td>BE22</td>\n",
              "      <td>2008</td>\n",
              "      <td>27500.0</td>\n",
              "      <td>BE</td>\n",
              "      <td>Belgium</td>\n",
              "      <td>33100.0</td>\n",
              "      <td>31881.818182</td>\n",
              "      <td>-5600.0</td>\n",
              "    </tr>\n",
              "    <tr>\n",
              "      <th>3</th>\n",
              "      <td>BE23</td>\n",
              "      <td>2008</td>\n",
              "      <td>29400.0</td>\n",
              "      <td>BE</td>\n",
              "      <td>Belgium</td>\n",
              "      <td>33100.0</td>\n",
              "      <td>31881.818182</td>\n",
              "      <td>-3700.0</td>\n",
              "    </tr>\n",
              "    <tr>\n",
              "      <th>4</th>\n",
              "      <td>BE24</td>\n",
              "      <td>2008</td>\n",
              "      <td>34500.0</td>\n",
              "      <td>BE</td>\n",
              "      <td>Belgium</td>\n",
              "      <td>33100.0</td>\n",
              "      <td>31881.818182</td>\n",
              "      <td>1400.0</td>\n",
              "    </tr>\n",
              "  </tbody>\n",
              "</table>\n",
              "</div>"
            ],
            "text/plain": [
              "  nuts2  year  nuts_value  ... country_value    mean_value  diff_value\n",
              "0  BE10  2008     61100.0  ...       33100.0  31881.818182     28000.0\n",
              "1  BE21  2008     39200.0  ...       33100.0  31881.818182      6100.0\n",
              "2  BE22  2008     27500.0  ...       33100.0  31881.818182     -5600.0\n",
              "3  BE23  2008     29400.0  ...       33100.0  31881.818182     -3700.0\n",
              "4  BE24  2008     34500.0  ...       33100.0  31881.818182      1400.0\n",
              "\n",
              "[5 rows x 8 columns]"
            ]
          },
          "metadata": {
            "tags": []
          },
          "execution_count": 8
        }
      ]
    },
    {
      "cell_type": "code",
      "metadata": {
        "id": "HYE5RQr87GXH",
        "colab_type": "code",
        "outputId": "c9682dc2-7201-48f8-e100-8a9a49ac0b2d",
        "colab": {
          "base_uri": "https://localhost:8080/",
          "height": 34
        }
      },
      "source": [
        "mae_diff = np.mean(abs(y_dat['diff_value']-y_dat['diff_value'].mean()))\n",
        "print(mae_diff)"
      ],
      "execution_count": 9,
      "outputs": [
        {
          "output_type": "stream",
          "text": [
            "5478.004371660496\n"
          ],
          "name": "stdout"
        }
      ]
    },
    {
      "cell_type": "code",
      "metadata": {
        "colab_type": "code",
        "id": "Ogm4ndTFkrib",
        "colab": {}
      },
      "source": [
        "# List of all files in directory\n",
        "mypath = \"/gdrive/My Drive/nuts_night/\"\n",
        "onlyfiles = [f for f in listdir(mypath) if isfile(join(mypath, f))]"
      ],
      "execution_count": 0,
      "outputs": []
    },
    {
      "cell_type": "code",
      "metadata": {
        "colab_type": "code",
        "id": "LHq0y4SCsQFp",
        "outputId": "e9a0ea66-ee35-4256-8fa2-e3e6d35f4f54",
        "colab": {
          "base_uri": "https://localhost:8080/",
          "height": 1000
        }
      },
      "source": [
        "# PreProcess images with certain resolution\n",
        "res = 512\n",
        "x,y,label = sat_images.create_data(onlyfiles,mypath,y_dat,prediction='diff_value',resolution=res,night=True)"
      ],
      "execution_count": 0,
      "outputs": [
        {
          "output_type": "stream",
          "text": [
            "Image processed:  0  of  692\n",
            "Image processed:  10  of  692\n",
            "Image processed:  30  of  692\n",
            "Image processed:  40  of  692\n",
            "Image processed:  50  of  692\n",
            "Image processed:  60  of  692\n",
            "Image processed:  70  of  692\n",
            "Image processed:  80  of  692\n",
            "Image processed:  90  of  692\n",
            "Image processed:  100  of  692\n",
            "Image processed:  110  of  692\n",
            "Image processed:  120  of  692\n",
            "Image processed:  130  of  692\n",
            "Image processed:  140  of  692\n",
            "Image processed:  150  of  692\n",
            "Image processed:  160  of  692\n",
            "Image processed:  170  of  692\n",
            "Image processed:  180  of  692\n",
            "Image processed:  190  of  692\n",
            "Image processed:  200  of  692\n",
            "Image processed:  210  of  692\n",
            "Image processed:  220  of  692\n",
            "Image processed:  230  of  692\n",
            "Image processed:  240  of  692\n",
            "Image processed:  250  of  692\n",
            "Image processed:  260  of  692\n",
            "Image processed:  270  of  692\n",
            "Image processed:  280  of  692\n",
            "Image processed:  290  of  692\n",
            "Image processed:  300  of  692\n",
            "Image processed:  310  of  692\n",
            "Image processed:  320  of  692\n",
            "Image processed:  330  of  692\n",
            "Image processed:  340  of  692\n",
            "Image processed:  350  of  692\n",
            "Image processed:  360  of  692\n",
            "Image processed:  370  of  692\n",
            "Image processed:  380  of  692\n",
            "Image processed:  390  of  692\n",
            "Image processed:  400  of  692\n",
            "Image processed:  410  of  692\n",
            "Image processed:  420  of  692\n",
            "Image processed:  430  of  692\n",
            "Image processed:  440  of  692\n",
            "Image processed:  450  of  692\n",
            "Image processed:  460  of  692\n",
            "Image processed:  470  of  692\n",
            "Image processed:  480  of  692\n",
            "Image processed:  490  of  692\n",
            "Image processed:  500  of  692\n",
            "Image processed:  510  of  692\n",
            "Image processed:  520  of  692\n",
            "Image processed:  530  of  692\n",
            "Image processed:  540  of  692\n",
            "Image processed:  550  of  692\n",
            "Image processed:  560  of  692\n",
            "Image processed:  570  of  692\n",
            "Image processed:  580  of  692\n",
            "Image processed:  590  of  692\n",
            "Image processed:  600  of  692\n",
            "Image processed:  610  of  692\n",
            "Image processed:  620  of  692\n",
            "Image processed:  630  of  692\n",
            "Image processed:  640  of  692\n",
            "Image processed:  650  of  692\n",
            "Image processed:  660  of  692\n",
            "Image processed:  670  of  692\n",
            "Image processed:  680  of  692\n",
            "Image processed:  690  of  692\n"
          ],
          "name": "stdout"
        }
      ]
    },
    {
      "cell_type": "code",
      "metadata": {
        "id": "efIlhYNkwutL",
        "colab_type": "code",
        "colab": {}
      },
      "source": [
        "# Save ndarray to reproduce\n",
        "scipy.io.savemat(\"/gdrive/My Drive/ThesisData/Data/data_night_orig_512.mat\", mdict={'x': x}, oned_as='row')"
      ],
      "execution_count": 0,
      "outputs": []
    },
    {
      "cell_type": "code",
      "metadata": {
        "colab_type": "code",
        "id": "OgjMrcIH5H5o",
        "colab": {}
      },
      "source": [
        "# Load input from scratch\n",
        "#x = np.vstack((scipy.io.loadmat(\"/gdrive/My Drive/ThesisData/Data/data_day_orig_512_1.mat\")['x'],scipy.io.loadmat(\"/gdrive/My Drive/ThesisData/Data/data_day_orig_512_2.mat\")['x']))\n",
        "x = scipy.io.loadmat(\"/gdrive/My Drive/ThesisData/Data/data_night_orig_512.mat\")['x']\n",
        "y, label = sat_images.create_y_label(onlyfiles,mypath,y_dat,prediction='nuts_value')"
      ],
      "execution_count": 0,
      "outputs": []
    },
    {
      "cell_type": "code",
      "metadata": {
        "colab_type": "code",
        "id": "4si-J7h9JBa7",
        "outputId": "c9326981-fa47-4674-cc94-476f7daf1db2",
        "colab": {
          "base_uri": "https://localhost:8080/",
          "height": 70
        }
      },
      "source": [
        "# Print shape of images\n",
        "print('Shape of x: ',len(x))\n",
        "print('Shape of y: ',len(y))\n",
        "print('Shape of labels: ', len(label))"
      ],
      "execution_count": 92,
      "outputs": [
        {
          "output_type": "stream",
          "text": [
            "Shape of x:  692\n",
            "Shape of y:  692\n",
            "Shape of labels:  692\n"
          ],
          "name": "stdout"
        }
      ]
    },
    {
      "cell_type": "code",
      "metadata": {
        "id": "9ae7iGkBO_EN",
        "colab_type": "code",
        "colab": {
          "base_uri": "https://localhost:8080/",
          "height": 34
        },
        "outputId": "c091b9b0-3830-4733-daf7-1c2bca2dc32b"
      },
      "source": [
        "# Convert grayscale 1-channel to 3-channel\n",
        "x = np.stack((x,)*3, axis=-1)\n",
        "print(x.shape)"
      ],
      "execution_count": 151,
      "outputs": [
        {
          "output_type": "stream",
          "text": [
            "(692, 512, 512, 3)\n"
          ],
          "name": "stdout"
        }
      ]
    },
    {
      "cell_type": "markdown",
      "metadata": {
        "colab_type": "text",
        "id": "ypHbpM5ZAKmb"
      },
      "source": [
        "## Create Train and Test Sets"
      ]
    },
    {
      "cell_type": "code",
      "metadata": {
        "colab_type": "code",
        "id": "sTyG9Ew6mgrH",
        "outputId": "735ae1e1-fdde-4d61-9f47-b9a0a40b41e0",
        "colab": {
          "base_uri": "https://localhost:8080/",
          "height": 34
        }
      },
      "source": [
        "# Create list of unique regions\n",
        "regions = []\n",
        "for i in range(len(label)):\n",
        "  regions.append(label[i].rsplit('_',1)[0])\n",
        "\n",
        "regions = np.unique(regions)\n",
        "print(len(regions))"
      ],
      "execution_count": 152,
      "outputs": [
        {
          "output_type": "stream",
          "text": [
            "117\n"
          ],
          "name": "stdout"
        }
      ]
    },
    {
      "cell_type": "code",
      "metadata": {
        "colab_type": "code",
        "id": "pBDk2TjtqEmw",
        "outputId": "ac64c7c6-8444-4831-e8dc-1b7c85ee0f32",
        "colab": {
          "base_uri": "https://localhost:8080/",
          "height": 70
        }
      },
      "source": [
        "# Split regions into train and test set\n",
        "msk_test = np.random.rand(len(regions)) < 0.2\n",
        "\n",
        "train_split = regions[~msk_test]\n",
        "test_split = regions[msk_test]\n",
        "\n",
        "msk_val = np.random.rand(len(train_split)) < 0.25\n",
        "\n",
        "val_split = train_split[msk_val]\n",
        "train_split = train_split[~msk_val]\n",
        "print(len(train_split))\n",
        "print(len(val_split))\n",
        "print(len(test_split))"
      ],
      "execution_count": 153,
      "outputs": [
        {
          "output_type": "stream",
          "text": [
            "73\n",
            "27\n",
            "17\n"
          ],
          "name": "stdout"
        }
      ]
    },
    {
      "cell_type": "code",
      "metadata": {
        "colab_type": "code",
        "id": "a8-L2N-XrKN3",
        "outputId": "36a2167c-3303-49f1-909d-766fdb6d405b",
        "colab": {
          "base_uri": "https://localhost:8080/",
          "height": 87
        }
      },
      "source": [
        "# Split whole data set into test and train based on split regions\n",
        "import math\n",
        "label_train = []\n",
        "label_val = []\n",
        "label_test = []\n",
        "x_train = []\n",
        "y_train = []\n",
        "x_val = []\n",
        "y_val = []\n",
        "x_test = []\n",
        "y_test = []\n",
        "\n",
        "# Split into train and test based on previous region split\n",
        "for i in range(len(label)):\n",
        "  if label[i].rsplit('_',1)[0] in train_split:\n",
        "    if math.isnan(y[i]):\n",
        "      pass\n",
        "    else:\n",
        "      label_train.append(label[i])\n",
        "      x_train.append(x[i])\n",
        "      y_train.append(int(y[i]))\n",
        "  elif label[i].rsplit('_',1)[0] in val_split:\n",
        "    if math.isnan(y[i]):\n",
        "      pass\n",
        "    else:\n",
        "      label_val.append(label[i])\n",
        "      x_val.append(x[i])\n",
        "      y_val.append(int(y[i]))\n",
        "  else:\n",
        "    if math.isnan(y[i]):\n",
        "      pass\n",
        "    else:\n",
        "      label_test.append(label[i])\n",
        "      x_test.append(x[i])\n",
        "      y_test.append(int(y[i]))\n",
        "\n",
        "# Transform into numpy array\n",
        "label_train = np.array(label_train)\n",
        "label_test = np.array(label_test)\n",
        "label_val = np.array(label_val)\n",
        "x_train = np.array(x_train)\n",
        "x_test = np.array(x_test)\n",
        "x_val = np.array(x_val)\n",
        "y_train = np.array(y_train)\n",
        "y_test = np.array(y_test)  \n",
        "y_val = np.array(y_val)\n",
        "\n",
        "# Print Shape\n",
        "print(x_train.shape)\n",
        "print(x_test.shape)\n",
        "print(y_test.shape)\n",
        "print(x_val.shape)"
      ],
      "execution_count": 154,
      "outputs": [
        {
          "output_type": "stream",
          "text": [
            "(430, 512, 512, 3)\n",
            "(100, 512, 512, 3)\n",
            "(100,)\n",
            "(162, 512, 512, 3)\n"
          ],
          "name": "stdout"
        }
      ]
    },
    {
      "cell_type": "code",
      "metadata": {
        "colab_type": "code",
        "id": "aKRDGusTeNXU",
        "outputId": "14161277-f683-4494-b452-836b4fedde23",
        "colab": {
          "base_uri": "https://localhost:8080/",
          "height": 70
        }
      },
      "source": [
        "# Only execute when using night images, since they are 1d\n",
        "x_train = np.array([x_train])\n",
        "x_train = np.moveaxis(x_train,0,-1)\n",
        "print(x_train.shape)\n",
        "x_val = np.array([x_val])\n",
        "x_val = np.moveaxis(x_val,0,-1)\n",
        "print(x_val.shape)\n",
        "x_test = np.array([x_test])\n",
        "x_test = np.moveaxis(x_test,0,-1)\n",
        "print(x_test.shape)"
      ],
      "execution_count": 96,
      "outputs": [
        {
          "output_type": "stream",
          "text": [
            "(404, 512, 512, 1)\n",
            "(138, 512, 512, 1)\n",
            "(150, 512, 512, 1)\n"
          ],
          "name": "stdout"
        }
      ]
    },
    {
      "cell_type": "code",
      "metadata": {
        "id": "kpGLI20HvjIj",
        "colab_type": "code",
        "colab": {
          "base_uri": "https://localhost:8080/",
          "height": 34
        },
        "outputId": "503c2fe0-c35c-411a-8e49-9a659dc0b014"
      },
      "source": [
        "# Normalise the data\n",
        "x_train = (x_train/np.max(x_train))\n",
        "x_test = (x_test/np.max(x_test))\n",
        "x_val = (x_val/np.max(x_val))\n",
        "print(np.max(x_train))"
      ],
      "execution_count": 155,
      "outputs": [
        {
          "output_type": "stream",
          "text": [
            "1.0\n"
          ],
          "name": "stdout"
        }
      ]
    },
    {
      "cell_type": "code",
      "metadata": {
        "colab_type": "code",
        "id": "blVC16VGw4af",
        "colab": {}
      },
      "source": [
        "# Deep Model\n",
        "model = tf.keras.Sequential()\n",
        "\n",
        "model.add(tf.keras.layers.Conv2D(32, 3, padding='same', input_shape=(512,512,1), activation='relu'))\n",
        "model.add(tf.keras.layers.Conv2D(32, 3, padding='same', activation='relu'))\n",
        "model.add(tf.keras.layers.BatchNormalization())\n",
        "model.add(tf.keras.layers.MaxPooling2D(pool_size = (2,2)))\n",
        "\n",
        "model.add(tf.keras.layers.Conv2D(64, 3, padding='same', activation='relu'))\n",
        "model.add(tf.keras.layers.Conv2D(64, 3, padding='same', activation='relu'))\n",
        "model.add(tf.keras.layers.BatchNormalization())\n",
        "model.add(tf.keras.layers.MaxPooling2D(pool_size = (2,2)))\n",
        "\n",
        "model.add(tf.keras.layers.Conv2D(128, 3, padding='same', activation='relu'))\n",
        "model.add(tf.keras.layers.Conv2D(128, 3, padding='same', activation='relu'))\n",
        "model.add(tf.keras.layers.Dropout(0.4))\n",
        "model.add(tf.keras.layers.BatchNormalization())\n",
        "model.add(tf.keras.layers.MaxPooling2D(pool_size = (2,2)))\n",
        "\n",
        "model.add(tf.keras.layers.Conv2D(256, 3, padding='same', activation='relu'))\n",
        "model.add(tf.keras.layers.Conv2D(256, 3, padding='same', activation='relu'))\n",
        "model.add(tf.keras.layers.Dropout(0.4))\n",
        "model.add(tf.keras.layers.BatchNormalization())\n",
        "model.add(tf.keras.layers.MaxPooling2D(pool_size = (2,2)))\n",
        "\n",
        "model.add(tf.keras.layers.Conv2D(512, 3, padding='same', activation='relu'))\n",
        "model.add(tf.keras.layers.Conv2D(512, 3, padding='same', activation='relu'))\n",
        "model.add(tf.keras.layers.Dropout(0.4))\n",
        "model.add(tf.keras.layers.BatchNormalization())\n",
        "model.add(tf.keras.layers.MaxPooling2D(pool_size = (2,2)))\n",
        "\n",
        "model.add(tf.keras.layers.Flatten())\n",
        "model.add(tf.keras.layers.Dense(512, activation='relu', activity_regularizer=tf.keras.regularizers.l1(0.001)))\n",
        "model.add(tf.keras.layers.Dropout(0.5))\n",
        "\n",
        "model.add(tf.keras.layers.Dense(512, activation='relu',activity_regularizer=tf.keras.regularizers.l1(0.001)))\n",
        "model.add(tf.keras.layers.Dropout(0.5))\n",
        "model.add(tf.keras.layers.Dense(units=1,activation='relu'))"
      ],
      "execution_count": 0,
      "outputs": []
    },
    {
      "cell_type": "code",
      "metadata": {
        "id": "9L86HWD1sWhR",
        "colab_type": "code",
        "colab": {}
      },
      "source": [
        "# Deep Model\n",
        "model = tf.keras.Sequential()\n",
        "\n",
        "model.add(tf.keras.layers.Conv2D(16, 3, padding='same', input_shape=(512,512,1), activation='relu'))\n",
        "model.add(tf.keras.layers.Conv2D(16, 3, padding='same', activation='relu'))\n",
        "model.add(tf.keras.layers.BatchNormalization())\n",
        "model.add(tf.keras.layers.MaxPooling2D(pool_size = (2,2)))\n",
        "\n",
        "model.add(tf.keras.layers.Conv2D(32, 3, padding='same', activation='relu'))\n",
        "model.add(tf.keras.layers.Conv2D(32, 3, padding='same', activation='relu'))\n",
        "model.add(tf.keras.layers.BatchNormalization())\n",
        "model.add(tf.keras.layers.MaxPooling2D(pool_size = (2,2)))\n",
        "\n",
        "model.add(tf.keras.layers.Flatten())\n",
        "model.add(tf.keras.layers.Dense(128, activation='relu', kernel_initializer='normal', activity_regularizer=tf.keras.regularizers.l1(0.001)))\n",
        "model.add(tf.keras.layers.Dropout(0.5))\n",
        "model.add(tf.keras.layers.Dense(units=1, kernel_initializer='normal',activation='relu'))"
      ],
      "execution_count": 0,
      "outputs": []
    },
    {
      "cell_type": "code",
      "metadata": {
        "colab_type": "code",
        "id": "GXlz_HWWCQuT",
        "colab": {}
      },
      "source": [
        "# Transfer Learning\n",
        "base_model = tf.keras.applications.ResNet50V2(input_shape=(512,512,3),include_top=False)\n",
        "x=base_model.output\n",
        "x=tf.keras.layers.GlobalAveragePooling2D()(x)\n",
        "x=tf.keras.layers.Dense(1024,activation='relu')(x) #we add dense layers so that the model can learn more complex functions and classify for better results.\n",
        "x=tf.keras.layers.Dense(1024,activation='relu')(x) #dense layer 2\n",
        "x=tf.keras.layers.Dense(512,activation='relu')(x) #dense layer 3\n",
        "preds=tf.keras.layers.Dense(units=1, activation = 'relu')(x)\n",
        "model=tf.keras.models.Model(inputs=base_model.input,outputs=preds)"
      ],
      "execution_count": 0,
      "outputs": []
    },
    {
      "cell_type": "code",
      "metadata": {
        "colab_type": "code",
        "id": "3hhLQUBa0NiP",
        "colab": {}
      },
      "source": [
        "optim = tf.keras.optimizers.Adagrad(learning_rate=0.001)\n",
        "model.compile(loss='mean_squared_error', optimizer=optim, metrics=['mse','mae'], )"
      ],
      "execution_count": 0,
      "outputs": []
    },
    {
      "cell_type": "code",
      "metadata": {
        "colab_type": "code",
        "id": "4ihqmhUq0nES",
        "colab": {}
      },
      "source": [
        "# Data Augmentation\n",
        "training_data_generator = tf.keras.preprocessing.image.ImageDataGenerator(horizontal_flip=True)\n",
        "validation_data_generator = tf.keras.preprocessing.image.ImageDataGenerator()\n",
        "test_data_generator = tf.keras.preprocessing.image.ImageDataGenerator()"
      ],
      "execution_count": 0,
      "outputs": []
    },
    {
      "cell_type": "code",
      "metadata": {
        "colab_type": "code",
        "id": "yH4IdyFm0u0B",
        "colab": {}
      },
      "source": [
        "# Data Preparation\n",
        "batch_size = 8\n",
        "\n",
        "# Define the data flow\n",
        "training_generator = training_data_generator.flow(x_train,y_train,batch_size=batch_size)\n",
        "validation_generator = validation_data_generator.flow(x_val, y_val,batch_size=batch_size)\n",
        "test_generator = test_data_generator.flow(x_test,y_test,batch_size=1,shuffle=False)"
      ],
      "execution_count": 0,
      "outputs": []
    },
    {
      "cell_type": "code",
      "metadata": {
        "colab_type": "code",
        "id": "X_QVrMSF1i3f",
        "outputId": "93439de8-edce-4914-d1f0-ee423d0c31fb",
        "colab": {
          "base_uri": "https://localhost:8080/",
          "height": 1000
        }
      },
      "source": [
        "# Calculate the number of steps\n",
        "training_steps = training_generator.n/batch_size\n",
        "validation_steps = validation_generator.n/batch_size\n",
        "\n",
        "# Run the model\n",
        "model.fit_generator(training_generator,\n",
        "                    steps_per_epoch=training_steps,\n",
        "                    epochs = 100,\n",
        "                    validation_data = validation_generator,\n",
        "                    validation_steps = validation_steps,\n",
        "                    verbose = 1\n",
        "                   )"
      ],
      "execution_count": 160,
      "outputs": [
        {
          "output_type": "stream",
          "text": [
            "Epoch 1/100\n",
            "53/53 [============================>.] - ETA: 0s - loss: 494698414.7170 - mean_squared_error: 495516960.0000 - mean_absolute_error: 18317.2363Epoch 1/100\n",
            "54/53 [==============================] - 35s 639ms/step - loss: 487112844.2023 - mean_squared_error: 487866848.0000 - mean_absolute_error: 18123.6738 - val_loss: 816953479319.7037 - val_mean_squared_error: 776186757120.0000 - val_mean_absolute_error: 709600.0000\n",
            "Epoch 2/100\n",
            "53/53 [============================>.] - ETA: 0s - loss: 155672438.1887 - mean_squared_error: 155422304.0000 - mean_absolute_error: 8939.0537Epoch 1/100\n",
            "54/53 [==============================] - 15s 273ms/step - loss: 153121203.1142 - mean_squared_error: 152868560.0000 - mean_absolute_error: 8828.1592 - val_loss: 248327934.5185 - val_mean_squared_error: 246696208.0000 - val_mean_absolute_error: 9889.4834\n",
            "Epoch 3/100\n",
            "53/53 [============================>.] - ETA: 0s - loss: 78621846.9623 - mean_squared_error: 78670840.0000 - mean_absolute_error: 6717.1968Epoch 1/100\n",
            "54/53 [==============================] - 15s 274ms/step - loss: 77718789.7022 - mean_squared_error: 77761872.0000 - mean_absolute_error: 6680.7764 - val_loss: 242890978.5679 - val_mean_squared_error: 241416640.0000 - val_mean_absolute_error: 9774.4268\n",
            "Epoch 4/100\n",
            "53/53 [============================>.] - ETA: 0s - loss: 50656454.5377 - mean_squared_error: 50811568.0000 - mean_absolute_error: 5396.1133Epoch 1/100\n",
            "54/53 [==============================] - 15s 274ms/step - loss: 51436221.3706 - mean_squared_error: 51589228.0000 - mean_absolute_error: 5466.0708 - val_loss: 218645530.3704 - val_mean_squared_error: 217701264.0000 - val_mean_absolute_error: 9262.3643\n",
            "Epoch 5/100\n",
            "53/53 [============================>.] - ETA: 0s - loss: 38047618.8019 - mean_squared_error: 38184032.0000 - mean_absolute_error: 4805.3682Epoch 1/100\n",
            "54/53 [==============================] - 15s 274ms/step - loss: 37817172.2709 - mean_squared_error: 37947548.0000 - mean_absolute_error: 4797.2905 - val_loss: 207627428.1975 - val_mean_squared_error: 203368704.0000 - val_mean_absolute_error: 9127.7305\n",
            "Epoch 6/100\n",
            "53/53 [============================>.] - ETA: 0s - loss: 41090975.0283 - mean_squared_error: 41224536.0000 - mean_absolute_error: 4987.1733Epoch 1/100\n",
            "54/53 [==============================] - 15s 274ms/step - loss: 40617616.4671 - mean_squared_error: 40744136.0000 - mean_absolute_error: 4954.2324 - val_loss: 187272876.3457 - val_mean_squared_error: 183865440.0000 - val_mean_absolute_error: 8671.0391\n",
            "Epoch 7/100\n",
            "53/53 [============================>.] - ETA: 0s - loss: 21157010.6415 - mean_squared_error: 21084686.0000 - mean_absolute_error: 3561.2527Epoch 1/100\n",
            "54/53 [==============================] - 15s 274ms/step - loss: 20954433.2955 - mean_squared_error: 20883826.0000 - mean_absolute_error: 3546.5925 - val_loss: 243489025.6790 - val_mean_squared_error: 185444192.0000 - val_mean_absolute_error: 8666.0303\n",
            "Epoch 8/100\n",
            "53/53 [============================>.] - ETA: 0s - loss: 27516034.1698 - mean_squared_error: 27600146.0000 - mean_absolute_error: 4172.4351Epoch 1/100\n",
            "54/53 [==============================] - 15s 274ms/step - loss: 27528386.8183 - mean_squared_error: 27609484.0000 - mean_absolute_error: 4174.6377 - val_loss: 213546068.5432 - val_mean_squared_error: 208362352.0000 - val_mean_absolute_error: 8553.4043\n",
            "Epoch 9/100\n",
            "53/53 [============================>.] - ETA: 0s - loss: 21225145.8821 - mean_squared_error: 21115094.0000 - mean_absolute_error: 3430.9214Epoch 1/100\n",
            "54/53 [==============================] - 15s 273ms/step - loss: 22456537.4584 - mean_squared_error: 22356128.0000 - mean_absolute_error: 3531.8115 - val_loss: 229575427.5556 - val_mean_squared_error: 223541120.0000 - val_mean_absolute_error: 8895.0488\n",
            "Epoch 10/100\n",
            "53/53 [============================>.] - ETA: 0s - loss: 23302992.3160 - mean_squared_error: 23386398.0000 - mean_absolute_error: 3692.1455Epoch 1/100\n",
            "54/53 [==============================] - 15s 273ms/step - loss: 22991797.5563 - mean_squared_error: 23070736.0000 - mean_absolute_error: 3667.0688 - val_loss: 229627719.7037 - val_mean_squared_error: 226632736.0000 - val_mean_absolute_error: 8919.2627\n",
            "Epoch 11/100\n",
            "53/53 [============================>.] - ETA: 0s - loss: 17725080.7689 - mean_squared_error: 17693074.0000 - mean_absolute_error: 3321.2615Epoch 1/100\n",
            "54/53 [==============================] - 15s 274ms/step - loss: 17498661.7772 - mean_squared_error: 17466790.0000 - mean_absolute_error: 3294.0564 - val_loss: 235150291.5062 - val_mean_squared_error: 234908432.0000 - val_mean_absolute_error: 9264.1465\n",
            "Epoch 12/100\n",
            "53/53 [============================>.] - ETA: 0s - loss: 23936321.1226 - mean_squared_error: 23834002.0000 - mean_absolute_error: 3761.8005Epoch 1/100\n",
            "54/53 [==============================] - 15s 275ms/step - loss: 23838918.5876 - mean_squared_error: 23739892.0000 - mean_absolute_error: 3751.1042 - val_loss: 226065218.3704 - val_mean_squared_error: 225681280.0000 - val_mean_absolute_error: 9266.3457\n",
            "Epoch 13/100\n",
            "53/53 [============================>.] - ETA: 0s - loss: 20357467.4363 - mean_squared_error: 20324496.0000 - mean_absolute_error: 3412.2488Epoch 1/100\n",
            "54/53 [==============================] - 15s 275ms/step - loss: 20088483.3477 - mean_squared_error: 20055488.0000 - mean_absolute_error: 3390.0215 - val_loss: 212717118.8302 - val_mean_squared_error: 212684016.0000 - val_mean_absolute_error: 9023.6729\n",
            "Epoch 14/100\n",
            "53/53 [============================>.] - ETA: 0s - loss: 14222588.5377 - mean_squared_error: 14139749.0000 - mean_absolute_error: 2817.1726Epoch 1/100\n",
            "54/53 [==============================] - 15s 274ms/step - loss: 14465491.5389 - mean_squared_error: 14386787.0000 - mean_absolute_error: 2858.5667 - val_loss: 213850735.5062 - val_mean_squared_error: 205306496.0000 - val_mean_absolute_error: 9267.5020\n",
            "Epoch 15/100\n",
            "53/53 [============================>.] - ETA: 0s - loss: 14847044.1073 - mean_squared_error: 14901062.0000 - mean_absolute_error: 2928.1670Epoch 1/100\n",
            "54/53 [==============================] - 15s 274ms/step - loss: 14850063.7179 - mean_squared_error: 14902122.0000 - mean_absolute_error: 2924.5894 - val_loss: 287696500.1481 - val_mean_squared_error: 222513504.0000 - val_mean_absolute_error: 8967.4766\n",
            "Epoch 16/100\n",
            "53/53 [============================>.] - ETA: 0s - loss: 11746176.5430 - mean_squared_error: 11698251.0000 - mean_absolute_error: 2631.1082Epoch 1/100\n",
            "54/53 [==============================] - 15s 273ms/step - loss: 11584329.8036 - mean_squared_error: 11537416.0000 - mean_absolute_error: 2604.7046 - val_loss: 263366001.3827 - val_mean_squared_error: 206716928.0000 - val_mean_absolute_error: 9058.1357\n",
            "Epoch 17/100\n",
            "53/53 [============================>.] - ETA: 0s - loss: 14578239.5802 - mean_squared_error: 14632262.0000 - mean_absolute_error: 2679.0671Epoch 1/100\n",
            "54/53 [==============================] - 15s 274ms/step - loss: 14522301.0706 - mean_squared_error: 14574095.0000 - mean_absolute_error: 2689.1345 - val_loss: 207304826.7654 - val_mean_squared_error: 204672432.0000 - val_mean_absolute_error: 8984.3672\n",
            "Epoch 18/100\n",
            "53/53 [============================>.] - ETA: 0s - loss: 8323567.8986 - mean_squared_error: 8178942.0000 - mean_absolute_error: 2212.7283Epoch 1/100\n",
            "54/53 [==============================] - 15s 274ms/step - loss: 8587213.8756 - mean_squared_error: 8449075.0000 - mean_absolute_error: 2248.9026 - val_loss: 212195060.8395 - val_mean_squared_error: 208965200.0000 - val_mean_absolute_error: 9349.5996\n",
            "Epoch 19/100\n",
            "53/53 [============================>.] - ETA: 0s - loss: 6706091.6686 - mean_squared_error: 6727601.5000 - mean_absolute_error: 1994.1680Epoch 1/100\n",
            "54/53 [==============================] - 15s 273ms/step - loss: 6719945.4006 - mean_squared_error: 6740733.0000 - mean_absolute_error: 2001.2396 - val_loss: 214464607.6049 - val_mean_squared_error: 212039776.0000 - val_mean_absolute_error: 9792.6133\n",
            "Epoch 20/100\n",
            "53/53 [============================>.] - ETA: 0s - loss: 6177333.8432 - mean_squared_error: 6166717.5000 - mean_absolute_error: 1927.1263Epoch 1/100\n",
            "54/53 [==============================] - 15s 273ms/step - loss: 6090822.9606 - mean_squared_error: 6080199.5000 - mean_absolute_error: 1907.7341 - val_loss: 219633472.7901 - val_mean_squared_error: 216748592.0000 - val_mean_absolute_error: 9550.8271\n",
            "Epoch 21/100\n",
            "53/53 [============================>.] - ETA: 0s - loss: 7632998.3267 - mean_squared_error: 7644106.5000 - mean_absolute_error: 2053.1431Epoch 1/100\n",
            "54/53 [==============================] - 15s 273ms/step - loss: 7529008.6124 - mean_squared_error: 7539236.5000 - mean_absolute_error: 2037.7563 - val_loss: 208337112.0988 - val_mean_squared_error: 204786064.0000 - val_mean_absolute_error: 9287.8076\n",
            "Epoch 22/100\n",
            "53/53 [============================>.] - ETA: 0s - loss: 5543914.4033 - mean_squared_error: 5505812.5000 - mean_absolute_error: 1773.0638Epoch 1/100\n",
            "54/53 [==============================] - 15s 274ms/step - loss: 5488676.0401 - mean_squared_error: 5451714.0000 - mean_absolute_error: 1763.1765 - val_loss: 218447217.6790 - val_mean_squared_error: 213868288.0000 - val_mean_absolute_error: 9705.9023\n",
            "Epoch 23/100\n",
            "53/53 [============================>.] - ETA: 0s - loss: 4378197.8892 - mean_squared_error: 4386083.5000 - mean_absolute_error: 1639.1353Epoch 1/100\n",
            "54/53 [==============================] - 15s 273ms/step - loss: 4417078.6124 - mean_squared_error: 4424853.5000 - mean_absolute_error: 1641.0931 - val_loss: 206381874.3704 - val_mean_squared_error: 204253104.0000 - val_mean_absolute_error: 9521.6504\n",
            "Epoch 24/100\n",
            "53/53 [============================>.] - ETA: 0s - loss: 6290056.7241 - mean_squared_error: 6240315.5000 - mean_absolute_error: 1856.0986Epoch 1/100\n",
            "54/53 [==============================] - 15s 274ms/step - loss: 6210231.3064 - mean_squared_error: 6161942.5000 - mean_absolute_error: 1839.8081 - val_loss: 210344935.9012 - val_mean_squared_error: 202718688.0000 - val_mean_absolute_error: 9225.2383\n",
            "Epoch 25/100\n",
            "53/53 [============================>.] - ETA: 0s - loss: 5213490.4104 - mean_squared_error: 5218528.0000 - mean_absolute_error: 1749.3751Epoch 1/100\n",
            "54/53 [==============================] - 15s 274ms/step - loss: 5327540.0093 - mean_squared_error: 5332914.0000 - mean_absolute_error: 1772.0071 - val_loss: 211089507.9506 - val_mean_squared_error: 202772592.0000 - val_mean_absolute_error: 9529.5732\n",
            "Epoch 26/100\n",
            "53/53 [============================>.] - ETA: 0s - loss: 4670217.1604 - mean_squared_error: 4674735.5000 - mean_absolute_error: 1686.7485Epoch 1/100\n",
            "54/53 [==============================] - 15s 273ms/step - loss: 4665047.1930 - mean_squared_error: 4669377.0000 - mean_absolute_error: 1689.5342 - val_loss: 228355951.2099 - val_mean_squared_error: 223745744.0000 - val_mean_absolute_error: 9623.4072\n",
            "Epoch 27/100\n",
            "53/53 [============================>.] - ETA: 0s - loss: 4111087.1138 - mean_squared_error: 4118904.7500 - mean_absolute_error: 1528.8342Epoch 1/100\n",
            "54/53 [==============================] - 15s 274ms/step - loss: 4060676.0109 - mean_squared_error: 4067977.7500 - mean_absolute_error: 1518.6483 - val_loss: 211051087.9012 - val_mean_squared_error: 205598208.0000 - val_mean_absolute_error: 9543.2529\n",
            "Epoch 28/100\n",
            "53/53 [============================>.] - ETA: 0s - loss: 4890572.3856 - mean_squared_error: 4884720.5000 - mean_absolute_error: 1575.1903Epoch 1/100\n",
            "54/53 [==============================] - 15s 274ms/step - loss: 4851396.7542 - mean_squared_error: 4845580.0000 - mean_absolute_error: 1570.4519 - val_loss: 222032533.7284 - val_mean_squared_error: 214366064.0000 - val_mean_absolute_error: 9573.3877\n",
            "Epoch 29/100\n",
            "53/53 [============================>.] - ETA: 0s - loss: 3371505.7264 - mean_squared_error: 3366017.7500 - mean_absolute_error: 1413.6572Epoch 1/100\n",
            "54/53 [==============================] - 15s 273ms/step - loss: 3342383.7385 - mean_squared_error: 3336963.2500 - mean_absolute_error: 1405.9377 - val_loss: 212060557.0370 - val_mean_squared_error: 207834464.0000 - val_mean_absolute_error: 9450.1074\n",
            "Epoch 30/100\n",
            "53/53 [============================>.] - ETA: 0s - loss: 3137164.9968 - mean_squared_error: 3135751.5000 - mean_absolute_error: 1366.6451Epoch 1/100\n",
            "54/53 [==============================] - 15s 273ms/step - loss: 3098403.5631 - mean_squared_error: 3096864.7500 - mean_absolute_error: 1358.2798 - val_loss: 214420738.7654 - val_mean_squared_error: 213756688.0000 - val_mean_absolute_error: 9379.4385\n",
            "Epoch 31/100\n",
            "53/53 [============================>.] - ETA: 0s - loss: 2968139.1474 - mean_squared_error: 2967085.7500 - mean_absolute_error: 1305.2435Epoch 1/100\n",
            "54/53 [==============================] - 15s 273ms/step - loss: 2929694.2801 - mean_squared_error: 2928504.0000 - mean_absolute_error: 1293.7960 - val_loss: 207891758.2222 - val_mean_squared_error: 207224480.0000 - val_mean_absolute_error: 9402.5605\n",
            "Epoch 32/100\n",
            "53/53 [============================>.] - ETA: 0s - loss: 2883317.7276 - mean_squared_error: 2890231.2500 - mean_absolute_error: 1291.1810Epoch 1/100\n",
            "54/53 [==============================] - 15s 274ms/step - loss: 2940919.4503 - mean_squared_error: 2947843.2500 - mean_absolute_error: 1305.9078 - val_loss: 215660117.6296 - val_mean_squared_error: 214623088.0000 - val_mean_absolute_error: 9741.9297\n",
            "Epoch 33/100\n",
            "53/53 [============================>.] - ETA: 0s - loss: 3045579.7488 - mean_squared_error: 3051675.5000 - mean_absolute_error: 1295.0345Epoch 1/100\n",
            "54/53 [==============================] - 15s 273ms/step - loss: 3024167.3144 - mean_squared_error: 3029942.7500 - mean_absolute_error: 1288.5471 - val_loss: 207500391.1111 - val_mean_squared_error: 206881648.0000 - val_mean_absolute_error: 9503.5166\n",
            "Epoch 34/100\n",
            "53/53 [============================>.] - ETA: 0s - loss: 3122476.7842 - mean_squared_error: 3129137.2500 - mean_absolute_error: 1330.1749Epoch 1/100\n",
            "54/53 [==============================] - 15s 275ms/step - loss: 3098239.8439 - mean_squared_error: 3104546.2500 - mean_absolute_error: 1324.6737 - val_loss: 207473479.6049 - val_mean_squared_error: 206923632.0000 - val_mean_absolute_error: 9435.0811\n",
            "Epoch 35/100\n",
            "53/53 [============================>.] - ETA: 0s - loss: 2734472.2913 - mean_squared_error: 2734472.5000 - mean_absolute_error: 1281.4978Epoch 1/100\n",
            "54/53 [==============================] - 15s 274ms/step - loss: 2702703.7163 - mean_squared_error: 2710427.5000 - mean_absolute_error: 1275.9126 - val_loss: 214291481.6790 - val_mean_squared_error: 212917632.0000 - val_mean_absolute_error: 9420.9668\n",
            "Epoch 36/100\n",
            "53/53 [============================>.] - ETA: 0s - loss: 2246474.9399 - mean_squared_error: 2253854.7500 - mean_absolute_error: 1126.5304Epoch 1/100\n",
            "54/53 [==============================] - 15s 273ms/step - loss: 2296091.7468 - mean_squared_error: 2303428.5000 - mean_absolute_error: 1137.9072 - val_loss: 203567903.4074 - val_mean_squared_error: 202199824.0000 - val_mean_absolute_error: 9190.5107\n",
            "Epoch 37/100\n",
            "53/53 [============================>.] - ETA: 0s - loss: 3064606.3986 - mean_squared_error: 3028177.0000 - mean_absolute_error: 1331.0557Epoch 1/100\n",
            "54/53 [==============================] - 15s 273ms/step - loss: 3015807.4774 - mean_squared_error: 2980486.0000 - mean_absolute_error: 1317.4076 - val_loss: 206702644.9383 - val_mean_squared_error: 205417968.0000 - val_mean_absolute_error: 9245.8438\n",
            "Epoch 38/100\n",
            "53/53 [============================>.] - ETA: 0s - loss: 1739705.9316 - mean_squared_error: 1740618.3750 - mean_absolute_error: 1025.8881Epoch 1/100\n",
            "54/53 [==============================] - 15s 274ms/step - loss: 1717741.8357 - mean_squared_error: 1718520.5000 - mean_absolute_error: 1018.2288 - val_loss: 205909934.1235 - val_mean_squared_error: 202891824.0000 - val_mean_absolute_error: 9449.1855\n",
            "Epoch 39/100\n",
            "53/53 [============================>.] - ETA: 0s - loss: 2482278.2553 - mean_squared_error: 2484684.0000 - mean_absolute_error: 1152.9183Epoch 1/100\n",
            "54/53 [==============================] - 15s 275ms/step - loss: 2462417.4788 - mean_squared_error: 2464644.5000 - mean_absolute_error: 1148.6080 - val_loss: 207452321.1852 - val_mean_squared_error: 203599568.0000 - val_mean_absolute_error: 9385.1816\n",
            "Epoch 40/100\n",
            "53/53 [============================>.] - ETA: 0s - loss: 1964132.0955 - mean_squared_error: 1945229.2500 - mean_absolute_error: 1042.7917Epoch 1/100\n",
            "54/53 [==============================] - 15s 273ms/step - loss: 1947901.5820 - mean_squared_error: 1929615.0000 - mean_absolute_error: 1039.6603 - val_loss: 206498401.3827 - val_mean_squared_error: 204376000.0000 - val_mean_absolute_error: 9410.7334\n",
            "Epoch 41/100\n",
            "53/53 [============================>.] - ETA: 0s - loss: 1633021.5489 - mean_squared_error: 1638397.0000 - mean_absolute_error: 984.6361Epoch 1/100\n",
            "54/53 [==============================] - 15s 273ms/step - loss: 1627925.4832 - mean_squared_error: 1633081.2500 - mean_absolute_error: 983.4067 - val_loss: 204244661.3333 - val_mean_squared_error: 201351728.0000 - val_mean_absolute_error: 9325.1123\n",
            "Epoch 42/100\n",
            "53/53 [============================>.] - ETA: 0s - loss: 2138418.4546 - mean_squared_error: 2137646.5000 - mean_absolute_error: 1104.7515Epoch 1/100\n",
            "54/53 [==============================] - 15s 274ms/step - loss: 2109474.3964 - mean_squared_error: 2108598.2500 - mean_absolute_error: 1095.5621 - val_loss: 207753325.5432 - val_mean_squared_error: 207630160.0000 - val_mean_absolute_error: 9269.3867\n",
            "Epoch 43/100\n",
            "53/53 [============================>.] - ETA: 0s - loss: 2069797.2574 - mean_squared_error: 2071940.2500 - mean_absolute_error: 1048.5220Epoch 1/100\n",
            "54/53 [==============================] - 15s 274ms/step - loss: 2043533.0455 - mean_squared_error: 2045477.7500 - mean_absolute_error: 1042.6686 - val_loss: 216445788.2469 - val_mean_squared_error: 212115280.0000 - val_mean_absolute_error: 9471.0332\n",
            "Epoch 44/100\n",
            "53/53 [============================>.] - ETA: 0s - loss: 1800681.8237 - mean_squared_error: 1798432.0000 - mean_absolute_error: 1027.2723Epoch 1/100\n",
            "54/53 [==============================] - 15s 273ms/step - loss: 1779653.1067 - mean_squared_error: 1777389.3750 - mean_absolute_error: 1021.4639 - val_loss: 216416493.4321 - val_mean_squared_error: 214395872.0000 - val_mean_absolute_error: 9514.0850\n",
            "Epoch 45/100\n",
            "53/53 [============================>.] - ETA: 0s - loss: 2883243.2765 - mean_squared_error: 2885755.2500 - mean_absolute_error: 1172.5574Epoch 1/100\n",
            "54/53 [==============================] - 15s 273ms/step - loss: 2843065.6704 - mean_squared_error: 2845302.2500 - mean_absolute_error: 1163.7314 - val_loss: 215321324.8395 - val_mean_squared_error: 212862320.0000 - val_mean_absolute_error: 9569.0576\n",
            "Epoch 46/100\n",
            "53/53 [============================>.] - ETA: 0s - loss: 2486934.1085 - mean_squared_error: 2496949.5000 - mean_absolute_error: 1167.2111Epoch 1/100\n",
            "54/53 [==============================] - 15s 274ms/step - loss: 2464989.3064 - mean_squared_error: 2474538.7500 - mean_absolute_error: 1162.1217 - val_loss: 221948669.3333 - val_mean_squared_error: 215555696.0000 - val_mean_absolute_error: 9507.1064\n",
            "Epoch 47/100\n",
            "53/53 [============================>.] - ETA: 0s - loss: 1901958.0796 - mean_squared_error: 1903954.0000 - mean_absolute_error: 1018.3976Epoch 1/100\n",
            "54/53 [==============================] - 15s 274ms/step - loss: 1885047.0838 - mean_squared_error: 1886893.0000 - mean_absolute_error: 1013.8520 - val_loss: 215351301.7284 - val_mean_squared_error: 212646416.0000 - val_mean_absolute_error: 9493.1709\n",
            "Epoch 48/100\n",
            "53/53 [============================>.] - ETA: 0s - loss: 1583426.8564 - mean_squared_error: 1582510.0000 - mean_absolute_error: 951.6503Epoch 1/100\n",
            "54/53 [==============================] - 15s 273ms/step - loss: 1586830.8823 - mean_squared_error: 1585963.0000 - mean_absolute_error: 952.3655 - val_loss: 214012394.4691 - val_mean_squared_error: 211339840.0000 - val_mean_absolute_error: 9541.6064\n",
            "Epoch 49/100\n",
            "53/53 [============================>.] - ETA: 0s - loss: 1445978.1733 - mean_squared_error: 1451582.5000 - mean_absolute_error: 887.7117Epoch 1/100\n",
            "54/53 [==============================] - 15s 274ms/step - loss: 1432599.6831 - mean_squared_error: 1437938.1250 - mean_absolute_error: 884.0662 - val_loss: 210792035.8519 - val_mean_squared_error: 207539904.0000 - val_mean_absolute_error: 9477.9619\n",
            "Epoch 50/100\n",
            "53/53 [============================>.] - ETA: 0s - loss: 1963078.8927 - mean_squared_error: 1970180.3750 - mean_absolute_error: 981.7705Epoch 1/100\n",
            "54/53 [==============================] - 15s 275ms/step - loss: 1960572.4565 - mean_squared_error: 1967403.1250 - mean_absolute_error: 984.4886 - val_loss: 208123115.5556 - val_mean_squared_error: 205744160.0000 - val_mean_absolute_error: 9359.7373\n",
            "Epoch 51/100\n",
            "53/53 [============================>.] - ETA: 0s - loss: 1411988.5669 - mean_squared_error: 1412585.7500 - mean_absolute_error: 892.4840Epoch 1/100\n",
            "54/53 [==============================] - 15s 273ms/step - loss: 1432421.8900 - mean_squared_error: 1433090.5000 - mean_absolute_error: 897.2175 - val_loss: 215142976.4938 - val_mean_squared_error: 211354400.0000 - val_mean_absolute_error: 9578.1904\n",
            "Epoch 52/100\n",
            "53/53 [============================>.] - ETA: 0s - loss: 1157335.1160 - mean_squared_error: 1159536.3750 - mean_absolute_error: 799.3834Epoch 1/100\n",
            "54/53 [==============================] - 15s 272ms/step - loss: 1141756.0013 - mean_squared_error: 1143805.7500 - mean_absolute_error: 792.2281 - val_loss: 216228066.3704 - val_mean_squared_error: 212070640.0000 - val_mean_absolute_error: 9432.4873\n",
            "Epoch 53/100\n",
            "53/53 [============================>.] - ETA: 0s - loss: 1665878.4292 - mean_squared_error: 1665259.3750 - mean_absolute_error: 962.0468Epoch 1/100\n",
            "54/53 [==============================] - 15s 274ms/step - loss: 1707639.1607 - mean_squared_error: 1707233.3750 - mean_absolute_error: 978.9131 - val_loss: 218800410.3704 - val_mean_squared_error: 217641088.0000 - val_mean_absolute_error: 9579.4121\n",
            "Epoch 54/100\n",
            "53/53 [============================>.] - ETA: 0s - loss: 1185363.5790 - mean_squared_error: 1181858.7500 - mean_absolute_error: 815.8747Epoch 1/100\n",
            "54/53 [==============================] - 15s 273ms/step - loss: 1176190.9090 - mean_squared_error: 1172772.3750 - mean_absolute_error: 812.8166 - val_loss: 212594676.0494 - val_mean_squared_error: 211764864.0000 - val_mean_absolute_error: 9522.5166\n",
            "Epoch 55/100\n",
            "53/53 [============================>.] - ETA: 0s - loss: 2023222.4248 - mean_squared_error: 2021418.3750 - mean_absolute_error: 980.0114Epoch 1/100\n",
            "54/53 [==============================] - 15s 273ms/step - loss: 2000041.2885 - mean_squared_error: 1998197.2500 - mean_absolute_error: 975.2662 - val_loss: 213990131.9506 - val_mean_squared_error: 212853488.0000 - val_mean_absolute_error: 9563.3379\n",
            "Epoch 56/100\n",
            "53/53 [============================>.] - ETA: 0s - loss: 1778966.3918 - mean_squared_error: 1782262.2500 - mean_absolute_error: 886.1281Epoch 1/100\n",
            "54/53 [==============================] - 15s 273ms/step - loss: 1755168.3858 - mean_squared_error: 1758235.2500 - mean_absolute_error: 879.3342 - val_loss: 212161238.0247 - val_mean_squared_error: 210472032.0000 - val_mean_absolute_error: 9503.1748\n",
            "Epoch 57/100\n",
            "53/53 [============================>.] - ETA: 0s - loss: 1100059.2105 - mean_squared_error: 1100733.2500 - mean_absolute_error: 770.9367Epoch 1/100\n",
            "54/53 [==============================] - 15s 273ms/step - loss: 1119429.3643 - mean_squared_error: 1120167.1250 - mean_absolute_error: 779.5087 - val_loss: 206803997.5309 - val_mean_squared_error: 205331312.0000 - val_mean_absolute_error: 9444.6084\n",
            "Epoch 58/100\n",
            "53/53 [============================>.] - ETA: 0s - loss: 1315812.4637 - mean_squared_error: 1316109.0000 - mean_absolute_error: 847.8840Epoch 1/100\n",
            "54/53 [==============================] - 15s 273ms/step - loss: 1301519.9118 - mean_squared_error: 1301740.3750 - mean_absolute_error: 841.8140 - val_loss: 218625963.2593 - val_mean_squared_error: 217878704.0000 - val_mean_absolute_error: 9807.9033\n",
            "Epoch 59/100\n",
            "53/53 [============================>.] - ETA: 0s - loss: 1680461.9802 - mean_squared_error: 1685777.0000 - mean_absolute_error: 921.7012Epoch 1/100\n",
            "54/53 [==============================] - 15s 273ms/step - loss: 1652940.2170 - mean_squared_error: 1657935.3750 - mean_absolute_error: 910.4324 - val_loss: 219701927.9012 - val_mean_squared_error: 218966368.0000 - val_mean_absolute_error: 9703.0566\n",
            "Epoch 60/100\n",
            "53/53 [============================>.] - ETA: 0s - loss: 1177960.0890 - mean_squared_error: 1175904.0000 - mean_absolute_error: 802.8914Epoch 1/100\n",
            "54/53 [==============================] - 15s 273ms/step - loss: 1180763.1682 - mean_squared_error: 1178795.0000 - mean_absolute_error: 807.2737 - val_loss: 209978198.7160 - val_mean_squared_error: 208365584.0000 - val_mean_absolute_error: 9441.1475\n",
            "Epoch 61/100\n",
            "53/53 [============================>.] - ETA: 0s - loss: 944588.5713 - mean_squared_error: 933427.5000 - mean_absolute_error: 730.9370Epoch 1/100\n",
            "54/53 [==============================] - 15s 273ms/step - loss: 937679.9942 - mean_squared_error: 926895.1250 - mean_absolute_error: 728.9716 - val_loss: 212526275.7037 - val_mean_squared_error: 211931056.0000 - val_mean_absolute_error: 9417.2246\n",
            "Epoch 62/100\n",
            "53/53 [============================>.] - ETA: 0s - loss: 952098.8228 - mean_squared_error: 955715.4375 - mean_absolute_error: 721.3632Epoch 1/100\n",
            "54/53 [==============================] - 15s 273ms/step - loss: 947586.5862 - mean_squared_error: 951050.5000 - mean_absolute_error: 720.1345 - val_loss: 209688740.4444 - val_mean_squared_error: 209187696.0000 - val_mean_absolute_error: 9399.7412\n",
            "Epoch 63/100\n",
            "53/53 [============================>.] - ETA: 0s - loss: 818086.8986 - mean_squared_error: 816720.8125 - mean_absolute_error: 707.8098Epoch 1/100\n",
            "54/53 [==============================] - 15s 273ms/step - loss: 809888.7682 - mean_squared_error: 808535.1250 - mean_absolute_error: 703.5625 - val_loss: 212814194.3210 - val_mean_squared_error: 212294032.0000 - val_mean_absolute_error: 9387.5449\n",
            "Epoch 64/100\n",
            "53/53 [============================>.] - ETA: 0s - loss: 936152.9690 - mean_squared_error: 939666.3750 - mean_absolute_error: 739.2101Epoch 1/100\n",
            "54/53 [==============================] - 15s 273ms/step - loss: 931594.5282 - mean_squared_error: 934958.7500 - mean_absolute_error: 739.5216 - val_loss: 215626340.6420 - val_mean_squared_error: 215099872.0000 - val_mean_absolute_error: 9492.9404\n",
            "Epoch 65/100\n",
            "53/53 [============================>.] - ETA: 0s - loss: 922701.3074 - mean_squared_error: 919690.3125 - mean_absolute_error: 713.7559Epoch 1/100\n",
            "54/53 [==============================] - 15s 273ms/step - loss: 926770.2462 - mean_squared_error: 923887.8750 - mean_absolute_error: 717.5253 - val_loss: 213647792.0988 - val_mean_squared_error: 213115440.0000 - val_mean_absolute_error: 9376.8623\n",
            "Epoch 66/100\n",
            "53/53 [============================>.] - ETA: 0s - loss: 967012.2061 - mean_squared_error: 967708.9375 - mean_absolute_error: 723.1829Epoch 1/100\n",
            "54/53 [==============================] - 15s 274ms/step - loss: 973748.0945 - mean_squared_error: 974450.1875 - mean_absolute_error: 724.6790 - val_loss: 210656197.0370 - val_mean_squared_error: 210257472.0000 - val_mean_absolute_error: 9328.8955\n",
            "Epoch 67/100\n",
            "53/53 [============================>.] - ETA: 0s - loss: 817179.4269 - mean_squared_error: 816708.1250 - mean_absolute_error: 682.2267Epoch 1/100\n",
            "54/53 [==============================] - 15s 273ms/step - loss: 827373.7614 - mean_squared_error: 826966.1875 - mean_absolute_error: 684.9638 - val_loss: 211874635.6049 - val_mean_squared_error: 211453744.0000 - val_mean_absolute_error: 9519.0762\n",
            "Epoch 68/100\n",
            "53/53 [============================>.] - ETA: 0s - loss: 945434.5613 - mean_squared_error: 935263.0000 - mean_absolute_error: 725.9152Epoch 1/100\n",
            "54/53 [==============================] - 15s 274ms/step - loss: 933554.1110 - mean_squared_error: 923699.8750 - mean_absolute_error: 720.2131 - val_loss: 220664148.7407 - val_mean_squared_error: 218537280.0000 - val_mean_absolute_error: 9519.9307\n",
            "Epoch 69/100\n",
            "53/53 [============================>.] - ETA: 0s - loss: 741475.7025 - mean_squared_error: 742903.8750 - mean_absolute_error: 653.6657Epoch 1/100\n",
            "54/53 [==============================] - 15s 273ms/step - loss: 744638.8618 - mean_squared_error: 746029.3125 - mean_absolute_error: 656.6603 - val_loss: 211601568.2963 - val_mean_squared_error: 211117296.0000 - val_mean_absolute_error: 9520.2559\n",
            "Epoch 70/100\n",
            "53/53 [============================>.] - ETA: 0s - loss: 879948.9282 - mean_squared_error: 882813.5625 - mean_absolute_error: 706.2039Epoch 1/100\n",
            "54/53 [==============================] - 15s 274ms/step - loss: 878856.7152 - mean_squared_error: 881611.7500 - mean_absolute_error: 708.4586 - val_loss: 211327469.4815 - val_mean_squared_error: 210934432.0000 - val_mean_absolute_error: 9579.7246\n",
            "Epoch 71/100\n",
            "53/53 [============================>.] - ETA: 0s - loss: 837087.2317 - mean_squared_error: 837028.3750 - mean_absolute_error: 657.5399Epoch 1/100\n",
            "54/53 [==============================] - 15s 274ms/step - loss: 838873.2059 - mean_squared_error: 838824.6875 - mean_absolute_error: 658.0056 - val_loss: 216961019.2593 - val_mean_squared_error: 213258944.0000 - val_mean_absolute_error: 9474.3340\n",
            "Epoch 72/100\n",
            "53/53 [============================>.] - ETA: 0s - loss: 659991.5584 - mean_squared_error: 658298.5625 - mean_absolute_error: 623.1403Epoch 1/100\n",
            "54/53 [==============================] - 15s 274ms/step - loss: 666599.5353 - mean_squared_error: 664998.5625 - mean_absolute_error: 628.1307 - val_loss: 218187081.3827 - val_mean_squared_error: 217034240.0000 - val_mean_absolute_error: 9635.8086\n",
            "Epoch 73/100\n",
            "53/53 [============================>.] - ETA: 0s - loss: 1320529.7557 - mean_squared_error: 1326201.7500 - mean_absolute_error: 793.4430Epoch 1/100\n",
            "54/53 [==============================] - 15s 274ms/step - loss: 1328537.1618 - mean_squared_error: 1334038.6250 - mean_absolute_error: 798.9562 - val_loss: 212569900.4444 - val_mean_squared_error: 211851440.0000 - val_mean_absolute_error: 9474.9160\n",
            "Epoch 74/100\n",
            "53/53 [============================>.] - ETA: 0s - loss: 914391.2712 - mean_squared_error: 915762.3750 - mean_absolute_error: 685.4136Epoch 1/100\n",
            "54/53 [==============================] - 15s 273ms/step - loss: 932815.0423 - mean_squared_error: 934220.1250 - mean_absolute_error: 695.2298 - val_loss: 218623317.9259 - val_mean_squared_error: 217709632.0000 - val_mean_absolute_error: 9600.9336\n",
            "Epoch 75/100\n",
            "53/53 [============================>.] - ETA: 0s - loss: 1020582.5501 - mean_squared_error: 1023136.0000 - mean_absolute_error: 755.5663Epoch 1/100\n",
            "54/53 [==============================] - 15s 274ms/step - loss: 1051096.3839 - mean_squared_error: 1053695.8750 - mean_absolute_error: 766.5331 - val_loss: 225118167.2099 - val_mean_squared_error: 224117568.0000 - val_mean_absolute_error: 9720.4326\n",
            "Epoch 76/100\n",
            "53/53 [============================>.] - ETA: 0s - loss: 669474.2724 - mean_squared_error: 668727.8125 - mean_absolute_error: 639.4767Epoch 1/100\n",
            "54/53 [==============================] - 15s 275ms/step - loss: 692863.5990 - mean_squared_error: 692251.2500 - mean_absolute_error: 651.7039 - val_loss: 214740230.7160 - val_mean_squared_error: 213694032.0000 - val_mean_absolute_error: 9548.3691\n",
            "Epoch 77/100\n",
            "53/53 [============================>.] - ETA: 0s - loss: 780206.7311 - mean_squared_error: 782612.6875 - mean_absolute_error: 681.8837Epoch 1/100\n",
            "54/53 [==============================] - 15s 274ms/step - loss: 778167.7943 - mean_squared_error: 780476.5625 - mean_absolute_error: 683.7382 - val_loss: 211930898.5679 - val_mean_squared_error: 209205456.0000 - val_mean_absolute_error: 9399.6748\n",
            "Epoch 78/100\n",
            "53/53 [============================>.] - ETA: 0s - loss: 694705.5734 - mean_squared_error: 696868.1250 - mean_absolute_error: 638.5372Epoch 1/100\n",
            "54/53 [==============================] - 15s 274ms/step - loss: 689516.9995 - mean_squared_error: 691576.8750 - mean_absolute_error: 637.4451 - val_loss: 212236694.6173 - val_mean_squared_error: 211565072.0000 - val_mean_absolute_error: 9474.5459\n",
            "Epoch 79/100\n",
            "22/53 [===========>..................] - ETA: 7s - loss: 751202.7947 - mean_squared_error: 758404.0000 - mean_absolute_error: 656.3931"
          ],
          "name": "stdout"
        },
        {
          "output_type": "error",
          "ename": "KeyboardInterrupt",
          "evalue": "ignored",
          "traceback": [
            "\u001b[0;31m---------------------------------------------------------------------------\u001b[0m",
            "\u001b[0;31mKeyboardInterrupt\u001b[0m                         Traceback (most recent call last)",
            "\u001b[0;32m<ipython-input-160-6e725e0b4d41>\u001b[0m in \u001b[0;36m<module>\u001b[0;34m()\u001b[0m\n\u001b[1;32m      8\u001b[0m                     \u001b[0mvalidation_data\u001b[0m \u001b[0;34m=\u001b[0m \u001b[0mvalidation_generator\u001b[0m\u001b[0;34m,\u001b[0m\u001b[0;34m\u001b[0m\u001b[0;34m\u001b[0m\u001b[0m\n\u001b[1;32m      9\u001b[0m                     \u001b[0mvalidation_steps\u001b[0m \u001b[0;34m=\u001b[0m \u001b[0mvalidation_steps\u001b[0m\u001b[0;34m,\u001b[0m\u001b[0;34m\u001b[0m\u001b[0;34m\u001b[0m\u001b[0m\n\u001b[0;32m---> 10\u001b[0;31m                     \u001b[0mverbose\u001b[0m \u001b[0;34m=\u001b[0m \u001b[0;36m1\u001b[0m\u001b[0;34m\u001b[0m\u001b[0;34m\u001b[0m\u001b[0m\n\u001b[0m\u001b[1;32m     11\u001b[0m                    )\n",
            "\u001b[0;32m/usr/local/lib/python3.6/dist-packages/tensorflow_core/python/keras/engine/training.py\u001b[0m in \u001b[0;36mfit_generator\u001b[0;34m(self, generator, steps_per_epoch, epochs, verbose, callbacks, validation_data, validation_steps, validation_freq, class_weight, max_queue_size, workers, use_multiprocessing, shuffle, initial_epoch)\u001b[0m\n\u001b[1;32m   1294\u001b[0m         \u001b[0mshuffle\u001b[0m\u001b[0;34m=\u001b[0m\u001b[0mshuffle\u001b[0m\u001b[0;34m,\u001b[0m\u001b[0;34m\u001b[0m\u001b[0;34m\u001b[0m\u001b[0m\n\u001b[1;32m   1295\u001b[0m         \u001b[0minitial_epoch\u001b[0m\u001b[0;34m=\u001b[0m\u001b[0minitial_epoch\u001b[0m\u001b[0;34m,\u001b[0m\u001b[0;34m\u001b[0m\u001b[0;34m\u001b[0m\u001b[0m\n\u001b[0;32m-> 1296\u001b[0;31m         steps_name='steps_per_epoch')\n\u001b[0m\u001b[1;32m   1297\u001b[0m \u001b[0;34m\u001b[0m\u001b[0m\n\u001b[1;32m   1298\u001b[0m   def evaluate_generator(self,\n",
            "\u001b[0;32m/usr/local/lib/python3.6/dist-packages/tensorflow_core/python/keras/engine/training_generator.py\u001b[0m in \u001b[0;36mmodel_iteration\u001b[0;34m(model, data, steps_per_epoch, epochs, verbose, callbacks, validation_data, validation_steps, validation_freq, class_weight, max_queue_size, workers, use_multiprocessing, shuffle, initial_epoch, mode, batch_size, steps_name, **kwargs)\u001b[0m\n\u001b[1;32m    263\u001b[0m \u001b[0;34m\u001b[0m\u001b[0m\n\u001b[1;32m    264\u001b[0m       \u001b[0mis_deferred\u001b[0m \u001b[0;34m=\u001b[0m \u001b[0;32mnot\u001b[0m \u001b[0mmodel\u001b[0m\u001b[0;34m.\u001b[0m\u001b[0m_is_compiled\u001b[0m\u001b[0;34m\u001b[0m\u001b[0;34m\u001b[0m\u001b[0m\n\u001b[0;32m--> 265\u001b[0;31m       \u001b[0mbatch_outs\u001b[0m \u001b[0;34m=\u001b[0m \u001b[0mbatch_function\u001b[0m\u001b[0;34m(\u001b[0m\u001b[0;34m*\u001b[0m\u001b[0mbatch_data\u001b[0m\u001b[0;34m)\u001b[0m\u001b[0;34m\u001b[0m\u001b[0;34m\u001b[0m\u001b[0m\n\u001b[0m\u001b[1;32m    266\u001b[0m       \u001b[0;32mif\u001b[0m \u001b[0;32mnot\u001b[0m \u001b[0misinstance\u001b[0m\u001b[0;34m(\u001b[0m\u001b[0mbatch_outs\u001b[0m\u001b[0;34m,\u001b[0m \u001b[0mlist\u001b[0m\u001b[0;34m)\u001b[0m\u001b[0;34m:\u001b[0m\u001b[0;34m\u001b[0m\u001b[0;34m\u001b[0m\u001b[0m\n\u001b[1;32m    267\u001b[0m         \u001b[0mbatch_outs\u001b[0m \u001b[0;34m=\u001b[0m \u001b[0;34m[\u001b[0m\u001b[0mbatch_outs\u001b[0m\u001b[0;34m]\u001b[0m\u001b[0;34m\u001b[0m\u001b[0;34m\u001b[0m\u001b[0m\n",
            "\u001b[0;32m/usr/local/lib/python3.6/dist-packages/tensorflow_core/python/keras/engine/training.py\u001b[0m in \u001b[0;36mtrain_on_batch\u001b[0;34m(self, x, y, sample_weight, class_weight, reset_metrics)\u001b[0m\n\u001b[1;32m   1015\u001b[0m       \u001b[0mself\u001b[0m\u001b[0;34m.\u001b[0m\u001b[0m_update_sample_weight_modes\u001b[0m\u001b[0;34m(\u001b[0m\u001b[0msample_weights\u001b[0m\u001b[0;34m=\u001b[0m\u001b[0msample_weights\u001b[0m\u001b[0;34m)\u001b[0m\u001b[0;34m\u001b[0m\u001b[0;34m\u001b[0m\u001b[0m\n\u001b[1;32m   1016\u001b[0m       \u001b[0mself\u001b[0m\u001b[0;34m.\u001b[0m\u001b[0m_make_train_function\u001b[0m\u001b[0;34m(\u001b[0m\u001b[0;34m)\u001b[0m\u001b[0;34m\u001b[0m\u001b[0;34m\u001b[0m\u001b[0m\n\u001b[0;32m-> 1017\u001b[0;31m       \u001b[0moutputs\u001b[0m \u001b[0;34m=\u001b[0m \u001b[0mself\u001b[0m\u001b[0;34m.\u001b[0m\u001b[0mtrain_function\u001b[0m\u001b[0;34m(\u001b[0m\u001b[0mins\u001b[0m\u001b[0;34m)\u001b[0m  \u001b[0;31m# pylint: disable=not-callable\u001b[0m\u001b[0;34m\u001b[0m\u001b[0;34m\u001b[0m\u001b[0m\n\u001b[0m\u001b[1;32m   1018\u001b[0m \u001b[0;34m\u001b[0m\u001b[0m\n\u001b[1;32m   1019\u001b[0m     \u001b[0;32mif\u001b[0m \u001b[0mreset_metrics\u001b[0m\u001b[0;34m:\u001b[0m\u001b[0;34m\u001b[0m\u001b[0;34m\u001b[0m\u001b[0m\n",
            "\u001b[0;32m/usr/local/lib/python3.6/dist-packages/tensorflow_core/python/keras/backend.py\u001b[0m in \u001b[0;36m__call__\u001b[0;34m(self, inputs)\u001b[0m\n\u001b[1;32m   3474\u001b[0m \u001b[0;34m\u001b[0m\u001b[0m\n\u001b[1;32m   3475\u001b[0m     fetched = self._callable_fn(*array_vals,\n\u001b[0;32m-> 3476\u001b[0;31m                                 run_metadata=self.run_metadata)\n\u001b[0m\u001b[1;32m   3477\u001b[0m     \u001b[0mself\u001b[0m\u001b[0;34m.\u001b[0m\u001b[0m_call_fetch_callbacks\u001b[0m\u001b[0;34m(\u001b[0m\u001b[0mfetched\u001b[0m\u001b[0;34m[\u001b[0m\u001b[0;34m-\u001b[0m\u001b[0mlen\u001b[0m\u001b[0;34m(\u001b[0m\u001b[0mself\u001b[0m\u001b[0;34m.\u001b[0m\u001b[0m_fetches\u001b[0m\u001b[0;34m)\u001b[0m\u001b[0;34m:\u001b[0m\u001b[0;34m]\u001b[0m\u001b[0;34m)\u001b[0m\u001b[0;34m\u001b[0m\u001b[0;34m\u001b[0m\u001b[0m\n\u001b[1;32m   3478\u001b[0m     output_structure = nest.pack_sequence_as(\n",
            "\u001b[0;32m/usr/local/lib/python3.6/dist-packages/tensorflow_core/python/client/session.py\u001b[0m in \u001b[0;36m__call__\u001b[0;34m(self, *args, **kwargs)\u001b[0m\n\u001b[1;32m   1470\u001b[0m         ret = tf_session.TF_SessionRunCallable(self._session._session,\n\u001b[1;32m   1471\u001b[0m                                                \u001b[0mself\u001b[0m\u001b[0;34m.\u001b[0m\u001b[0m_handle\u001b[0m\u001b[0;34m,\u001b[0m \u001b[0margs\u001b[0m\u001b[0;34m,\u001b[0m\u001b[0;34m\u001b[0m\u001b[0;34m\u001b[0m\u001b[0m\n\u001b[0;32m-> 1472\u001b[0;31m                                                run_metadata_ptr)\n\u001b[0m\u001b[1;32m   1473\u001b[0m         \u001b[0;32mif\u001b[0m \u001b[0mrun_metadata\u001b[0m\u001b[0;34m:\u001b[0m\u001b[0;34m\u001b[0m\u001b[0;34m\u001b[0m\u001b[0m\n\u001b[1;32m   1474\u001b[0m           \u001b[0mproto_data\u001b[0m \u001b[0;34m=\u001b[0m \u001b[0mtf_session\u001b[0m\u001b[0;34m.\u001b[0m\u001b[0mTF_GetBuffer\u001b[0m\u001b[0;34m(\u001b[0m\u001b[0mrun_metadata_ptr\u001b[0m\u001b[0;34m)\u001b[0m\u001b[0;34m\u001b[0m\u001b[0;34m\u001b[0m\u001b[0m\n",
            "\u001b[0;31mKeyboardInterrupt\u001b[0m: "
          ]
        }
      ]
    },
    {
      "cell_type": "code",
      "metadata": {
        "id": "Idq10rAcC-lq",
        "colab_type": "code",
        "colab": {
          "base_uri": "https://localhost:8080/",
          "height": 240
        },
        "outputId": "25db56e0-1d21-48b4-d831-78abf91c7717"
      },
      "source": [
        "# Plot training & validation accuracy values\n",
        "plt.plot(model.history.history['mean_squared_error'])\n",
        "plt.plot(model.history.history['val_mean_squared_error'])\n",
        "plt.title('Model MSE')\n",
        "plt.ylabel('MSE')\n",
        "plt.xlabel('Epoch')\n",
        "plt.ylim((0,5000000))\n",
        "plt.legend(['Train', 'Validation'], loc='upper left')\n",
        "plt.show()\n",
        "\n",
        "# Plot training & validation loss values\n",
        "plt.plot(model.history.history['mean_absolute_error'])\n",
        "plt.plot(model.history.history['val_mean_absolute_error'])\n",
        "plt.title('Model MAE')\n",
        "plt.ylabel('MAE')\n",
        "plt.xlabel('Epoch')\n",
        "plt.ylim((0,30000))\n",
        "plt.legend(['Train', 'Validation'], loc='upper left')\n",
        "plt.show()"
      ],
      "execution_count": 1,
      "outputs": [
        {
          "output_type": "error",
          "ename": "NameError",
          "evalue": "ignored",
          "traceback": [
            "\u001b[0;31m---------------------------------------------------------------------------\u001b[0m",
            "\u001b[0;31mNameError\u001b[0m                                 Traceback (most recent call last)",
            "\u001b[0;32m<ipython-input-1-c3dcbd1f82a8>\u001b[0m in \u001b[0;36m<module>\u001b[0;34m()\u001b[0m\n\u001b[0;32m----> 1\u001b[0;31m \u001b[0mplt\u001b[0m\u001b[0;34m.\u001b[0m\u001b[0mplot\u001b[0m\u001b[0;34m(\u001b[0m\u001b[0mmodel\u001b[0m\u001b[0;34m.\u001b[0m\u001b[0mhistory\u001b[0m\u001b[0;34m.\u001b[0m\u001b[0mhistory\u001b[0m\u001b[0;34m[\u001b[0m\u001b[0;34m'mean_squared_error'\u001b[0m\u001b[0;34m]\u001b[0m\u001b[0;34m)\u001b[0m\u001b[0;34m\u001b[0m\u001b[0;34m\u001b[0m\u001b[0m\n\u001b[0m\u001b[1;32m      2\u001b[0m \u001b[0mplt\u001b[0m\u001b[0;34m.\u001b[0m\u001b[0mplot\u001b[0m\u001b[0;34m(\u001b[0m\u001b[0mmodel\u001b[0m\u001b[0;34m.\u001b[0m\u001b[0mhistory\u001b[0m\u001b[0;34m.\u001b[0m\u001b[0mhistory\u001b[0m\u001b[0;34m[\u001b[0m\u001b[0;34m'val_mean_squared_error'\u001b[0m\u001b[0;34m]\u001b[0m\u001b[0;34m)\u001b[0m\u001b[0;34m\u001b[0m\u001b[0;34m\u001b[0m\u001b[0m\n\u001b[1;32m      3\u001b[0m \u001b[0mplt\u001b[0m\u001b[0;34m.\u001b[0m\u001b[0mtitle\u001b[0m\u001b[0;34m(\u001b[0m\u001b[0;34m'Model MSE'\u001b[0m\u001b[0;34m)\u001b[0m\u001b[0;34m\u001b[0m\u001b[0;34m\u001b[0m\u001b[0m\n\u001b[1;32m      4\u001b[0m \u001b[0mplt\u001b[0m\u001b[0;34m.\u001b[0m\u001b[0mylabel\u001b[0m\u001b[0;34m(\u001b[0m\u001b[0;34m'MSE'\u001b[0m\u001b[0;34m)\u001b[0m\u001b[0;34m\u001b[0m\u001b[0;34m\u001b[0m\u001b[0m\n\u001b[1;32m      5\u001b[0m \u001b[0mplt\u001b[0m\u001b[0;34m.\u001b[0m\u001b[0mxlabel\u001b[0m\u001b[0;34m(\u001b[0m\u001b[0;34m'Epoch'\u001b[0m\u001b[0;34m)\u001b[0m\u001b[0;34m\u001b[0m\u001b[0;34m\u001b[0m\u001b[0m\n",
            "\u001b[0;31mNameError\u001b[0m: name 'plt' is not defined"
          ]
        }
      ]
    },
    {
      "cell_type": "code",
      "metadata": {
        "colab_type": "code",
        "id": "n1XeOAyH1vIN",
        "outputId": "ab9989f5-6d57-457d-89c9-04476f5dc386",
        "colab": {
          "base_uri": "https://localhost:8080/",
          "height": 70
        }
      },
      "source": [
        "# Calculate the test performance\n",
        "test_score = model.evaluate_generator(test_generator)\n",
        "print('Test loss: '+str(test_score[0]))\n",
        "print('Test MSE: '+str(test_score[1]))\n",
        "print('Test MAE: '+str(test_score[2]))"
      ],
      "execution_count": 163,
      "outputs": [
        {
          "output_type": "stream",
          "text": [
            "Test loss: 69870343.8782422\n",
            "Test MSE: 69870330.0\n",
            "Test MAE: 6554.1436\n"
          ],
          "name": "stdout"
        }
      ]
    },
    {
      "cell_type": "code",
      "metadata": {
        "colab_type": "code",
        "id": "jmzlLEqIyAEc",
        "colab": {}
      },
      "source": [
        ""
      ],
      "execution_count": 0,
      "outputs": []
    }
  ]
}