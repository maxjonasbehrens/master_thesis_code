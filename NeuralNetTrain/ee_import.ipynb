{
  "nbformat": 4,
  "nbformat_minor": 0,
  "metadata": {
    "colab": {
      "name": "ee_import.ipynb",
      "provenance": [],
      "collapsed_sections": [],
      "toc_visible": true
    },
    "kernelspec": {
      "name": "python3",
      "display_name": "Python 3"
    },
    "accelerator": "GPU"
  },
  "cells": [
    {
      "cell_type": "markdown",
      "metadata": {
        "colab_type": "text",
        "id": "jcCwLDmWkrHi"
      },
      "source": [
        "## PreProcess Images and feed into CNN"
      ]
    },
    {
      "cell_type": "code",
      "metadata": {
        "colab_type": "code",
        "id": "KnRwnXgRkXTH",
        "outputId": "abb95cb1-78b2-4f9f-aef1-e6cfd01362a7",
        "colab": {
          "base_uri": "https://localhost:8080/",
          "height": 125
        }
      },
      "source": [
        "# Mount Google Drice\n",
        "from google.colab import drive\n",
        "drive.mount('/gdrive')"
      ],
      "execution_count": 1,
      "outputs": [
        {
          "output_type": "stream",
          "text": [
            "Go to this URL in a browser: https://accounts.google.com/o/oauth2/auth?client_id=947318989803-6bn6qk8qdgf4n4g3pfee6491hc0brc4i.apps.googleusercontent.com&redirect_uri=urn%3aietf%3awg%3aoauth%3a2.0%3aoob&response_type=code&scope=email%20https%3a%2f%2fwww.googleapis.com%2fauth%2fdocs.test%20https%3a%2f%2fwww.googleapis.com%2fauth%2fdrive%20https%3a%2f%2fwww.googleapis.com%2fauth%2fdrive.photos.readonly%20https%3a%2f%2fwww.googleapis.com%2fauth%2fpeopleapi.readonly\n",
            "\n",
            "Enter your authorization code:\n",
            "··········\n",
            "Mounted at /gdrive\n"
          ],
          "name": "stdout"
        }
      ]
    },
    {
      "cell_type": "code",
      "metadata": {
        "colab_type": "code",
        "id": "1Lfk-ya7Ux0k",
        "outputId": "07ff91a5-95c2-405f-fb47-2c6eecafa819",
        "colab": {
          "base_uri": "https://localhost:8080/",
          "height": 107
        }
      },
      "source": [
        "!pip install pyrsgis"
      ],
      "execution_count": 2,
      "outputs": [
        {
          "output_type": "stream",
          "text": [
            "Collecting pyrsgis\n",
            "  Downloading https://files.pythonhosted.org/packages/be/33/b095ae8e3f770bca9b8f8179da3009a16bd2773daccfe1dc04a9e7870974/pyrsgis-0.2.4-py3-none-any.whl\n",
            "Installing collected packages: pyrsgis\n",
            "Successfully installed pyrsgis-0.2.4\n"
          ],
          "name": "stdout"
        }
      ]
    },
    {
      "cell_type": "code",
      "metadata": {
        "id": "eA5AhCi0KFdG",
        "colab_type": "code",
        "outputId": "a749fd79-186f-4d8a-c094-9d8de8224951",
        "colab": {
          "base_uri": "https://localhost:8080/",
          "height": 141
        }
      },
      "source": [
        "!git clone https://github.com/maxjonasbehrens/master_thesis_code\n",
        "#%cd /content/master_thesis_code\n",
        "#!git pull"
      ],
      "execution_count": 3,
      "outputs": [
        {
          "output_type": "stream",
          "text": [
            "Cloning into 'master_thesis_code'...\n",
            "remote: Enumerating objects: 175, done.\u001b[K\n",
            "remote: Counting objects: 100% (175/175), done.\u001b[K\n",
            "remote: Compressing objects: 100% (125/125), done.\u001b[K\n",
            "remote: Total 175 (delta 89), reused 119 (delta 48), pack-reused 0\u001b[K\n",
            "Receiving objects: 100% (175/175), 240.03 KiB | 664.00 KiB/s, done.\n",
            "Resolving deltas: 100% (89/89), done.\n"
          ],
          "name": "stdout"
        }
      ]
    },
    {
      "cell_type": "code",
      "metadata": {
        "id": "MbcpkAIYKSkw",
        "colab_type": "code",
        "colab": {}
      },
      "source": [
        "%load /content/master_thesis_code/NeuralNetTrain/imgProcessing/sat_images.py"
      ],
      "execution_count": 0,
      "outputs": []
    },
    {
      "cell_type": "code",
      "metadata": {
        "colab_type": "code",
        "id": "CwZd9v4Ukxt6",
        "colab": {
          "base_uri": "https://localhost:8080/",
          "height": 97
        },
        "outputId": "d8f90814-415e-4ab8-9d81-3e5fd6f524d0"
      },
      "source": [
        "import tensorflow as tf\n",
        "import numpy as np\n",
        "import pandas as pd\n",
        "from tensorflow import keras\n",
        "import pyrsgis\n",
        "import cv2\n",
        "from skimage.transform import resize\n",
        "from PIL import Image\n",
        "%matplotlib inline \n",
        "from matplotlib import pyplot as plt\n",
        "from os import listdir\n",
        "from os.path import isfile, join\n",
        "import scipy.io"
      ],
      "execution_count": 5,
      "outputs": [
        {
          "output_type": "display_data",
          "data": {
            "text/html": [
              "<p style=\"color: red;\">\n",
              "The default version of TensorFlow in Colab will soon switch to TensorFlow 2.x.<br>\n",
              "We recommend you <a href=\"https://www.tensorflow.org/guide/migrate\" target=\"_blank\">upgrade</a> now \n",
              "or ensure your notebook will continue to use TensorFlow 1.x via the <code>%tensorflow_version 1.x</code> magic:\n",
              "<a href=\"https://colab.research.google.com/notebooks/tensorflow_version.ipynb\" target=\"_blank\">more info</a>.</p>\n"
            ],
            "text/plain": [
              "<IPython.core.display.HTML object>"
            ]
          },
          "metadata": {
            "tags": []
          }
        },
        {
          "output_type": "stream",
          "text": [
            "Warning! matplotlib_scalebar library not found.\n"
          ],
          "name": "stdout"
        }
      ]
    },
    {
      "cell_type": "code",
      "metadata": {
        "id": "yoaE3NmFOOAD",
        "colab_type": "code",
        "colab": {}
      },
      "source": [
        "# Import own module to preprocess images\n",
        "import imp\n",
        "sat_images = imp.new_module('sat_images')\n",
        "exec(open(\"/content/master_thesis_code/NeuralNetTrain/imgProcessing/sat_images.py\").read(), sat_images.__dict__)"
      ],
      "execution_count": 0,
      "outputs": []
    },
    {
      "cell_type": "markdown",
      "metadata": {
        "colab_type": "text",
        "id": "V8Lm_M34332n"
      },
      "source": [
        "## Test for one image"
      ]
    },
    {
      "cell_type": "code",
      "metadata": {
        "colab_type": "code",
        "id": "VLRyltYwk3HL",
        "colab": {}
      },
      "source": [
        "# Download test image from drive\n",
        "al01_2016_path = \"/gdrive/My Drive/nuts_geotiff/DE22_2012.tif\"\n",
        "\n",
        "ds1, featuresAL01 = pyrsgis.raster.read(al01_2016_path)"
      ],
      "execution_count": 0,
      "outputs": []
    },
    {
      "cell_type": "code",
      "metadata": {
        "colab_type": "code",
        "id": "vGEELO3uujS5",
        "outputId": "3071f405-d4bc-477a-ff64-0d68edee7ca6",
        "colab": {
          "base_uri": "https://localhost:8080/",
          "height": 34
        }
      },
      "source": [
        "# Print its shape\n",
        "print(\"AL01 shape: \",featuresAL01.shape)"
      ],
      "execution_count": 8,
      "outputs": [
        {
          "output_type": "stream",
          "text": [
            "AL01 shape:  (3, 3588, 8325)\n"
          ],
          "name": "stdout"
        }
      ]
    },
    {
      "cell_type": "code",
      "metadata": {
        "colab_type": "code",
        "id": "KAh7NFewVrKe",
        "colab": {}
      },
      "source": [
        "# Resize original image to compatible size\n",
        "orig_img = np.swapaxes(featuresAL01,0,-1)\n",
        "orig_resized = resize(orig_img, (256,256))"
      ],
      "execution_count": 0,
      "outputs": []
    },
    {
      "cell_type": "code",
      "metadata": {
        "colab_type": "code",
        "id": "lzov3rpeckrN",
        "outputId": "89cf7af8-3b0b-4133-9686-4fe3894723c1",
        "colab": {
          "base_uri": "https://localhost:8080/",
          "height": 268
        }
      },
      "source": [
        "# Show the original image\n",
        "plt.imshow(orig_resized, interpolation='nearest')\n",
        "plt.show()"
      ],
      "execution_count": 13,
      "outputs": [
        {
          "output_type": "display_data",
          "data": {
            "image/png": "[encoded data removed]",
            "text/plain": [
              "<Figure size 432x288 with 1 Axes>"
            ]
          },
          "metadata": {
            "tags": []
          }
        }
      ]
    },
    {
      "cell_type": "code",
      "metadata": {
        "colab_type": "code",
        "id": "1NURzseNL_yH",
        "outputId": "96510c49-94da-49b4-bb38-d1cfdbf34a64",
        "colab": {
          "base_uri": "https://localhost:8080/",
          "height": 197
        }
      },
      "source": [
        "# Check the data frame\n",
        "y_dat = pd.read_csv(\"/gdrive/My Drive/ThesisData/Data/nuts_gdp_cleaned.csv\")\n",
        "y_dat.head()"
      ],
      "execution_count": 14,
      "outputs": [
        {
          "output_type": "execute_result",
          "data": {
            "text/html": [
              "<div>\n",
              "<style scoped>\n",
              "    .dataframe tbody tr th:only-of-type {\n",
              "        vertical-align: middle;\n",
              "    }\n",
              "\n",
              "    .dataframe tbody tr th {\n",
              "        vertical-align: top;\n",
              "    }\n",
              "\n",
              "    .dataframe thead th {\n",
              "        text-align: right;\n",
              "    }\n",
              "</style>\n",
              "<table border=\"1\" class=\"dataframe\">\n",
              "  <thead>\n",
              "    <tr style=\"text-align: right;\">\n",
              "      <th></th>\n",
              "      <th>region</th>\n",
              "      <th>year</th>\n",
              "      <th>value</th>\n",
              "      <th>code</th>\n",
              "      <th>country</th>\n",
              "    </tr>\n",
              "  </thead>\n",
              "  <tbody>\n",
              "    <tr>\n",
              "      <th>0</th>\n",
              "      <td>BE</td>\n",
              "      <td>2008</td>\n",
              "      <td>33100.0</td>\n",
              "      <td>BE</td>\n",
              "      <td>Belgium</td>\n",
              "    </tr>\n",
              "    <tr>\n",
              "      <th>1</th>\n",
              "      <td>BE1</td>\n",
              "      <td>2008</td>\n",
              "      <td>61100.0</td>\n",
              "      <td>BE</td>\n",
              "      <td>Belgium</td>\n",
              "    </tr>\n",
              "    <tr>\n",
              "      <th>2</th>\n",
              "      <td>BE10</td>\n",
              "      <td>2008</td>\n",
              "      <td>61100.0</td>\n",
              "      <td>BE</td>\n",
              "      <td>Belgium</td>\n",
              "    </tr>\n",
              "    <tr>\n",
              "      <th>3</th>\n",
              "      <td>BE2</td>\n",
              "      <td>2008</td>\n",
              "      <td>33100.0</td>\n",
              "      <td>BE</td>\n",
              "      <td>Belgium</td>\n",
              "    </tr>\n",
              "    <tr>\n",
              "      <th>4</th>\n",
              "      <td>BE21</td>\n",
              "      <td>2008</td>\n",
              "      <td>39200.0</td>\n",
              "      <td>BE</td>\n",
              "      <td>Belgium</td>\n",
              "    </tr>\n",
              "  </tbody>\n",
              "</table>\n",
              "</div>"
            ],
            "text/plain": [
              "  region  year    value code  country\n",
              "0     BE  2008  33100.0   BE  Belgium\n",
              "1    BE1  2008  61100.0   BE  Belgium\n",
              "2   BE10  2008  61100.0   BE  Belgium\n",
              "3    BE2  2008  33100.0   BE  Belgium\n",
              "4   BE21  2008  39200.0   BE  Belgium"
            ]
          },
          "metadata": {
            "tags": []
          },
          "execution_count": 14
        }
      ]
    },
    {
      "cell_type": "code",
      "metadata": {
        "colab_type": "code",
        "id": "Ogm4ndTFkrib",
        "colab": {}
      },
      "source": [
        "# List of all files in directory\n",
        "mypath = \"/gdrive/My Drive/nuts_geotiff/\"\n",
        "onlyfiles = [f for f in listdir(mypath) if isfile(join(mypath, f))]"
      ],
      "execution_count": 0,
      "outputs": []
    },
    {
      "cell_type": "code",
      "metadata": {
        "colab_type": "code",
        "id": "LHq0y4SCsQFp",
        "outputId": "923647e2-735b-468b-f120-22d683928625",
        "colab": {
          "base_uri": "https://localhost:8080/",
          "height": 70
        }
      },
      "source": [
        "# PreProcess images with certain resolution\n",
        "res = 512\n",
        "x,y,label = sat_images.create_data(onlyfiles,mypath,y_dat,resolution=res,night=False)\n",
        "# Save ndarray to reproduce\n",
        "scipy.io.savemat(\"/gdrive/My Drive/ThesisData/Data/data_day_orig_512.mat\", mdict={'x': x}, oned_as='row')"
      ],
      "execution_count": 0,
      "outputs": [
        {
          "output_type": "stream",
          "text": [
            "Image processed:  0  of  910\n",
            "Image processed:  10  of  910\n",
            "Image processed:  20  of  910\n"
          ],
          "name": "stdout"
        }
      ]
    },
    {
      "cell_type": "code",
      "metadata": {
        "colab_type": "code",
        "id": "OgjMrcIH5H5o",
        "colab": {}
      },
      "source": [
        "# Load input from scratch\n",
        "x = scipy.io.loadmat(\"/gdrive/My Drive/ThesisData/Data/data_all_input_512.mat\")['x']\n",
        "y, label = sat_images.create_y_label(onlyfiles,mypath,y_dat)"
      ],
      "execution_count": 0,
      "outputs": []
    },
    {
      "cell_type": "code",
      "metadata": {
        "colab_type": "code",
        "id": "4si-J7h9JBa7",
        "outputId": "1a15e21d-bc92-4171-9365-593d3b4d0ff9",
        "colab": {
          "base_uri": "https://localhost:8080/",
          "height": 70
        }
      },
      "source": [
        "# Print shape of images\n",
        "print('Shape of x: ',len(x))\n",
        "print('Shape of y: ',len(y))\n",
        "print('Shape of labels: ', len(label))"
      ],
      "execution_count": 0,
      "outputs": [
        {
          "output_type": "stream",
          "text": [
            "Shape of x:  558\n",
            "Shape of y:  558\n",
            "Shape of labels:  558\n"
          ],
          "name": "stdout"
        }
      ]
    },
    {
      "cell_type": "code",
      "metadata": {
        "colab_type": "code",
        "id": "LMee7rQ9L1yz",
        "outputId": "2ad15fe0-9f5c-4e91-904a-3e4cb2fb7c87",
        "colab": {
          "base_uri": "https://localhost:8080/",
          "height": 34
        }
      },
      "source": [
        "# Make x to a 3 channel image when using night images\n",
        "x = np.repeat(x[..., np.newaxis], 3, -1)\n",
        "print(x.shape)"
      ],
      "execution_count": 0,
      "outputs": [
        {
          "output_type": "stream",
          "text": [
            "(558, 512, 512, 3)\n"
          ],
          "name": "stdout"
        }
      ]
    },
    {
      "cell_type": "markdown",
      "metadata": {
        "colab_type": "text",
        "id": "ypHbpM5ZAKmb"
      },
      "source": [
        "## Create Train and Test Sets"
      ]
    },
    {
      "cell_type": "code",
      "metadata": {
        "colab_type": "code",
        "id": "sTyG9Ew6mgrH",
        "outputId": "43a32089-dcc5-4597-b879-c5522dccf941",
        "colab": {
          "base_uri": "https://localhost:8080/",
          "height": 34
        }
      },
      "source": [
        "# Create list of unique regions\n",
        "regions = []\n",
        "for i in range(len(label)):\n",
        "  regions.append(label[i].rsplit('_',1)[0])\n",
        "\n",
        "regions = np.unique(regions)\n",
        "print(len(regions))"
      ],
      "execution_count": 0,
      "outputs": [
        {
          "output_type": "stream",
          "text": [
            "93\n"
          ],
          "name": "stdout"
        }
      ]
    },
    {
      "cell_type": "code",
      "metadata": {
        "colab_type": "code",
        "id": "pBDk2TjtqEmw",
        "outputId": "f48021f1-8436-4c51-a366-833096700785",
        "colab": {
          "base_uri": "https://localhost:8080/",
          "height": 52
        }
      },
      "source": [
        "# Split regions into train and test set\n",
        "msk = np.random.rand(len(regions)) < 0.7\n",
        "train_split = regions[msk]\n",
        "test_split = regions[~msk]\n",
        "print(len(train_split))\n",
        "print(len(test_split))"
      ],
      "execution_count": 0,
      "outputs": [
        {
          "output_type": "stream",
          "text": [
            "67\n",
            "26\n"
          ],
          "name": "stdout"
        }
      ]
    },
    {
      "cell_type": "code",
      "metadata": {
        "colab_type": "code",
        "id": "a8-L2N-XrKN3",
        "outputId": "554cf212-c95c-4204-a03a-06ee78cb9d06",
        "colab": {
          "base_uri": "https://localhost:8080/",
          "height": 70
        }
      },
      "source": [
        "# Split whole data set into test and train based on split regions\n",
        "import math\n",
        "label_train = []\n",
        "label_test = []\n",
        "x_train = []\n",
        "y_train = []\n",
        "x_test = []\n",
        "y_test = []\n",
        "\n",
        "# Split into train and test based on previous region split\n",
        "for i in range(len(label)):\n",
        "  if label[i].rsplit('_',1)[0] in train_split:\n",
        "    if math.isnan(y[i]):\n",
        "      pass\n",
        "    else:\n",
        "      label_train.append(label[i])\n",
        "      x_train.append(x[i])\n",
        "      y_train.append(int(y[i]))\n",
        "  else:\n",
        "    if math.isnan(y[i]):\n",
        "      pass\n",
        "    else:\n",
        "      label_test.append(label[i])\n",
        "      x_test.append(x[i])\n",
        "      y_test.append(int(y[i]))\n",
        "\n",
        "# Transform into numpy array\n",
        "label_train = np.array(label_train)\n",
        "label_test = np.array(label_test)\n",
        "x_train = np.array(x_train)\n",
        "x_test = np.array(x_test)\n",
        "y_train = np.array(y_train)\n",
        "y_test = np.array(y_test)  \n",
        "\n",
        "# Print Shape\n",
        "print(x_train.shape)\n",
        "print(x_test.shape)\n",
        "print(y_test.shape)"
      ],
      "execution_count": 0,
      "outputs": [
        {
          "output_type": "stream",
          "text": [
            "(286, 512, 512, 3)\n",
            "(148, 512, 512, 3)\n",
            "(148,)\n"
          ],
          "name": "stdout"
        }
      ]
    },
    {
      "cell_type": "code",
      "metadata": {
        "colab_type": "code",
        "id": "aKRDGusTeNXU",
        "outputId": "c6fe490f-66cb-4ed6-b22f-909bb056cd6b",
        "colab": {
          "base_uri": "https://localhost:8080/",
          "height": 52
        }
      },
      "source": [
        "# Only execute when using night images, since they are 1d\n",
        "x_train = np.array([x_train])\n",
        "x_train = np.moveaxis(x_train,0,-1)\n",
        "print(x_train.shape)\n",
        "x_test = np.array([x_test])\n",
        "x_test = np.moveaxis(x_test,0,-1)\n",
        "print(x_test.shape)"
      ],
      "execution_count": 0,
      "outputs": [
        {
          "output_type": "stream",
          "text": [
            "(286, 512, 512, 3, 1)\n",
            "(148, 512, 512, 3, 1)\n"
          ],
          "name": "stdout"
        }
      ]
    },
    {
      "cell_type": "code",
      "metadata": {
        "colab_type": "code",
        "id": "blVC16VGw4af",
        "outputId": "d03d3ec5-d6c8-43d1-e5b0-9b1a6300af15",
        "colab": {
          "base_uri": "https://localhost:8080/",
          "height": 90
        }
      },
      "source": [
        "# Deep Model\n",
        "model = tf.keras.Sequential()\n",
        "\n",
        "model.add(tf.keras.layers.Conv2D(32, 3, padding='same', input_shape=(512,512,1), activation='relu'))\n",
        "model.add(tf.keras.layers.Conv2D(32, 3, padding='same', activation='relu'))\n",
        "model.add(tf.keras.layers.BatchNormalization())\n",
        "model.add(tf.keras.layers.MaxPooling2D(pool_size = (2,2)))\n",
        "\n",
        "model.add(tf.keras.layers.Conv2D(64, 3, padding='same', activation='relu'))\n",
        "model.add(tf.keras.layers.Conv2D(64, 3, padding='same', activation='relu'))\n",
        "model.add(tf.keras.layers.BatchNormalization())\n",
        "model.add(tf.keras.layers.MaxPooling2D(pool_size = (2,2)))\n",
        "\n",
        "model.add(tf.keras.layers.Conv2D(128, 3, padding='same', activation='relu'))\n",
        "model.add(tf.keras.layers.Conv2D(128, 3, padding='same', activation='relu'))\n",
        "model.add(tf.keras.layers.BatchNormalization())\n",
        "model.add(tf.keras.layers.MaxPooling2D(pool_size = (2,2)))\n",
        "\n",
        "model.add(tf.keras.layers.Conv2D(256, 3, padding='same', activation='relu'))\n",
        "model.add(tf.keras.layers.Conv2D(256, 3, padding='same', activation='relu'))\n",
        "model.add(tf.keras.layers.BatchNormalization())\n",
        "model.add(tf.keras.layers.MaxPooling2D(pool_size = (2,2)))\n",
        "\n",
        "model.add(tf.keras.layers.Conv2D(512, 3, padding='same', activation='relu'))\n",
        "model.add(tf.keras.layers.Conv2D(512, 3, padding='same', activation='relu'))\n",
        "model.add(tf.keras.layers.BatchNormalization())\n",
        "model.add(tf.keras.layers.MaxPooling2D(pool_size = (2,2)))\n",
        "\n",
        "model.add(tf.keras.layers.Flatten())\n",
        "model.add(tf.keras.layers.Dense(512, activation='relu', activity_regularizer=tf.keras.regularizers.l1(0.0001)))\n",
        "model.add(tf.keras.layers.Dropout(0.5))\n",
        "\n",
        "model.add(tf.keras.layers.Dense(512, activation='relu', activity_regularizer=tf.keras.regularizers.l1(0.0001)))\n",
        "model.add(tf.keras.layers.Dropout(0.5))\n",
        "model.add(tf.keras.layers.Dense(units=1, activation = 'linear'))"
      ],
      "execution_count": 0,
      "outputs": [
        {
          "output_type": "stream",
          "text": [
            "WARNING:tensorflow:From /usr/local/lib/python3.6/dist-packages/tensorflow_core/python/ops/resource_variable_ops.py:1630: calling BaseResourceVariable.__init__ (from tensorflow.python.ops.resource_variable_ops) with constraint is deprecated and will be removed in a future version.\n",
            "Instructions for updating:\n",
            "If using Keras pass *_constraint arguments to layers.\n"
          ],
          "name": "stdout"
        }
      ]
    },
    {
      "cell_type": "code",
      "metadata": {
        "colab_type": "code",
        "id": "GXlz_HWWCQuT",
        "outputId": "cd0c92ef-25e9-40ad-d46e-2a4124320892",
        "colab": {
          "base_uri": "https://localhost:8080/",
          "height": 52
        }
      },
      "source": [
        "# Transfer Learning\n",
        "base_model = tf.keras.applications.MobileNet(input_shape=(512,512,3),include_top=False)\n",
        "x=base_model.output\n",
        "x=tf.keras.layers.GlobalAveragePooling2D()(x)\n",
        "x=tf.keras.layers.Dense(1024,activation='relu')(x) #we add dense layers so that the model can learn more complex functions and classify for better results.\n",
        "x=tf.keras.layers.Dense(1024,activation='relu')(x) #dense layer 2\n",
        "x=tf.keras.layers.Dense(512,activation='relu')(x) #dense layer 3\n",
        "preds=tf.keras.layers.Dense(units=1, activation = 'linear')(x)\n",
        "model=tf.keras.models.Model(inputs=base_model.input,outputs=preds)"
      ],
      "execution_count": 0,
      "outputs": [
        {
          "output_type": "stream",
          "text": [
            "Downloading data from https://github.com/fchollet/deep-learning-models/releases/download/v0.6/mobilenet_1_0_224_tf_no_top.h5\n",
            "17227776/17225924 [==============================] - 1s 0us/step\n"
          ],
          "name": "stdout"
        }
      ]
    },
    {
      "cell_type": "code",
      "metadata": {
        "colab_type": "code",
        "id": "3hhLQUBa0NiP",
        "colab": {}
      },
      "source": [
        "model.compile(loss='mean_squared_error', optimizer='adam', metrics=['mse','mae'])"
      ],
      "execution_count": 0,
      "outputs": []
    },
    {
      "cell_type": "code",
      "metadata": {
        "colab_type": "code",
        "id": "4ihqmhUq0nES",
        "colab": {}
      },
      "source": [
        "# Data Augmentation\n",
        "training_data_generator = tf.keras.preprocessing.image.ImageDataGenerator()\n",
        "test_data_generator = tf.keras.preprocessing.image.ImageDataGenerator()"
      ],
      "execution_count": 0,
      "outputs": []
    },
    {
      "cell_type": "code",
      "metadata": {
        "colab_type": "code",
        "id": "yH4IdyFm0u0B",
        "colab": {}
      },
      "source": [
        "# Data Preparation\n",
        "batch_size = 5\n",
        "\n",
        "# Define the data flow\n",
        "training_generator = training_data_generator.flow(x_train,y_train,batch_size=batch_size)\n",
        "test_generator = test_data_generator.flow(x_test,y_test,batch_size=1,shuffle=False)"
      ],
      "execution_count": 0,
      "outputs": []
    },
    {
      "cell_type": "code",
      "metadata": {
        "colab_type": "code",
        "id": "X_QVrMSF1i3f",
        "outputId": "002a626e-74bd-4297-ab48-fb208f1a6fe9",
        "colab": {
          "base_uri": "https://localhost:8080/",
          "height": 1000
        }
      },
      "source": [
        "# Calculate the number of steps\n",
        "training_steps = training_generator.n/batch_size\n",
        "\n",
        "# Run the model\n",
        "model.fit_generator(training_generator,\n",
        "                    steps_per_epoch=training_steps,\n",
        "                    epochs = 100,\n",
        "                    verbose = 1\n",
        "                   )"
      ],
      "execution_count": 0,
      "outputs": [
        {
          "output_type": "stream",
          "text": [
            "Epoch 1/100\n",
            "58/57 [==============================] - 25s 438ms/step - loss: 347219103.0766 - mean_squared_error: 344693568.0000 - mean_absolute_error: 12921.1885\n",
            "Epoch 2/100\n",
            "58/57 [==============================] - 18s 308ms/step - loss: 166973392.8075 - mean_squared_error: 168419072.0000 - mean_absolute_error: 9376.7510\n",
            "Epoch 3/100\n",
            "58/57 [==============================] - 18s 308ms/step - loss: 158110951.4784 - mean_squared_error: 158260992.0000 - mean_absolute_error: 9118.2188\n",
            "Epoch 4/100\n",
            "58/57 [==============================] - 18s 306ms/step - loss: 147959354.9010 - mean_squared_error: 146895344.0000 - mean_absolute_error: 8613.9072\n",
            "Epoch 5/100\n",
            "58/57 [==============================] - 18s 310ms/step - loss: 126158127.5803 - mean_squared_error: 124743136.0000 - mean_absolute_error: 7875.1206\n",
            "Epoch 6/100\n",
            "58/57 [==============================] - 18s 306ms/step - loss: 94128973.3866 - mean_squared_error: 94482928.0000 - mean_absolute_error: 7231.8521\n",
            "Epoch 7/100\n",
            "58/57 [==============================] - 18s 309ms/step - loss: 46863769.6985 - mean_squared_error: 47304772.0000 - mean_absolute_error: 5250.6357\n",
            "Epoch 8/100\n",
            "58/57 [==============================] - 18s 311ms/step - loss: 45004765.4735 - mean_squared_error: 43441588.0000 - mean_absolute_error: 4739.9180\n",
            "Epoch 9/100\n",
            "58/57 [==============================] - 18s 309ms/step - loss: 32602816.8990 - mean_squared_error: 33018780.0000 - mean_absolute_error: 4160.2485\n",
            "Epoch 10/100\n",
            "58/57 [==============================] - 18s 310ms/step - loss: 36104842.0291 - mean_squared_error: 35323956.0000 - mean_absolute_error: 4279.8223\n",
            "Epoch 11/100\n",
            "58/57 [==============================] - 18s 308ms/step - loss: 53641911.7572 - mean_squared_error: 54180276.0000 - mean_absolute_error: 4788.8315\n",
            "Epoch 12/100\n",
            "58/57 [==============================] - 18s 308ms/step - loss: 26508921.8760 - mean_squared_error: 23915134.0000 - mean_absolute_error: 3590.4429\n",
            "Epoch 13/100\n",
            "58/57 [==============================] - 18s 311ms/step - loss: 23479004.4338 - mean_squared_error: 22996582.0000 - mean_absolute_error: 3455.8711\n",
            "Epoch 14/100\n",
            "58/57 [==============================] - 18s 308ms/step - loss: 20736234.5357 - mean_squared_error: 20800674.0000 - mean_absolute_error: 3231.5500\n",
            "Epoch 15/100\n",
            "58/57 [==============================] - 18s 310ms/step - loss: 17499535.3820 - mean_squared_error: 16911490.0000 - mean_absolute_error: 2928.0679\n",
            "Epoch 16/100\n",
            "58/57 [==============================] - 18s 310ms/step - loss: 13175148.5869 - mean_squared_error: 12877705.0000 - mean_absolute_error: 2676.7397\n",
            "Epoch 17/100\n",
            "58/57 [==============================] - 18s 310ms/step - loss: 9576941.1556 - mean_squared_error: 9372878.0000 - mean_absolute_error: 2088.1487\n",
            "Epoch 18/100\n",
            "58/57 [==============================] - 18s 309ms/step - loss: 9642727.7502 - mean_squared_error: 9594463.0000 - mean_absolute_error: 2240.6052\n",
            "Epoch 19/100\n",
            "58/57 [==============================] - 18s 309ms/step - loss: 5928085.4529 - mean_squared_error: 6008164.5000 - mean_absolute_error: 1832.5770\n",
            "Epoch 20/100\n",
            "58/57 [==============================] - 18s 310ms/step - loss: 6596710.7958 - mean_squared_error: 6678867.0000 - mean_absolute_error: 1819.7716\n",
            "Epoch 21/100\n",
            "58/57 [==============================] - 18s 309ms/step - loss: 7434021.6929 - mean_squared_error: 6863731.0000 - mean_absolute_error: 1869.1765\n",
            "Epoch 22/100\n",
            "58/57 [==============================] - 18s 309ms/step - loss: 9734691.5234 - mean_squared_error: 9836309.0000 - mean_absolute_error: 2232.5300\n",
            "Epoch 23/100\n",
            "58/57 [==============================] - 18s 310ms/step - loss: 8236598.9408 - mean_squared_error: 7953848.5000 - mean_absolute_error: 2068.1965\n",
            "Epoch 24/100\n",
            "58/57 [==============================] - 18s 309ms/step - loss: 8137015.2319 - mean_squared_error: 8193687.5000 - mean_absolute_error: 2024.7389\n",
            "Epoch 25/100\n",
            "58/57 [==============================] - 18s 309ms/step - loss: 6566004.6749 - mean_squared_error: 6633758.5000 - mean_absolute_error: 1755.8899\n",
            "Epoch 26/100\n",
            "58/57 [==============================] - 18s 311ms/step - loss: 6679259.3959 - mean_squared_error: 6770917.0000 - mean_absolute_error: 1685.1617\n",
            "Epoch 27/100\n",
            "58/57 [==============================] - 18s 311ms/step - loss: 6403150.1479 - mean_squared_error: 6424889.5000 - mean_absolute_error: 1773.5416\n",
            "Epoch 28/100\n",
            "58/57 [==============================] - 18s 311ms/step - loss: 5154401.9626 - mean_squared_error: 5078513.0000 - mean_absolute_error: 1601.6851\n",
            "Epoch 29/100\n",
            "58/57 [==============================] - 18s 310ms/step - loss: 8596718.4999 - mean_squared_error: 8677526.0000 - mean_absolute_error: 2034.9679\n",
            "Epoch 30/100\n",
            "58/57 [==============================] - 18s 310ms/step - loss: 7540055.0534 - mean_squared_error: 7551789.5000 - mean_absolute_error: 1949.0024\n",
            "Epoch 31/100\n",
            "58/57 [==============================] - 18s 310ms/step - loss: 12616773.4215 - mean_squared_error: 12435878.0000 - mean_absolute_error: 2431.6316\n",
            "Epoch 32/100\n",
            "58/57 [==============================] - 18s 312ms/step - loss: 6174213.4875 - mean_squared_error: 6163112.0000 - mean_absolute_error: 1750.4869\n",
            "Epoch 33/100\n",
            "58/57 [==============================] - 18s 312ms/step - loss: 3504233.6885 - mean_squared_error: 3375930.5000 - mean_absolute_error: 1372.3956\n",
            "Epoch 34/100\n",
            "58/57 [==============================] - 18s 310ms/step - loss: 2666417.0985 - mean_squared_error: 2685286.7500 - mean_absolute_error: 1209.0391\n",
            "Epoch 35/100\n",
            "58/57 [==============================] - 18s 310ms/step - loss: 3287116.9056 - mean_squared_error: 3226859.5000 - mean_absolute_error: 1313.8071\n",
            "Epoch 36/100\n",
            "58/57 [==============================] - 18s 313ms/step - loss: 3106983.0715 - mean_squared_error: 2913011.5000 - mean_absolute_error: 1220.3398\n",
            "Epoch 37/100\n",
            "58/57 [==============================] - 18s 308ms/step - loss: 7188939.5111 - mean_squared_error: 6199380.5000 - mean_absolute_error: 1749.0294\n",
            "Epoch 38/100\n",
            "58/57 [==============================] - 18s 312ms/step - loss: 6860107.3132 - mean_squared_error: 6846106.5000 - mean_absolute_error: 1776.3876\n",
            "Epoch 39/100\n",
            "58/57 [==============================] - 18s 311ms/step - loss: 9057260.5500 - mean_squared_error: 8853297.0000 - mean_absolute_error: 2045.2240\n",
            "Epoch 40/100\n",
            "58/57 [==============================] - 18s 309ms/step - loss: 8594314.0359 - mean_squared_error: 8562494.0000 - mean_absolute_error: 2085.4958\n",
            "Epoch 41/100\n",
            "58/57 [==============================] - 18s 311ms/step - loss: 4210222.5827 - mean_squared_error: 4268032.0000 - mean_absolute_error: 1504.9835\n",
            "Epoch 42/100\n",
            "58/57 [==============================] - 18s 310ms/step - loss: 10423418.1424 - mean_squared_error: 10566673.0000 - mean_absolute_error: 2059.9248\n",
            "Epoch 43/100\n",
            "58/57 [==============================] - 18s 310ms/step - loss: 8130056.5960 - mean_squared_error: 7185959.5000 - mean_absolute_error: 1860.6287\n",
            "Epoch 44/100\n",
            "58/57 [==============================] - 18s 311ms/step - loss: 8594282.7953 - mean_squared_error: 8645616.0000 - mean_absolute_error: 2102.8706\n",
            "Epoch 45/100\n",
            "58/57 [==============================] - 18s 313ms/step - loss: 6051086.3127 - mean_squared_error: 6133359.5000 - mean_absolute_error: 1580.5587\n",
            "Epoch 46/100\n",
            "58/57 [==============================] - 18s 308ms/step - loss: 6503675.7862 - mean_squared_error: 6592992.5000 - mean_absolute_error: 1850.8214\n",
            "Epoch 47/100\n",
            "58/57 [==============================] - 18s 311ms/step - loss: 3133073.8856 - mean_squared_error: 3148235.7500 - mean_absolute_error: 1313.7896\n",
            "Epoch 48/100\n",
            "58/57 [==============================] - 18s 312ms/step - loss: 2358266.5268 - mean_squared_error: 2354480.0000 - mean_absolute_error: 1185.8911\n",
            "Epoch 49/100\n",
            "58/57 [==============================] - 18s 312ms/step - loss: 2682990.0804 - mean_squared_error: 2642994.0000 - mean_absolute_error: 1131.5466\n",
            "Epoch 50/100\n",
            "58/57 [==============================] - 18s 311ms/step - loss: 2177105.0257 - mean_squared_error: 2116531.2500 - mean_absolute_error: 984.3148\n",
            "Epoch 51/100\n",
            "58/57 [==============================] - 18s 312ms/step - loss: 5085723.8348 - mean_squared_error: 4569058.5000 - mean_absolute_error: 1516.5175\n",
            "Epoch 52/100\n",
            "58/57 [==============================] - 18s 310ms/step - loss: 5735134.2122 - mean_squared_error: 5811896.0000 - mean_absolute_error: 1701.7646\n",
            "Epoch 53/100\n",
            "58/57 [==============================] - 18s 312ms/step - loss: 4272323.7185 - mean_squared_error: 4313988.0000 - mean_absolute_error: 1506.1930\n",
            "Epoch 54/100\n",
            "58/57 [==============================] - 18s 308ms/step - loss: 2084005.9237 - mean_squared_error: 2095398.2500 - mean_absolute_error: 1049.4985\n",
            "Epoch 55/100\n",
            "58/57 [==============================] - 18s 309ms/step - loss: 138017201.8864 - mean_squared_error: 110478624.0000 - mean_absolute_error: 6017.0488\n",
            "Epoch 56/100\n",
            "58/57 [==============================] - 18s 309ms/step - loss: 212502231.2696 - mean_squared_error: 209737952.0000 - mean_absolute_error: 10716.7158\n",
            "Epoch 57/100\n",
            "58/57 [==============================] - 18s 309ms/step - loss: 162007253.1842 - mean_squared_error: 160295824.0000 - mean_absolute_error: 9121.5566\n",
            "Epoch 58/100\n",
            "58/57 [==============================] - 18s 309ms/step - loss: 99804431.2416 - mean_squared_error: 98513080.0000 - mean_absolute_error: 6871.2437\n",
            "Epoch 59/100\n",
            "58/57 [==============================] - 18s 308ms/step - loss: 110944178.2122 - mean_squared_error: 110729024.0000 - mean_absolute_error: 7245.4697\n",
            "Epoch 60/100\n",
            "58/57 [==============================] - 18s 310ms/step - loss: 65056377.6018 - mean_squared_error: 65702080.0000 - mean_absolute_error: 6055.6777\n",
            "Epoch 61/100\n",
            "58/57 [==============================] - 18s 309ms/step - loss: 32976856.2173 - mean_squared_error: 33411050.0000 - mean_absolute_error: 4166.7251\n",
            "Epoch 62/100\n",
            "58/57 [==============================] - 18s 309ms/step - loss: 32881924.9193 - mean_squared_error: 33266036.0000 - mean_absolute_error: 4031.5254\n",
            "Epoch 63/100\n",
            "58/57 [==============================] - 18s 309ms/step - loss: 23754610.4108 - mean_squared_error: 23499022.0000 - mean_absolute_error: 3585.7710\n",
            "Epoch 64/100\n",
            "58/57 [==============================] - 18s 309ms/step - loss: 32534533.6456 - mean_squared_error: 31024598.0000 - mean_absolute_error: 3969.8506\n",
            "Epoch 65/100\n",
            "58/57 [==============================] - 18s 313ms/step - loss: 25913902.4090 - mean_squared_error: 26246646.0000 - mean_absolute_error: 3673.8269\n",
            "Epoch 66/100\n",
            "58/57 [==============================] - 18s 311ms/step - loss: 12515906.0422 - mean_squared_error: 12683416.0000 - mean_absolute_error: 2684.5825\n",
            "Epoch 67/100\n",
            "58/57 [==============================] - 18s 310ms/step - loss: 10143224.6259 - mean_squared_error: 9430100.0000 - mean_absolute_error: 2273.7271\n",
            "Epoch 68/100\n",
            "58/57 [==============================] - 18s 308ms/step - loss: 9405346.4320 - mean_squared_error: 9462573.0000 - mean_absolute_error: 2214.0330\n",
            "Epoch 69/100\n",
            "58/57 [==============================] - 18s 310ms/step - loss: 8297951.6109 - mean_squared_error: 8392533.0000 - mean_absolute_error: 2119.3462\n",
            "Epoch 70/100\n",
            "58/57 [==============================] - 18s 311ms/step - loss: 7168265.7848 - mean_squared_error: 6932958.0000 - mean_absolute_error: 1957.3604\n",
            "Epoch 71/100\n",
            "58/57 [==============================] - 18s 309ms/step - loss: 6245725.6109 - mean_squared_error: 6144293.5000 - mean_absolute_error: 1841.6737\n",
            "Epoch 72/100\n",
            "58/57 [==============================] - 18s 311ms/step - loss: 8943465.2386 - mean_squared_error: 7613724.5000 - mean_absolute_error: 1978.6836\n",
            "Epoch 73/100\n",
            "58/57 [==============================] - 18s 310ms/step - loss: 12803657.2613 - mean_squared_error: 12952456.0000 - mean_absolute_error: 2568.7764\n",
            "Epoch 74/100\n",
            "58/57 [==============================] - 18s 310ms/step - loss: 10374973.7043 - mean_squared_error: 10102051.0000 - mean_absolute_error: 2365.8296\n",
            "Epoch 75/100\n",
            "58/57 [==============================] - 18s 309ms/step - loss: 7628711.5625 - mean_squared_error: 7650134.0000 - mean_absolute_error: 1903.0334\n",
            "Epoch 76/100\n",
            "58/57 [==============================] - 18s 310ms/step - loss: 6354842.6047 - mean_squared_error: 6060476.0000 - mean_absolute_error: 1761.0931\n",
            "Epoch 77/100\n",
            "58/57 [==============================] - 18s 312ms/step - loss: 4762955.5721 - mean_squared_error: 4816332.0000 - mean_absolute_error: 1565.7137\n",
            "Epoch 78/100\n",
            "58/57 [==============================] - 18s 310ms/step - loss: 5288495.3852 - mean_squared_error: 5359904.0000 - mean_absolute_error: 1712.4589\n",
            "Epoch 79/100\n",
            "58/57 [==============================] - 18s 308ms/step - loss: 4659532.1596 - mean_squared_error: 4713271.5000 - mean_absolute_error: 1587.5594\n",
            "Epoch 80/100\n",
            "58/57 [==============================] - 18s 312ms/step - loss: 3600069.3027 - mean_squared_error: 3468352.2500 - mean_absolute_error: 1372.5021\n",
            "Epoch 81/100\n",
            "58/57 [==============================] - 18s 309ms/step - loss: 5656680.8442 - mean_squared_error: 5684000.0000 - mean_absolute_error: 1757.5139\n",
            "Epoch 82/100\n",
            "58/57 [==============================] - 18s 312ms/step - loss: 3798620.4440 - mean_squared_error: 3773703.2500 - mean_absolute_error: 1461.6924\n",
            "Epoch 83/100\n",
            "58/57 [==============================] - 18s 305ms/step - loss: 3695796.1058 - mean_squared_error: 3744328.5000 - mean_absolute_error: 1451.3877\n",
            "Epoch 84/100\n",
            "58/57 [==============================] - 18s 311ms/step - loss: 3636852.4519 - mean_squared_error: 2642276.5000 - mean_absolute_error: 1166.6027\n",
            "Epoch 85/100\n",
            "58/57 [==============================] - 18s 309ms/step - loss: 7715525.6803 - mean_squared_error: 6222289.0000 - mean_absolute_error: 1747.3993\n",
            "Epoch 86/100\n",
            "58/57 [==============================] - 18s 308ms/step - loss: 8444925.1475 - mean_squared_error: 8554419.0000 - mean_absolute_error: 2030.7522\n",
            "Epoch 87/100\n",
            "58/57 [==============================] - 18s 307ms/step - loss: 4389795.4723 - mean_squared_error: 4441599.0000 - mean_absolute_error: 1559.0005\n",
            "Epoch 88/100\n",
            "58/57 [==============================] - 18s 308ms/step - loss: 2036584.4597 - mean_squared_error: 2033989.8750 - mean_absolute_error: 1103.1531\n",
            "Epoch 89/100\n",
            "58/57 [==============================] - 18s 310ms/step - loss: 4126033.6542 - mean_squared_error: 3755583.0000 - mean_absolute_error: 1390.4316\n",
            "Epoch 90/100\n",
            "58/57 [==============================] - 18s 308ms/step - loss: 3405692.0342 - mean_squared_error: 3409811.2500 - mean_absolute_error: 1384.7261\n",
            "Epoch 91/100\n",
            "58/57 [==============================] - 18s 308ms/step - loss: 2459726.3679 - mean_squared_error: 2250290.2500 - mean_absolute_error: 1093.0598\n",
            "Epoch 92/100\n",
            "58/57 [==============================] - 18s 311ms/step - loss: 3394477.4320 - mean_squared_error: 3382138.7500 - mean_absolute_error: 1378.7753\n",
            "Epoch 93/100\n",
            "58/57 [==============================] - 18s 308ms/step - loss: 3349024.1310 - mean_squared_error: 3361765.2500 - mean_absolute_error: 1330.5636\n",
            "Epoch 94/100\n",
            "58/57 [==============================] - 18s 308ms/step - loss: 2261494.1498 - mean_squared_error: 2154326.0000 - mean_absolute_error: 1087.1130\n",
            "Epoch 95/100\n",
            "58/57 [==============================] - 18s 311ms/step - loss: 3561861.7588 - mean_squared_error: 3411831.5000 - mean_absolute_error: 1365.6562\n",
            "Epoch 96/100\n",
            "58/57 [==============================] - 18s 312ms/step - loss: 4268535.8015 - mean_squared_error: 4101940.0000 - mean_absolute_error: 1528.4016\n",
            "Epoch 97/100\n",
            "58/57 [==============================] - 18s 310ms/step - loss: 2568123.1041 - mean_squared_error: 2351019.7500 - mean_absolute_error: 1143.4681\n",
            "Epoch 98/100\n",
            "58/57 [==============================] - 18s 310ms/step - loss: 3077386.9637 - mean_squared_error: 3079917.7500 - mean_absolute_error: 1298.4940\n",
            "Epoch 99/100\n",
            "58/57 [==============================] - 18s 310ms/step - loss: 2379262.8652 - mean_squared_error: 2387719.7500 - mean_absolute_error: 1195.7443\n",
            "Epoch 100/100\n",
            "58/57 [==============================] - 18s 312ms/step - loss: 2059685.1344 - mean_squared_error: 2084061.1250 - mean_absolute_error: 1012.8558\n"
          ],
          "name": "stdout"
        },
        {
          "output_type": "execute_result",
          "data": {
            "text/plain": [
              "<tensorflow.python.keras.callbacks.History at 0x7f8b6f03f2e8>"
            ]
          },
          "metadata": {
            "tags": []
          },
          "execution_count": 43
        }
      ]
    },
    {
      "cell_type": "code",
      "metadata": {
        "colab_type": "code",
        "id": "n1XeOAyH1vIN",
        "outputId": "7d26fc79-0a5a-441f-d9e9-a0fe5acc30de",
        "colab": {
          "base_uri": "https://localhost:8080/",
          "height": 70
        }
      },
      "source": [
        "# Calculate the test performance\n",
        "test_score = model.evaluate_generator(test_generator)\n",
        "print('Test loss: '+str(test_score[0]))\n",
        "print('Test MSE: '+str(test_score[1]))\n",
        "print('Test MAE: '+str(test_score[2]))"
      ],
      "execution_count": 0,
      "outputs": [
        {
          "output_type": "stream",
          "text": [
            "Test loss: 213706958.70185646\n",
            "Test MSE: 213706930.0\n",
            "Test MAE: 10974.577\n"
          ],
          "name": "stdout"
        }
      ]
    },
    {
      "cell_type": "code",
      "metadata": {
        "colab_type": "code",
        "id": "jmzlLEqIyAEc",
        "colab": {}
      },
      "source": [
        ""
      ],
      "execution_count": 0,
      "outputs": []
    }
  ]
}