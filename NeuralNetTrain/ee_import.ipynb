{
  "nbformat": 4,
  "nbformat_minor": 0,
  "metadata": {
    "colab": {
      "name": "ee_import.ipynb",
      "provenance": [],
      "collapsed_sections": [],
      "toc_visible": true,
      "machine_shape": "hm"
    },
    "kernelspec": {
      "name": "python3",
      "display_name": "Python 3"
    },
    "accelerator": "GPU"
  },
  "cells": [
    {
      "cell_type": "markdown",
      "metadata": {
        "colab_type": "text",
        "id": "jcCwLDmWkrHi"
      },
      "source": [
        "## PreProcess Images and feed into CNN"
      ]
    },
    {
      "cell_type": "code",
      "metadata": {
        "colab_type": "code",
        "id": "KnRwnXgRkXTH",
        "outputId": "a50d8e8f-801a-4b64-bb6b-32269e7a4c73",
        "colab": {
          "base_uri": "https://localhost:8080/",
          "height": 125
        }
      },
      "source": [
        "# Mount Google Drive\n",
        "from google.colab import drive\n",
        "drive.mount('/gdrive')"
      ],
      "execution_count": 1,
      "outputs": [
        {
          "output_type": "stream",
          "text": [
            "Go to this URL in a browser: https://accounts.google.com/o/oauth2/auth?client_id=947318989803-6bn6qk8qdgf4n4g3pfee6491hc0brc4i.apps.googleusercontent.com&redirect_uri=urn%3aietf%3awg%3aoauth%3a2.0%3aoob&response_type=code&scope=email%20https%3a%2f%2fwww.googleapis.com%2fauth%2fdocs.test%20https%3a%2f%2fwww.googleapis.com%2fauth%2fdrive%20https%3a%2f%2fwww.googleapis.com%2fauth%2fdrive.photos.readonly%20https%3a%2f%2fwww.googleapis.com%2fauth%2fpeopleapi.readonly\n",
            "\n",
            "Enter your authorization code:\n",
            "··········\n",
            "Mounted at /gdrive\n"
          ],
          "name": "stdout"
        }
      ]
    },
    {
      "cell_type": "code",
      "metadata": {
        "colab_type": "code",
        "id": "1Lfk-ya7Ux0k",
        "outputId": "575c80a9-104d-40b2-9773-0be9ad2306a6",
        "colab": {
          "base_uri": "https://localhost:8080/",
          "height": 87
        }
      },
      "source": [
        "# Install package to handle .tiff data\n",
        "!pip install pyrsgis"
      ],
      "execution_count": 2,
      "outputs": [
        {
          "output_type": "stream",
          "text": [
            "Collecting pyrsgis\n",
            "  Downloading https://files.pythonhosted.org/packages/35/ab/7fcabaa7a75977e79fa535d781f2be92cd71331e9b21457b836442f3a475/pyrsgis-0.2.6-py3-none-any.whl\n",
            "Installing collected packages: pyrsgis\n",
            "Successfully installed pyrsgis-0.2.6\n"
          ],
          "name": "stdout"
        }
      ]
    },
    {
      "cell_type": "code",
      "metadata": {
        "id": "eA5AhCi0KFdG",
        "colab_type": "code",
        "outputId": "fb767ef1-b8b8-4970-ca87-f713349ec841",
        "colab": {
          "base_uri": "https://localhost:8080/",
          "height": 141
        }
      },
      "source": [
        "# Clone my git repo for preprocessing the images\n",
        "\n",
        "!git clone https://github.com/maxjonasbehrens/master_thesis_code\n",
        "#%cd /content/master_thesis_code\n",
        "#!git pull"
      ],
      "execution_count": 3,
      "outputs": [
        {
          "output_type": "stream",
          "text": [
            "Cloning into 'master_thesis_code'...\n",
            "remote: Enumerating objects: 154, done.\u001b[K\n",
            "remote: Counting objects:   0% (1/154)\u001b[K\rremote: Counting objects:   1% (2/154)\u001b[K\rremote: Counting objects:   2% (4/154)\u001b[K\rremote: Counting objects:   3% (5/154)\u001b[K\rremote: Counting objects:   4% (7/154)\u001b[K\rremote: Counting objects:   5% (8/154)\u001b[K\rremote: Counting objects:   6% (10/154)\u001b[K\rremote: Counting objects:   7% (11/154)\u001b[K\rremote: Counting objects:   8% (13/154)\u001b[K\rremote: Counting objects:   9% (14/154)\u001b[K\rremote: Counting objects:  10% (16/154)\u001b[K\rremote: Counting objects:  11% (17/154)\u001b[K\rremote: Counting objects:  12% (19/154)\u001b[K\rremote: Counting objects:  13% (21/154)\u001b[K\rremote: Counting objects:  14% (22/154)\u001b[K\rremote: Counting objects:  15% (24/154)\u001b[K\rremote: Counting objects:  16% (25/154)\u001b[K\rremote: Counting objects:  17% (27/154)\u001b[K\rremote: Counting objects:  18% (28/154)\u001b[K\rremote: Counting objects:  19% (30/154)\u001b[K\rremote: Counting objects:  20% (31/154)\u001b[K\rremote: Counting objects:  21% (33/154)\u001b[K\rremote: Counting objects:  22% (34/154)\u001b[K\rremote: Counting objects:  23% (36/154)\u001b[K\rremote: Counting objects:  24% (37/154)\u001b[K\rremote: Counting objects:  25% (39/154)\u001b[K\rremote: Counting objects:  26% (41/154)\u001b[K\rremote: Counting objects:  27% (42/154)\u001b[K\rremote: Counting objects:  28% (44/154)\u001b[K\rremote: Counting objects:  29% (45/154)\u001b[K\rremote: Counting objects:  30% (47/154)\u001b[K\rremote: Counting objects:  31% (48/154)\u001b[K\rremote: Counting objects:  32% (50/154)\u001b[K\rremote: Counting objects:  33% (51/154)\u001b[K\rremote: Counting objects:  34% (53/154)\u001b[K\rremote: Counting objects:  35% (54/154)\u001b[K\rremote: Counting objects:  36% (56/154)\u001b[K\rremote: Counting objects:  37% (57/154)\u001b[K\rremote: Counting objects:  38% (59/154)\u001b[K\rremote: Counting objects:  39% (61/154)\u001b[K\rremote: Counting objects:  40% (62/154)\u001b[K\rremote: Counting objects:  41% (64/154)\u001b[K\rremote: Counting objects:  42% (65/154)\u001b[K\rremote: Counting objects:  43% (67/154)\u001b[K\rremote: Counting objects:  44% (68/154)\u001b[K\rremote: Counting objects:  45% (70/154)\u001b[K\rremote: Counting objects:  46% (71/154)\u001b[K\rremote: Counting objects:  47% (73/154)\u001b[K\rremote: Counting objects:  48% (74/154)\u001b[K\rremote: Counting objects:  49% (76/154)\u001b[K\rremote: Counting objects:  50% (77/154)\u001b[K\rremote: Counting objects:  51% (79/154)\u001b[K\rremote: Counting objects:  52% (81/154)\u001b[K\rremote: Counting objects:  53% (82/154)\u001b[K\rremote: Counting objects:  54% (84/154)\u001b[K\rremote: Counting objects:  55% (85/154)\u001b[K\rremote: Counting objects:  56% (87/154)\u001b[K\rremote: Counting objects:  57% (88/154)\u001b[K\rremote: Counting objects:  58% (90/154)\u001b[K\rremote: Counting objects:  59% (91/154)\u001b[K\rremote: Counting objects:  60% (93/154)\u001b[K\rremote: Counting objects:  61% (94/154)\u001b[K\rremote: Counting objects:  62% (96/154)\u001b[K\rremote: Counting objects:  63% (98/154)\u001b[K\rremote: Counting objects:  64% (99/154)\u001b[K\rremote: Counting objects:  65% (101/154)\u001b[K\rremote: Counting objects:  66% (102/154)\u001b[K\rremote: Counting objects:  67% (104/154)\u001b[K\rremote: Counting objects:  68% (105/154)\u001b[K\rremote: Counting objects:  69% (107/154)\u001b[K\rremote: Counting objects:  70% (108/154)\u001b[K\rremote: Counting objects:  71% (110/154)\u001b[K\rremote: Counting objects:  72% (111/154)\u001b[K\rremote: Counting objects:  73% (113/154)\u001b[K\rremote: Counting objects:  74% (114/154)\u001b[K\rremote: Counting objects:  75% (116/154)\u001b[K\rremote: Counting objects:  76% (118/154)\u001b[K\rremote: Counting objects:  77% (119/154)\u001b[K\rremote: Counting objects:  78% (121/154)\u001b[K\rremote: Counting objects:  79% (122/154)\u001b[K\rremote: Counting objects:  80% (124/154)\u001b[K\rremote: Counting objects:  81% (125/154)\u001b[K\rremote: Counting objects:  82% (127/154)\u001b[K\rremote: Counting objects:  83% (128/154)\u001b[K\rremote: Counting objects:  84% (130/154)\u001b[K\rremote: Counting objects:  85% (131/154)\u001b[K\rremote: Counting objects:  86% (133/154)\u001b[K\rremote: Counting objects:  87% (134/154)\u001b[K\rremote: Counting objects:  88% (136/154)\u001b[K\rremote: Counting objects:  89% (138/154)\u001b[K\rremote: Counting objects:  90% (139/154)\u001b[K\rremote: Counting objects:  91% (141/154)\u001b[K\rremote: Counting objects:  92% (142/154)\u001b[K\rremote: Counting objects:  93% (144/154)\u001b[K\rremote: Counting objects:  94% (145/154)\u001b[K\rremote: Counting objects:  95% (147/154)\u001b[K\rremote: Counting objects:  96% (148/154)\u001b[K\rremote: Counting objects:  97% (150/154)\u001b[K\rremote: Counting objects:  98% (151/154)\u001b[K\rremote: Counting objects:  99% (153/154)\u001b[K\rremote: Counting objects: 100% (154/154)\u001b[K\rremote: Counting objects: 100% (154/154), done.\u001b[K\n",
            "remote: Compressing objects:   0% (1/116)\u001b[K\rremote: Compressing objects:   1% (2/116)\u001b[K\rremote: Compressing objects:   2% (3/116)\u001b[K\rremote: Compressing objects:   3% (4/116)\u001b[K\rremote: Compressing objects:   4% (5/116)\u001b[K\rremote: Compressing objects:   5% (6/116)\u001b[K\rremote: Compressing objects:   6% (7/116)\u001b[K\rremote: Compressing objects:   7% (9/116)\u001b[K\rremote: Compressing objects:   8% (10/116)\u001b[K\rremote: Compressing objects:   9% (11/116)\u001b[K\rremote: Compressing objects:  10% (12/116)\u001b[K\rremote: Compressing objects:  11% (13/116)\u001b[K\rremote: Compressing objects:  12% (14/116)\u001b[K\rremote: Compressing objects:  13% (16/116)\u001b[K\rremote: Compressing objects:  14% (17/116)\u001b[K\rremote: Compressing objects:  15% (18/116)\u001b[K\rremote: Compressing objects:  16% (19/116)\u001b[K\rremote: Compressing objects:  17% (20/116)\u001b[K\rremote: Compressing objects:  18% (21/116)\u001b[K\rremote: Compressing objects:  19% (23/116)\u001b[K\rremote: Compressing objects:  20% (24/116)\u001b[K\rremote: Compressing objects:  21% (25/116)\u001b[K\rremote: Compressing objects:  22% (26/116)\u001b[K\rremote: Compressing objects:  23% (27/116)\u001b[K\rremote: Compressing objects:  24% (28/116)\u001b[K\rremote: Compressing objects:  25% (29/116)\u001b[K\rremote: Compressing objects:  26% (31/116)\u001b[K\rremote: Compressing objects:  27% (32/116)\u001b[K\rremote: Compressing objects:  28% (33/116)\u001b[K\rremote: Compressing objects:  29% (34/116)\u001b[K\rremote: Compressing objects:  30% (35/116)\u001b[K\rremote: Compressing objects:  31% (36/116)\u001b[K\rremote: Compressing objects:  32% (38/116)\u001b[K\rremote: Compressing objects:  33% (39/116)\u001b[K\rremote: Compressing objects:  34% (40/116)\u001b[K\rremote: Compressing objects:  35% (41/116)\u001b[K\rremote: Compressing objects:  36% (42/116)\u001b[K\rremote: Compressing objects:  37% (43/116)\u001b[K\rremote: Compressing objects:  38% (45/116)\u001b[K\rremote: Compressing objects:  39% (46/116)\u001b[K\rremote: Compressing objects:  40% (47/116)\u001b[K\rremote: Compressing objects:  41% (48/116)\u001b[K\rremote: Compressing objects:  42% (49/116)\u001b[K\rremote: Compressing objects:  43% (50/116)\u001b[K\rremote: Compressing objects:  44% (52/116)\u001b[K\rremote: Compressing objects:  45% (53/116)\u001b[K\rremote: Compressing objects:  46% (54/116)\u001b[K\rremote: Compressing objects:  47% (55/116)\u001b[K\rremote: Compressing objects:  48% (56/116)\u001b[K\rremote: Compressing objects:  49% (57/116)\u001b[K\rremote: Compressing objects:  50% (58/116)\u001b[K\rremote: Compressing objects:  51% (60/116)\u001b[K\rremote: Compressing objects:  52% (61/116)\u001b[K\rremote: Compressing objects:  53% (62/116)\u001b[K\rremote: Compressing objects:  54% (63/116)\u001b[K\rremote: Compressing objects:  55% (64/116)\u001b[K\rremote: Compressing objects:  56% (65/116)\u001b[K\rremote: Compressing objects:  57% (67/116)\u001b[K\rremote: Compressing objects:  58% (68/116)\u001b[K\rremote: Compressing objects:  59% (69/116)\u001b[K\rremote: Compressing objects:  60% (70/116)\u001b[K\rremote: Compressing objects:  61% (71/116)\u001b[K\rremote: Compressing objects:  62% (72/116)\u001b[K\rremote: Compressing objects:  63% (74/116)\u001b[K\rremote: Compressing objects:  64% (75/116)\u001b[K\rremote: Compressing objects:  65% (76/116)\u001b[K\rremote: Compressing objects:  66% (77/116)\u001b[K\rremote: Compressing objects:  67% (78/116)\u001b[K\rremote: Compressing objects:  68% (79/116)\u001b[K\rremote: Compressing objects:  69% (81/116)\u001b[K\rremote: Compressing objects:  70% (82/116)\u001b[K\rremote: Compressing objects:  71% (83/116)\u001b[K\rremote: Compressing objects:  72% (84/116)\u001b[K\rremote: Compressing objects:  73% (85/116)\u001b[K\rremote: Compressing objects:  74% (86/116)\u001b[K\rremote: Compressing objects:  75% (87/116)\u001b[K\rremote: Compressing objects:  76% (89/116)\u001b[K\rremote: Compressing objects:  77% (90/116)\u001b[K\rremote: Compressing objects:  78% (91/116)\u001b[K\rremote: Compressing objects:  79% (92/116)\u001b[K\rremote: Compressing objects:  80% (93/116)\u001b[K\rremote: Compressing objects:  81% (94/116)\u001b[K\rremote: Compressing objects:  82% (96/116)\u001b[K\rremote: Compressing objects:  83% (97/116)\u001b[K\rremote: Compressing objects:  84% (98/116)\u001b[K\rremote: Compressing objects:  85% (99/116)\u001b[K\rremote: Compressing objects:  86% (100/116)\u001b[K\rremote: Compressing objects:  87% (101/116)\u001b[K\rremote: Compressing objects:  88% (103/116)\u001b[K\rremote: Compressing objects:  89% (104/116)\u001b[K\rremote: Compressing objects:  90% (105/116)\u001b[K\rremote: Compressing objects:  91% (106/116)\u001b[K\rremote: Compressing objects:  92% (107/116)\u001b[K\rremote: Compressing objects:  93% (108/116)\u001b[K\rremote: Compressing objects:  94% (110/116)\u001b[K\rremote: Compressing objects:  95% (111/116)\u001b[K\rremote: Compressing objects:  96% (112/116)\u001b[K\rremote: Compressing objects:  97% (113/116)\u001b[K\rremote: Compressing objects:  98% (114/116)\u001b[K\rremote: Compressing objects:  99% (115/116)\u001b[K\rremote: Compressing objects: 100% (116/116)\u001b[K\rremote: Compressing objects: 100% (116/116), done.\u001b[K\n",
            "Receiving objects:   0% (1/476)   \rReceiving objects:   1% (5/476)   \rReceiving objects:   2% (10/476)   \rReceiving objects:   3% (15/476)   \rReceiving objects:   4% (20/476)   \rReceiving objects:   5% (24/476)   \rReceiving objects:   6% (29/476)   \rReceiving objects:   7% (34/476)   \rReceiving objects:   8% (39/476)   \rReceiving objects:   9% (43/476)   \rReceiving objects:  10% (48/476)   \rReceiving objects:  11% (53/476)   \rReceiving objects:  12% (58/476)   \rReceiving objects:  13% (62/476)   \rReceiving objects:  14% (67/476)   \rReceiving objects:  15% (72/476)   \rReceiving objects:  16% (77/476)   \rReceiving objects:  17% (81/476)   \rReceiving objects:  18% (86/476)   \rReceiving objects:  19% (91/476)   \rReceiving objects:  20% (96/476)   \rReceiving objects:  21% (100/476)   \rReceiving objects:  22% (105/476)   \rReceiving objects:  23% (110/476)   \rReceiving objects:  24% (115/476)   \rReceiving objects:  25% (119/476)   \rReceiving objects:  26% (124/476)   \rReceiving objects:  27% (129/476)   \rReceiving objects:  28% (134/476)   \rReceiving objects:  29% (139/476)   \rReceiving objects:  30% (143/476)   \rReceiving objects:  31% (148/476)   \rReceiving objects:  32% (153/476)   \rReceiving objects:  33% (158/476)   \rReceiving objects:  34% (162/476)   \rReceiving objects:  35% (167/476)   \rReceiving objects:  36% (172/476)   \rReceiving objects:  37% (177/476)   \rReceiving objects:  38% (181/476)   \rReceiving objects:  39% (186/476)   \rReceiving objects:  40% (191/476)   \rReceiving objects:  41% (196/476)   \rReceiving objects:  42% (200/476)   \rReceiving objects:  43% (205/476)   \rReceiving objects:  44% (210/476)   \rReceiving objects:  45% (215/476)   \rReceiving objects:  46% (219/476)   \rReceiving objects:  47% (224/476)   \rReceiving objects:  48% (229/476)   \rReceiving objects:  49% (234/476)   \rReceiving objects:  50% (238/476)   \rReceiving objects:  51% (243/476)   \rReceiving objects:  52% (248/476)   \rReceiving objects:  53% (253/476)   \rReceiving objects:  54% (258/476)   \rReceiving objects:  55% (262/476)   \rReceiving objects:  56% (267/476)   \rReceiving objects:  57% (272/476)   \rReceiving objects:  58% (277/476)   \rReceiving objects:  59% (281/476)   \rReceiving objects:  60% (286/476)   \rReceiving objects:  61% (291/476)   \rReceiving objects:  62% (296/476)   \rReceiving objects:  63% (300/476)   \rReceiving objects:  64% (305/476)   \rReceiving objects:  65% (310/476)   \rReceiving objects:  66% (315/476)   \rReceiving objects:  67% (319/476)   \rReceiving objects:  68% (324/476)   \rReceiving objects:  69% (329/476)   \rReceiving objects:  70% (334/476)   \rReceiving objects:  71% (338/476)   \rReceiving objects:  72% (343/476)   \rReceiving objects:  73% (348/476)   \rReceiving objects:  74% (353/476)   \rReceiving objects:  75% (357/476)   \rReceiving objects:  76% (362/476)   \rReceiving objects:  77% (367/476)   \rReceiving objects:  78% (372/476)   \rReceiving objects:  79% (377/476)   \rReceiving objects:  80% (381/476)   \rReceiving objects:  81% (386/476)   \rReceiving objects:  82% (391/476)   \rReceiving objects:  83% (396/476)   \rReceiving objects:  84% (400/476)   \rReceiving objects:  85% (405/476)   \rReceiving objects:  86% (410/476)   \rReceiving objects:  87% (415/476)   \rReceiving objects:  88% (419/476)   \rReceiving objects:  89% (424/476)   \rReceiving objects:  90% (429/476)   \rremote: Total 476 (delta 84), reused 88 (delta 38), pack-reused 322\u001b[K\n",
            "Receiving objects:  91% (434/476)   \rReceiving objects:  92% (438/476)   \rReceiving objects:  93% (443/476)   \rReceiving objects:  94% (448/476)   \rReceiving objects:  95% (453/476)   \rReceiving objects:  96% (457/476)   \rReceiving objects:  97% (462/476)   \rReceiving objects:  98% (467/476)   \rReceiving objects:  99% (472/476)   \rReceiving objects: 100% (476/476)   \rReceiving objects: 100% (476/476), 1.19 MiB | 15.26 MiB/s, done.\n",
            "Resolving deltas:   0% (0/249)   \rResolving deltas:   1% (3/249)   \rResolving deltas:   4% (11/249)   \rResolving deltas:   6% (16/249)   \rResolving deltas:  12% (32/249)   \rResolving deltas:  16% (40/249)   \rResolving deltas:  17% (43/249)   \rResolving deltas:  22% (56/249)   \rResolving deltas:  24% (60/249)   \rResolving deltas:  26% (66/249)   \rResolving deltas:  27% (68/249)   \rResolving deltas:  29% (73/249)   \rResolving deltas:  34% (86/249)   \rResolving deltas:  35% (88/249)   \rResolving deltas:  47% (118/249)   \rResolving deltas:  48% (121/249)   \rResolving deltas:  51% (128/249)   \rResolving deltas:  53% (132/249)   \rResolving deltas:  54% (136/249)   \rResolving deltas:  56% (140/249)   \rResolving deltas:  57% (142/249)   \rResolving deltas:  58% (145/249)   \rResolving deltas:  62% (155/249)   \rResolving deltas:  63% (157/249)   \rResolving deltas:  64% (160/249)   \rResolving deltas:  76% (190/249)   \rResolving deltas:  77% (193/249)   \rResolving deltas:  79% (198/249)   \rResolving deltas:  86% (215/249)   \rResolving deltas:  87% (217/249)   \rResolving deltas:  88% (220/249)   \rResolving deltas:  91% (229/249)   \rResolving deltas:  94% (235/249)   \rResolving deltas:  95% (239/249)   \rResolving deltas:  96% (240/249)   \rResolving deltas: 100% (249/249)   \rResolving deltas: 100% (249/249), done.\n"
          ],
          "name": "stdout"
        }
      ]
    },
    {
      "cell_type": "code",
      "metadata": {
        "id": "MbcpkAIYKSkw",
        "colab_type": "code",
        "colab": {}
      },
      "source": [
        "# Load Python script for preprocessing\n",
        "%load /content/master_thesis_code/NeuralNetTrain/imgProcessing/sat_images.py"
      ],
      "execution_count": 0,
      "outputs": []
    },
    {
      "cell_type": "code",
      "metadata": {
        "colab_type": "code",
        "id": "CwZd9v4Ukxt6",
        "outputId": "89cb6b41-6fdd-4b99-b4a6-69bf2a940d8e",
        "colab": {
          "base_uri": "https://localhost:8080/",
          "height": 81
        }
      },
      "source": [
        "# Load necessary packages\n",
        "import tensorflow as tf\n",
        "import numpy as np\n",
        "import pandas as pd\n",
        "from tensorflow import keras\n",
        "import pyrsgis\n",
        "import cv2\n",
        "from skimage.transform import resize\n",
        "from PIL import Image\n",
        "%matplotlib inline \n",
        "from matplotlib import pyplot as plt\n",
        "from os import listdir\n",
        "from os.path import isfile, join\n",
        "import scipy.io\n",
        "import sklearn.model_selection\n",
        "import imageio"
      ],
      "execution_count": 5,
      "outputs": [
        {
          "output_type": "display_data",
          "data": {
            "text/html": [
              "<p style=\"color: red;\">\n",
              "The default version of TensorFlow in Colab will soon switch to TensorFlow 2.x.<br>\n",
              "We recommend you <a href=\"https://www.tensorflow.org/guide/migrate\" target=\"_blank\">upgrade</a> now \n",
              "or ensure your notebook will continue to use TensorFlow 1.x via the <code>%tensorflow_version 1.x</code> magic:\n",
              "<a href=\"https://colab.research.google.com/notebooks/tensorflow_version.ipynb\" target=\"_blank\">more info</a>.</p>\n"
            ],
            "text/plain": [
              "<IPython.core.display.HTML object>"
            ]
          },
          "metadata": {
            "tags": []
          }
        },
        {
          "output_type": "stream",
          "text": [
            "Warning! matplotlib_scalebar library not found.\n"
          ],
          "name": "stdout"
        }
      ]
    },
    {
      "cell_type": "code",
      "metadata": {
        "id": "yoaE3NmFOOAD",
        "colab_type": "code",
        "colab": {}
      },
      "source": [
        "# Import own module to preprocess images\n",
        "import imp\n",
        "sat_images = imp.new_module('sat_images')\n",
        "exec(open(\"/content/master_thesis_code/NeuralNetTrain/imgProcessing/sat_images.py\").read(), sat_images.__dict__)"
      ],
      "execution_count": 0,
      "outputs": []
    },
    {
      "cell_type": "markdown",
      "metadata": {
        "colab_type": "text",
        "id": "V8Lm_M34332n"
      },
      "source": [
        "## Test for one image"
      ]
    },
    {
      "cell_type": "code",
      "metadata": {
        "colab_type": "code",
        "id": "VLRyltYwk3HL",
        "colab": {}
      },
      "source": [
        "# Download test image from drive\n",
        "img_path = \"/gdrive/My Drive/ThesisData/training/day/AL02_3900.0_2011.png\"\n",
        "\n",
        "img = imageio.imread(img_path)"
      ],
      "execution_count": 0,
      "outputs": []
    },
    {
      "cell_type": "code",
      "metadata": {
        "colab_type": "code",
        "id": "vGEELO3uujS5",
        "outputId": "7936b89d-ea40-41f9-d5fb-401e052627ed",
        "colab": {
          "base_uri": "https://localhost:8080/",
          "height": 34
        }
      },
      "source": [
        "# Print its shape\n",
        "print(\"Image shape: \",img.shape)"
      ],
      "execution_count": 10,
      "outputs": [
        {
          "output_type": "stream",
          "text": [
            "Image shape:  (1124, 1624, 3)\n"
          ],
          "name": "stdout"
        }
      ]
    },
    {
      "cell_type": "code",
      "metadata": {
        "colab_type": "code",
        "id": "lzov3rpeckrN",
        "outputId": "b37f4e48-9a85-400f-afc9-70b2ac5d8342",
        "colab": {
          "base_uri": "https://localhost:8080/",
          "height": 268
        }
      },
      "source": [
        "# Show the original image\n",
        "plt.imshow(img, interpolation='nearest')\n",
        "plt.show()"
      ],
      "execution_count": 11,
      "outputs": [
        {
          "output_type": "display_data",
          "data": {
            "image/png": "[encoded data removed]",
            "text/plain": [
              "<Figure size 432x288 with 1 Axes>"
            ]
          },
          "metadata": {
            "tags": []
          }
        }
      ]
    },
    {
      "cell_type": "markdown",
      "metadata": {
        "id": "uI4zPKrdH71D",
        "colab_type": "text"
      },
      "source": [
        "# Create input data"
      ]
    },
    {
      "cell_type": "code",
      "metadata": {
        "colab_type": "code",
        "id": "1NURzseNL_yH",
        "outputId": "1442a945-ab61-4874-e6e9-0501b66a0ca8",
        "colab": {
          "base_uri": "https://localhost:8080/",
          "height": 197
        }
      },
      "source": [
        "# Load Data Frame of NUTS regions and corresponding gdp values\n",
        "y_dat = pd.read_csv(\"/gdrive/My Drive/ThesisData/Data/enhanced_gdp_data.csv\")\n",
        "y_dat.head()"
      ],
      "execution_count": 7,
      "outputs": [
        {
          "output_type": "execute_result",
          "data": {
            "text/html": [
              "<div>\n",
              "<style scoped>\n",
              "    .dataframe tbody tr th:only-of-type {\n",
              "        vertical-align: middle;\n",
              "    }\n",
              "\n",
              "    .dataframe tbody tr th {\n",
              "        vertical-align: top;\n",
              "    }\n",
              "\n",
              "    .dataframe thead th {\n",
              "        text-align: right;\n",
              "    }\n",
              "</style>\n",
              "<table border=\"1\" class=\"dataframe\">\n",
              "  <thead>\n",
              "    <tr style=\"text-align: right;\">\n",
              "      <th></th>\n",
              "      <th>nuts2</th>\n",
              "      <th>year</th>\n",
              "      <th>nuts_value</th>\n",
              "      <th>code</th>\n",
              "      <th>country</th>\n",
              "      <th>country_value</th>\n",
              "      <th>mean_value</th>\n",
              "      <th>diff_value</th>\n",
              "    </tr>\n",
              "  </thead>\n",
              "  <tbody>\n",
              "    <tr>\n",
              "      <th>0</th>\n",
              "      <td>BE10</td>\n",
              "      <td>2008</td>\n",
              "      <td>61100.0</td>\n",
              "      <td>BE</td>\n",
              "      <td>Belgium</td>\n",
              "      <td>33100.0</td>\n",
              "      <td>31881.818182</td>\n",
              "      <td>28000.0</td>\n",
              "    </tr>\n",
              "    <tr>\n",
              "      <th>1</th>\n",
              "      <td>BE21</td>\n",
              "      <td>2008</td>\n",
              "      <td>39200.0</td>\n",
              "      <td>BE</td>\n",
              "      <td>Belgium</td>\n",
              "      <td>33100.0</td>\n",
              "      <td>31881.818182</td>\n",
              "      <td>6100.0</td>\n",
              "    </tr>\n",
              "    <tr>\n",
              "      <th>2</th>\n",
              "      <td>BE22</td>\n",
              "      <td>2008</td>\n",
              "      <td>27500.0</td>\n",
              "      <td>BE</td>\n",
              "      <td>Belgium</td>\n",
              "      <td>33100.0</td>\n",
              "      <td>31881.818182</td>\n",
              "      <td>-5600.0</td>\n",
              "    </tr>\n",
              "    <tr>\n",
              "      <th>3</th>\n",
              "      <td>BE23</td>\n",
              "      <td>2008</td>\n",
              "      <td>29400.0</td>\n",
              "      <td>BE</td>\n",
              "      <td>Belgium</td>\n",
              "      <td>33100.0</td>\n",
              "      <td>31881.818182</td>\n",
              "      <td>-3700.0</td>\n",
              "    </tr>\n",
              "    <tr>\n",
              "      <th>4</th>\n",
              "      <td>BE24</td>\n",
              "      <td>2008</td>\n",
              "      <td>34500.0</td>\n",
              "      <td>BE</td>\n",
              "      <td>Belgium</td>\n",
              "      <td>33100.0</td>\n",
              "      <td>31881.818182</td>\n",
              "      <td>1400.0</td>\n",
              "    </tr>\n",
              "  </tbody>\n",
              "</table>\n",
              "</div>"
            ],
            "text/plain": [
              "  nuts2  year  nuts_value  ... country_value    mean_value  diff_value\n",
              "0  BE10  2008     61100.0  ...       33100.0  31881.818182     28000.0\n",
              "1  BE21  2008     39200.0  ...       33100.0  31881.818182      6100.0\n",
              "2  BE22  2008     27500.0  ...       33100.0  31881.818182     -5600.0\n",
              "3  BE23  2008     29400.0  ...       33100.0  31881.818182     -3700.0\n",
              "4  BE24  2008     34500.0  ...       33100.0  31881.818182      1400.0\n",
              "\n",
              "[5 rows x 8 columns]"
            ]
          },
          "metadata": {
            "tags": []
          },
          "execution_count": 7
        }
      ]
    },
    {
      "cell_type": "code",
      "metadata": {
        "id": "HYE5RQr87GXH",
        "colab_type": "code",
        "outputId": "b6fdead9-5881-4cc3-8536-d58b3fdf9ec3",
        "colab": {
          "base_uri": "https://localhost:8080/",
          "height": 34
        }
      },
      "source": [
        "# Benchmark for diff-value (other benchmark are in other script)\n",
        "mae_diff = np.mean(abs(y_dat['diff_value']-y_dat['diff_value'].mean()))\n",
        "print(mae_diff)"
      ],
      "execution_count": 8,
      "outputs": [
        {
          "output_type": "stream",
          "text": [
            "5478.004371660496\n"
          ],
          "name": "stdout"
        }
      ]
    },
    {
      "cell_type": "code",
      "metadata": {
        "colab_type": "code",
        "id": "Ogm4ndTFkrib",
        "colab": {}
      },
      "source": [
        "# List of all files in directory of images\n",
        "mypath = \"/gdrive/My Drive/nuts_day_raw/\"\n",
        "mypath_day = \"/gdrive/My Drive/nuts_geotiff/\"\n",
        "sat_images.create_save_data(mypath,y_dat,prediction='nuts_value',kind='subsample',resolution=128,night=True)"
      ],
      "execution_count": 0,
      "outputs": []
    },
    {
      "cell_type": "markdown",
      "metadata": {
        "id": "c50RrTy6IHnt",
        "colab_type": "text"
      },
      "source": [
        "## Sample CNN Architectures"
      ]
    },
    {
      "cell_type": "code",
      "metadata": {
        "id": "UAOgPKmfZUfN",
        "colab_type": "code",
        "colab": {}
      },
      "source": [
        "# Very shallow CNN\n",
        "model = Sequential()\n",
        "model.add(Conv2D(32, 3, padding='same', input_shape=in_shape, activation='relu'))\n",
        "model.add(BatchNormalization())\n",
        "model.add(AveragePooling2D(pool_size=(2,2)))\n",
        "model.add(Flatten())\n",
        "model.add(Dense(128, activation='relu'))\n",
        "#model.add(Dropout(0.5))\n",
        "model.add(Dense(units=out_shape,activation='relu'))"
      ],
      "execution_count": 0,
      "outputs": []
    },
    {
      "cell_type": "code",
      "metadata": {
        "id": "DP-SHx_xkNvg",
        "colab_type": "code",
        "colab": {}
      },
      "source": [
        "# Fully connected model\n",
        "model = Sequential()\n",
        "model.add(Flatten(input_shape=x_train.shape[1:]))\n",
        "model.add(Dense(256, activation='relu'))\n",
        "model.add(Dropout(0.5))\n",
        "model.add(Dense(out_shape, activation='relu'))"
      ],
      "execution_count": 0,
      "outputs": []
    },
    {
      "cell_type": "code",
      "metadata": {
        "colab_type": "code",
        "id": "blVC16VGw4af",
        "colab": {}
      },
      "source": [
        "# Deep Model\n",
        "model = Sequential()\n",
        "\n",
        "model.add(Conv2D(32, 3, padding='same', input_shape=in_shape, activation='relu'))\n",
        "model.add(Conv2D(32, 3, padding='same', activation='relu'))\n",
        "model.add(BatchNormalization())\n",
        "model.add(MaxPooling2D(pool_size = (2,2)))\n",
        "\n",
        "model.add(Conv2D(64, 3, padding='same', activation='relu'))\n",
        "model.add(Conv2D(64, 3, padding='same', activation='relu'))\n",
        "model.add(BatchNormalization())\n",
        "model.add(MaxPooling2D(pool_size = (2,2)))\n",
        "\n",
        "model.add(Conv2D(128, 3, padding='same', activation='relu'))\n",
        "model.add(Conv2D(128, 3, padding='same', activation='relu'))\n",
        "model.add(Dropout(0.4))\n",
        "model.add(BatchNormalization())\n",
        "model.add(MaxPooling2D(pool_size = (2,2)))\n",
        "\n",
        "model.add(Conv2D(256, 3, padding='same', activation='relu'))\n",
        "model.add(Conv2D(256, 3, padding='same', activation='relu'))\n",
        "model.add(Dropout(0.4))\n",
        "model.add(BatchNormalization())\n",
        "model.add(MaxPooling2D(pool_size = (2,2)))\n",
        "\n",
        "model.add(Conv2D(512, 3, padding='same', activation='relu'))\n",
        "model.add(Conv2D(512, 3, padding='same', activation='relu'))\n",
        "model.add(Dropout(0.4))\n",
        "model.add(BatchNormalization())\n",
        "model.add(MaxPooling2D(pool_size = (2,2)))\n",
        "\n",
        "model.add(Flatten())\n",
        "model.add(Dense(256, activation='relu', activity_regularizer=l1(0.001)))\n",
        "model.add(Dropout(0.5))\n",
        "\n",
        "model.add(Dense(256, activation='relu',activity_regularizer=l1(0.001)))\n",
        "model.add(Dropout(0.5))\n",
        "model.add(Dense(units=out_shape,activation='relu'))"
      ],
      "execution_count": 0,
      "outputs": []
    },
    {
      "cell_type": "code",
      "metadata": {
        "id": "9L86HWD1sWhR",
        "colab_type": "code",
        "colab": {}
      },
      "source": [
        "# Shallow Model\n",
        "model = tf.keras.Sequential()\n",
        "\n",
        "model.add(Conv2D(16, 3, padding='same', input_shape=in_shape, activation='relu'))\n",
        "model.add(Conv2D(16, 3, padding='same', activation='relu'))\n",
        "model.add(BatchNormalization())\n",
        "model.add(MaxPooling2D(pool_size = (2,2)))\n",
        "\n",
        "model.add(Conv2D(32, 3, padding='same', activation='relu'))\n",
        "model.add(Conv2D(32, 3, padding='same', activation='relu'))\n",
        "model.add(BatchNormalization())\n",
        "model.add(MaxPooling2D(pool_size = (2,2)))\n",
        "\n",
        "model.add(Flatten())\n",
        "model.add(Dense(128, activation='relu', kernel_initializer='normal', activity_regularizer=l1(0.001)))\n",
        "model.add(Dropout(0.5))\n",
        "model.add(Dense(units=out_shape, kernel_initializer='normal',activation='relu'))"
      ],
      "execution_count": 0,
      "outputs": []
    },
    {
      "cell_type": "code",
      "metadata": {
        "colab_type": "code",
        "id": "GXlz_HWWCQuT",
        "outputId": "7c4e700b-4673-4c82-c1d8-1b5e2cbac52c",
        "colab": {
          "base_uri": "https://localhost:8080/",
          "height": 107
        }
      },
      "source": [
        "# Transfer Learning\n",
        "base_model = ResNet50(input_shape=in_shape,include_top=False)\n",
        "\tx=base_model.output\n",
        "\tx=Flatten()(x)\n",
        "\tx=Dense(32,activation='relu')(x) #we add dense layers so that the model can learn more complex functions and classify for better results.\n",
        "\tx=Dropout(0.2)(x) #Dropout\n",
        "\tx=Dense(32,activation='relu')(x) #dense layer 3\n",
        "\tx=Dropout(0.2)(x) #Dropout\n",
        "\tpreds=Dense(units=out_shape, activation = 'relu')(x)\n",
        "\tmodel=Model(inputs=base_model.input,outputs=preds)\n",
        " \n",
        "\tfor layer in model.layers[:156]:\n",
        "  \tlayer.trainable = False"
      ],
      "execution_count": 0,
      "outputs": [
        {
          "output_type": "stream",
          "text": [
            "WARNING:tensorflow:From /usr/local/lib/python3.6/dist-packages/keras/backend/tensorflow_backend.py:4479: The name tf.truncated_normal is deprecated. Please use tf.random.truncated_normal instead.\n",
            "\n",
            "Downloading data from https://github.com/fchollet/deep-learning-models/releases/download/v0.2/resnet50_weights_tf_dim_ordering_tf_kernels_notop.h5\n",
            "94658560/94653016 [==============================] - 7s 0us/step\n"
          ],
          "name": "stdout"
        }
      ]
    },
    {
      "cell_type": "code",
      "metadata": {
        "id": "wA5fZqxXWVMS",
        "colab_type": "code",
        "colab": {}
      },
      "source": [
        "# dense layers much less"
      ],
      "execution_count": 0,
      "outputs": []
    },
    {
      "cell_type": "markdown",
      "metadata": {
        "id": "AQnkjk-Jje67",
        "colab_type": "text"
      },
      "source": [
        "# Training Pipeline for CNN Fitting"
      ]
    },
    {
      "cell_type": "code",
      "metadata": {
        "id": "8Y3Xdhdryg5R",
        "colab_type": "code",
        "colab": {}
      },
      "source": [
        "from numpy import load\n",
        "from matplotlib import pyplot\n",
        "from sklearn.model_selection import train_test_split\n",
        "from keras import backend\n",
        "from keras.preprocessing.image import ImageDataGenerator\n",
        "from keras.models import Sequential\n",
        "from keras.models import Model\n",
        "from keras.layers import Conv2D\n",
        "from keras.layers import MaxPooling2D, AveragePooling2D\n",
        "from keras.layers import Dense\n",
        "from keras.layers import Flatten\n",
        "from keras.layers import Dropout\n",
        "from keras.layers import BatchNormalization\n",
        "from keras.regularizers import l1, l2, l1_l2\n",
        "from keras.optimizers import SGD, Adam\n",
        "from keras.applications import VGG16, ResNet50, ResNet50V2, InceptionResNetV2\n",
        "from keras.callbacks import EarlyStopping\n",
        "import scipy\n",
        "import pandas as pd\n",
        "import numpy as np\n",
        "from datetime import date\n",
        "from os import listdir\n",
        "from os.path import isfile, join, getsize"
      ],
      "execution_count": 0,
      "outputs": []
    },
    {
      "cell_type": "code",
      "metadata": {
        "id": "8JzEKWvkUjTD",
        "colab_type": "code",
        "colab": {}
      },
      "source": [
        "# Create DataFrame to load the data\n",
        "def data_load(data_type):\n",
        "  \n",
        "  train_path = \"/gdrive/My Drive/ThesisData/training/\"+str(data_type)+\"/\"\n",
        "  val_path = \"/gdrive/My Drive/ThesisData/validation/\"+str(data_type)+\"/\"\n",
        "  test_path = \"/gdrive/My Drive/ThesisData/test/\"+str(data_type)+\"/\"\n",
        "\n",
        "  train_files = [f for f in listdir(train_path) if isfile(join(train_path, f)) and getsize(join(train_path, f)) > 0]\n",
        "  val_files = [f for f in listdir(val_path) if isfile(join(val_path, f)) and getsize(join(val_path, f)) > 0]\n",
        "  test_files = [f for f in listdir(test_path) if isfile(join(test_path, f)) and getsize(join(test_path, f)) > 0]\n",
        "\n",
        "  train_y = [float(img.rsplit('_')[1]) for img in train_files]\n",
        "  val_y = [float(img.rsplit('_')[1]) for img in val_files]\n",
        "  test_y = [float(img.rsplit('_')[1]) for img in test_files]\n",
        "\n",
        "  train_df = pd.DataFrame({'y':train_y,'file':train_files})\n",
        "  val_df = pd.DataFrame({'y':val_y,'file':val_files})\n",
        "  test_df = pd.DataFrame({'y':test_y,'file':test_files})\n",
        "\n",
        "  return train_df, val_df, test_df"
      ],
      "execution_count": 0,
      "outputs": []
    },
    {
      "cell_type": "code",
      "metadata": {
        "id": "OIsyGb6Qx2uB",
        "colab_type": "code",
        "colab": {}
      },
      "source": [
        "# define cnn model\n",
        "def define_model(lr,in_shape=(512, 512, 3), out_shape=1):\n",
        "\t\n",
        "\t# Very shallow CNN\n",
        "\tmodel = Sequential()\n",
        "\tmodel.add(Conv2D(32, 3, padding='same', input_shape=in_shape, activation='relu'))\n",
        "\tmodel.add(BatchNormalization())\n",
        "\tmodel.add(AveragePooling2D(pool_size=(2,2)))\n",
        "\tmodel.add(Flatten())\n",
        "\tmodel.add(Dense(256, activation='relu'))\n",
        "\t#model.add(Dropout(0.5))\n",
        "\tmodel.add(Dense(units=out_shape,activation='relu'))\n",
        "\t\n",
        "\t# compile model\n",
        "\topt = Adam(lr=lr)\n",
        "\tmodel.compile(optimizer=opt, loss='mean_squared_error', metrics=['mse','mae'])\n",
        " \n",
        "\treturn model"
      ],
      "execution_count": 0,
      "outputs": []
    },
    {
      "cell_type": "code",
      "metadata": {
        "id": "kg3xSQBLyujR",
        "colab_type": "code",
        "colab": {}
      },
      "source": [
        "# plot diagnostic learning curves\n",
        "def summarize_diagnostics(history,no_layers,in_shape,batch_size,epochs,mse,mae,transfer,lr,optim,comment,data_type):\n",
        "\t# plot loss\n",
        "\tpyplot.subplot(211)\n",
        "\tpyplot.title('Model MSE')\n",
        "\tpyplot.plot(history.history['mean_squared_error'], color='blue', label='train')\n",
        "\tpyplot.plot(history.history['val_mean_squared_error'], color='orange', label='val')\n",
        "\tpyplot.xlabel(\"\")\n",
        "\t# plot accuracy\n",
        "\tpyplot.subplot(212)\n",
        "\tpyplot.title('Model MAE')\n",
        "\tpyplot.plot(history.history['mean_absolute_error'], color='blue', label='train')\n",
        "\tpyplot.plot(history.history['val_mean_absolute_error'], color='orange', label='val')\n",
        "\t# save plot to file\n",
        "\tday = date.today()\n",
        "\tfilename = str(day)+\"_\"+str(in_shape[0])+\"_\"+str(in_shape[2])+\"_\"+str(epochs)+\"_\"+str(batch_size)\n",
        "\tpyplot.savefig('/gdrive/My Drive/ThesisData/cnn_results/'+filename + '_plot.png')\n",
        "\tpyplot.close()\n",
        "  \n",
        "\t# write diagnostics to results file\n",
        "\tmyrow = ['\\n'+str(day),str(no_layers),str(batch_size),str(epochs),str(in_shape[0]),str(in_shape[2]),\n",
        "\t         str(history.history['mean_squared_error'][-1]),str(history.history['mean_absolute_error'][-1]),\n",
        "\t\t\t\t\t     str(history.history['val_mean_squared_error'][-1]),str(history.history['val_mean_absolute_error'][-1]),\n",
        "\t\t\t\t\t\t\t   str(mse),str(mae),str(transfer),str(lr),str(optim),str(comment),str(data_type)]\n",
        "\tmyrow = ','.join(myrow)\n",
        "\tfilepath = '/gdrive/My Drive/ThesisData/cnn_results/cnn_results.csv'\n",
        "\twith open(filepath,'a') as fd:\n",
        "\t\tfd.write(myrow)"
      ],
      "execution_count": 0,
      "outputs": []
    },
    {
      "cell_type": "code",
      "metadata": {
        "id": "_B8Hp4kcz3yK",
        "colab_type": "code",
        "colab": {}
      },
      "source": [
        "# run the test harness for evaluating a model\n",
        "def run_test_harness(comment,transfer,optim,data_type,lr=0.0001,batch_size = 10,epochs = 50, target_size = 128):\n",
        "  \n",
        "  # load dataset\n",
        "  train_df, val_df, test_df = data_load(data_type=data_type)\n",
        "  \n",
        "  # create data generator\n",
        "  train_datagen = ImageDataGenerator(rescale=(1.0/256), horizontal_flip=True, vertical_flip=True, rotation_range=90)\n",
        "  val_datagen = ImageDataGenerator(rescale=(1.0/256))\n",
        "  test_datagen = ImageDataGenerator(rescale=(1.0/256))\n",
        "\n",
        "  # Define early stopping\n",
        "  es = EarlyStopping(monitor='val_loss', mode='min', verbose=2, patience=20, restore_best_weights=True)\n",
        "\n",
        "  # File Directories\n",
        "  train_path = \"/gdrive/My Drive/ThesisData/training/\"+str(data_type)\n",
        "  val_path = \"/gdrive/My Drive/ThesisData/validation/\"+str(data_type)\n",
        "  test_path = \"/gdrive/My Drive/ThesisData/test/\"+str(data_type)\n",
        "\n",
        "  # Infer color mode and input shape\n",
        "  if data_type == 'day' or data_type == 'night' or data_type == 'subsample':\n",
        "    color_mode = 'rgb'\n",
        "    in_shape = (target_size,target_size,3)\n",
        "  else:\n",
        "    color_mode = 'rgba'\n",
        "    in_shape = (target_size,target_size,4)\n",
        "\n",
        "  # prepare iterators\n",
        "  train_it = train_datagen.flow_from_dataframe(train_df,\n",
        "                                               directory=train_path,\n",
        "                                               x_col = 'file',\n",
        "                                               y_col = 'y',\n",
        "                                               target_size = (target_size,target_size),\n",
        "                                               batch_size = batch_size,\n",
        "                                               class_mode = 'raw',\n",
        "                                               color_mode = color_mode)\n",
        "  val_it = val_datagen.flow_from_dataframe(val_df, \n",
        "                                           directory=val_path,\n",
        "                                           x_col = 'file',\n",
        "                                           y_col = 'y',\n",
        "                                           target_size = (target_size,target_size),\n",
        "                                           batch_size = batch_size,\n",
        "                                           class_mode = 'raw',\n",
        "                                           color_mode = color_mode)\n",
        "  test_it = test_datagen.flow_from_dataframe(test_df, \n",
        "                                             directory=test_path,\n",
        "                                             x_col = 'file',\n",
        "                                             y_col = 'y',\n",
        "                                             target_size = (target_size,target_size),\n",
        "                                             batch_size = batch_size,\n",
        "                                             class_mode = 'raw',\n",
        "                                             color_mode = color_mode)\n",
        "  \n",
        "  # define model\n",
        "  model = define_model(lr=lr,in_shape=in_shape)\n",
        "  no_layers = len(model.layers)\n",
        "  \n",
        "  # fit model\n",
        "  history = model.fit_generator(train_it, \n",
        "                                steps_per_epoch=len(train_it),\n",
        "                                validation_data=val_it, \n",
        "                                validation_steps=len(val_it),\n",
        "                                callbacks = [es], \n",
        "                                epochs=epochs, \n",
        "                                verbose=2)\n",
        "  \n",
        "  # evaluate model\n",
        "  loss, mse, mae = model.evaluate_generator(test_it, steps=len(test_it), verbose=0)\n",
        "  print('> mse=%.3f, mae=%.3f' % (mse, mae))\n",
        "  \n",
        "  # learning curves\n",
        "  summarize_diagnostics(history=history,\n",
        "                        no_layers=no_layers,\n",
        "                        in_shape = in_shape,\n",
        "                        batch_size=batch_size,\n",
        "                        epochs=len(history.history['loss']),\n",
        "                        mse=mse,mae=mae,\n",
        "                        transfer=transfer,lr=lr,\n",
        "                        optim=optim,\n",
        "                        comment=comment,\n",
        "                        data_type=data_type)"
      ],
      "execution_count": 0,
      "outputs": []
    },
    {
      "cell_type": "code",
      "metadata": {
        "id": "PL1etQnh27AK",
        "colab_type": "code",
        "outputId": "0ae3af1d-2596-4598-bc14-dc789710d919",
        "colab": {
          "base_uri": "https://localhost:8080/",
          "height": 1000
        }
      },
      "source": [
        "run_test_harness(\"shallow with subsample with 256 filters\",\"no\",\"adam\",data_type='subsample',lr=0.001,batch_size=24,epochs=1000,target_size=128)"
      ],
      "execution_count": 77,
      "outputs": [
        {
          "output_type": "stream",
          "text": [
            "Found 6506 validated image filenames.\n",
            "Found 2953 validated image filenames.\n",
            "Found 4080 validated image filenames.\n",
            "Epoch 1/1000\n",
            " - 49s - loss: 280791907.3505 - mean_squared_error: 280791907.3505 - mean_absolute_error: 13331.1820 - val_loss: 336573143.0288 - val_mean_squared_error: 336573143.0288 - val_mean_absolute_error: 15642.2443\n",
            "Epoch 2/1000\n",
            " - 38s - loss: 122966921.7581 - mean_squared_error: 122966921.7581 - mean_absolute_error: 9017.9496 - val_loss: 293373740.8195 - val_mean_squared_error: 293373740.8195 - val_mean_absolute_error: 14615.7184\n",
            "Epoch 3/1000\n",
            " - 38s - loss: 118542951.1530 - mean_squared_error: 118542951.1530 - mean_absolute_error: 8883.4517 - val_loss: 298266894.1849 - val_mean_squared_error: 298266894.1849 - val_mean_absolute_error: 15227.7690\n",
            "Epoch 4/1000\n",
            " - 39s - loss: 117074486.3181 - mean_squared_error: 117074486.3181 - mean_absolute_error: 8836.7979 - val_loss: 294985339.9878 - val_mean_squared_error: 294985339.9878 - val_mean_absolute_error: 14942.3068\n",
            "Epoch 5/1000\n",
            " - 38s - loss: 114192884.4736 - mean_squared_error: 114192884.4736 - mean_absolute_error: 8658.3064 - val_loss: 279928842.4680 - val_mean_squared_error: 279928842.4680 - val_mean_absolute_error: 14127.5005\n",
            "Epoch 6/1000\n",
            " - 38s - loss: 115608764.8886 - mean_squared_error: 115608764.8886 - mean_absolute_error: 8754.9186 - val_loss: 320414406.5032 - val_mean_squared_error: 320414406.5032 - val_mean_absolute_error: 15523.9457\n",
            "Epoch 7/1000\n",
            " - 38s - loss: 115400036.0203 - mean_squared_error: 115400036.0203 - mean_absolute_error: 8734.5024 - val_loss: 303529331.1263 - val_mean_squared_error: 303529331.1263 - val_mean_absolute_error: 15474.2681\n",
            "Epoch 8/1000\n",
            " - 39s - loss: 112365032.2589 - mean_squared_error: 112365032.2589 - mean_absolute_error: 8618.8306 - val_loss: 294357443.6844 - val_mean_squared_error: 294357443.6844 - val_mean_absolute_error: 14774.3595\n",
            "Epoch 9/1000\n",
            " - 38s - loss: 110284636.1656 - mean_squared_error: 110284636.1656 - mean_absolute_error: 8518.6871 - val_loss: 301729436.8033 - val_mean_squared_error: 301729436.8033 - val_mean_absolute_error: 14681.0495\n",
            "Epoch 10/1000\n",
            " - 38s - loss: 109641243.6953 - mean_squared_error: 109641243.6953 - mean_absolute_error: 8467.0578 - val_loss: 301582573.1446 - val_mean_squared_error: 301582573.1446 - val_mean_absolute_error: 15242.9613\n",
            "Epoch 11/1000\n",
            " - 39s - loss: 109358679.7571 - mean_squared_error: 109358679.7571 - mean_absolute_error: 8472.1455 - val_loss: 326250516.0081 - val_mean_squared_error: 326250516.0081 - val_mean_absolute_error: 15838.6960\n",
            "Epoch 12/1000\n",
            " - 39s - loss: 108590895.4423 - mean_squared_error: 108590895.4423 - mean_absolute_error: 8457.4462 - val_loss: 312955641.7934 - val_mean_squared_error: 312955641.7934 - val_mean_absolute_error: 15094.6115\n",
            "Epoch 13/1000\n",
            " - 39s - loss: 108088962.1735 - mean_squared_error: 108088962.1735 - mean_absolute_error: 8425.7303 - val_loss: 313368939.6085 - val_mean_squared_error: 313368939.6085 - val_mean_absolute_error: 15301.1670\n",
            "Epoch 14/1000\n",
            " - 39s - loss: 106285617.6906 - mean_squared_error: 106285617.6906 - mean_absolute_error: 8343.8663 - val_loss: 324201074.4545 - val_mean_squared_error: 324201074.4545 - val_mean_absolute_error: 16059.4793\n",
            "Epoch 15/1000\n",
            " - 39s - loss: 105996563.2674 - mean_squared_error: 105996563.2674 - mean_absolute_error: 8342.9964 - val_loss: 301837378.3515 - val_mean_squared_error: 301837378.3515 - val_mean_absolute_error: 15324.8538\n",
            "Epoch 16/1000\n",
            " - 40s - loss: 107383033.4989 - mean_squared_error: 107383033.4989 - mean_absolute_error: 8387.3447 - val_loss: 311597033.0566 - val_mean_squared_error: 311597033.0566 - val_mean_absolute_error: 15091.5520\n",
            "Epoch 17/1000\n",
            " - 39s - loss: 105395136.3511 - mean_squared_error: 105395136.3511 - mean_absolute_error: 8308.3609 - val_loss: 322111439.1818 - val_mean_squared_error: 322111439.1818 - val_mean_absolute_error: 15927.1100\n",
            "Epoch 18/1000\n",
            " - 39s - loss: 105352955.0423 - mean_squared_error: 105352955.0423 - mean_absolute_error: 8331.2299 - val_loss: 308496670.6888 - val_mean_squared_error: 308496670.6888 - val_mean_absolute_error: 15582.6104\n",
            "Epoch 19/1000\n",
            " - 38s - loss: 105492999.9835 - mean_squared_error: 105492999.9835 - mean_absolute_error: 8344.2619 - val_loss: 322412394.1104 - val_mean_squared_error: 322412394.1104 - val_mean_absolute_error: 16034.0879\n",
            "Epoch 20/1000\n",
            " - 38s - loss: 104324688.9419 - mean_squared_error: 104324688.9419 - mean_absolute_error: 8293.6320 - val_loss: 348064909.0687 - val_mean_squared_error: 348064909.0687 - val_mean_absolute_error: 15780.4091\n",
            "Epoch 21/1000\n",
            " - 38s - loss: 103927274.6009 - mean_squared_error: 103927274.6009 - mean_absolute_error: 8280.2617 - val_loss: 314534058.8635 - val_mean_squared_error: 314534058.8635 - val_mean_absolute_error: 15400.1052\n",
            "Epoch 22/1000\n",
            " - 38s - loss: 103779727.8332 - mean_squared_error: 103779727.8332 - mean_absolute_error: 8271.7594 - val_loss: 324756649.3220 - val_mean_squared_error: 324756649.3220 - val_mean_absolute_error: 15498.0835\n",
            "Epoch 23/1000\n",
            " - 38s - loss: 104258015.7330 - mean_squared_error: 104258015.7330 - mean_absolute_error: 8294.0199 - val_loss: 323674107.4054 - val_mean_squared_error: 323674107.4054 - val_mean_absolute_error: 15455.8772\n",
            "Epoch 24/1000\n",
            " - 38s - loss: 104168452.0289 - mean_squared_error: 104168452.0289 - mean_absolute_error: 8276.3542 - val_loss: 316598698.5845 - val_mean_squared_error: 316598698.5845 - val_mean_absolute_error: 15205.4525\n",
            "Epoch 25/1000\n",
            " - 38s - loss: 103533879.6592 - mean_squared_error: 103533879.6592 - mean_absolute_error: 8263.0528 - val_loss: 326894629.9492 - val_mean_squared_error: 326894629.9492 - val_mean_absolute_error: 15696.3941\n",
            "Restoring model weights from the end of the best epoch\n",
            "Epoch 00025: early stopping\n",
            "> mse=228054732.565, mae=13096.694\n"
          ],
          "name": "stdout"
        }
      ]
    },
    {
      "cell_type": "code",
      "metadata": {
        "id": "eOGlwNo1jnb0",
        "colab_type": "code",
        "colab": {}
      },
      "source": [
        ""
      ],
      "execution_count": 0,
      "outputs": []
    }
  ]
}