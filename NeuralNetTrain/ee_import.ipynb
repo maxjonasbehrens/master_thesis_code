{
  "nbformat": 4,
  "nbformat_minor": 0,
  "metadata": {
    "colab": {
      "name": "ee_import.ipynb",
      "provenance": [],
      "collapsed_sections": [],
      "toc_visible": true,
      "machine_shape": "hm"
    },
    "kernelspec": {
      "name": "python3",
      "display_name": "Python 3"
    },
    "accelerator": "GPU"
  },
  "cells": [
    {
      "cell_type": "markdown",
      "metadata": {
        "colab_type": "text",
        "id": "jcCwLDmWkrHi"
      },
      "source": [
        "## PreProcess Images and feed into CNN"
      ]
    },
    {
      "cell_type": "code",
      "metadata": {
        "colab_type": "code",
        "id": "KnRwnXgRkXTH",
        "outputId": "fba91d86-bab4-48ce-84ae-69ee8f4d587c",
        "colab": {
          "base_uri": "https://localhost:8080/",
          "height": 125
        }
      },
      "source": [
        "# Mount Google Drice\n",
        "from google.colab import drive\n",
        "drive.mount('/gdrive')"
      ],
      "execution_count": 1,
      "outputs": [
        {
          "output_type": "stream",
          "text": [
            "Go to this URL in a browser: https://accounts.google.com/o/oauth2/auth?client_id=947318989803-6bn6qk8qdgf4n4g3pfee6491hc0brc4i.apps.googleusercontent.com&redirect_uri=urn%3aietf%3awg%3aoauth%3a2.0%3aoob&response_type=code&scope=email%20https%3a%2f%2fwww.googleapis.com%2fauth%2fdocs.test%20https%3a%2f%2fwww.googleapis.com%2fauth%2fdrive%20https%3a%2f%2fwww.googleapis.com%2fauth%2fdrive.photos.readonly%20https%3a%2f%2fwww.googleapis.com%2fauth%2fpeopleapi.readonly\n",
            "\n",
            "Enter your authorization code:\n",
            "··········\n",
            "Mounted at /gdrive\n"
          ],
          "name": "stdout"
        }
      ]
    },
    {
      "cell_type": "code",
      "metadata": {
        "colab_type": "code",
        "id": "1Lfk-ya7Ux0k",
        "outputId": "9dc5a699-cf9b-4c8d-8552-cb1c3678ab1b",
        "colab": {
          "base_uri": "https://localhost:8080/",
          "height": 87
        }
      },
      "source": [
        "!pip install pyrsgis"
      ],
      "execution_count": 2,
      "outputs": [
        {
          "output_type": "stream",
          "text": [
            "Collecting pyrsgis\n",
            "  Downloading https://files.pythonhosted.org/packages/35/ab/7fcabaa7a75977e79fa535d781f2be92cd71331e9b21457b836442f3a475/pyrsgis-0.2.6-py3-none-any.whl\n",
            "Installing collected packages: pyrsgis\n",
            "Successfully installed pyrsgis-0.2.6\n"
          ],
          "name": "stdout"
        }
      ]
    },
    {
      "cell_type": "code",
      "metadata": {
        "id": "eA5AhCi0KFdG",
        "colab_type": "code",
        "outputId": "e7c8641a-b0de-45f7-e785-bbe69a0ac6cf",
        "colab": {
          "base_uri": "https://localhost:8080/",
          "height": 141
        }
      },
      "source": [
        "!git clone https://github.com/maxjonasbehrens/master_thesis_code\n",
        "#%cd /content/master_thesis_code\n",
        "#!git pull"
      ],
      "execution_count": 3,
      "outputs": [
        {
          "output_type": "stream",
          "text": [
            "Cloning into 'master_thesis_code'...\n",
            "remote: Enumerating objects: 258, done.\u001b[K\n",
            "remote: Counting objects:   0% (1/258)\u001b[K\rremote: Counting objects:   1% (3/258)\u001b[K\rremote: Counting objects:   2% (6/258)\u001b[K\rremote: Counting objects:   3% (8/258)\u001b[K\rremote: Counting objects:   4% (11/258)\u001b[K\rremote: Counting objects:   5% (13/258)\u001b[K\rremote: Counting objects:   6% (16/258)\u001b[K\rremote: Counting objects:   7% (19/258)\u001b[K\rremote: Counting objects:   8% (21/258)\u001b[K\rremote: Counting objects:   9% (24/258)\u001b[K\rremote: Counting objects:  10% (26/258)\u001b[K\rremote: Counting objects:  11% (29/258)\u001b[K\rremote: Counting objects:  12% (31/258)\u001b[K\rremote: Counting objects:  13% (34/258)\u001b[K\rremote: Counting objects:  14% (37/258)\u001b[K\rremote: Counting objects:  15% (39/258)\u001b[K\rremote: Counting objects:  16% (42/258)\u001b[K\rremote: Counting objects:  17% (44/258)\u001b[K\rremote: Counting objects:  18% (47/258)\u001b[K\rremote: Counting objects:  19% (50/258)\u001b[K\rremote: Counting objects:  20% (52/258)\u001b[K\rremote: Counting objects:  21% (55/258)\u001b[K\rremote: Counting objects:  22% (57/258)\u001b[K\rremote: Counting objects:  23% (60/258)\u001b[K\rremote: Counting objects:  24% (62/258)\u001b[K\rremote: Counting objects:  25% (65/258)\u001b[K\rremote: Counting objects:  26% (68/258)\u001b[K\rremote: Counting objects:  27% (70/258)\u001b[K\rremote: Counting objects:  28% (73/258)\u001b[K\rremote: Counting objects:  29% (75/258)\u001b[K\rremote: Counting objects:  30% (78/258)\u001b[K\rremote: Counting objects:  31% (80/258)\u001b[K\rremote: Counting objects:  32% (83/258)\u001b[K\rremote: Counting objects:  33% (86/258)\u001b[K\rremote: Counting objects:  34% (88/258)\u001b[K\rremote: Counting objects:  35% (91/258)\u001b[K\rremote: Counting objects:  36% (93/258)\u001b[K\rremote: Counting objects:  37% (96/258)\u001b[K\rremote: Counting objects:  38% (99/258)\u001b[K\rremote: Counting objects:  39% (101/258)\u001b[K\rremote: Counting objects:  40% (104/258)\u001b[K\rremote: Counting objects:  41% (106/258)\u001b[K\rremote: Counting objects:  42% (109/258)\u001b[K\rremote: Counting objects:  43% (111/258)\u001b[K\rremote: Counting objects:  44% (114/258)\u001b[K\rremote: Counting objects:  45% (117/258)\u001b[K\rremote: Counting objects:  46% (119/258)\u001b[K\rremote: Counting objects:  47% (122/258)\u001b[K\rremote: Counting objects:  48% (124/258)\u001b[K\rremote: Counting objects:  49% (127/258)\u001b[K\rremote: Counting objects:  50% (129/258)\u001b[K\rremote: Counting objects:  51% (132/258)\u001b[K\rremote: Counting objects:  52% (135/258)\u001b[K\rremote: Counting objects:  53% (137/258)\u001b[K\rremote: Counting objects:  54% (140/258)\u001b[K\rremote: Counting objects:  55% (142/258)\u001b[K\rremote: Counting objects:  56% (145/258)\u001b[K\rremote: Counting objects:  57% (148/258)\u001b[K\rremote: Counting objects:  58% (150/258)\u001b[K\rremote: Counting objects:  59% (153/258)\u001b[K\rremote: Counting objects:  60% (155/258)\u001b[K\rremote: Counting objects:  61% (158/258)\u001b[K\rremote: Counting objects:  62% (160/258)\u001b[K\rremote: Counting objects:  63% (163/258)\u001b[K\rremote: Counting objects:  64% (166/258)\u001b[K\rremote: Counting objects:  65% (168/258)\u001b[K\rremote: Counting objects:  66% (171/258)\u001b[K\rremote: Counting objects:  67% (173/258)\u001b[K\rremote: Counting objects:  68% (176/258)\u001b[K\rremote: Counting objects:  69% (179/258)\u001b[K\rremote: Counting objects:  70% (181/258)\u001b[K\rremote: Counting objects:  71% (184/258)\u001b[K\rremote: Counting objects:  72% (186/258)\u001b[K\rremote: Counting objects:  73% (189/258)\u001b[K\rremote: Counting objects:  74% (191/258)\u001b[K\rremote: Counting objects:  75% (194/258)\u001b[K\rremote: Counting objects:  76% (197/258)\u001b[K\rremote: Counting objects:  77% (199/258)\u001b[K\rremote: Counting objects:  78% (202/258)\u001b[K\rremote: Counting objects:  79% (204/258)\u001b[K\rremote: Counting objects:  80% (207/258)\u001b[K\rremote: Counting objects:  81% (209/258)\u001b[K\rremote: Counting objects:  82% (212/258)\u001b[K\rremote: Counting objects:  83% (215/258)\u001b[K\rremote: Counting objects:  84% (217/258)\u001b[K\rremote: Counting objects:  85% (220/258)\u001b[K\rremote: Counting objects:  86% (222/258)\u001b[K\rremote: Counting objects:  87% (225/258)\u001b[K\rremote: Counting objects:  88% (228/258)\u001b[K\rremote: Counting objects:  89% (230/258)\u001b[K\rremote: Counting objects:  90% (233/258)\u001b[K\rremote: Counting objects:  91% (235/258)\u001b[K\rremote: Counting objects:  92% (238/258)\u001b[K\rremote: Counting objects:  93% (240/258)\u001b[K\rremote: Counting objects:  94% (243/258)\u001b[K\rremote: Counting objects:  95% (246/258)\u001b[K\rremote: Counting objects:  96% (248/258)\u001b[K\rremote: Counting objects:  97% (251/258)\u001b[K\rremote: Counting objects:  98% (253/258)\u001b[K\rremote: Counting objects:  99% (256/258)\u001b[K\rremote: Counting objects: 100% (258/258)\u001b[K\rremote: Counting objects: 100% (258/258), done.\u001b[K\n",
            "remote: Compressing objects:   0% (1/178)\u001b[K\rremote: Compressing objects:   1% (2/178)\u001b[K\rremote: Compressing objects:   2% (4/178)\u001b[K\rremote: Compressing objects:   3% (6/178)\u001b[K\rremote: Compressing objects:   4% (8/178)\u001b[K\rremote: Compressing objects:   5% (9/178)\u001b[K\rremote: Compressing objects:   6% (11/178)\u001b[K\rremote: Compressing objects:   7% (13/178)\u001b[K\rremote: Compressing objects:   8% (15/178)\u001b[K\rremote: Compressing objects:   9% (17/178)\u001b[K\rremote: Compressing objects:  10% (18/178)\u001b[K\rremote: Compressing objects:  11% (20/178)\u001b[K\rremote: Compressing objects:  12% (22/178)\u001b[K\rremote: Compressing objects:  13% (24/178)\u001b[K\rremote: Compressing objects:  14% (25/178)\u001b[K\rremote: Compressing objects:  15% (27/178)\u001b[K\rremote: Compressing objects:  16% (29/178)\u001b[K\rremote: Compressing objects:  17% (31/178)\u001b[K\rremote: Compressing objects:  18% (33/178)\u001b[K\rremote: Compressing objects:  19% (34/178)\u001b[K\rremote: Compressing objects:  20% (36/178)\u001b[K\rremote: Compressing objects:  21% (38/178)\u001b[K\rremote: Compressing objects:  22% (40/178)\u001b[K\rremote: Compressing objects:  23% (41/178)\u001b[K\rremote: Compressing objects:  24% (43/178)\u001b[K\rremote: Compressing objects:  25% (45/178)\u001b[K\rremote: Compressing objects:  26% (47/178)\u001b[K\rremote: Compressing objects:  27% (49/178)\u001b[K\rremote: Compressing objects:  28% (50/178)\u001b[K\rremote: Compressing objects:  29% (52/178)\u001b[K\rremote: Compressing objects:  30% (54/178)\u001b[K\rremote: Compressing objects:  31% (56/178)\u001b[K\rremote: Compressing objects:  32% (57/178)\u001b[K\rremote: Compressing objects:  33% (59/178)\u001b[K\rremote: Compressing objects:  34% (61/178)\u001b[K\rremote: Compressing objects:  35% (63/178)\u001b[K\rremote: Compressing objects:  36% (65/178)\u001b[K\rremote: Compressing objects:  37% (66/178)\u001b[K\rremote: Compressing objects:  38% (68/178)\u001b[K\rremote: Compressing objects:  39% (70/178)\u001b[K\rremote: Compressing objects:  40% (72/178)\u001b[K\rremote: Compressing objects:  41% (73/178)\u001b[K\rremote: Compressing objects:  42% (75/178)\u001b[K\rremote: Compressing objects:  43% (77/178)\u001b[K\rremote: Compressing objects:  44% (79/178)\u001b[K\rremote: Compressing objects:  45% (81/178)\u001b[K\rremote: Compressing objects:  46% (82/178)\u001b[K\rremote: Compressing objects:  47% (84/178)\u001b[K\rremote: Compressing objects:  48% (86/178)\u001b[K\rremote: Compressing objects:  49% (88/178)\u001b[K\rremote: Compressing objects:  50% (89/178)\u001b[K\rremote: Compressing objects:  51% (91/178)\u001b[K\rremote: Compressing objects:  52% (93/178)\u001b[K\rremote: Compressing objects:  53% (95/178)\u001b[K\rremote: Compressing objects:  54% (97/178)\u001b[K\rremote: Compressing objects:  55% (98/178)\u001b[K\rremote: Compressing objects:  56% (100/178)\u001b[K\rremote: Compressing objects:  57% (102/178)\u001b[K\rremote: Compressing objects:  58% (104/178)\u001b[K\rremote: Compressing objects:  59% (106/178)\u001b[K\rremote: Compressing objects:  60% (107/178)\u001b[K\rremote: Compressing objects:  61% (109/178)\u001b[K\rremote: Compressing objects:  62% (111/178)\u001b[K\rremote: Compressing objects:  63% (113/178)\u001b[K\rremote: Compressing objects:  64% (114/178)\u001b[K\rremote: Compressing objects:  65% (116/178)\u001b[K\rremote: Compressing objects:  66% (118/178)\u001b[K\rremote: Compressing objects:  67% (120/178)\u001b[K\rremote: Compressing objects:  68% (122/178)\u001b[K\rremote: Compressing objects:  69% (123/178)\u001b[K\rremote: Compressing objects:  70% (125/178)\u001b[K\rremote: Compressing objects:  71% (127/178)\u001b[K\rremote: Compressing objects:  72% (129/178)\u001b[K\rremote: Compressing objects:  73% (130/178)\u001b[K\rremote: Compressing objects:  74% (132/178)\u001b[K\rremote: Compressing objects:  75% (134/178)\u001b[K\rremote: Compressing objects:  76% (136/178)\u001b[K\rremote: Compressing objects:  77% (138/178)\u001b[K\rremote: Compressing objects:  78% (139/178)\u001b[K\rremote: Compressing objects:  79% (141/178)\u001b[K\rremote: Compressing objects:  80% (143/178)\u001b[K\rremote: Compressing objects:  81% (145/178)\u001b[K\rremote: Compressing objects:  82% (146/178)\u001b[K\rremote: Compressing objects:  83% (148/178)\u001b[K\rremote: Compressing objects:  84% (150/178)\u001b[K\rremote: Compressing objects:  85% (152/178)\u001b[K\rremote: Compressing objects:  86% (154/178)\u001b[K\rremote: Compressing objects:  87% (155/178)\u001b[K\rremote: Compressing objects:  88% (157/178)\u001b[K\rremote: Compressing objects:  89% (159/178)\u001b[K\rremote: Compressing objects:  90% (161/178)\u001b[K\rremote: Compressing objects:  91% (162/178)\u001b[K\rremote: Compressing objects:  92% (164/178)\u001b[K\rremote: Compressing objects:  93% (166/178)\u001b[K\rremote: Compressing objects:  94% (168/178)\u001b[K\rremote: Compressing objects:  95% (170/178)\u001b[K\rremote: Compressing objects:  96% (171/178)\u001b[K\rremote: Compressing objects:  97% (173/178)\u001b[K\rremote: Compressing objects:  98% (175/178)\u001b[K\rremote: Compressing objects:  99% (177/178)\u001b[K\rremote: Compressing objects: 100% (178/178)\u001b[K\rremote: Compressing objects: 100% (178/178), done.\u001b[K\n",
            "Receiving objects:   0% (1/258)   \rReceiving objects:   1% (3/258)   \rReceiving objects:   2% (6/258)   \rReceiving objects:   3% (8/258)   \rReceiving objects:   4% (11/258)   \rReceiving objects:   5% (13/258)   \rReceiving objects:   6% (16/258)   \rReceiving objects:   7% (19/258)   \rReceiving objects:   8% (21/258)   \rReceiving objects:   9% (24/258)   \rReceiving objects:  10% (26/258)   \rReceiving objects:  11% (29/258)   \rReceiving objects:  12% (31/258)   \rReceiving objects:  13% (34/258)   \rReceiving objects:  14% (37/258)   \rReceiving objects:  15% (39/258)   \rReceiving objects:  16% (42/258)   \rReceiving objects:  17% (44/258)   \rReceiving objects:  18% (47/258)   \rReceiving objects:  19% (50/258)   \rReceiving objects:  20% (52/258)   \rReceiving objects:  21% (55/258)   \rReceiving objects:  22% (57/258)   \rReceiving objects:  23% (60/258)   \rReceiving objects:  24% (62/258)   \rReceiving objects:  25% (65/258)   \rReceiving objects:  26% (68/258)   \rReceiving objects:  27% (70/258)   \rReceiving objects:  28% (73/258)   \rReceiving objects:  29% (75/258)   \rReceiving objects:  30% (78/258)   \rReceiving objects:  31% (80/258)   \rReceiving objects:  32% (83/258)   \rReceiving objects:  33% (86/258)   \rReceiving objects:  34% (88/258)   \rReceiving objects:  35% (91/258)   \rReceiving objects:  36% (93/258)   \rReceiving objects:  37% (96/258)   \rReceiving objects:  38% (99/258)   \rReceiving objects:  39% (101/258)   \rReceiving objects:  40% (104/258)   \rReceiving objects:  41% (106/258)   \rReceiving objects:  42% (109/258)   \rReceiving objects:  43% (111/258)   \rReceiving objects:  44% (114/258)   \rReceiving objects:  45% (117/258)   \rReceiving objects:  46% (119/258)   \rReceiving objects:  47% (122/258)   \rReceiving objects:  48% (124/258)   \rReceiving objects:  49% (127/258)   \rReceiving objects:  50% (129/258)   \rReceiving objects:  51% (132/258)   \rReceiving objects:  52% (135/258)   \rReceiving objects:  53% (137/258)   \rReceiving objects:  54% (140/258)   \rReceiving objects:  55% (142/258)   \rReceiving objects:  56% (145/258)   \rReceiving objects:  57% (148/258)   \rReceiving objects:  58% (150/258)   \rReceiving objects:  59% (153/258)   \rReceiving objects:  60% (155/258)   \rReceiving objects:  61% (158/258)   \rReceiving objects:  62% (160/258)   \rReceiving objects:  63% (163/258)   \rReceiving objects:  64% (166/258)   \rReceiving objects:  65% (168/258)   \rReceiving objects:  66% (171/258)   \rReceiving objects:  67% (173/258)   \rReceiving objects:  68% (176/258)   \rReceiving objects:  69% (179/258)   \rReceiving objects:  70% (181/258)   \rReceiving objects:  71% (184/258)   \rReceiving objects:  72% (186/258)   \rReceiving objects:  73% (189/258)   \rReceiving objects:  74% (191/258)   \rReceiving objects:  75% (194/258)   \rReceiving objects:  76% (197/258)   \rReceiving objects:  77% (199/258)   \rReceiving objects:  78% (202/258)   \rReceiving objects:  79% (204/258)   \rReceiving objects:  80% (207/258)   \rReceiving objects:  81% (209/258)   \rReceiving objects:  82% (212/258)   \rReceiving objects:  83% (215/258)   \rReceiving objects:  84% (217/258)   \rReceiving objects:  85% (220/258)   \rReceiving objects:  86% (222/258)   \rReceiving objects:  87% (225/258)   \rremote: Total 258 (delta 132), reused 176 (delta 78), pack-reused 0\u001b[K\n",
            "Receiving objects:  88% (228/258)   \rReceiving objects:  89% (230/258)   \rReceiving objects:  90% (233/258)   \rReceiving objects:  91% (235/258)   \rReceiving objects:  92% (238/258)   \rReceiving objects:  93% (240/258)   \rReceiving objects:  94% (243/258)   \rReceiving objects:  95% (246/258)   \rReceiving objects:  96% (248/258)   \rReceiving objects:  97% (251/258)   \rReceiving objects:  98% (253/258)   \rReceiving objects:  99% (256/258)   \rReceiving objects: 100% (258/258)   \rReceiving objects: 100% (258/258), 607.65 KiB | 17.36 MiB/s, done.\n",
            "Resolving deltas:   0% (0/132)   \rResolving deltas:   6% (9/132)   \rResolving deltas:  10% (14/132)   \rResolving deltas:  13% (18/132)   \rResolving deltas:  16% (22/132)   \rResolving deltas:  18% (24/132)   \rResolving deltas:  31% (41/132)   \rResolving deltas:  33% (44/132)   \rResolving deltas:  45% (60/132)   \rResolving deltas:  46% (62/132)   \rResolving deltas:  47% (63/132)   \rResolving deltas:  48% (64/132)   \rResolving deltas:  70% (93/132)   \rResolving deltas:  71% (95/132)   \rResolving deltas:  72% (96/132)   \rResolving deltas:  77% (102/132)   \rResolving deltas:  80% (106/132)   \rResolving deltas:  81% (108/132)   \rResolving deltas:  84% (112/132)   \rResolving deltas:  86% (114/132)   \rResolving deltas:  87% (116/132)   \rResolving deltas:  88% (117/132)   \rResolving deltas:  95% (126/132)   \rResolving deltas:  96% (127/132)   \rResolving deltas: 100% (132/132)   \rResolving deltas: 100% (132/132), done.\n"
          ],
          "name": "stdout"
        }
      ]
    },
    {
      "cell_type": "code",
      "metadata": {
        "id": "MbcpkAIYKSkw",
        "colab_type": "code",
        "colab": {}
      },
      "source": [
        "%load /content/master_thesis_code/NeuralNetTrain/imgProcessing/sat_images.py"
      ],
      "execution_count": 0,
      "outputs": []
    },
    {
      "cell_type": "code",
      "metadata": {
        "colab_type": "code",
        "id": "CwZd9v4Ukxt6",
        "colab": {
          "base_uri": "https://localhost:8080/",
          "height": 81
        },
        "outputId": "e77635ce-50cf-4b9d-d558-7424042b9eca"
      },
      "source": [
        "import tensorflow as tf\n",
        "import numpy as np\n",
        "import pandas as pd\n",
        "from tensorflow import keras\n",
        "import pyrsgis\n",
        "import cv2\n",
        "from skimage.transform import resize\n",
        "from PIL import Image\n",
        "%matplotlib inline \n",
        "from matplotlib import pyplot as plt\n",
        "from os import listdir\n",
        "from os.path import isfile, join\n",
        "import scipy.io\n",
        "import sklearn.model_selection"
      ],
      "execution_count": 5,
      "outputs": [
        {
          "output_type": "display_data",
          "data": {
            "text/html": [
              "<p style=\"color: red;\">\n",
              "The default version of TensorFlow in Colab will soon switch to TensorFlow 2.x.<br>\n",
              "We recommend you <a href=\"https://www.tensorflow.org/guide/migrate\" target=\"_blank\">upgrade</a> now \n",
              "or ensure your notebook will continue to use TensorFlow 1.x via the <code>%tensorflow_version 1.x</code> magic:\n",
              "<a href=\"https://colab.research.google.com/notebooks/tensorflow_version.ipynb\" target=\"_blank\">more info</a>.</p>\n"
            ],
            "text/plain": [
              "<IPython.core.display.HTML object>"
            ]
          },
          "metadata": {
            "tags": []
          }
        },
        {
          "output_type": "stream",
          "text": [
            "Warning! matplotlib_scalebar library not found.\n"
          ],
          "name": "stdout"
        }
      ]
    },
    {
      "cell_type": "code",
      "metadata": {
        "id": "yoaE3NmFOOAD",
        "colab_type": "code",
        "colab": {}
      },
      "source": [
        "# Import own module to preprocess images\n",
        "import imp\n",
        "sat_images = imp.new_module('sat_images')\n",
        "exec(open(\"/content/master_thesis_code/NeuralNetTrain/imgProcessing/sat_images.py\").read(), sat_images.__dict__)"
      ],
      "execution_count": 0,
      "outputs": []
    },
    {
      "cell_type": "markdown",
      "metadata": {
        "colab_type": "text",
        "id": "V8Lm_M34332n"
      },
      "source": [
        "## Test for one image"
      ]
    },
    {
      "cell_type": "code",
      "metadata": {
        "colab_type": "code",
        "id": "VLRyltYwk3HL",
        "colab": {}
      },
      "source": [
        "# Download test image from drive\n",
        "img_path = \"/gdrive/My Drive/nuts_night/BE34_2013.tif\"\n",
        "\n",
        "ds1, img = pyrsgis.raster.read(img_path)"
      ],
      "execution_count": 0,
      "outputs": []
    },
    {
      "cell_type": "code",
      "metadata": {
        "colab_type": "code",
        "id": "vGEELO3uujS5",
        "outputId": "d20ee6c4-ee25-4494-9a2e-53fc1388a53e",
        "colab": {
          "base_uri": "https://localhost:8080/",
          "height": 34
        }
      },
      "source": [
        "# Print its shape\n",
        "print(\"Image shape: \",img.shape)"
      ],
      "execution_count": 0,
      "outputs": [
        {
          "output_type": "stream",
          "text": [
            "Image shape:  (1299, 1482)\n"
          ],
          "name": "stdout"
        }
      ]
    },
    {
      "cell_type": "code",
      "metadata": {
        "colab_type": "code",
        "id": "KAh7NFewVrKe",
        "colab": {}
      },
      "source": [
        "# Resize original image to compatible size\n",
        "orig_img = np.swapaxes(img,0,-1)\n",
        "orig_resized = resize(orig_img, (256,256))"
      ],
      "execution_count": 0,
      "outputs": []
    },
    {
      "cell_type": "code",
      "metadata": {
        "colab_type": "code",
        "id": "lzov3rpeckrN",
        "outputId": "8f1d92a7-3feb-44d3-a9a6-31ecf4f03549",
        "colab": {
          "base_uri": "https://localhost:8080/",
          "height": 268
        }
      },
      "source": [
        "# Show the original image\n",
        "plt.imshow(orig_resized, interpolation='nearest')\n",
        "plt.show()"
      ],
      "execution_count": 0,
      "outputs": [
        {
          "output_type": "display_data",
          "data": {
            "image/png": "[encoded data removed]",
            "text/plain": [
              "<Figure size 432x288 with 1 Axes>"
            ]
          },
          "metadata": {
            "tags": []
          }
        }
      ]
    },
    {
      "cell_type": "code",
      "metadata": {
        "colab_type": "code",
        "id": "1NURzseNL_yH",
        "outputId": "1ab132a0-ca7a-4df1-e9ef-091b9e23f54b",
        "colab": {
          "base_uri": "https://localhost:8080/",
          "height": 197
        }
      },
      "source": [
        "# Check the data frame\n",
        "y_dat = pd.read_csv(\"/gdrive/My Drive/ThesisData/Data/enhanced_gdp_data.csv\")\n",
        "y_dat.head()"
      ],
      "execution_count": 8,
      "outputs": [
        {
          "output_type": "execute_result",
          "data": {
            "text/html": [
              "<div>\n",
              "<style scoped>\n",
              "    .dataframe tbody tr th:only-of-type {\n",
              "        vertical-align: middle;\n",
              "    }\n",
              "\n",
              "    .dataframe tbody tr th {\n",
              "        vertical-align: top;\n",
              "    }\n",
              "\n",
              "    .dataframe thead th {\n",
              "        text-align: right;\n",
              "    }\n",
              "</style>\n",
              "<table border=\"1\" class=\"dataframe\">\n",
              "  <thead>\n",
              "    <tr style=\"text-align: right;\">\n",
              "      <th></th>\n",
              "      <th>nuts2</th>\n",
              "      <th>year</th>\n",
              "      <th>nuts_value</th>\n",
              "      <th>code</th>\n",
              "      <th>country</th>\n",
              "      <th>country_value</th>\n",
              "      <th>mean_value</th>\n",
              "      <th>diff_value</th>\n",
              "    </tr>\n",
              "  </thead>\n",
              "  <tbody>\n",
              "    <tr>\n",
              "      <th>0</th>\n",
              "      <td>BE10</td>\n",
              "      <td>2008</td>\n",
              "      <td>61100.0</td>\n",
              "      <td>BE</td>\n",
              "      <td>Belgium</td>\n",
              "      <td>33100.0</td>\n",
              "      <td>31881.818182</td>\n",
              "      <td>28000.0</td>\n",
              "    </tr>\n",
              "    <tr>\n",
              "      <th>1</th>\n",
              "      <td>BE21</td>\n",
              "      <td>2008</td>\n",
              "      <td>39200.0</td>\n",
              "      <td>BE</td>\n",
              "      <td>Belgium</td>\n",
              "      <td>33100.0</td>\n",
              "      <td>31881.818182</td>\n",
              "      <td>6100.0</td>\n",
              "    </tr>\n",
              "    <tr>\n",
              "      <th>2</th>\n",
              "      <td>BE22</td>\n",
              "      <td>2008</td>\n",
              "      <td>27500.0</td>\n",
              "      <td>BE</td>\n",
              "      <td>Belgium</td>\n",
              "      <td>33100.0</td>\n",
              "      <td>31881.818182</td>\n",
              "      <td>-5600.0</td>\n",
              "    </tr>\n",
              "    <tr>\n",
              "      <th>3</th>\n",
              "      <td>BE23</td>\n",
              "      <td>2008</td>\n",
              "      <td>29400.0</td>\n",
              "      <td>BE</td>\n",
              "      <td>Belgium</td>\n",
              "      <td>33100.0</td>\n",
              "      <td>31881.818182</td>\n",
              "      <td>-3700.0</td>\n",
              "    </tr>\n",
              "    <tr>\n",
              "      <th>4</th>\n",
              "      <td>BE24</td>\n",
              "      <td>2008</td>\n",
              "      <td>34500.0</td>\n",
              "      <td>BE</td>\n",
              "      <td>Belgium</td>\n",
              "      <td>33100.0</td>\n",
              "      <td>31881.818182</td>\n",
              "      <td>1400.0</td>\n",
              "    </tr>\n",
              "  </tbody>\n",
              "</table>\n",
              "</div>"
            ],
            "text/plain": [
              "  nuts2  year  nuts_value  ... country_value    mean_value  diff_value\n",
              "0  BE10  2008     61100.0  ...       33100.0  31881.818182     28000.0\n",
              "1  BE21  2008     39200.0  ...       33100.0  31881.818182      6100.0\n",
              "2  BE22  2008     27500.0  ...       33100.0  31881.818182     -5600.0\n",
              "3  BE23  2008     29400.0  ...       33100.0  31881.818182     -3700.0\n",
              "4  BE24  2008     34500.0  ...       33100.0  31881.818182      1400.0\n",
              "\n",
              "[5 rows x 8 columns]"
            ]
          },
          "metadata": {
            "tags": []
          },
          "execution_count": 8
        }
      ]
    },
    {
      "cell_type": "code",
      "metadata": {
        "id": "HYE5RQr87GXH",
        "colab_type": "code",
        "outputId": "c9682dc2-7201-48f8-e100-8a9a49ac0b2d",
        "colab": {
          "base_uri": "https://localhost:8080/",
          "height": 34
        }
      },
      "source": [
        "mae_diff = np.mean(abs(y_dat['diff_value']-y_dat['diff_value'].mean()))\n",
        "print(mae_diff)"
      ],
      "execution_count": 9,
      "outputs": [
        {
          "output_type": "stream",
          "text": [
            "5478.004371660496\n"
          ],
          "name": "stdout"
        }
      ]
    },
    {
      "cell_type": "code",
      "metadata": {
        "colab_type": "code",
        "id": "Ogm4ndTFkrib",
        "colab": {}
      },
      "source": [
        "# List of all files in directory\n",
        "mypath = \"/gdrive/My Drive/nuts_night/\"\n",
        "onlyfiles = [f for f in listdir(mypath) if isfile(join(mypath, f))]"
      ],
      "execution_count": 0,
      "outputs": []
    },
    {
      "cell_type": "code",
      "metadata": {
        "colab_type": "code",
        "id": "LHq0y4SCsQFp",
        "outputId": "e9a0ea66-ee35-4256-8fa2-e3e6d35f4f54",
        "colab": {
          "base_uri": "https://localhost:8080/",
          "height": 1000
        }
      },
      "source": [
        "# PreProcess images with certain resolution\n",
        "res = 512\n",
        "x,y,label = sat_images.create_data(onlyfiles,mypath,y_dat,prediction='diff_value',resolution=res,night=True)"
      ],
      "execution_count": 0,
      "outputs": [
        {
          "output_type": "stream",
          "text": [
            "Image processed:  0  of  692\n",
            "Image processed:  10  of  692\n",
            "Image processed:  30  of  692\n",
            "Image processed:  40  of  692\n",
            "Image processed:  50  of  692\n",
            "Image processed:  60  of  692\n",
            "Image processed:  70  of  692\n",
            "Image processed:  80  of  692\n",
            "Image processed:  90  of  692\n",
            "Image processed:  100  of  692\n",
            "Image processed:  110  of  692\n",
            "Image processed:  120  of  692\n",
            "Image processed:  130  of  692\n",
            "Image processed:  140  of  692\n",
            "Image processed:  150  of  692\n",
            "Image processed:  160  of  692\n",
            "Image processed:  170  of  692\n",
            "Image processed:  180  of  692\n",
            "Image processed:  190  of  692\n",
            "Image processed:  200  of  692\n",
            "Image processed:  210  of  692\n",
            "Image processed:  220  of  692\n",
            "Image processed:  230  of  692\n",
            "Image processed:  240  of  692\n",
            "Image processed:  250  of  692\n",
            "Image processed:  260  of  692\n",
            "Image processed:  270  of  692\n",
            "Image processed:  280  of  692\n",
            "Image processed:  290  of  692\n",
            "Image processed:  300  of  692\n",
            "Image processed:  310  of  692\n",
            "Image processed:  320  of  692\n",
            "Image processed:  330  of  692\n",
            "Image processed:  340  of  692\n",
            "Image processed:  350  of  692\n",
            "Image processed:  360  of  692\n",
            "Image processed:  370  of  692\n",
            "Image processed:  380  of  692\n",
            "Image processed:  390  of  692\n",
            "Image processed:  400  of  692\n",
            "Image processed:  410  of  692\n",
            "Image processed:  420  of  692\n",
            "Image processed:  430  of  692\n",
            "Image processed:  440  of  692\n",
            "Image processed:  450  of  692\n",
            "Image processed:  460  of  692\n",
            "Image processed:  470  of  692\n",
            "Image processed:  480  of  692\n",
            "Image processed:  490  of  692\n",
            "Image processed:  500  of  692\n",
            "Image processed:  510  of  692\n",
            "Image processed:  520  of  692\n",
            "Image processed:  530  of  692\n",
            "Image processed:  540  of  692\n",
            "Image processed:  550  of  692\n",
            "Image processed:  560  of  692\n",
            "Image processed:  570  of  692\n",
            "Image processed:  580  of  692\n",
            "Image processed:  590  of  692\n",
            "Image processed:  600  of  692\n",
            "Image processed:  610  of  692\n",
            "Image processed:  620  of  692\n",
            "Image processed:  630  of  692\n",
            "Image processed:  640  of  692\n",
            "Image processed:  650  of  692\n",
            "Image processed:  660  of  692\n",
            "Image processed:  670  of  692\n",
            "Image processed:  680  of  692\n",
            "Image processed:  690  of  692\n"
          ],
          "name": "stdout"
        }
      ]
    },
    {
      "cell_type": "code",
      "metadata": {
        "id": "efIlhYNkwutL",
        "colab_type": "code",
        "colab": {}
      },
      "source": [
        "# Save ndarray to reproduce\n",
        "scipy.io.savemat(\"/gdrive/My Drive/ThesisData/Data/data_night_orig_512.mat\", mdict={'x': x}, oned_as='row')"
      ],
      "execution_count": 0,
      "outputs": []
    },
    {
      "cell_type": "code",
      "metadata": {
        "colab_type": "code",
        "id": "OgjMrcIH5H5o",
        "colab": {}
      },
      "source": [
        "# Load input from scratch\n",
        "#x = np.vstack((scipy.io.loadmat(\"/gdrive/My Drive/ThesisData/Data/data_day_orig_512_1.mat\")['x'],scipy.io.loadmat(\"/gdrive/My Drive/ThesisData/Data/data_day_orig_512_2.mat\")['x']))\n",
        "x = scipy.io.loadmat(\"/gdrive/My Drive/ThesisData/Data/data_night_orig_512.mat\")['x']\n",
        "y, label = sat_images.create_y_label(onlyfiles,mypath,y_dat,prediction='nuts_value')"
      ],
      "execution_count": 0,
      "outputs": []
    },
    {
      "cell_type": "code",
      "metadata": {
        "colab_type": "code",
        "id": "4si-J7h9JBa7",
        "outputId": "c9326981-fa47-4674-cc94-476f7daf1db2",
        "colab": {
          "base_uri": "https://localhost:8080/",
          "height": 70
        }
      },
      "source": [
        "# Print shape of images\n",
        "print('Shape of x: ',len(x))\n",
        "print('Shape of y: ',len(y))\n",
        "print('Shape of labels: ', len(label))"
      ],
      "execution_count": 92,
      "outputs": [
        {
          "output_type": "stream",
          "text": [
            "Shape of x:  692\n",
            "Shape of y:  692\n",
            "Shape of labels:  692\n"
          ],
          "name": "stdout"
        }
      ]
    },
    {
      "cell_type": "code",
      "metadata": {
        "id": "9ae7iGkBO_EN",
        "colab_type": "code",
        "colab": {
          "base_uri": "https://localhost:8080/",
          "height": 34
        },
        "outputId": "3fa7376b-9580-40a0-a642-df1271a49440"
      },
      "source": [
        "# Convert grayscale 1-channel to 3-channel\n",
        "x = np.stack((x,)*3, axis=-1)\n",
        "print(x.shape)"
      ],
      "execution_count": 90,
      "outputs": [
        {
          "output_type": "stream",
          "text": [
            "(692, 512, 512, 3)\n"
          ],
          "name": "stdout"
        }
      ]
    },
    {
      "cell_type": "markdown",
      "metadata": {
        "colab_type": "text",
        "id": "ypHbpM5ZAKmb"
      },
      "source": [
        "## Create Train and Test Sets"
      ]
    },
    {
      "cell_type": "code",
      "metadata": {
        "colab_type": "code",
        "id": "sTyG9Ew6mgrH",
        "outputId": "f9e54193-1ca1-452e-8447-94c09ec43cd2",
        "colab": {
          "base_uri": "https://localhost:8080/",
          "height": 34
        }
      },
      "source": [
        "# Create list of unique regions\n",
        "regions = []\n",
        "for i in range(len(label)):\n",
        "  regions.append(label[i].rsplit('_',1)[0])\n",
        "\n",
        "regions = np.unique(regions)\n",
        "print(len(regions))"
      ],
      "execution_count": 93,
      "outputs": [
        {
          "output_type": "stream",
          "text": [
            "117\n"
          ],
          "name": "stdout"
        }
      ]
    },
    {
      "cell_type": "code",
      "metadata": {
        "colab_type": "code",
        "id": "pBDk2TjtqEmw",
        "outputId": "7643060e-099a-46d7-a2bc-832638aee136",
        "colab": {
          "base_uri": "https://localhost:8080/",
          "height": 70
        }
      },
      "source": [
        "# Split regions into train and test set\n",
        "msk_test = np.random.rand(len(regions)) < 0.2\n",
        "\n",
        "train_split = regions[~msk_test]\n",
        "test_split = regions[msk_test]\n",
        "\n",
        "msk_val = np.random.rand(len(train_split)) < 0.25\n",
        "\n",
        "val_split = train_split[msk_val]\n",
        "train_split = train_split[~msk_val]\n",
        "print(len(train_split))\n",
        "print(len(val_split))\n",
        "print(len(test_split))"
      ],
      "execution_count": 94,
      "outputs": [
        {
          "output_type": "stream",
          "text": [
            "69\n",
            "23\n",
            "25\n"
          ],
          "name": "stdout"
        }
      ]
    },
    {
      "cell_type": "code",
      "metadata": {
        "colab_type": "code",
        "id": "a8-L2N-XrKN3",
        "outputId": "09ed6e9e-ec09-4848-aad8-29f8d04e5137",
        "colab": {
          "base_uri": "https://localhost:8080/",
          "height": 87
        }
      },
      "source": [
        "# Split whole data set into test and train based on split regions\n",
        "import math\n",
        "label_train = []\n",
        "label_val = []\n",
        "label_test = []\n",
        "x_train = []\n",
        "y_train = []\n",
        "x_val = []\n",
        "y_val = []\n",
        "x_test = []\n",
        "y_test = []\n",
        "\n",
        "# Split into train and test based on previous region split\n",
        "for i in range(len(label)):\n",
        "  if label[i].rsplit('_',1)[0] in train_split:\n",
        "    if math.isnan(y[i]):\n",
        "      pass\n",
        "    else:\n",
        "      label_train.append(label[i])\n",
        "      x_train.append(x[i])\n",
        "      y_train.append(int(y[i]))\n",
        "  elif label[i].rsplit('_',1)[0] in val_split:\n",
        "    if math.isnan(y[i]):\n",
        "      pass\n",
        "    else:\n",
        "      label_val.append(label[i])\n",
        "      x_val.append(x[i])\n",
        "      y_val.append(int(y[i]))\n",
        "  else:\n",
        "    if math.isnan(y[i]):\n",
        "      pass\n",
        "    else:\n",
        "      label_test.append(label[i])\n",
        "      x_test.append(x[i])\n",
        "      y_test.append(int(y[i]))\n",
        "\n",
        "# Transform into numpy array\n",
        "label_train = np.array(label_train)\n",
        "label_test = np.array(label_test)\n",
        "label_val = np.array(label_val)\n",
        "x_train = np.array(x_train)\n",
        "x_test = np.array(x_test)\n",
        "x_val = np.array(x_val)\n",
        "y_train = np.array(y_train)\n",
        "y_test = np.array(y_test)  \n",
        "y_val = np.array(y_val)\n",
        "\n",
        "# Print Shape\n",
        "print(x_train.shape)\n",
        "print(x_test.shape)\n",
        "print(y_test.shape)\n",
        "print(x_val.shape)"
      ],
      "execution_count": 95,
      "outputs": [
        {
          "output_type": "stream",
          "text": [
            "(404, 512, 512)\n",
            "(150, 512, 512)\n",
            "(150,)\n",
            "(138, 512, 512)\n"
          ],
          "name": "stdout"
        }
      ]
    },
    {
      "cell_type": "code",
      "metadata": {
        "colab_type": "code",
        "id": "aKRDGusTeNXU",
        "outputId": "14161277-f683-4494-b452-836b4fedde23",
        "colab": {
          "base_uri": "https://localhost:8080/",
          "height": 70
        }
      },
      "source": [
        "# Only execute when using night images, since they are 1d\n",
        "x_train = np.array([x_train])\n",
        "x_train = np.moveaxis(x_train,0,-1)\n",
        "print(x_train.shape)\n",
        "x_val = np.array([x_val])\n",
        "x_val = np.moveaxis(x_val,0,-1)\n",
        "print(x_val.shape)\n",
        "x_test = np.array([x_test])\n",
        "x_test = np.moveaxis(x_test,0,-1)\n",
        "print(x_test.shape)"
      ],
      "execution_count": 96,
      "outputs": [
        {
          "output_type": "stream",
          "text": [
            "(404, 512, 512, 1)\n",
            "(138, 512, 512, 1)\n",
            "(150, 512, 512, 1)\n"
          ],
          "name": "stdout"
        }
      ]
    },
    {
      "cell_type": "code",
      "metadata": {
        "id": "kpGLI20HvjIj",
        "colab_type": "code",
        "colab": {
          "base_uri": "https://localhost:8080/",
          "height": 34
        },
        "outputId": "29af2546-f2e1-442f-a52e-2b0afe01e2f3"
      },
      "source": [
        "# Normalise the data\n",
        "x_train = (x_train/np.max(x_train))\n",
        "x_test = (x_test/np.max(x_test))\n",
        "x_val = (x_val/np.max(x_val))\n",
        "print(np.max(x_train))"
      ],
      "execution_count": 97,
      "outputs": [
        {
          "output_type": "stream",
          "text": [
            "1.0\n"
          ],
          "name": "stdout"
        }
      ]
    },
    {
      "cell_type": "code",
      "metadata": {
        "colab_type": "code",
        "id": "blVC16VGw4af",
        "colab": {}
      },
      "source": [
        "# Deep Model\n",
        "model = tf.keras.Sequential()\n",
        "\n",
        "model.add(tf.keras.layers.Conv2D(32, 3, padding='same', input_shape=(512,512,1), activation='relu'))\n",
        "model.add(tf.keras.layers.Conv2D(32, 3, padding='same', activation='relu'))\n",
        "model.add(tf.keras.layers.BatchNormalization())\n",
        "model.add(tf.keras.layers.MaxPooling2D(pool_size = (2,2)))\n",
        "\n",
        "model.add(tf.keras.layers.Conv2D(64, 3, padding='same', activation='relu'))\n",
        "model.add(tf.keras.layers.Conv2D(64, 3, padding='same', activation='relu'))\n",
        "model.add(tf.keras.layers.BatchNormalization())\n",
        "model.add(tf.keras.layers.MaxPooling2D(pool_size = (2,2)))\n",
        "\n",
        "model.add(tf.keras.layers.Conv2D(128, 3, padding='same', activation='relu'))\n",
        "model.add(tf.keras.layers.Conv2D(128, 3, padding='same', activation='relu'))\n",
        "model.add(tf.keras.layers.Dropout(0.4))\n",
        "model.add(tf.keras.layers.BatchNormalization())\n",
        "model.add(tf.keras.layers.MaxPooling2D(pool_size = (2,2)))\n",
        "\n",
        "model.add(tf.keras.layers.Conv2D(256, 3, padding='same', activation='relu'))\n",
        "model.add(tf.keras.layers.Conv2D(256, 3, padding='same', activation='relu'))\n",
        "model.add(tf.keras.layers.Dropout(0.4))\n",
        "model.add(tf.keras.layers.BatchNormalization())\n",
        "model.add(tf.keras.layers.MaxPooling2D(pool_size = (2,2)))\n",
        "\n",
        "model.add(tf.keras.layers.Conv2D(512, 3, padding='same', activation='relu'))\n",
        "model.add(tf.keras.layers.Conv2D(512, 3, padding='same', activation='relu'))\n",
        "model.add(tf.keras.layers.Dropout(0.4))\n",
        "model.add(tf.keras.layers.BatchNormalization())\n",
        "model.add(tf.keras.layers.MaxPooling2D(pool_size = (2,2)))\n",
        "\n",
        "model.add(tf.keras.layers.Flatten())\n",
        "model.add(tf.keras.layers.Dense(512, activation='relu', activity_regularizer=tf.keras.regularizers.l1(0.001)))\n",
        "model.add(tf.keras.layers.Dropout(0.5))\n",
        "\n",
        "model.add(tf.keras.layers.Dense(512, activation='relu',activity_regularizer=tf.keras.regularizers.l1(0.001)))\n",
        "model.add(tf.keras.layers.Dropout(0.5))\n",
        "model.add(tf.keras.layers.Dense(units=1,activation='relu'))"
      ],
      "execution_count": 0,
      "outputs": []
    },
    {
      "cell_type": "code",
      "metadata": {
        "id": "9L86HWD1sWhR",
        "colab_type": "code",
        "colab": {}
      },
      "source": [
        "# Deep Model\n",
        "model = tf.keras.Sequential()\n",
        "\n",
        "model.add(tf.keras.layers.Conv2D(16, 3, padding='same', input_shape=(512,512,1), activation='relu'))\n",
        "model.add(tf.keras.layers.Conv2D(16, 3, padding='same', activation='relu'))\n",
        "model.add(tf.keras.layers.BatchNormalization())\n",
        "model.add(tf.keras.layers.MaxPooling2D(pool_size = (2,2)))\n",
        "\n",
        "model.add(tf.keras.layers.Conv2D(32, 3, padding='same', activation='relu'))\n",
        "model.add(tf.keras.layers.Conv2D(32, 3, padding='same', activation='relu'))\n",
        "model.add(tf.keras.layers.BatchNormalization())\n",
        "model.add(tf.keras.layers.MaxPooling2D(pool_size = (2,2)))\n",
        "\n",
        "model.add(tf.keras.layers.Flatten())\n",
        "model.add(tf.keras.layers.Dense(128, activation='relu', kernel_initializer='normal', activity_regularizer=tf.keras.regularizers.l1(0.001)))\n",
        "model.add(tf.keras.layers.Dropout(0.5))\n",
        "model.add(tf.keras.layers.Dense(units=1, kernel_initializer='normal',activation='relu'))"
      ],
      "execution_count": 0,
      "outputs": []
    },
    {
      "cell_type": "code",
      "metadata": {
        "colab_type": "code",
        "id": "GXlz_HWWCQuT",
        "outputId": "9c1978e1-a319-4675-94cc-2ee092c93aca",
        "colab": {
          "base_uri": "https://localhost:8080/",
          "height": 52
        }
      },
      "source": [
        "# Transfer Learning\n",
        "base_model = tf.keras.applications.ResNet50V2(input_shape=(512,512,3),include_top=False)\n",
        "x=base_model.output\n",
        "x=tf.keras.layers.GlobalAveragePooling2D()(x)\n",
        "x=tf.keras.layers.Dense(1024,activation='relu')(x) #we add dense layers so that the model can learn more complex functions and classify for better results.\n",
        "x=tf.keras.layers.Dense(1024,activation='relu')(x) #dense layer 2\n",
        "x=tf.keras.layers.Dense(512,activation='relu')(x) #dense layer 3\n",
        "preds=tf.keras.layers.Dense(units=1, activation = 'linear')(x)\n",
        "model=tf.keras.models.Model(inputs=base_model.input,outputs=preds)"
      ],
      "execution_count": 81,
      "outputs": [
        {
          "output_type": "stream",
          "text": [
            "Downloading data from https://github.com/keras-team/keras-applications/releases/download/resnet/resnet50v2_weights_tf_dim_ordering_tf_kernels_notop.h5\n",
            "94674944/94668760 [==============================] - 1s 0us/step\n"
          ],
          "name": "stdout"
        }
      ]
    },
    {
      "cell_type": "code",
      "metadata": {
        "colab_type": "code",
        "id": "3hhLQUBa0NiP",
        "colab": {}
      },
      "source": [
        "optim = tf.keras.optimizers.Adagrad(learning_rate=0.001)\n",
        "model.compile(loss='mean_squared_error', optimizer=optim, metrics=['mse','mae'], )"
      ],
      "execution_count": 0,
      "outputs": []
    },
    {
      "cell_type": "code",
      "metadata": {
        "colab_type": "code",
        "id": "4ihqmhUq0nES",
        "colab": {}
      },
      "source": [
        "# Data Augmentation\n",
        "training_data_generator = tf.keras.preprocessing.image.ImageDataGenerator(horizontal_flip=True)\n",
        "validation_data_generator = tf.keras.preprocessing.image.ImageDataGenerator()\n",
        "test_data_generator = tf.keras.preprocessing.image.ImageDataGenerator()"
      ],
      "execution_count": 0,
      "outputs": []
    },
    {
      "cell_type": "code",
      "metadata": {
        "colab_type": "code",
        "id": "yH4IdyFm0u0B",
        "colab": {}
      },
      "source": [
        "# Data Preparation\n",
        "batch_size = 10\n",
        "\n",
        "# Define the data flow\n",
        "training_generator = training_data_generator.flow(x_train,y_train,batch_size=batch_size)\n",
        "validation_generator = validation_data_generator.flow(x_val, y_val,batch_size=batch_size)\n",
        "test_generator = test_data_generator.flow(x_test,y_test,batch_size=1,shuffle=False)"
      ],
      "execution_count": 0,
      "outputs": []
    },
    {
      "cell_type": "code",
      "metadata": {
        "colab_type": "code",
        "id": "X_QVrMSF1i3f",
        "outputId": "e47eff44-1598-4c47-bf48-36a9da2d8906",
        "colab": {
          "base_uri": "https://localhost:8080/",
          "height": 1000
        }
      },
      "source": [
        "# Calculate the number of steps\n",
        "training_steps = training_generator.n/batch_size\n",
        "validation_steps = validation_generator.n/batch_size\n",
        "\n",
        "# Run the model\n",
        "model.fit_generator(training_generator,\n",
        "                    steps_per_epoch=training_steps,\n",
        "                    epochs = 50,\n",
        "                    validation_data = validation_generator,\n",
        "                    validation_steps = validation_steps,\n",
        "                    verbose = 1\n",
        "                   )"
      ],
      "execution_count": 148,
      "outputs": [
        {
          "output_type": "stream",
          "text": [
            "Epoch 1/50\n",
            "40/40 [============================>.] - ETA: 0s - loss: 207882451.3000 - mean_squared_error: 207963648.0000 - mean_absolute_error: 10971.2666Epoch 1/50\n",
            "41/40 [==============================] - 18s 440ms/step - loss: 204278921.3168 - mean_squared_error: 204303952.0000 - mean_absolute_error: 10859.0977 - val_loss: 1037681254.4928 - val_mean_squared_error: 1032051776.0000 - val_mean_absolute_error: 25893.0039\n",
            "Epoch 2/50\n",
            "40/40 [============================>.] - ETA: 0s - loss: 99879502.8750 - mean_squared_error: 98425208.0000 - mean_absolute_error: 7731.9009 Epoch 1/50\n",
            "41/40 [==============================] - 8s 206ms/step - loss: 98226199.5166 - mean_squared_error: 96818176.0000 - mean_absolute_error: 7658.0098 - val_loss: 1037365600.0000 - val_mean_squared_error: 1031738816.0000 - val_mean_absolute_error: 25886.9727\n",
            "Epoch 3/50\n",
            "40/40 [============================>.] - ETA: 0s - loss: 80301750.2500 - mean_squared_error: 80371392.0000 - mean_absolute_error: 6992.1606Epoch 1/50\n",
            "41/40 [==============================] - 8s 206ms/step - loss: 79405877.0573 - mean_squared_error: 79459144.0000 - mean_absolute_error: 6943.4795 - val_loss: 1054379144.3478 - val_mean_squared_error: 1031841856.0000 - val_mean_absolute_error: 25888.9941\n",
            "Epoch 4/50\n",
            "40/40 [============================>.] - ETA: 0s - loss: 70190378.4000 - mean_squared_error: 69706552.0000 - mean_absolute_error: 6499.2568Epoch 1/50\n",
            "41/40 [==============================] - 8s 207ms/step - loss: 69793009.7822 - mean_squared_error: 69326784.0000 - mean_absolute_error: 6492.0464 - val_loss: 1042723482.8986 - val_mean_squared_error: 1031750080.0000 - val_mean_absolute_error: 25886.9805\n",
            "Epoch 5/50\n",
            "40/40 [============================>.] - ETA: 0s - loss: 59275562.9000 - mean_squared_error: 57677992.0000 - mean_absolute_error: 5902.1313Epoch 1/50\n",
            "41/40 [==============================] - 8s 207ms/step - loss: 58937704.3083 - mean_squared_error: 57412392.0000 - mean_absolute_error: 5885.0146 - val_loss: 1042813736.8116 - val_mean_squared_error: 1031839296.0000 - val_mean_absolute_error: 25888.6660\n",
            "Epoch 6/50\n",
            "40/40 [============================>.] - ETA: 0s - loss: 53417107.6500 - mean_squared_error: 53590540.0000 - mean_absolute_error: 5624.6797Epoch 1/50\n",
            "41/40 [==============================] - 8s 206ms/step - loss: 53443682.8564 - mean_squared_error: 53609100.0000 - mean_absolute_error: 5626.8354 - val_loss: 1042851343.7681 - val_mean_squared_error: 1031876416.0000 - val_mean_absolute_error: 25889.3066\n",
            "Epoch 7/50\n",
            "40/40 [============================>.] - ETA: 0s - loss: 45230549.3500 - mean_squared_error: 45604392.0000 - mean_absolute_error: 5247.8438Epoch 1/50\n",
            "41/40 [==============================] - 8s 206ms/step - loss: 44965892.1719 - mean_squared_error: 45317820.0000 - mean_absolute_error: 5224.1514 - val_loss: 1042559322.8986 - val_mean_squared_error: 1031604096.0000 - val_mean_absolute_error: 25889.5684\n",
            "Epoch 8/50\n",
            "40/40 [============================>.] - ETA: 0s - loss: 42176145.1000 - mean_squared_error: 41060912.0000 - mean_absolute_error: 4895.1719Epoch 1/50\n",
            "41/40 [==============================] - 8s 205ms/step - loss: 42622038.3041 - mean_squared_error: 41567124.0000 - mean_absolute_error: 4946.5391 - val_loss: 1041811000.5797 - val_mean_squared_error: 1032060224.0000 - val_mean_absolute_error: 25892.5508\n",
            "Epoch 9/50\n",
            "40/40 [============================>.] - ETA: 0s - loss: 33265410.0000 - mean_squared_error: 33458578.0000 - mean_absolute_error: 4456.7739Epoch 1/50\n",
            "41/40 [==============================] - 8s 205ms/step - loss: 33065045.8960 - mean_squared_error: 33245960.0000 - mean_absolute_error: 4431.6758 - val_loss: 1037220134.4928 - val_mean_squared_error: 1031231424.0000 - val_mean_absolute_error: 25886.1172\n",
            "Epoch 10/50\n",
            "40/40 [============================>.] - ETA: 0s - loss: 32116870.8625 - mean_squared_error: 32478102.0000 - mean_absolute_error: 4365.8096Epoch 1/50\n",
            "41/40 [==============================] - 8s 206ms/step - loss: 31741423.6367 - mean_squared_error: 32079742.0000 - mean_absolute_error: 4343.2905 - val_loss: 1008550765.2174 - val_mean_squared_error: 992816960.0000 - val_mean_absolute_error: 25523.6602\n",
            "Epoch 11/50\n",
            "40/40 [============================>.] - ETA: 0s - loss: 33685856.2250 - mean_squared_error: 33592532.0000 - mean_absolute_error: 4583.2734Epoch 1/50\n",
            "41/40 [==============================] - 8s 205ms/step - loss: 34472162.6255 - mean_squared_error: 34394724.0000 - mean_absolute_error: 4637.8047 - val_loss: 997652591.3043 - val_mean_squared_error: 982405184.0000 - val_mean_absolute_error: 25393.4297\n",
            "Epoch 12/50\n",
            "40/40 [============================>.] - ETA: 0s - loss: 30622648.5250 - mean_squared_error: 30698450.0000 - mean_absolute_error: 4246.7383Epoch 1/50\n",
            "41/40 [==============================] - 8s 205ms/step - loss: 30338106.9120 - mean_squared_error: 30406100.0000 - mean_absolute_error: 4235.9565 - val_loss: 955902267.8261 - val_mean_squared_error: 937839552.0000 - val_mean_absolute_error: 24691.4570\n",
            "Epoch 13/50\n",
            "40/40 [============================>.] - ETA: 0s - loss: 25299596.1500 - mean_squared_error: 25496790.0000 - mean_absolute_error: 3867.3276Epoch 1/50\n",
            "41/40 [==============================] - 8s 205ms/step - loss: 25064329.3239 - mean_squared_error: 25248568.0000 - mean_absolute_error: 3856.1331 - val_loss: 877455610.4348 - val_mean_squared_error: 870687104.0000 - val_mean_absolute_error: 23147.5625\n",
            "Epoch 14/50\n",
            "40/40 [============================>.] - ETA: 0s - loss: 25953967.1125 - mean_squared_error: 25715696.0000 - mean_absolute_error: 4001.0190Epoch 1/50\n",
            "41/40 [==============================] - 8s 204ms/step - loss: 25663108.1002 - mean_squared_error: 25432114.0000 - mean_absolute_error: 3984.9783 - val_loss: 871773078.2609 - val_mean_squared_error: 865366528.0000 - val_mean_absolute_error: 22936.4082\n",
            "Epoch 15/50\n",
            "40/40 [============================>.] - ETA: 0s - loss: 23261421.5188 - mean_squared_error: 23557998.0000 - mean_absolute_error: 3737.8909Epoch 1/50\n",
            "41/40 [==============================] - 8s 205ms/step - loss: 22900463.5796 - mean_squared_error: 23177464.0000 - mean_absolute_error: 3702.5732 - val_loss: 793088408.1159 - val_mean_squared_error: 786858304.0000 - val_mean_absolute_error: 20812.5820\n",
            "Epoch 16/50\n",
            "40/40 [============================>.] - ETA: 0s - loss: 26177084.5250 - mean_squared_error: 25108144.0000 - mean_absolute_error: 3810.5237Epoch 1/50\n",
            "41/40 [==============================] - 8s 204ms/step - loss: 26063542.7564 - mean_squared_error: 25044578.0000 - mean_absolute_error: 3804.3677 - val_loss: 704690640.0000 - val_mean_squared_error: 702496128.0000 - val_mean_absolute_error: 18928.4023\n",
            "Epoch 17/50\n",
            "40/40 [============================>.] - ETA: 0s - loss: 20388831.1187 - mean_squared_error: 20641348.0000 - mean_absolute_error: 3431.4216Epoch 1/50\n",
            "41/40 [==============================] - 8s 205ms/step - loss: 20028449.0089 - mean_squared_error: 20263526.0000 - mean_absolute_error: 3387.9805 - val_loss: 537857545.5072 - val_mean_squared_error: 535579904.0000 - val_mean_absolute_error: 15939.1523\n",
            "Epoch 18/50\n",
            "40/40 [============================>.] - ETA: 0s - loss: 19037021.2188 - mean_squared_error: 19282622.0000 - mean_absolute_error: 3422.3127Epoch 1/50\n",
            "41/40 [==============================] - 8s 205ms/step - loss: 18887635.0626 - mean_squared_error: 19119188.0000 - mean_absolute_error: 3418.3574 - val_loss: 582095222.0290 - val_mean_squared_error: 579017536.0000 - val_mean_absolute_error: 16791.1133\n",
            "Epoch 19/50\n",
            "40/40 [============================>.] - ETA: 0s - loss: 19708530.3000 - mean_squared_error: 19791642.0000 - mean_absolute_error: 3329.7168Epoch 1/50\n",
            "41/40 [==============================] - 8s 205ms/step - loss: 19538408.2938 - mean_squared_error: 19615020.0000 - mean_absolute_error: 3312.8245 - val_loss: 578806575.0725 - val_mean_squared_error: 561940480.0000 - val_mean_absolute_error: 16308.5801\n",
            "Epoch 20/50\n",
            "40/40 [============================>.] - ETA: 0s - loss: 19352507.7937 - mean_squared_error: 19463326.0000 - mean_absolute_error: 3297.6143Epoch 1/50\n",
            "41/40 [==============================] - 8s 205ms/step - loss: 19345764.5756 - mean_squared_error: 19451112.0000 - mean_absolute_error: 3293.9421 - val_loss: 516254072.4638 - val_mean_squared_error: 513779328.0000 - val_mean_absolute_error: 15604.5234\n",
            "Epoch 21/50\n",
            "40/40 [============================>.] - ETA: 0s - loss: 20195219.7625 - mean_squared_error: 20157142.0000 - mean_absolute_error: 3434.9829Epoch 1/50\n",
            "41/40 [==============================] - 8s 207ms/step - loss: 20090165.0295 - mean_squared_error: 20052386.0000 - mean_absolute_error: 3429.5703 - val_loss: 506720658.5507 - val_mean_squared_error: 502314976.0000 - val_mean_absolute_error: 15368.7246\n",
            "Epoch 22/50\n",
            "40/40 [============================>.] - ETA: 0s - loss: 20272415.1625 - mean_squared_error: 20411336.0000 - mean_absolute_error: 3470.7021Epoch 1/50\n",
            "41/40 [==============================] - 8s 205ms/step - loss: 20402317.2145 - mean_squared_error: 20536388.0000 - mean_absolute_error: 3499.8933 - val_loss: 557009431.8841 - val_mean_squared_error: 552792128.0000 - val_mean_absolute_error: 16296.9092\n",
            "Epoch 23/50\n",
            "40/40 [============================>.] - ETA: 0s - loss: 18494060.2000 - mean_squared_error: 18429506.0000 - mean_absolute_error: 3304.0781Epoch 1/50\n",
            "41/40 [==============================] - 8s 204ms/step - loss: 18278967.5400 - mean_squared_error: 18214396.0000 - mean_absolute_error: 3286.3596 - val_loss: 459602031.3043 - val_mean_squared_error: 457263264.0000 - val_mean_absolute_error: 14315.0586\n",
            "Epoch 24/50\n",
            "40/40 [============================>.] - ETA: 0s - loss: 16446311.6937 - mean_squared_error: 16578207.0000 - mean_absolute_error: 3073.4617Epoch 1/50\n",
            "41/40 [==============================] - 8s 205ms/step - loss: 16875680.3121 - mean_squared_error: 17007406.0000 - mean_absolute_error: 3117.1611 - val_loss: 545409646.9565 - val_mean_squared_error: 541729728.0000 - val_mean_absolute_error: 16012.8770\n",
            "Epoch 25/50\n",
            "40/40 [============================>.] - ETA: 0s - loss: 15905095.2312 - mean_squared_error: 15750743.0000 - mean_absolute_error: 3018.0610Epoch 1/50\n",
            "41/40 [==============================] - 8s 204ms/step - loss: 15921733.7649 - mean_squared_error: 15775060.0000 - mean_absolute_error: 3035.4546 - val_loss: 434463360.5797 - val_mean_squared_error: 428647360.0000 - val_mean_absolute_error: 13855.3828\n",
            "Epoch 26/50\n",
            "40/40 [============================>.] - ETA: 0s - loss: 17393545.5375 - mean_squared_error: 17127820.0000 - mean_absolute_error: 3131.1501Epoch 1/50\n",
            "41/40 [==============================] - 8s 204ms/step - loss: 17294059.7675 - mean_squared_error: 17039712.0000 - mean_absolute_error: 3125.8530 - val_loss: 514037162.8986 - val_mean_squared_error: 512484864.0000 - val_mean_absolute_error: 15476.7988\n",
            "Epoch 27/50\n",
            "40/40 [============================>.] - ETA: 0s - loss: 17796661.9500 - mean_squared_error: 17664672.0000 - mean_absolute_error: 3176.1125Epoch 1/50\n",
            "41/40 [==============================] - 8s 205ms/step - loss: 17819463.1966 - mean_squared_error: 17694162.0000 - mean_absolute_error: 3175.3694 - val_loss: 523298513.3333 - val_mean_squared_error: 520781824.0000 - val_mean_absolute_error: 15529.5234\n",
            "Epoch 28/50\n",
            "40/40 [============================>.] - ETA: 0s - loss: 16394007.4062 - mean_squared_error: 16455472.0000 - mean_absolute_error: 3081.5776Epoch 1/50\n",
            "41/40 [==============================] - 8s 206ms/step - loss: 16272636.5705 - mean_squared_error: 16329354.0000 - mean_absolute_error: 3066.3245 - val_loss: 527718636.5217 - val_mean_squared_error: 524729056.0000 - val_mean_absolute_error: 15591.5654\n",
            "Epoch 29/50\n",
            "40/40 [============================>.] - ETA: 0s - loss: 14857214.6250 - mean_squared_error: 14856828.0000 - mean_absolute_error: 2953.8494Epoch 1/50\n",
            "41/40 [==============================] - 8s 204ms/step - loss: 14760909.6100 - mean_squared_error: 14817174.0000 - mean_absolute_error: 2953.0139 - val_loss: 497140597.1014 - val_mean_squared_error: 492991776.0000 - val_mean_absolute_error: 15126.9492\n",
            "Epoch 30/50\n",
            "40/40 [============================>.] - ETA: 0s - loss: 16517281.7375 - mean_squared_error: 16396441.0000 - mean_absolute_error: 3162.4309Epoch 1/50\n",
            "41/40 [==============================] - 8s 205ms/step - loss: 16651384.9687 - mean_squared_error: 16538306.0000 - mean_absolute_error: 3173.7097 - val_loss: 545999310.1449 - val_mean_squared_error: 544398976.0000 - val_mean_absolute_error: 16024.0020\n",
            "Epoch 31/50\n",
            "40/40 [============================>.] - ETA: 0s - loss: 17834319.8000 - mean_squared_error: 17769770.0000 - mean_absolute_error: 3239.8030Epoch 1/50\n",
            "41/40 [==============================] - 8s 205ms/step - loss: 17948016.8388 - mean_squared_error: 17888216.0000 - mean_absolute_error: 3255.1177 - val_loss: 494230070.7246 - val_mean_squared_error: 486801344.0000 - val_mean_absolute_error: 14949.9355\n",
            "Epoch 32/50\n",
            "40/40 [============================>.] - ETA: 0s - loss: 20414703.1062 - mean_squared_error: 18291772.0000 - mean_absolute_error: 3202.5103Epoch 1/50\n",
            "41/40 [==============================] - 8s 205ms/step - loss: 20033784.4877 - mean_squared_error: 18007870.0000 - mean_absolute_error: 3178.3508 - val_loss: 532078570.4348 - val_mean_squared_error: 529124768.0000 - val_mean_absolute_error: 15774.1309\n",
            "Epoch 33/50\n",
            "40/40 [============================>.] - ETA: 0s - loss: 14031176.8375 - mean_squared_error: 13943795.0000 - mean_absolute_error: 2853.3848Epoch 1/50\n",
            "41/40 [==============================] - 8s 205ms/step - loss: 13854557.8801 - mean_squared_error: 13768818.0000 - mean_absolute_error: 2822.0959 - val_loss: 522311708.9855 - val_mean_squared_error: 519918752.0000 - val_mean_absolute_error: 15481.3301\n",
            "Epoch 34/50\n",
            "40/40 [============================>.] - ETA: 0s - loss: 14320037.5813 - mean_squared_error: 14431326.0000 - mean_absolute_error: 2856.5034Epoch 1/50\n",
            "41/40 [==============================] - 8s 204ms/step - loss: 14923477.9027 - mean_squared_error: 15038115.0000 - mean_absolute_error: 2924.2520 - val_loss: 553738968.6957 - val_mean_squared_error: 551401152.0000 - val_mean_absolute_error: 16216.4873\n",
            "Epoch 35/50\n",
            "40/40 [============================>.] - ETA: 0s - loss: 14864002.2312 - mean_squared_error: 15081307.0000 - mean_absolute_error: 2953.2310Epoch 1/50\n",
            "41/40 [==============================] - 8s 205ms/step - loss: 14823371.4963 - mean_squared_error: 15029570.0000 - mean_absolute_error: 2942.0994 - val_loss: 567612180.8696 - val_mean_squared_error: 564348096.0000 - val_mean_absolute_error: 16709.8125\n",
            "Epoch 36/50\n",
            "40/40 [============================>.] - ETA: 0s - loss: 15523645.2125 - mean_squared_error: 15605097.0000 - mean_absolute_error: 2967.1470Epoch 1/50\n",
            "41/40 [==============================] - 8s 205ms/step - loss: 15735270.5126 - mean_squared_error: 15815836.0000 - mean_absolute_error: 2999.1829 - val_loss: 539130455.6522 - val_mean_squared_error: 536510112.0000 - val_mean_absolute_error: 15851.2881\n",
            "Epoch 37/50\n",
            "40/40 [============================>.] - ETA: 0s - loss: 16876197.6313 - mean_squared_error: 16212158.0000 - mean_absolute_error: 3137.7673Epoch 1/50\n",
            "41/40 [==============================] - 8s 205ms/step - loss: 16587063.7637 - mean_squared_error: 15950896.0000 - mean_absolute_error: 3103.2048 - val_loss: 588147440.0000 - val_mean_squared_error: 580771392.0000 - val_mean_absolute_error: 16850.6289\n",
            "Epoch 38/50\n",
            "40/40 [============================>.] - ETA: 0s - loss: 14633636.4000 - mean_squared_error: 13922824.0000 - mean_absolute_error: 2814.0530Epoch 1/50\n",
            "41/40 [==============================] - 8s 204ms/step - loss: 14564325.2907 - mean_squared_error: 13886828.0000 - mean_absolute_error: 2814.2073 - val_loss: 480599605.2174 - val_mean_squared_error: 470237376.0000 - val_mean_absolute_error: 14523.3682\n",
            "Epoch 39/50\n",
            "40/40 [============================>.] - ETA: 0s - loss: 13251526.4906 - mean_squared_error: 13438456.0000 - mean_absolute_error: 2796.8794Epoch 1/50\n",
            "41/40 [==============================] - 8s 204ms/step - loss: 13084305.9762 - mean_squared_error: 13259765.0000 - mean_absolute_error: 2781.1931 - val_loss: 546437017.3913 - val_mean_squared_error: 539679552.0000 - val_mean_absolute_error: 15982.0342\n",
            "Epoch 40/50\n",
            "40/40 [============================>.] - ETA: 0s - loss: 17257188.7812 - mean_squared_error: 16473908.0000 - mean_absolute_error: 3054.2778Epoch 1/50\n",
            "41/40 [==============================] - 8s 205ms/step - loss: 17188556.9704 - mean_squared_error: 16442103.0000 - mean_absolute_error: 3044.4050 - val_loss: 593653953.6232 - val_mean_squared_error: 588734016.0000 - val_mean_absolute_error: 17057.7676\n",
            "Epoch 41/50\n",
            "40/40 [============================>.] - ETA: 0s - loss: 13013553.6813 - mean_squared_error: 13147956.0000 - mean_absolute_error: 2835.1543Epoch 1/50\n",
            "41/40 [==============================] - 8s 205ms/step - loss: 13063037.5872 - mean_squared_error: 13191646.0000 - mean_absolute_error: 2839.0618 - val_loss: 582330932.1739 - val_mean_squared_error: 577005952.0000 - val_mean_absolute_error: 16645.6328\n",
            "Epoch 42/50\n",
            "40/40 [============================>.] - ETA: 0s - loss: 11660334.9000 - mean_squared_error: 11698197.0000 - mean_absolute_error: 2620.6414Epoch 1/50\n",
            "41/40 [==============================] - 8s 205ms/step - loss: 11599530.7988 - mean_squared_error: 11634664.0000 - mean_absolute_error: 2622.3000 - val_loss: 579762126.3768 - val_mean_squared_error: 572989888.0000 - val_mean_absolute_error: 16529.8184\n",
            "Epoch 43/50\n",
            "40/40 [============================>.] - ETA: 0s - loss: 13460212.1562 - mean_squared_error: 13459822.0000 - mean_absolute_error: 2780.4382Epoch 1/50\n",
            "41/40 [==============================] - 8s 205ms/step - loss: 13249189.8781 - mean_squared_error: 13372931.0000 - mean_absolute_error: 2771.5999 - val_loss: 556608707.2464 - val_mean_squared_error: 546763328.0000 - val_mean_absolute_error: 16136.4932\n",
            "Epoch 44/50\n",
            "40/40 [============================>.] - ETA: 0s - loss: 13817320.8938 - mean_squared_error: 13076362.0000 - mean_absolute_error: 2759.4736Epoch 1/50\n",
            "41/40 [==============================] - 8s 206ms/step - loss: 13899509.6799 - mean_squared_error: 13195517.0000 - mean_absolute_error: 2775.9573 - val_loss: 582136559.4203 - val_mean_squared_error: 568984128.0000 - val_mean_absolute_error: 16807.3730\n",
            "Epoch 45/50\n",
            "40/40 [============================>.] - ETA: 0s - loss: 12733188.5750 - mean_squared_error: 12910701.0000 - mean_absolute_error: 2749.3220Epoch 1/50\n",
            "41/40 [==============================] - 8s 205ms/step - loss: 12813787.2530 - mean_squared_error: 12983871.0000 - mean_absolute_error: 2756.4468 - val_loss: 551721896.2319 - val_mean_squared_error: 548456256.0000 - val_mean_absolute_error: 16173.9727\n",
            "Epoch 46/50\n",
            "40/40 [============================>.] - ETA: 0s - loss: 13165448.8938 - mean_squared_error: 13234419.0000 - mean_absolute_error: 2707.9016Epoch 1/50\n",
            "41/40 [==============================] - 8s 205ms/step - loss: 13163704.9974 - mean_squared_error: 13229297.0000 - mean_absolute_error: 2711.1345 - val_loss: 574073726.3768 - val_mean_squared_error: 562492736.0000 - val_mean_absolute_error: 16493.4473\n",
            "Epoch 47/50\n",
            "40/40 [============================>.] - ETA: 0s - loss: 11600419.0813 - mean_squared_error: 11686959.0000 - mean_absolute_error: 2594.6270Epoch 1/50\n",
            "41/40 [==============================] - 8s 205ms/step - loss: 11443361.2559 - mean_squared_error: 11523427.0000 - mean_absolute_error: 2572.0613 - val_loss: 563290897.9710 - val_mean_squared_error: 555996544.0000 - val_mean_absolute_error: 16427.4492\n",
            "Epoch 48/50\n",
            "40/40 [============================>.] - ETA: 0s - loss: 11401144.8781 - mean_squared_error: 11380444.0000 - mean_absolute_error: 2497.8630Epoch 1/50\n",
            "41/40 [==============================] - 8s 205ms/step - loss: 11477423.6173 - mean_squared_error: 11458808.0000 - mean_absolute_error: 2517.4009 - val_loss: 532386441.7391 - val_mean_squared_error: 525772128.0000 - val_mean_absolute_error: 15832.3008\n",
            "Epoch 49/50\n",
            "40/40 [============================>.] - ETA: 0s - loss: 13604991.2125 - mean_squared_error: 13622783.0000 - mean_absolute_error: 2787.0813Epoch 1/50\n",
            "41/40 [==============================] - 8s 205ms/step - loss: 13415961.8957 - mean_squared_error: 13430136.0000 - mean_absolute_error: 2759.1714 - val_loss: 577283219.7101 - val_mean_squared_error: 566974592.0000 - val_mean_absolute_error: 16432.1367\n",
            "Epoch 50/50\n",
            "40/40 [============================>.] - ETA: 0s - loss: 12735081.9469 - mean_squared_error: 11046015.0000 - mean_absolute_error: 2481.3284Epoch 1/50\n",
            "41/40 [==============================] - 8s 204ms/step - loss: 13095724.0323 - mean_squared_error: 11493462.0000 - mean_absolute_error: 2529.4524 - val_loss: 525475304.3478 - val_mean_squared_error: 522150720.0000 - val_mean_absolute_error: 15523.3896\n"
          ],
          "name": "stdout"
        },
        {
          "output_type": "execute_result",
          "data": {
            "text/plain": [
              "<tensorflow.python.keras.callbacks.History at 0x7ef5a7cbfcc0>"
            ]
          },
          "metadata": {
            "tags": []
          },
          "execution_count": 148
        }
      ]
    },
    {
      "cell_type": "code",
      "metadata": {
        "id": "Idq10rAcC-lq",
        "colab_type": "code",
        "colab": {
          "base_uri": "https://localhost:8080/",
          "height": 573
        },
        "outputId": "e0ce8a1e-1136-4296-921c-c8444feb7e19"
      },
      "source": [
        "# Plot training & validation accuracy values\n",
        "plt.plot(model.history.history['mean_squared_error'])\n",
        "plt.plot(model.history.history['val_mean_squared_error'])\n",
        "plt.title('Model MSE')\n",
        "plt.ylabel('MSE')\n",
        "plt.xlabel('Epoch')\n",
        "plt.legend(['Train', 'Validation'], loc='upper left')\n",
        "plt.show()\n",
        "\n",
        "# Plot training & validation loss values\n",
        "plt.plot(model.history.history['mean_absolute_error'])\n",
        "plt.plot(model.history.history['val_mean_absolute_error'])\n",
        "plt.title('Model MAE')\n",
        "plt.ylabel('MAE')\n",
        "plt.xlabel('Epoch')\n",
        "plt.legend(['Train', 'Validation'], loc='upper left')\n",
        "plt.show()"
      ],
      "execution_count": 149,
      "outputs": [
        {
          "output_type": "display_data",
          "data": {
            "image/png": "[encoded data removed]",
            "text/plain": [
              "<Figure size 432x288 with 1 Axes>"
            ]
          },
          "metadata": {
            "tags": []
          }
        },
        {
          "output_type": "display_data",
          "data": {
            "image/png": "[encoded data removed]",
            "text/plain": [
              "<Figure size 432x288 with 1 Axes>"
            ]
          },
          "metadata": {
            "tags": []
          }
        }
      ]
    },
    {
      "cell_type": "code",
      "metadata": {
        "colab_type": "code",
        "id": "n1XeOAyH1vIN",
        "outputId": "02829d6e-f8d5-4d85-ffb8-a344f3fe8356",
        "colab": {
          "base_uri": "https://localhost:8080/",
          "height": 70
        }
      },
      "source": [
        "# Calculate the test performance\n",
        "test_score = model.evaluate_generator(test_generator)\n",
        "print('Test loss: '+str(test_score[0]))\n",
        "print('Test MSE: '+str(test_score[1]))\n",
        "print('Test MAE: '+str(test_score[2]))"
      ],
      "execution_count": 150,
      "outputs": [
        {
          "output_type": "stream",
          "text": [
            "Test loss: 176667666.44192484\n",
            "Test MSE: 176667440.0\n",
            "Test MAE: 9293.801\n"
          ],
          "name": "stdout"
        }
      ]
    },
    {
      "cell_type": "code",
      "metadata": {
        "colab_type": "code",
        "id": "jmzlLEqIyAEc",
        "colab": {}
      },
      "source": [
        ""
      ],
      "execution_count": 0,
      "outputs": []
    }
  ]
}