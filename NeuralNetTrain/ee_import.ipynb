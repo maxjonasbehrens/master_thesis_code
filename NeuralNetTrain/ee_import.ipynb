{
  "nbformat": 4,
  "nbformat_minor": 0,
  "metadata": {
    "colab": {
      "name": "ee_import.ipynb",
      "provenance": [],
      "collapsed_sections": [],
      "toc_visible": true,
      "machine_shape": "hm"
    },
    "kernelspec": {
      "name": "python3",
      "display_name": "Python 3"
    },
    "accelerator": "GPU"
  },
  "cells": [
    {
      "cell_type": "markdown",
      "metadata": {
        "colab_type": "text",
        "id": "jcCwLDmWkrHi"
      },
      "source": [
        "## PreProcess Images and feed into CNN"
      ]
    },
    {
      "cell_type": "code",
      "metadata": {
        "colab_type": "code",
        "id": "KnRwnXgRkXTH",
        "outputId": "37da20e9-c9b1-4f2a-fb90-a6fcda6f1c89",
        "colab": {
          "base_uri": "https://localhost:8080/",
          "height": 34
        }
      },
      "source": [
        "# Mount Google Drive\n",
        "from google.colab import drive\n",
        "drive.mount('/gdrive')"
      ],
      "execution_count": 2,
      "outputs": [
        {
          "output_type": "stream",
          "text": [
            "Drive already mounted at /gdrive; to attempt to forcibly remount, call drive.mount(\"/gdrive\", force_remount=True).\n"
          ],
          "name": "stdout"
        }
      ]
    },
    {
      "cell_type": "code",
      "metadata": {
        "colab_type": "code",
        "id": "1Lfk-ya7Ux0k",
        "outputId": "22dfe001-5d04-408d-e22e-abee185cffa8",
        "colab": {
          "base_uri": "https://localhost:8080/",
          "height": 87
        }
      },
      "source": [
        "# Install package to handle .tiff data\n",
        "!pip install pyrsgis"
      ],
      "execution_count": 2,
      "outputs": [
        {
          "output_type": "stream",
          "text": [
            "Collecting pyrsgis\n",
            "  Downloading https://files.pythonhosted.org/packages/35/ab/7fcabaa7a75977e79fa535d781f2be92cd71331e9b21457b836442f3a475/pyrsgis-0.2.6-py3-none-any.whl\n",
            "Installing collected packages: pyrsgis\n",
            "Successfully installed pyrsgis-0.2.6\n"
          ],
          "name": "stdout"
        }
      ]
    },
    {
      "cell_type": "code",
      "metadata": {
        "id": "eA5AhCi0KFdG",
        "colab_type": "code",
        "outputId": "9a080aff-03d9-4712-c7a4-902a2c273027",
        "colab": {
          "base_uri": "https://localhost:8080/",
          "height": 141
        }
      },
      "source": [
        "# Clone my git repo for preprocessing the images\n",
        "\n",
        "!git clone https://github.com/maxjonasbehrens/master_thesis_code\n",
        "#%cd /content/master_thesis_code\n",
        "#!git pull"
      ],
      "execution_count": 3,
      "outputs": [
        {
          "output_type": "stream",
          "text": [
            "Cloning into 'master_thesis_code'...\n",
            "remote: Enumerating objects: 290, done.\u001b[K\n",
            "remote: Counting objects: 100% (290/290), done.\u001b[K\n",
            "remote: Compressing objects: 100% (204/204), done.\u001b[K\n",
            "remote: Total 290 (delta 149), reused 191 (delta 84), pack-reused 0\u001b[K\n",
            "Receiving objects: 100% (290/290), 763.12 KiB | 14.96 MiB/s, done.\n",
            "Resolving deltas: 100% (149/149), done.\n"
          ],
          "name": "stdout"
        }
      ]
    },
    {
      "cell_type": "code",
      "metadata": {
        "id": "MbcpkAIYKSkw",
        "colab_type": "code",
        "colab": {}
      },
      "source": [
        "# Load Python script for preprocessing\n",
        "%load /content/master_thesis_code/NeuralNetTrain/imgProcessing/sat_images.py"
      ],
      "execution_count": 0,
      "outputs": []
    },
    {
      "cell_type": "code",
      "metadata": {
        "colab_type": "code",
        "id": "CwZd9v4Ukxt6",
        "colab": {
          "base_uri": "https://localhost:8080/",
          "height": 81
        },
        "outputId": "2a377084-1dc8-4d01-cdcb-52f9da49a957"
      },
      "source": [
        "# Load necessary packages\n",
        "import tensorflow as tf\n",
        "import numpy as np\n",
        "import pandas as pd\n",
        "from tensorflow import keras\n",
        "import pyrsgis\n",
        "import cv2\n",
        "from skimage.transform import resize\n",
        "from PIL import Image\n",
        "%matplotlib inline \n",
        "from matplotlib import pyplot as plt\n",
        "from os import listdir\n",
        "from os.path import isfile, join\n",
        "import scipy.io\n",
        "import sklearn.model_selection"
      ],
      "execution_count": 3,
      "outputs": [
        {
          "output_type": "display_data",
          "data": {
            "text/html": [
              "<p style=\"color: red;\">\n",
              "The default version of TensorFlow in Colab will soon switch to TensorFlow 2.x.<br>\n",
              "We recommend you <a href=\"https://www.tensorflow.org/guide/migrate\" target=\"_blank\">upgrade</a> now \n",
              "or ensure your notebook will continue to use TensorFlow 1.x via the <code>%tensorflow_version 1.x</code> magic:\n",
              "<a href=\"https://colab.research.google.com/notebooks/tensorflow_version.ipynb\" target=\"_blank\">more info</a>.</p>\n"
            ],
            "text/plain": [
              "<IPython.core.display.HTML object>"
            ]
          },
          "metadata": {
            "tags": []
          }
        },
        {
          "output_type": "stream",
          "text": [
            "Warning! matplotlib_scalebar library not found.\n"
          ],
          "name": "stdout"
        }
      ]
    },
    {
      "cell_type": "code",
      "metadata": {
        "id": "yoaE3NmFOOAD",
        "colab_type": "code",
        "colab": {}
      },
      "source": [
        "# Import own module to preprocess images\n",
        "import imp\n",
        "sat_images = imp.new_module('sat_images')\n",
        "exec(open(\"/content/master_thesis_code/NeuralNetTrain/imgProcessing/sat_images.py\").read(), sat_images.__dict__)"
      ],
      "execution_count": 0,
      "outputs": []
    },
    {
      "cell_type": "markdown",
      "metadata": {
        "colab_type": "text",
        "id": "V8Lm_M34332n"
      },
      "source": [
        "## Test for one image"
      ]
    },
    {
      "cell_type": "code",
      "metadata": {
        "colab_type": "code",
        "id": "VLRyltYwk3HL",
        "colab": {}
      },
      "source": [
        "# Download test image from drive\n",
        "img_path = \"/gdrive/My Drive/nuts_geotiff/BE34_2013.tif\"\n",
        "\n",
        "ds1, img = pyrsgis.raster.read(img_path)"
      ],
      "execution_count": 0,
      "outputs": []
    },
    {
      "cell_type": "code",
      "metadata": {
        "colab_type": "code",
        "id": "vGEELO3uujS5",
        "outputId": "db3ddd14-2095-4a36-936a-6aaa8f8fba76",
        "colab": {
          "base_uri": "https://localhost:8080/",
          "height": 34
        }
      },
      "source": [
        "# Print its shape\n",
        "print(\"Image shape: \",img.shape)"
      ],
      "execution_count": 25,
      "outputs": [
        {
          "output_type": "stream",
          "text": [
            "Image shape:  (3, 1299, 1482)\n"
          ],
          "name": "stdout"
        }
      ]
    },
    {
      "cell_type": "code",
      "metadata": {
        "colab_type": "code",
        "id": "KAh7NFewVrKe",
        "colab": {}
      },
      "source": [
        "# Resize original image to compatible size\n",
        "img = np.swapaxes(img,0,-1)\n",
        "orig_resized = resize(img, (1024,1024))"
      ],
      "execution_count": 0,
      "outputs": []
    },
    {
      "cell_type": "code",
      "metadata": {
        "colab_type": "code",
        "id": "lzov3rpeckrN",
        "outputId": "9d5bec55-f038-4233-fb1a-e22d64a4d55f",
        "colab": {
          "base_uri": "https://localhost:8080/",
          "height": 268
        }
      },
      "source": [
        "# Show the original image\n",
        "plt.imshow(orig_resized, interpolation='nearest')\n",
        "plt.show()"
      ],
      "execution_count": 27,
      "outputs": [
        {
          "output_type": "display_data",
          "data": {
            "image/png": "[encoded data removed]",
            "text/plain": [
              "<Figure size 432x288 with 1 Axes>"
            ]
          },
          "metadata": {
            "tags": []
          }
        }
      ]
    },
    {
      "cell_type": "code",
      "metadata": {
        "id": "mrl4Vw_GTVIq",
        "colab_type": "code",
        "outputId": "5589a084-5fb3-4373-d6d4-c82a7c35f5f1",
        "colab": {
          "base_uri": "https://localhost:8080/",
          "height": 268
        }
      },
      "source": [
        "# Test replacing nan values with mean or samples from normal distribution\n",
        "\n",
        "mu, sigma = np.nanmean(img), np.nanstd(img)\n",
        "processed_img = img\n",
        "#processed_img = resize(processed_img, (512,512))\n",
        "n_nan = len(processed_img[np.isnan(processed_img)])\n",
        "processed_img[np.isnan(processed_img)] = mu#np.random.normal(mu,sigma,n_nan)\n",
        "processed_img = resize(processed_img, (512,512))\n",
        "plt.imshow(processed_img, interpolation='nearest')\n",
        "plt.show()"
      ],
      "execution_count": 28,
      "outputs": [
        {
          "output_type": "display_data",
          "data": {
            "image/png": "[encoded data removed]",
            "text/plain": [
              "<Figure size 432x288 with 1 Axes>"
            ]
          },
          "metadata": {
            "tags": []
          }
        }
      ]
    },
    {
      "cell_type": "markdown",
      "metadata": {
        "id": "uI4zPKrdH71D",
        "colab_type": "text"
      },
      "source": [
        "# Create input data"
      ]
    },
    {
      "cell_type": "code",
      "metadata": {
        "colab_type": "code",
        "id": "1NURzseNL_yH",
        "outputId": "9213b08e-4c08-4fd3-a41e-cac8dec09318",
        "colab": {
          "base_uri": "https://localhost:8080/",
          "height": 197
        }
      },
      "source": [
        "# Load Data Frame of NUTS regions and corresponding gdp values\n",
        "y_dat = pd.read_csv(\"/gdrive/My Drive/ThesisData/Data/enhanced_gdp_data.csv\")\n",
        "y_dat.head()"
      ],
      "execution_count": 9,
      "outputs": [
        {
          "output_type": "execute_result",
          "data": {
            "text/html": [
              "<div>\n",
              "<style scoped>\n",
              "    .dataframe tbody tr th:only-of-type {\n",
              "        vertical-align: middle;\n",
              "    }\n",
              "\n",
              "    .dataframe tbody tr th {\n",
              "        vertical-align: top;\n",
              "    }\n",
              "\n",
              "    .dataframe thead th {\n",
              "        text-align: right;\n",
              "    }\n",
              "</style>\n",
              "<table border=\"1\" class=\"dataframe\">\n",
              "  <thead>\n",
              "    <tr style=\"text-align: right;\">\n",
              "      <th></th>\n",
              "      <th>nuts2</th>\n",
              "      <th>year</th>\n",
              "      <th>nuts_value</th>\n",
              "      <th>code</th>\n",
              "      <th>country</th>\n",
              "      <th>country_value</th>\n",
              "      <th>mean_value</th>\n",
              "      <th>diff_value</th>\n",
              "    </tr>\n",
              "  </thead>\n",
              "  <tbody>\n",
              "    <tr>\n",
              "      <th>0</th>\n",
              "      <td>BE10</td>\n",
              "      <td>2008</td>\n",
              "      <td>61100.0</td>\n",
              "      <td>BE</td>\n",
              "      <td>Belgium</td>\n",
              "      <td>33100.0</td>\n",
              "      <td>31881.818182</td>\n",
              "      <td>28000.0</td>\n",
              "    </tr>\n",
              "    <tr>\n",
              "      <th>1</th>\n",
              "      <td>BE21</td>\n",
              "      <td>2008</td>\n",
              "      <td>39200.0</td>\n",
              "      <td>BE</td>\n",
              "      <td>Belgium</td>\n",
              "      <td>33100.0</td>\n",
              "      <td>31881.818182</td>\n",
              "      <td>6100.0</td>\n",
              "    </tr>\n",
              "    <tr>\n",
              "      <th>2</th>\n",
              "      <td>BE22</td>\n",
              "      <td>2008</td>\n",
              "      <td>27500.0</td>\n",
              "      <td>BE</td>\n",
              "      <td>Belgium</td>\n",
              "      <td>33100.0</td>\n",
              "      <td>31881.818182</td>\n",
              "      <td>-5600.0</td>\n",
              "    </tr>\n",
              "    <tr>\n",
              "      <th>3</th>\n",
              "      <td>BE23</td>\n",
              "      <td>2008</td>\n",
              "      <td>29400.0</td>\n",
              "      <td>BE</td>\n",
              "      <td>Belgium</td>\n",
              "      <td>33100.0</td>\n",
              "      <td>31881.818182</td>\n",
              "      <td>-3700.0</td>\n",
              "    </tr>\n",
              "    <tr>\n",
              "      <th>4</th>\n",
              "      <td>BE24</td>\n",
              "      <td>2008</td>\n",
              "      <td>34500.0</td>\n",
              "      <td>BE</td>\n",
              "      <td>Belgium</td>\n",
              "      <td>33100.0</td>\n",
              "      <td>31881.818182</td>\n",
              "      <td>1400.0</td>\n",
              "    </tr>\n",
              "  </tbody>\n",
              "</table>\n",
              "</div>"
            ],
            "text/plain": [
              "  nuts2  year  nuts_value  ... country_value    mean_value  diff_value\n",
              "0  BE10  2008     61100.0  ...       33100.0  31881.818182     28000.0\n",
              "1  BE21  2008     39200.0  ...       33100.0  31881.818182      6100.0\n",
              "2  BE22  2008     27500.0  ...       33100.0  31881.818182     -5600.0\n",
              "3  BE23  2008     29400.0  ...       33100.0  31881.818182     -3700.0\n",
              "4  BE24  2008     34500.0  ...       33100.0  31881.818182      1400.0\n",
              "\n",
              "[5 rows x 8 columns]"
            ]
          },
          "metadata": {
            "tags": []
          },
          "execution_count": 9
        }
      ]
    },
    {
      "cell_type": "code",
      "metadata": {
        "id": "HYE5RQr87GXH",
        "colab_type": "code",
        "outputId": "86c231ae-5462-4990-ed19-cadbe2e2920d",
        "colab": {
          "base_uri": "https://localhost:8080/",
          "height": 34
        }
      },
      "source": [
        "# Benchmark for diff-value (other benchmark are in other script)\n",
        "mae_diff = np.mean(abs(y_dat['diff_value']-y_dat['diff_value'].mean()))\n",
        "print(mae_diff)"
      ],
      "execution_count": 0,
      "outputs": [
        {
          "output_type": "stream",
          "text": [
            "5478.004371660496\n"
          ],
          "name": "stdout"
        }
      ]
    },
    {
      "cell_type": "code",
      "metadata": {
        "colab_type": "code",
        "id": "Ogm4ndTFkrib",
        "colab": {}
      },
      "source": [
        "# List of all files in directory of images\n",
        "mypath = \"/gdrive/My Drive/nuts_night/\"\n",
        "onlyfiles = [f for f in listdir(mypath) if isfile(join(mypath, f))]"
      ],
      "execution_count": 0,
      "outputs": []
    },
    {
      "cell_type": "code",
      "metadata": {
        "colab_type": "code",
        "id": "LHq0y4SCsQFp",
        "outputId": "7369f564-c7f1-4ba4-e130-bab23821c3ad",
        "colab": {
          "base_uri": "https://localhost:8080/",
          "height": 1000
        }
      },
      "source": [
        "# PreProcess images with certain resolution\n",
        "res = 512\n",
        "x,y,label = sat_images.create_data(onlyfiles,mypath,y_dat,prediction='nuts_value',replace_nan='mean',resolution=res,night=False)"
      ],
      "execution_count": 10,
      "outputs": [
        {
          "output_type": "stream",
          "text": [
            "Image processed:  0  of  1253\n",
            "Image processed:  10  of  1253\n",
            "Image processed:  20  of  1253\n",
            "Image processed:  30  of  1253\n",
            "Image processed:  40  of  1253\n",
            "Image processed:  50  of  1253\n",
            "Image processed:  60  of  1253\n",
            "Image processed:  70  of  1253\n",
            "Image processed:  80  of  1253\n",
            "Image processed:  90  of  1253\n",
            "Image processed:  100  of  1253\n",
            "Image processed:  110  of  1253\n",
            "Image processed:  120  of  1253\n",
            "Image processed:  130  of  1253\n",
            "Image processed:  140  of  1253\n",
            "Image processed:  150  of  1253\n",
            "Image processed:  160  of  1253\n",
            "Image processed:  170  of  1253\n",
            "Image processed:  180  of  1253\n",
            "Image processed:  190  of  1253\n",
            "Image processed:  200  of  1253\n",
            "Image processed:  210  of  1253\n",
            "Image processed:  220  of  1253\n",
            "Image processed:  230  of  1253\n",
            "Image processed:  240  of  1253\n",
            "Image processed:  250  of  1253\n",
            "Image processed:  260  of  1253\n",
            "Image processed:  270  of  1253\n",
            "Image processed:  280  of  1253\n",
            "Image processed:  290  of  1253\n",
            "Image processed:  300  of  1253\n",
            "Image processed:  310  of  1253\n",
            "Image processed:  320  of  1253\n",
            "Image processed:  330  of  1253\n",
            "Image processed:  340  of  1253\n",
            "Image processed:  350  of  1253\n",
            "Image processed:  360  of  1253\n",
            "Image processed:  370  of  1253\n",
            "Image processed:  380  of  1253\n",
            "Image processed:  390  of  1253\n",
            "Image processed:  400  of  1253\n",
            "Image processed:  410  of  1253\n",
            "Image processed:  420  of  1253\n",
            "Image processed:  430  of  1253\n",
            "Image processed:  440  of  1253\n",
            "Image processed:  450  of  1253\n",
            "Image processed:  460  of  1253\n",
            "Image processed:  470  of  1253\n",
            "Image processed:  480  of  1253\n",
            "Image processed:  490  of  1253\n",
            "Image processed:  500  of  1253\n",
            "Image processed:  510  of  1253\n",
            "Image processed:  520  of  1253\n",
            "Image processed:  530  of  1253\n",
            "Image processed:  540  of  1253\n",
            "Image processed:  550  of  1253\n",
            "Image processed:  560  of  1253\n",
            "Image processed:  570  of  1253\n",
            "Image processed:  580  of  1253\n",
            "Image processed:  590  of  1253\n",
            "Image processed:  600  of  1253\n",
            "Image processed:  610  of  1253\n",
            "Image processed:  620  of  1253\n",
            "Image processed:  630  of  1253\n",
            "Image processed:  640  of  1253\n",
            "Image processed:  650  of  1253\n",
            "Image processed:  660  of  1253\n",
            "Image processed:  670  of  1253\n",
            "Image processed:  680  of  1253\n",
            "Image processed:  690  of  1253\n",
            "Image processed:  700  of  1253\n",
            "Image processed:  710  of  1253\n",
            "Image processed:  720  of  1253\n",
            "Image processed:  730  of  1253\n",
            "Image processed:  740  of  1253\n",
            "Image processed:  750  of  1253\n",
            "Image processed:  760  of  1253\n",
            "Image processed:  770  of  1253\n",
            "Image processed:  780  of  1253\n",
            "Image processed:  790  of  1253\n",
            "Image processed:  800  of  1253\n",
            "Image processed:  810  of  1253\n",
            "Image processed:  820  of  1253\n",
            "Image processed:  830  of  1253\n",
            "Image processed:  840  of  1253\n",
            "Image processed:  850  of  1253\n",
            "Image processed:  860  of  1253\n",
            "Image processed:  870  of  1253\n",
            "Image processed:  880  of  1253\n",
            "Image processed:  890  of  1253\n",
            "Image processed:  900  of  1253\n",
            "Image processed:  910  of  1253\n",
            "Image processed:  920  of  1253\n",
            "Image processed:  930  of  1253\n",
            "Image processed:  940  of  1253\n",
            "Image processed:  950  of  1253\n",
            "Image processed:  960  of  1253\n",
            "Image processed:  970  of  1253\n",
            "Image processed:  980  of  1253\n",
            "Image processed:  990  of  1253\n",
            "Image processed:  1000  of  1253\n",
            "Image processed:  1010  of  1253\n",
            "Image processed:  1020  of  1253\n",
            "Image processed:  1030  of  1253\n",
            "Image processed:  1040  of  1253\n",
            "Image processed:  1050  of  1253\n",
            "Image processed:  1060  of  1253\n",
            "Image processed:  1070  of  1253\n",
            "Image processed:  1080  of  1253\n",
            "Image processed:  1090  of  1253\n",
            "Image processed:  1100  of  1253\n",
            "Image processed:  1110  of  1253\n",
            "Image processed:  1120  of  1253\n",
            "Image processed:  1130  of  1253\n",
            "Image processed:  1140  of  1253\n",
            "Image processed:  1150  of  1253\n",
            "Image processed:  1160  of  1253\n",
            "Image processed:  1170  of  1253\n",
            "Image processed:  1180  of  1253\n",
            "Image processed:  1190  of  1253\n",
            "Image processed:  1200  of  1253\n",
            "Image processed:  1210  of  1253\n",
            "Image processed:  1220  of  1253\n",
            "Image processed:  1230  of  1253\n",
            "Image processed:  1240  of  1253\n",
            "Image processed:  1250  of  1253\n"
          ],
          "name": "stdout"
        }
      ]
    },
    {
      "cell_type": "markdown",
      "metadata": {
        "id": "SKMXwstd9_Py",
        "colab_type": "text"
      },
      "source": [
        "### Save NIGHT images"
      ]
    },
    {
      "cell_type": "code",
      "metadata": {
        "id": "efIlhYNkwutL",
        "colab_type": "code",
        "colab": {}
      },
      "source": [
        "# Save ndarray to reproduce in drive for NIGHT images\n",
        "scipy.io.savemat(\"/gdrive/My Drive/ThesisData/Data/data_night_normal_512.mat\", mdict={'x': x}, oned_as='row')"
      ],
      "execution_count": 0,
      "outputs": []
    },
    {
      "cell_type": "markdown",
      "metadata": {
        "id": "0flpYjXJ-IFs",
        "colab_type": "text"
      },
      "source": [
        "### Save DAY images"
      ]
    },
    {
      "cell_type": "code",
      "metadata": {
        "id": "aGiuo5tw-HFb",
        "colab_type": "code",
        "colab": {}
      },
      "source": [
        "# Save ndarray to reproduce in drive for DAY images\n",
        "scipy.io.savemat(\"/gdrive/My Drive/ThesisData/Data/data_day_mean_512_1.mat\", mdict={'x': x[:600]}, oned_as='row')\n",
        "scipy.io.savemat(\"/gdrive/My Drive/ThesisData/Data/data_day_mean_512_2.mat\", mdict={'x': x[600:]}, oned_as='row')"
      ],
      "execution_count": 0,
      "outputs": []
    },
    {
      "cell_type": "code",
      "metadata": {
        "colab_type": "code",
        "id": "OgjMrcIH5H5o",
        "colab": {}
      },
      "source": [
        "# Load input from scratch\n",
        "\n",
        "# For DAY images\n",
        "#x = np.vstack((scipy.io.loadmat(\"/gdrive/My Drive/ThesisData/Data/data_day_mean_512_1.mat\")['x'],scipy.io.loadmat(\"/gdrive/My Drive/ThesisData/Data/data_day_mean_512_2.mat\")['x']))\n",
        "\n",
        "# For NIGHT images\n",
        "x = scipy.io.loadmat(\"/gdrive/My Drive/ThesisData/Data/data_night_mean_512.mat\")['x']\n",
        "\n",
        "y, label = sat_images.create_y_label(onlyfiles,mypath,y_dat,prediction='nuts_value')"
      ],
      "execution_count": 0,
      "outputs": []
    },
    {
      "cell_type": "code",
      "metadata": {
        "colab_type": "code",
        "id": "4si-J7h9JBa7",
        "outputId": "e11a144d-318f-43e3-c37f-b26e632948d5",
        "colab": {
          "base_uri": "https://localhost:8080/",
          "height": 70
        }
      },
      "source": [
        "# Print shape of images\n",
        "print('Shape of x: ',len(x))\n",
        "print('Shape of y: ',len(y))\n",
        "print('Shape of labels: ', len(label))"
      ],
      "execution_count": 47,
      "outputs": [
        {
          "output_type": "stream",
          "text": [
            "Shape of x:  692\n",
            "Shape of y:  692\n",
            "Shape of labels:  692\n"
          ],
          "name": "stdout"
        }
      ]
    },
    {
      "cell_type": "code",
      "metadata": {
        "id": "9ae7iGkBO_EN",
        "colab_type": "code",
        "outputId": "7c81bce3-c15e-4115-95e0-0f0d28896fc5",
        "colab": {
          "base_uri": "https://localhost:8080/",
          "height": 34
        }
      },
      "source": [
        "# Convert grayscale 1-channel to 3-channel (only for transfer learning)\n",
        "x = np.stack((x,)*3, axis=-1)\n",
        "print(x.shape)"
      ],
      "execution_count": 48,
      "outputs": [
        {
          "output_type": "stream",
          "text": [
            "(692, 512, 512, 3)\n"
          ],
          "name": "stdout"
        }
      ]
    },
    {
      "cell_type": "markdown",
      "metadata": {
        "colab_type": "text",
        "id": "ypHbpM5ZAKmb"
      },
      "source": [
        "# Create Train and Test Sets"
      ]
    },
    {
      "cell_type": "code",
      "metadata": {
        "colab_type": "code",
        "id": "sTyG9Ew6mgrH",
        "outputId": "a5c812ce-e51d-4df0-99c7-9483f34a4639",
        "colab": {
          "base_uri": "https://localhost:8080/",
          "height": 34
        }
      },
      "source": [
        "# Create list of unique regions\n",
        "regions = []\n",
        "for i in range(len(label)):\n",
        "  regions.append(label[i].rsplit('_',1)[0])\n",
        "\n",
        "regions = np.unique(regions)\n",
        "print(len(regions))"
      ],
      "execution_count": 49,
      "outputs": [
        {
          "output_type": "stream",
          "text": [
            "117\n"
          ],
          "name": "stdout"
        }
      ]
    },
    {
      "cell_type": "code",
      "metadata": {
        "colab_type": "code",
        "id": "pBDk2TjtqEmw",
        "outputId": "c20d8d20-1cf3-4d52-de63-a4e786278abb",
        "colab": {
          "base_uri": "https://localhost:8080/",
          "height": 70
        }
      },
      "source": [
        "# Split regions into train and test set\n",
        "msk_test = np.random.rand(len(regions)) < 0.2\n",
        "\n",
        "train_split = regions[~msk_test]\n",
        "test_split = regions[msk_test]\n",
        "\n",
        "msk_val = np.random.rand(len(train_split)) < 0.25\n",
        "\n",
        "val_split = train_split[msk_val]\n",
        "train_split = train_split[~msk_val]\n",
        "print(len(train_split))\n",
        "print(len(val_split))\n",
        "print(len(test_split))"
      ],
      "execution_count": 50,
      "outputs": [
        {
          "output_type": "stream",
          "text": [
            "62\n",
            "25\n",
            "30\n"
          ],
          "name": "stdout"
        }
      ]
    },
    {
      "cell_type": "code",
      "metadata": {
        "colab_type": "code",
        "id": "a8-L2N-XrKN3",
        "outputId": "396740de-e448-4f62-d71a-30faa3b0dcbc",
        "colab": {
          "base_uri": "https://localhost:8080/",
          "height": 87
        }
      },
      "source": [
        "# Split whole data set into test and train based on split regions\n",
        "import math\n",
        "label_train = []\n",
        "label_val = []\n",
        "label_test = []\n",
        "x_train = []\n",
        "y_train = []\n",
        "x_val = []\n",
        "y_val = []\n",
        "x_test = []\n",
        "y_test = []\n",
        "\n",
        "# Split into train and test based on previous region split\n",
        "for i in range(len(label)):\n",
        "  if label[i].rsplit('_',1)[0] in train_split:\n",
        "    if math.isnan(y[i]):\n",
        "      pass\n",
        "    else:\n",
        "      label_train.append(label[i])\n",
        "      x_train.append(x[i])\n",
        "      y_train.append(int(y[i]))\n",
        "  elif label[i].rsplit('_',1)[0] in val_split:\n",
        "    if math.isnan(y[i]):\n",
        "      pass\n",
        "    else:\n",
        "      label_val.append(label[i])\n",
        "      x_val.append(x[i])\n",
        "      y_val.append(int(y[i]))\n",
        "  else:\n",
        "    if math.isnan(y[i]):\n",
        "      pass\n",
        "    else:\n",
        "      label_test.append(label[i])\n",
        "      x_test.append(x[i])\n",
        "      y_test.append(int(y[i]))\n",
        "\n",
        "# Transform into numpy array\n",
        "label_train = np.array(label_train)\n",
        "label_test = np.array(label_test)\n",
        "label_val = np.array(label_val)\n",
        "x_train = np.array(x_train)\n",
        "x_test = np.array(x_test)\n",
        "x_val = np.array(x_val)\n",
        "y_train = np.array(y_train)\n",
        "y_test = np.array(y_test)  \n",
        "y_val = np.array(y_val)\n",
        "\n",
        "# Print Shape\n",
        "print(x_train.shape)\n",
        "print(x_test.shape)\n",
        "print(y_test.shape)\n",
        "print(x_val.shape)"
      ],
      "execution_count": 51,
      "outputs": [
        {
          "output_type": "stream",
          "text": [
            "(364, 512, 512, 3)\n",
            "(178, 512, 512, 3)\n",
            "(178,)\n",
            "(150, 512, 512, 3)\n"
          ],
          "name": "stdout"
        }
      ]
    },
    {
      "cell_type": "code",
      "metadata": {
        "colab_type": "code",
        "id": "aKRDGusTeNXU",
        "outputId": "7d2ca592-2eca-4ba8-aac6-9dc03ee4d6cb",
        "colab": {
          "base_uri": "https://localhost:8080/",
          "height": 70
        }
      },
      "source": [
        "# Only execute when using night images, since they are 1d\n",
        "x_train = np.array([x_train])\n",
        "x_train = np.moveaxis(x_train,0,-1)\n",
        "print(x_train.shape)\n",
        "x_val = np.array([x_val])\n",
        "x_val = np.moveaxis(x_val,0,-1)\n",
        "print(x_val.shape)\n",
        "x_test = np.array([x_test])\n",
        "x_test = np.moveaxis(x_test,0,-1)\n",
        "print(x_test.shape)"
      ],
      "execution_count": 0,
      "outputs": [
        {
          "output_type": "stream",
          "text": [
            "(410, 128, 128, 3, 1)\n",
            "(162, 128, 128, 3, 1)\n",
            "(120, 128, 128, 3, 1)\n"
          ],
          "name": "stdout"
        }
      ]
    },
    {
      "cell_type": "code",
      "metadata": {
        "id": "kpGLI20HvjIj",
        "colab_type": "code",
        "outputId": "72766270-3a99-4017-f932-6e1373fd82f6",
        "colab": {
          "base_uri": "https://localhost:8080/",
          "height": 34
        }
      },
      "source": [
        "# Normalise the data\n",
        "x_train = (x_train/np.max(x_train))\n",
        "x_test = (x_test/np.max(x_test))\n",
        "x_val = (x_val/np.max(x_val))\n",
        "print(np.max(x_train))"
      ],
      "execution_count": 52,
      "outputs": [
        {
          "output_type": "stream",
          "text": [
            "1.0\n"
          ],
          "name": "stdout"
        }
      ]
    },
    {
      "cell_type": "markdown",
      "metadata": {
        "id": "c50RrTy6IHnt",
        "colab_type": "text"
      },
      "source": [
        "# Start CNN Training"
      ]
    },
    {
      "cell_type": "code",
      "metadata": {
        "id": "DP-SHx_xkNvg",
        "colab_type": "code",
        "colab": {}
      },
      "source": [
        "# Fully connected model\n",
        "model = tf.keras.Sequential()\n",
        "model.add(tf.keras.layers.Flatten(input_shape=x_train.shape[1:]))\n",
        "model.add(tf.keras.layers.Dense(256, activation='relu'))\n",
        "model.add(tf.keras.layers.Dropout(0.5))\n",
        "model.add(tf.keras.layers.Dense(1, activation='relu'))"
      ],
      "execution_count": 0,
      "outputs": []
    },
    {
      "cell_type": "code",
      "metadata": {
        "colab_type": "code",
        "id": "blVC16VGw4af",
        "outputId": "531103cd-5b11-4cc9-d871-8b6794bf59a6",
        "colab": {
          "base_uri": "https://localhost:8080/",
          "height": 90
        }
      },
      "source": [
        "# Deep Model\n",
        "model = tf.keras.Sequential()\n",
        "\n",
        "model.add(tf.keras.layers.Conv2D(32, 3, padding='same', input_shape=(512,512,1), activation='relu'))\n",
        "model.add(tf.keras.layers.Conv2D(32, 3, padding='same', activation='relu'))\n",
        "model.add(tf.keras.layers.BatchNormalization())\n",
        "model.add(tf.keras.layers.MaxPooling2D(pool_size = (2,2)))\n",
        "\n",
        "model.add(tf.keras.layers.Conv2D(64, 3, padding='same', activation='relu'))\n",
        "model.add(tf.keras.layers.Conv2D(64, 3, padding='same', activation='relu'))\n",
        "model.add(tf.keras.layers.BatchNormalization())\n",
        "model.add(tf.keras.layers.MaxPooling2D(pool_size = (2,2)))\n",
        "\n",
        "model.add(tf.keras.layers.Conv2D(128, 3, padding='same', activation='relu'))\n",
        "model.add(tf.keras.layers.Conv2D(128, 3, padding='same', activation='relu'))\n",
        "model.add(tf.keras.layers.Dropout(0.4))\n",
        "model.add(tf.keras.layers.BatchNormalization())\n",
        "model.add(tf.keras.layers.MaxPooling2D(pool_size = (2,2)))\n",
        "\n",
        "model.add(tf.keras.layers.Conv2D(256, 3, padding='same', activation='relu'))\n",
        "model.add(tf.keras.layers.Conv2D(256, 3, padding='same', activation='relu'))\n",
        "model.add(tf.keras.layers.Dropout(0.4))\n",
        "model.add(tf.keras.layers.BatchNormalization())\n",
        "model.add(tf.keras.layers.MaxPooling2D(pool_size = (2,2)))\n",
        "\n",
        "model.add(tf.keras.layers.Conv2D(512, 3, padding='same', activation='relu'))\n",
        "model.add(tf.keras.layers.Conv2D(512, 3, padding='same', activation='relu'))\n",
        "model.add(tf.keras.layers.Dropout(0.4))\n",
        "model.add(tf.keras.layers.BatchNormalization())\n",
        "model.add(tf.keras.layers.MaxPooling2D(pool_size = (2,2)))\n",
        "\n",
        "model.add(tf.keras.layers.Flatten())\n",
        "model.add(tf.keras.layers.Dense(512, activation='relu', activity_regularizer=tf.keras.regularizers.l1(0.001)))\n",
        "model.add(tf.keras.layers.Dropout(0.5))\n",
        "\n",
        "model.add(tf.keras.layers.Dense(512, activation='relu',activity_regularizer=tf.keras.regularizers.l1(0.001)))\n",
        "model.add(tf.keras.layers.Dropout(0.5))\n",
        "model.add(tf.keras.layers.Dense(units=1,activation='relu'))"
      ],
      "execution_count": 0,
      "outputs": [
        {
          "output_type": "stream",
          "text": [
            "WARNING:tensorflow:From /usr/local/lib/python3.6/dist-packages/tensorflow_core/python/ops/resource_variable_ops.py:1630: calling BaseResourceVariable.__init__ (from tensorflow.python.ops.resource_variable_ops) with constraint is deprecated and will be removed in a future version.\n",
            "Instructions for updating:\n",
            "If using Keras pass *_constraint arguments to layers.\n"
          ],
          "name": "stdout"
        }
      ]
    },
    {
      "cell_type": "code",
      "metadata": {
        "id": "9L86HWD1sWhR",
        "colab_type": "code",
        "outputId": "281e228e-2045-4c60-90f3-16563450be81",
        "colab": {
          "base_uri": "https://localhost:8080/",
          "height": 143
        }
      },
      "source": [
        "# Shallow Model\n",
        "model = tf.keras.Sequential()\n",
        "\n",
        "model.add(tf.keras.layers.Conv2D(16, 3, padding='same', input_shape=(512,512,3), activation='relu'))\n",
        "model.add(tf.keras.layers.Conv2D(16, 3, padding='same', activation='relu'))\n",
        "model.add(tf.keras.layers.BatchNormalization())\n",
        "model.add(tf.keras.layers.MaxPooling2D(pool_size = (2,2)))\n",
        "\n",
        "model.add(tf.keras.layers.Conv2D(32, 3, padding='same', activation='relu'))\n",
        "model.add(tf.keras.layers.Conv2D(32, 3, padding='same', activation='relu'))\n",
        "model.add(tf.keras.layers.BatchNormalization())\n",
        "model.add(tf.keras.layers.MaxPooling2D(pool_size = (2,2)))\n",
        "\n",
        "model.add(tf.keras.layers.Flatten())\n",
        "model.add(tf.keras.layers.Dense(128, activation='relu', kernel_initializer='normal', activity_regularizer=tf.keras.regularizers.l1(0.001)))\n",
        "model.add(tf.keras.layers.Dropout(0.5))\n",
        "model.add(tf.keras.layers.Dense(units=1, kernel_initializer='normal',activation='relu'))"
      ],
      "execution_count": 19,
      "outputs": [
        {
          "output_type": "stream",
          "text": [
            "WARNING:tensorflow:From /usr/local/lib/python3.6/dist-packages/tensorflow_core/python/ops/resource_variable_ops.py:1630: calling BaseResourceVariable.__init__ (from tensorflow.python.ops.resource_variable_ops) with constraint is deprecated and will be removed in a future version.\n",
            "Instructions for updating:\n",
            "If using Keras pass *_constraint arguments to layers.\n",
            "WARNING:tensorflow:From /usr/local/lib/python3.6/dist-packages/tensorflow_core/python/keras/initializers.py:143: calling RandomNormal.__init__ (from tensorflow.python.ops.init_ops) with dtype is deprecated and will be removed in a future version.\n",
            "Instructions for updating:\n",
            "Call initializer instance with the dtype argument instead of passing it to the constructor\n"
          ],
          "name": "stdout"
        }
      ]
    },
    {
      "cell_type": "code",
      "metadata": {
        "colab_type": "code",
        "id": "GXlz_HWWCQuT",
        "colab": {}
      },
      "source": [
        "# Transfer Learning\n",
        "base_model = tf.keras.applications.VGG16(input_shape=(512,512,3),include_top=False)\n",
        "x=base_model.output\n",
        "x=tf.keras.layers.Flatten()(x)\n",
        "x=tf.keras.layers.Dense(512,activation='relu')(x) #we add dense layers so that the model can learn more complex functions and classify for better results.\n",
        "x=tf.keras.layers.Dropout(0.5)(x) #Dropout\n",
        "x=tf.keras.layers.Dense(512,activation='relu')(x) #dense layer 3\n",
        "x=tf.keras.layers.Dropout(0.5)(x) #Dropout\n",
        "preds=tf.keras.layers.Dense(units=1, activation = 'relu')(x)\n",
        "model=tf.keras.models.Model(inputs=base_model.input,outputs=preds)"
      ],
      "execution_count": 0,
      "outputs": []
    },
    {
      "cell_type": "code",
      "metadata": {
        "id": "vqopkMFCrE5V",
        "colab_type": "code",
        "colab": {}
      },
      "source": [
        "for layer in model.layers[:15]:\n",
        "  layer.trainable = False"
      ],
      "execution_count": 0,
      "outputs": []
    },
    {
      "cell_type": "code",
      "metadata": {
        "colab_type": "code",
        "id": "3hhLQUBa0NiP",
        "colab": {}
      },
      "source": [
        "optim = tf.keras.optimizers.Adam(learning_rate=0.001)\n",
        "model.compile(loss='mean_squared_error', optimizer=optim, metrics=['mse','mae'], )"
      ],
      "execution_count": 0,
      "outputs": []
    },
    {
      "cell_type": "code",
      "metadata": {
        "colab_type": "code",
        "id": "4ihqmhUq0nES",
        "colab": {}
      },
      "source": [
        "# Data Augmentation\n",
        "training_data_generator = tf.keras.preprocessing.image.ImageDataGenerator(horizontal_flip=True,\n",
        "                                                                          rotation_range = 40)\n",
        "validation_data_generator = tf.keras.preprocessing.image.ImageDataGenerator()\n",
        "test_data_generator = tf.keras.preprocessing.image.ImageDataGenerator()"
      ],
      "execution_count": 0,
      "outputs": []
    },
    {
      "cell_type": "code",
      "metadata": {
        "colab_type": "code",
        "id": "yH4IdyFm0u0B",
        "colab": {}
      },
      "source": [
        "# Data Preparation\n",
        "batch_size = 5\n",
        "\n",
        "# Define the data flow\n",
        "training_generator = training_data_generator.flow(x_train,y_train,batch_size=batch_size)\n",
        "validation_generator = validation_data_generator.flow(x_val, y_val,batch_size=batch_size)\n",
        "test_generator = test_data_generator.flow(x_test,y_test,batch_size=1,shuffle=False)"
      ],
      "execution_count": 0,
      "outputs": []
    },
    {
      "cell_type": "code",
      "metadata": {
        "colab_type": "code",
        "id": "X_QVrMSF1i3f",
        "outputId": "1d02f2f0-0ed2-4757-91ac-e8ca3b096e30",
        "colab": {
          "base_uri": "https://localhost:8080/",
          "height": 1000
        }
      },
      "source": [
        "# Calculate the number of steps\n",
        "training_steps = training_generator.n/batch_size\n",
        "validation_steps = validation_generator.n/batch_size\n",
        "\n",
        "# Run the model\n",
        "model.fit_generator(training_generator,\n",
        "                    steps_per_epoch=training_steps,\n",
        "                    epochs = 50,\n",
        "                    validation_data = validation_generator,\n",
        "                    validation_steps = validation_steps,\n",
        "                    verbose = 1\n",
        "                   )"
      ],
      "execution_count": 78,
      "outputs": [
        {
          "output_type": "stream",
          "text": [
            "Epoch 1/50\n",
            "72/72 [============================>.] - ETA: 0s - loss: 206881270.0278 - mean_squared_error: 207324224.0000 - mean_absolute_error: 11232.5752Epoch 1/50\n",
            "73/72 [==============================] - 28s 379ms/step - loss: 207397075.7320 - mean_squared_error: 207829424.0000 - mean_absolute_error: 11275.3857 - val_loss: 176452087.0500 - val_mean_squared_error: 176452080.0000 - val_mean_absolute_error: 9257.7412\n",
            "Epoch 2/50\n",
            "72/72 [============================>.] - ETA: 0s - loss: 173435171.0208 - mean_squared_error: 173585456.0000 - mean_absolute_error: 10189.5801Epoch 1/50\n",
            "73/72 [==============================] - 22s 296ms/step - loss: 173170291.8946 - mean_squared_error: 173315776.0000 - mean_absolute_error: 10185.1992 - val_loss: 178191588.0667 - val_mean_squared_error: 178191600.0000 - val_mean_absolute_error: 9142.6641\n",
            "Epoch 3/50\n",
            "72/72 [============================>.] - ETA: 0s - loss: 170864226.3056 - mean_squared_error: 171295488.0000 - mean_absolute_error: 10178.4414Epoch 1/50\n",
            "73/72 [==============================] - 23s 309ms/step - loss: 168923035.2007 - mean_squared_error: 169337360.0000 - mean_absolute_error: 10095.2568 - val_loss: 190198766.4000 - val_mean_squared_error: 190198736.0000 - val_mean_absolute_error: 9710.7471\n",
            "Epoch 4/50\n",
            "72/72 [============================>.] - ETA: 0s - loss: 108224029.6389 - mean_squared_error: 108415424.0000 - mean_absolute_error: 7890.2505Epoch 1/50\n",
            "73/72 [==============================] - 23s 309ms/step - loss: 108561891.2016 - mean_squared_error: 108749016.0000 - mean_absolute_error: 7893.7485 - val_loss: 161888816.8333 - val_mean_squared_error: 161888816.0000 - val_mean_absolute_error: 9310.4707\n",
            "Epoch 5/50\n",
            "72/72 [============================>.] - ETA: 0s - loss: 117897777.0938 - mean_squared_error: 118214488.0000 - mean_absolute_error: 8052.7812Epoch 1/50\n",
            "73/72 [==============================] - 23s 312ms/step - loss: 117114031.9595 - mean_squared_error: 117420032.0000 - mean_absolute_error: 8031.8564 - val_loss: 147346975.3333 - val_mean_squared_error: 147346976.0000 - val_mean_absolute_error: 8340.0684\n",
            "Epoch 6/50\n",
            "72/72 [============================>.] - ETA: 0s - loss: 106984306.0694 - mean_squared_error: 107264048.0000 - mean_absolute_error: 7835.2144Epoch 1/50\n",
            "73/72 [==============================] - 23s 309ms/step - loss: 105989889.9694 - mean_squared_error: 106259352.0000 - mean_absolute_error: 7783.9102 - val_loss: 137797750.2000 - val_mean_squared_error: 137797744.0000 - val_mean_absolute_error: 8430.7246\n",
            "Epoch 7/50\n",
            "72/72 [============================>.] - ETA: 0s - loss: 102521971.7639 - mean_squared_error: 102002448.0000 - mean_absolute_error: 7614.7368Epoch 1/50\n",
            "73/72 [==============================] - 22s 307ms/step - loss: 101245794.0473 - mean_squared_error: 100736888.0000 - mean_absolute_error: 7550.3599 - val_loss: 114011182.4833 - val_mean_squared_error: 114011176.0000 - val_mean_absolute_error: 7633.1733\n",
            "Epoch 8/50\n",
            "72/72 [============================>.] - ETA: 0s - loss: 77139814.4167 - mean_squared_error: 76812736.0000 - mean_absolute_error: 6526.9556Epoch 1/50\n",
            "73/72 [==============================] - 23s 313ms/step - loss: 76299500.7524 - mean_squared_error: 75979008.0000 - mean_absolute_error: 6485.4380 - val_loss: 188794507.8667 - val_mean_squared_error: 188794512.0000 - val_mean_absolute_error: 10762.4531\n",
            "Epoch 9/50\n",
            "72/72 [============================>.] - ETA: 0s - loss: 75497365.8056 - mean_squared_error: 75583256.0000 - mean_absolute_error: 6593.5488Epoch 1/50\n",
            "73/72 [==============================] - 23s 318ms/step - loss: 76036261.5463 - mean_squared_error: 76121288.0000 - mean_absolute_error: 6611.0288 - val_loss: 117477971.9333 - val_mean_squared_error: 117477992.0000 - val_mean_absolute_error: 7988.8823\n",
            "Epoch 10/50\n",
            "72/72 [============================>.] - ETA: 0s - loss: 77930536.0972 - mean_squared_error: 78135904.0000 - mean_absolute_error: 6615.1670Epoch 1/50\n",
            "73/72 [==============================] - 23s 311ms/step - loss: 77187964.8585 - mean_squared_error: 77385760.0000 - mean_absolute_error: 6585.6182 - val_loss: 185164659.0000 - val_mean_squared_error: 185164656.0000 - val_mean_absolute_error: 9916.6006\n",
            "Epoch 11/50\n",
            "72/72 [============================>.] - ETA: 0s - loss: 72346351.7917 - mean_squared_error: 72384312.0000 - mean_absolute_error: 6278.4448Epoch 1/50\n",
            "73/72 [==============================] - 22s 306ms/step - loss: 72832518.0716 - mean_squared_error: 72870768.0000 - mean_absolute_error: 6324.8257 - val_loss: 283972686.2667 - val_mean_squared_error: 283972640.0000 - val_mean_absolute_error: 13226.7607\n",
            "Epoch 12/50\n",
            "72/72 [============================>.] - ETA: 0s - loss: 97759824.6944 - mean_squared_error: 97962072.0000 - mean_absolute_error: 7448.1323Epoch 1/50\n",
            "73/72 [==============================] - 23s 309ms/step - loss: 97223868.9425 - mean_squared_error: 97419184.0000 - mean_absolute_error: 7419.7197 - val_loss: 129987852.5333 - val_mean_squared_error: 129987840.0000 - val_mean_absolute_error: 8784.5410\n",
            "Epoch 13/50\n",
            "72/72 [============================>.] - ETA: 0s - loss: 64206264.5556 - mean_squared_error: 63981892.0000 - mean_absolute_error: 6037.1636Epoch 1/50\n",
            "73/72 [==============================] - 22s 307ms/step - loss: 63668309.2964 - mean_squared_error: 63448560.0000 - mean_absolute_error: 6001.4775 - val_loss: 136874744.8000 - val_mean_squared_error: 136874736.0000 - val_mean_absolute_error: 9267.7402\n",
            "Epoch 14/50\n",
            "72/72 [============================>.] - ETA: 0s - loss: 57654065.9722 - mean_squared_error: 57785508.0000 - mean_absolute_error: 5702.9629Epoch 1/50\n",
            "73/72 [==============================] - 23s 311ms/step - loss: 57382782.7204 - mean_squared_error: 57509928.0000 - mean_absolute_error: 5701.8486 - val_loss: 133232519.9333 - val_mean_squared_error: 133232528.0000 - val_mean_absolute_error: 8507.6104\n",
            "Epoch 15/50\n",
            "72/72 [============================>.] - ETA: 0s - loss: 51922937.2448 - mean_squared_error: 51995252.0000 - mean_absolute_error: 5294.7168Epoch 1/50\n",
            "73/72 [==============================] - 22s 304ms/step - loss: 52381006.9553 - mean_squared_error: 52452604.0000 - mean_absolute_error: 5333.6826 - val_loss: 114958925.6667 - val_mean_squared_error: 114958920.0000 - val_mean_absolute_error: 8006.6343\n",
            "Epoch 16/50\n",
            "72/72 [============================>.] - ETA: 0s - loss: 61709189.1215 - mean_squared_error: 61453604.0000 - mean_absolute_error: 5720.5308Epoch 1/50\n",
            "73/72 [==============================] - 22s 305ms/step - loss: 61008754.3868 - mean_squared_error: 60758200.0000 - mean_absolute_error: 5681.2617 - val_loss: 140768589.3667 - val_mean_squared_error: 140768576.0000 - val_mean_absolute_error: 9278.9766\n",
            "Epoch 17/50\n",
            "72/72 [============================>.] - ETA: 0s - loss: 49563478.7569 - mean_squared_error: 49603388.0000 - mean_absolute_error: 5222.2710Epoch 1/50\n",
            "73/72 [==============================] - 22s 304ms/step - loss: 49802776.9563 - mean_squared_error: 49842256.0000 - mean_absolute_error: 5247.0918 - val_loss: 104056585.7458 - val_mean_squared_error: 104056584.0000 - val_mean_absolute_error: 7724.6436\n",
            "Epoch 18/50\n",
            "72/72 [============================>.] - ETA: 0s - loss: 64114323.9097 - mean_squared_error: 64271900.0000 - mean_absolute_error: 5905.4312Epoch 1/50\n",
            "73/72 [==============================] - 22s 305ms/step - loss: 63645868.1223 - mean_squared_error: 63797900.0000 - mean_absolute_error: 5884.3325 - val_loss: 117197413.0333 - val_mean_squared_error: 117197400.0000 - val_mean_absolute_error: 7841.2583\n",
            "Epoch 19/50\n",
            "72/72 [============================>.] - ETA: 0s - loss: 54962148.1458 - mean_squared_error: 54512736.0000 - mean_absolute_error: 5238.0576Epoch 1/50\n",
            "73/72 [==============================] - 22s 304ms/step - loss: 54824869.3308 - mean_squared_error: 54387260.0000 - mean_absolute_error: 5245.3198 - val_loss: 117596622.3333 - val_mean_squared_error: 117596624.0000 - val_mean_absolute_error: 7617.4907\n",
            "Epoch 20/50\n",
            "72/72 [============================>.] - ETA: 0s - loss: 85345321.4097 - mean_squared_error: 85260080.0000 - mean_absolute_error: 6862.7075Epoch 1/50\n",
            "73/72 [==============================] - 23s 311ms/step - loss: 84634958.8455 - mean_squared_error: 84550096.0000 - mean_absolute_error: 6836.6592 - val_loss: 158838221.3333 - val_mean_squared_error: 158838224.0000 - val_mean_absolute_error: 9001.8652\n",
            "Epoch 21/50\n",
            "72/72 [============================>.] - ETA: 0s - loss: 53403007.1354 - mean_squared_error: 53441904.0000 - mean_absolute_error: 5278.6558Epoch 1/50\n",
            "73/72 [==============================] - 23s 311ms/step - loss: 53155911.0460 - mean_squared_error: 53193088.0000 - mean_absolute_error: 5275.4692 - val_loss: 119030910.1583 - val_mean_squared_error: 119030904.0000 - val_mean_absolute_error: 8093.9614\n",
            "Epoch 22/50\n",
            "72/72 [============================>.] - ETA: 0s - loss: 41713100.8194 - mean_squared_error: 41251200.0000 - mean_absolute_error: 4644.4062Epoch 1/50\n",
            "73/72 [==============================] - 23s 312ms/step - loss: 41324797.8000 - mean_squared_error: 40874360.0000 - mean_absolute_error: 4620.9395 - val_loss: 120447951.0000 - val_mean_squared_error: 120447960.0000 - val_mean_absolute_error: 8413.9688\n",
            "Epoch 23/50\n",
            "72/72 [============================>.] - ETA: 0s - loss: 44206927.2083 - mean_squared_error: 43989020.0000 - mean_absolute_error: 4866.0273Epoch 1/50\n",
            "73/72 [==============================] - 23s 316ms/step - loss: 43904634.5850 - mean_squared_error: 43691816.0000 - mean_absolute_error: 4855.2070 - val_loss: 134968366.0667 - val_mean_squared_error: 134968352.0000 - val_mean_absolute_error: 8090.5273\n",
            "Epoch 24/50\n",
            "72/72 [============================>.] - ETA: 0s - loss: 36016634.0278 - mean_squared_error: 36039368.0000 - mean_absolute_error: 4339.8828Epoch 1/50\n",
            "73/72 [==============================] - 23s 309ms/step - loss: 36160910.6298 - mean_squared_error: 36183420.0000 - mean_absolute_error: 4348.6880 - val_loss: 130470224.3187 - val_mean_squared_error: 130470216.0000 - val_mean_absolute_error: 8172.0317\n",
            "Epoch 25/50\n",
            "72/72 [============================>.] - ETA: 0s - loss: 46172627.9028 - mean_squared_error: 46185040.0000 - mean_absolute_error: 5048.4307Epoch 1/50\n",
            "73/72 [==============================] - 23s 312ms/step - loss: 45678280.5827 - mean_squared_error: 45689016.0000 - mean_absolute_error: 5013.7925 - val_loss: 120760536.5000 - val_mean_squared_error: 120760536.0000 - val_mean_absolute_error: 8382.1484\n",
            "Epoch 26/50\n",
            "72/72 [============================>.] - ETA: 0s - loss: 35771438.3681 - mean_squared_error: 35849928.0000 - mean_absolute_error: 4406.2383Epoch 1/50\n",
            "73/72 [==============================] - 22s 305ms/step - loss: 36212647.9530 - mean_squared_error: 36290208.0000 - mean_absolute_error: 4447.5376 - val_loss: 117340612.3667 - val_mean_squared_error: 117340608.0000 - val_mean_absolute_error: 7861.1641\n",
            "Epoch 27/50\n",
            "72/72 [============================>.] - ETA: 0s - loss: 34860603.0972 - mean_squared_error: 34835820.0000 - mean_absolute_error: 4276.7227Epoch 1/50\n",
            "73/72 [==============================] - 22s 308ms/step - loss: 35146145.8642 - mean_squared_error: 35122808.0000 - mean_absolute_error: 4300.5542 - val_loss: 117347928.0667 - val_mean_squared_error: 117347944.0000 - val_mean_absolute_error: 8058.6416\n",
            "Epoch 28/50\n",
            "72/72 [============================>.] - ETA: 0s - loss: 40184104.8889 - mean_squared_error: 40069472.0000 - mean_absolute_error: 4580.3867Epoch 1/50\n",
            "73/72 [==============================] - 22s 307ms/step - loss: 40720689.8631 - mean_squared_error: 40610616.0000 - mean_absolute_error: 4604.8149 - val_loss: 105616812.2333 - val_mean_squared_error: 105616816.0000 - val_mean_absolute_error: 7695.9067\n",
            "Epoch 29/50\n",
            "72/72 [============================>.] - ETA: 0s - loss: 34725118.4566 - mean_squared_error: 34813948.0000 - mean_absolute_error: 4311.9268Epoch 1/50\n",
            "73/72 [==============================] - 23s 308ms/step - loss: 34467287.9308 - mean_squared_error: 34553008.0000 - mean_absolute_error: 4304.9321 - val_loss: 110444572.0000 - val_mean_squared_error: 110444568.0000 - val_mean_absolute_error: 7541.5024\n",
            "Epoch 30/50\n",
            "72/72 [============================>.] - ETA: 0s - loss: 39349871.5608 - mean_squared_error: 39426652.0000 - mean_absolute_error: 4582.5317Epoch 1/50\n",
            "73/72 [==============================] - 23s 311ms/step - loss: 39380150.8538 - mean_squared_error: 39454932.0000 - mean_absolute_error: 4581.8931 - val_loss: 127843854.7000 - val_mean_squared_error: 127843832.0000 - val_mean_absolute_error: 8134.6167\n",
            "Epoch 31/50\n",
            "72/72 [============================>.] - ETA: 0s - loss: 33725963.0503 - mean_squared_error: 33623832.0000 - mean_absolute_error: 4214.8398Epoch 1/50\n",
            "73/72 [==============================] - 23s 310ms/step - loss: 33867676.3404 - mean_squared_error: 33768700.0000 - mean_absolute_error: 4231.7588 - val_loss: 128001860.7333 - val_mean_squared_error: 128001856.0000 - val_mean_absolute_error: 8252.2412\n",
            "Epoch 32/50\n",
            "72/72 [============================>.] - ETA: 0s - loss: 33369926.0590 - mean_squared_error: 32992108.0000 - mean_absolute_error: 4012.1909Epoch 1/50\n",
            "73/72 [==============================] - 24s 323ms/step - loss: 32977925.9922 - mean_squared_error: 32609282.0000 - mean_absolute_error: 3980.6519 - val_loss: 113238133.7667 - val_mean_squared_error: 113238136.0000 - val_mean_absolute_error: 7690.9907\n",
            "Epoch 33/50\n",
            "72/72 [============================>.] - ETA: 0s - loss: 26891028.9722 - mean_squared_error: 26944406.0000 - mean_absolute_error: 3773.2197Epoch 1/50\n",
            "73/72 [==============================] - 22s 304ms/step - loss: 26652489.4441 - mean_squared_error: 26703774.0000 - mean_absolute_error: 3757.4395 - val_loss: 122788791.0667 - val_mean_squared_error: 122788792.0000 - val_mean_absolute_error: 8023.8076\n",
            "Epoch 34/50\n",
            "72/72 [============================>.] - ETA: 0s - loss: 30486685.8872 - mean_squared_error: 30564508.0000 - mean_absolute_error: 4072.5488Epoch 1/50\n",
            "73/72 [==============================] - 23s 311ms/step - loss: 30666573.9053 - mean_squared_error: 30742776.0000 - mean_absolute_error: 4099.9766 - val_loss: 107606974.8000 - val_mean_squared_error: 107606968.0000 - val_mean_absolute_error: 7552.5566\n",
            "Epoch 35/50\n",
            "72/72 [============================>.] - ETA: 0s - loss: 34168111.3750 - mean_squared_error: 34251320.0000 - mean_absolute_error: 4287.6309Epoch 1/50\n",
            "73/72 [==============================] - 20s 278ms/step - loss: 34583844.0341 - mean_squared_error: 34665924.0000 - mean_absolute_error: 4326.3511 - val_loss: 130556473.2667 - val_mean_squared_error: 130556480.0000 - val_mean_absolute_error: 8312.8291\n",
            "Epoch 36/50\n",
            "72/72 [============================>.] - ETA: 0s - loss: 26157650.0556 - mean_squared_error: 26028112.0000 - mean_absolute_error: 3749.8555Epoch 1/50\n",
            "73/72 [==============================] - 23s 315ms/step - loss: 26201008.0200 - mean_squared_error: 26075096.0000 - mean_absolute_error: 3755.7788 - val_loss: 125824581.3667 - val_mean_squared_error: 125824584.0000 - val_mean_absolute_error: 8774.4766\n",
            "Epoch 37/50\n",
            "72/72 [============================>.] - ETA: 0s - loss: 32448683.4097 - mean_squared_error: 32523766.0000 - mean_absolute_error: 4198.8291Epoch 1/50\n",
            "73/72 [==============================] - 23s 313ms/step - loss: 32340928.1536 - mean_squared_error: 32413684.0000 - mean_absolute_error: 4201.3989 - val_loss: 118578487.8667 - val_mean_squared_error: 118578480.0000 - val_mean_absolute_error: 8147.2583\n",
            "Epoch 38/50\n",
            "72/72 [============================>.] - ETA: 0s - loss: 29849820.1424 - mean_squared_error: 29812500.0000 - mean_absolute_error: 4062.9829Epoch 1/50\n",
            "73/72 [==============================] - 23s 313ms/step - loss: 29597850.4525 - mean_squared_error: 29560858.0000 - mean_absolute_error: 4051.4985 - val_loss: 120307384.8000 - val_mean_squared_error: 120307384.0000 - val_mean_absolute_error: 8130.8252\n",
            "Epoch 39/50\n",
            "72/72 [============================>.] - ETA: 0s - loss: 28519371.8030 - mean_squared_error: 28588548.0000 - mean_absolute_error: 3825.1943Epoch 1/50\n",
            "73/72 [==============================] - 23s 310ms/step - loss: 28372052.8307 - mean_squared_error: 28438956.0000 - mean_absolute_error: 3822.5000 - val_loss: 106602810.5000 - val_mean_squared_error: 106602800.0000 - val_mean_absolute_error: 7653.7773\n",
            "Epoch 40/50\n",
            "72/72 [============================>.] - ETA: 0s - loss: 28659202.3993 - mean_squared_error: 28700872.0000 - mean_absolute_error: 4038.4202Epoch 1/50\n",
            "73/72 [==============================] - 23s 313ms/step - loss: 28604962.5240 - mean_squared_error: 28645356.0000 - mean_absolute_error: 4040.1902 - val_loss: 145269479.2667 - val_mean_squared_error: 145269472.0000 - val_mean_absolute_error: 8612.8887\n",
            "Epoch 41/50\n",
            "72/72 [============================>.] - ETA: 0s - loss: 39094170.2118 - mean_squared_error: 39075408.0000 - mean_absolute_error: 4474.0581Epoch 1/50\n",
            "73/72 [==============================] - 22s 307ms/step - loss: 38871050.3624 - mean_squared_error: 38852196.0000 - mean_absolute_error: 4460.9854 - val_loss: 108856686.5333 - val_mean_squared_error: 108856688.0000 - val_mean_absolute_error: 7841.0093\n",
            "Epoch 42/50\n",
            "72/72 [============================>.] - ETA: 0s - loss: 25112805.2951 - mean_squared_error: 25172800.0000 - mean_absolute_error: 3656.1975Epoch 1/50\n",
            "73/72 [==============================] - 23s 316ms/step - loss: 25461830.8283 - mean_squared_error: 25521146.0000 - mean_absolute_error: 3683.5151 - val_loss: 109759580.1667 - val_mean_squared_error: 109759584.0000 - val_mean_absolute_error: 7732.3491\n",
            "Epoch 43/50\n",
            "72/72 [============================>.] - ETA: 0s - loss: 32680942.3229 - mean_squared_error: 32736854.0000 - mean_absolute_error: 4116.4575Epoch 1/50\n",
            "73/72 [==============================] - 22s 308ms/step - loss: 33742592.4053 - mean_squared_error: 33799864.0000 - mean_absolute_error: 4164.2988 - val_loss: 109064693.3167 - val_mean_squared_error: 109064680.0000 - val_mean_absolute_error: 8018.2544\n",
            "Epoch 44/50\n",
            "72/72 [============================>.] - ETA: 0s - loss: 25507759.1649 - mean_squared_error: 25414902.0000 - mean_absolute_error: 3793.4373Epoch 1/50\n",
            "73/72 [==============================] - 23s 313ms/step - loss: 25635800.8737 - mean_squared_error: 25545806.0000 - mean_absolute_error: 3794.6394 - val_loss: 98002438.0000 - val_mean_squared_error: 98002456.0000 - val_mean_absolute_error: 7648.0942\n",
            "Epoch 45/50\n",
            "72/72 [============================>.] - ETA: 0s - loss: 27836107.1753 - mean_squared_error: 27878292.0000 - mean_absolute_error: 3849.9426Epoch 1/50\n",
            "73/72 [==============================] - 22s 308ms/step - loss: 27541197.6233 - mean_squared_error: 27581440.0000 - mean_absolute_error: 3823.5557 - val_loss: 111685527.4000 - val_mean_squared_error: 111685536.0000 - val_mean_absolute_error: 8150.4609\n",
            "Epoch 46/50\n",
            "72/72 [============================>.] - ETA: 0s - loss: 24584660.5347 - mean_squared_error: 24623446.0000 - mean_absolute_error: 3561.9341Epoch 1/50\n",
            "73/72 [==============================] - 22s 295ms/step - loss: 24582270.0549 - mean_squared_error: 24619998.0000 - mean_absolute_error: 3566.0837 - val_loss: 112361842.3333 - val_mean_squared_error: 112361832.0000 - val_mean_absolute_error: 8037.8057\n",
            "Epoch 47/50\n",
            "72/72 [============================>.] - ETA: 0s - loss: 28610455.3455 - mean_squared_error: 28674776.0000 - mean_absolute_error: 3835.4346Epoch 1/50\n",
            "73/72 [==============================] - 23s 311ms/step - loss: 28705242.6522 - mean_squared_error: 28768076.0000 - mean_absolute_error: 3851.1877 - val_loss: 125681676.8000 - val_mean_squared_error: 125681680.0000 - val_mean_absolute_error: 8584.7656\n",
            "Epoch 48/50\n",
            "72/72 [============================>.] - ETA: 0s - loss: 21342059.8125 - mean_squared_error: 21346222.0000 - mean_absolute_error: 3520.3965Epoch 1/50\n",
            "73/72 [==============================] - 23s 310ms/step - loss: 21351473.0146 - mean_squared_error: 21355546.0000 - mean_absolute_error: 3533.8806 - val_loss: 104620248.6667 - val_mean_squared_error: 104620248.0000 - val_mean_absolute_error: 8193.5410\n",
            "Epoch 49/50\n",
            "72/72 [============================>.] - ETA: 0s - loss: 25942676.9774 - mean_squared_error: 25979528.0000 - mean_absolute_error: 3593.0693Epoch 1/50\n",
            "73/72 [==============================] - 23s 310ms/step - loss: 26001518.1794 - mean_squared_error: 26037530.0000 - mean_absolute_error: 3607.6074 - val_loss: 108914299.3333 - val_mean_squared_error: 108914312.0000 - val_mean_absolute_error: 8146.9331\n",
            "Epoch 50/50\n",
            "72/72 [============================>.] - ETA: 0s - loss: 23174286.9262 - mean_squared_error: 23229584.0000 - mean_absolute_error: 3515.7566Epoch 1/50\n",
            "73/72 [==============================] - 23s 314ms/step - loss: 23576555.5239 - mean_squared_error: 23631444.0000 - mean_absolute_error: 3542.3979 - val_loss: 106616004.3667 - val_mean_squared_error: 106616008.0000 - val_mean_absolute_error: 8061.4648\n"
          ],
          "name": "stdout"
        },
        {
          "output_type": "execute_result",
          "data": {
            "text/plain": [
              "<tensorflow.python.keras.callbacks.History at 0x7f7c0f654d68>"
            ]
          },
          "metadata": {
            "tags": []
          },
          "execution_count": 78
        }
      ]
    },
    {
      "cell_type": "code",
      "metadata": {
        "id": "OcRBerGbmptg",
        "colab_type": "code",
        "colab": {}
      },
      "source": [
        "model.save_weights('/gdrive/My Drive/ThesisData/CNN_weights/transfer_tuned_night_model.h5')"
      ],
      "execution_count": 0,
      "outputs": []
    },
    {
      "cell_type": "code",
      "metadata": {
        "id": "Idq10rAcC-lq",
        "colab_type": "code",
        "outputId": "52c5c985-7988-40bd-c9f0-34ed68dc923d",
        "colab": {
          "base_uri": "https://localhost:8080/",
          "height": 573
        }
      },
      "source": [
        "# Plot training & validation accuracy values\n",
        "plt.plot(model.history.history['mean_squared_error'])\n",
        "plt.plot(model.history.history['val_mean_squared_error'])\n",
        "plt.title('Model MSE')\n",
        "plt.ylabel('MSE')\n",
        "plt.xlabel('Epoch')\n",
        "plt.ylim((0,500000000))\n",
        "plt.legend(['Train', 'Validation'], loc='upper left')\n",
        "plt.show()\n",
        "\n",
        "# Plot training & validation loss values\n",
        "plt.plot(model.history.history['mean_absolute_error'])\n",
        "plt.plot(model.history.history['val_mean_absolute_error'])\n",
        "plt.title('Model MAE')\n",
        "plt.ylabel('MAE')\n",
        "plt.xlabel('Epoch')\n",
        "plt.ylim((0,30000))\n",
        "plt.legend(['Train', 'Validation'], loc='upper left')\n",
        "plt.show()"
      ],
      "execution_count": 80,
      "outputs": [
        {
          "output_type": "display_data",
          "data": {
            "image/png": "[encoded data removed]",
            "text/plain": [
              "<Figure size 432x288 with 1 Axes>"
            ]
          },
          "metadata": {
            "tags": []
          }
        },
        {
          "output_type": "display_data",
          "data": {
            "image/png": "[encoded data removed]",
            "text/plain": [
              "<Figure size 432x288 with 1 Axes>"
            ]
          },
          "metadata": {
            "tags": []
          }
        }
      ]
    },
    {
      "cell_type": "code",
      "metadata": {
        "colab_type": "code",
        "id": "n1XeOAyH1vIN",
        "outputId": "a7047868-0416-4486-95c2-6b1646dca079",
        "colab": {
          "base_uri": "https://localhost:8080/",
          "height": 70
        }
      },
      "source": [
        "# Calculate the test performance\n",
        "test_score = model.evaluate_generator(test_generator)\n",
        "print('Test loss: '+str(test_score[0]))\n",
        "print('Test MSE: '+str(test_score[1]))\n",
        "print('Test MAE: '+str(test_score[2]))"
      ],
      "execution_count": 81,
      "outputs": [
        {
          "output_type": "stream",
          "text": [
            "Test loss: 186808695.88163295\n",
            "Test MSE: 186808670.0\n",
            "Test MAE: 9065.637\n"
          ],
          "name": "stdout"
        }
      ]
    },
    {
      "cell_type": "markdown",
      "metadata": {
        "id": "AQnkjk-Jje67",
        "colab_type": "text"
      },
      "source": [
        "# Better Fine-Tuning"
      ]
    },
    {
      "cell_type": "code",
      "metadata": {
        "colab_type": "code",
        "id": "jmzlLEqIyAEc",
        "colab": {
          "base_uri": "https://localhost:8080/",
          "height": 34
        },
        "outputId": "9242f45c-99d4-4d3b-fdaf-e8936b53245a"
      },
      "source": [
        "model = tf.keras.applications.VGG16(input_shape=(512,512,3),include_top=False,weights='imagenet')\n",
        "model.output_shape"
      ],
      "execution_count": 69,
      "outputs": [
        {
          "output_type": "execute_result",
          "data": {
            "text/plain": [
              "(None, 16, 16, 512)"
            ]
          },
          "metadata": {
            "tags": []
          },
          "execution_count": 69
        }
      ]
    },
    {
      "cell_type": "code",
      "metadata": {
        "id": "iTgAnIK3oxcJ",
        "colab_type": "code",
        "colab": {
          "base_uri": "https://localhost:8080/",
          "height": 204
        },
        "outputId": "c4e2a46e-849d-47db-b0af-58b5d5779527"
      },
      "source": [
        "top_model = tf.keras.Sequential()\n",
        "top_model.add(tf.keras.layers.Flatten(input_shape=(512,512,3)))\n",
        "top_model.add(tf.keras.layers.Dense(256, activation='relu'))\n",
        "top_model.add(tf.keras.layers.Dropout(0.5))\n",
        "top_model.add(tf.keras.layers.Dense(1, activation='relu'))\n",
        "\n",
        "top_model.load_weights('/gdrive/My Drive/ThesisData/CNN_weights/fc_night_model.h5')\n",
        "\n",
        "model.add(top_model)"
      ],
      "execution_count": 68,
      "outputs": [
        {
          "output_type": "error",
          "ename": "AttributeError",
          "evalue": "ignored",
          "traceback": [
            "\u001b[0;31m---------------------------------------------------------------------------\u001b[0m",
            "\u001b[0;31mAttributeError\u001b[0m                            Traceback (most recent call last)",
            "\u001b[0;32m<ipython-input-68-84ea9b473358>\u001b[0m in \u001b[0;36m<module>\u001b[0;34m()\u001b[0m\n\u001b[1;32m      7\u001b[0m \u001b[0mtop_model\u001b[0m\u001b[0;34m.\u001b[0m\u001b[0mload_weights\u001b[0m\u001b[0;34m(\u001b[0m\u001b[0;34m'/gdrive/My Drive/ThesisData/CNN_weights/fc_night_model.h5'\u001b[0m\u001b[0;34m)\u001b[0m\u001b[0;34m\u001b[0m\u001b[0;34m\u001b[0m\u001b[0m\n\u001b[1;32m      8\u001b[0m \u001b[0;34m\u001b[0m\u001b[0m\n\u001b[0;32m----> 9\u001b[0;31m \u001b[0mmodel\u001b[0m\u001b[0;34m.\u001b[0m\u001b[0madd\u001b[0m\u001b[0;34m(\u001b[0m\u001b[0mtop_model\u001b[0m\u001b[0;34m)\u001b[0m\u001b[0;34m\u001b[0m\u001b[0;34m\u001b[0m\u001b[0m\n\u001b[0m",
            "\u001b[0;31mAttributeError\u001b[0m: 'Model' object has no attribute 'add'"
          ]
        }
      ]
    }
  ]
}