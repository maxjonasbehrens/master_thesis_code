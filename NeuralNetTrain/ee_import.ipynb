{
  "nbformat": 4,
  "nbformat_minor": 0,
  "metadata": {
    "colab": {
      "name": "ee_import.ipynb",
      "provenance": [],
      "collapsed_sections": [],
      "toc_visible": true,
      "machine_shape": "hm"
    },
    "kernelspec": {
      "name": "python3",
      "display_name": "Python 3"
    },
    "accelerator": "GPU"
  },
  "cells": [
    {
      "cell_type": "markdown",
      "metadata": {
        "colab_type": "text",
        "id": "jcCwLDmWkrHi"
      },
      "source": [
        "## PreProcess Images and feed into CNN"
      ]
    },
    {
      "cell_type": "code",
      "metadata": {
        "colab_type": "code",
        "id": "KnRwnXgRkXTH",
        "outputId": "42602978-71b3-4bf6-84ab-6296193718ef",
        "colab": {
          "base_uri": "https://localhost:8080/",
          "height": 125
        }
      },
      "source": [
        "# Mount Google Drive\n",
        "from google.colab import drive\n",
        "drive.mount('/gdrive')"
      ],
      "execution_count": 1,
      "outputs": [
        {
          "output_type": "stream",
          "text": [
            "Go to this URL in a browser: https://accounts.google.com/o/oauth2/auth?client_id=947318989803-6bn6qk8qdgf4n4g3pfee6491hc0brc4i.apps.googleusercontent.com&redirect_uri=urn%3aietf%3awg%3aoauth%3a2.0%3aoob&response_type=code&scope=email%20https%3a%2f%2fwww.googleapis.com%2fauth%2fdocs.test%20https%3a%2f%2fwww.googleapis.com%2fauth%2fdrive%20https%3a%2f%2fwww.googleapis.com%2fauth%2fdrive.photos.readonly%20https%3a%2f%2fwww.googleapis.com%2fauth%2fpeopleapi.readonly\n",
            "\n",
            "Enter your authorization code:\n",
            "··········\n",
            "Mounted at /gdrive\n"
          ],
          "name": "stdout"
        }
      ]
    },
    {
      "cell_type": "code",
      "metadata": {
        "colab_type": "code",
        "id": "1Lfk-ya7Ux0k",
        "outputId": "07a46bdc-e09d-4c79-8b10-afa067ac4fb5",
        "colab": {
          "base_uri": "https://localhost:8080/",
          "height": 87
        }
      },
      "source": [
        "# Install package to handle .tiff data\n",
        "!pip install pyrsgis"
      ],
      "execution_count": 2,
      "outputs": [
        {
          "output_type": "stream",
          "text": [
            "Collecting pyrsgis\n",
            "  Downloading https://files.pythonhosted.org/packages/35/ab/7fcabaa7a75977e79fa535d781f2be92cd71331e9b21457b836442f3a475/pyrsgis-0.2.6-py3-none-any.whl\n",
            "Installing collected packages: pyrsgis\n",
            "Successfully installed pyrsgis-0.2.6\n"
          ],
          "name": "stdout"
        }
      ]
    },
    {
      "cell_type": "code",
      "metadata": {
        "id": "eA5AhCi0KFdG",
        "colab_type": "code",
        "outputId": "bfd8f5d7-b054-49cf-d916-38a31c2184f9",
        "colab": {
          "base_uri": "https://localhost:8080/",
          "height": 230
        }
      },
      "source": [
        "# Clone my git repo for preprocessing the images\n",
        "\n",
        "#!git clone https://github.com/maxjonasbehrens/master_thesis_code\n",
        "%cd /content/master_thesis_code\n",
        "!git pull"
      ],
      "execution_count": 8,
      "outputs": [
        {
          "output_type": "stream",
          "text": [
            "/content/master_thesis_code\n",
            "remote: Enumerating objects: 14, done.\u001b[K\n",
            "remote: Counting objects: 100% (14/14), done.\u001b[K\n",
            "remote: Compressing objects: 100% (5/5), done.\u001b[K\n",
            "remote: Total 10 (delta 5), reused 10 (delta 5), pack-reused 0\u001b[K\n",
            "Unpacking objects: 100% (10/10), done.\n",
            "From https://github.com/maxjonasbehrens/master_thesis_code\n",
            "   4161480..3bd8f54  master     -> origin/master\n",
            "Updating 4161480..3bd8f54\n",
            "Fast-forward\n",
            " NeuralNetTrain/imgProcessing/sat_images.py | 143 \u001b[32m++++++++++++++++++++++++++++\u001b[m\u001b[31m-\u001b[m\n",
            " 1 file changed, 142 insertions(+), 1 deletion(-)\n"
          ],
          "name": "stdout"
        }
      ]
    },
    {
      "cell_type": "code",
      "metadata": {
        "id": "MbcpkAIYKSkw",
        "colab_type": "code",
        "colab": {}
      },
      "source": [
        "# Load Python script for preprocessing\n",
        "%load /content/master_thesis_code/NeuralNetTrain/imgProcessing/sat_images.py"
      ],
      "execution_count": 0,
      "outputs": []
    },
    {
      "cell_type": "code",
      "metadata": {
        "colab_type": "code",
        "id": "CwZd9v4Ukxt6",
        "colab": {}
      },
      "source": [
        "# Load necessary packages\n",
        "import tensorflow as tf\n",
        "import numpy as np\n",
        "import pandas as pd\n",
        "from tensorflow import keras\n",
        "import pyrsgis\n",
        "import cv2\n",
        "from skimage.transform import resize\n",
        "from PIL import Image\n",
        "%matplotlib inline \n",
        "from matplotlib import pyplot as plt\n",
        "from os import listdir\n",
        "from os.path import isfile, join\n",
        "import scipy.io\n",
        "import sklearn.model_selection"
      ],
      "execution_count": 0,
      "outputs": []
    },
    {
      "cell_type": "code",
      "metadata": {
        "id": "yoaE3NmFOOAD",
        "colab_type": "code",
        "colab": {}
      },
      "source": [
        "# Import own module to preprocess images\n",
        "import imp\n",
        "sat_images = imp.new_module('sat_images')\n",
        "exec(open(\"/content/master_thesis_code/NeuralNetTrain/imgProcessing/sat_images.py\").read(), sat_images.__dict__)"
      ],
      "execution_count": 0,
      "outputs": []
    },
    {
      "cell_type": "markdown",
      "metadata": {
        "colab_type": "text",
        "id": "V8Lm_M34332n"
      },
      "source": [
        "## Test for one image"
      ]
    },
    {
      "cell_type": "code",
      "metadata": {
        "colab_type": "code",
        "id": "VLRyltYwk3HL",
        "colab": {}
      },
      "source": [
        "# Download test image from drive\n",
        "img_path = \"/gdrive/My Drive/nuts_geotiff/BE34_2013.tif\"\n",
        "\n",
        "ds1, img = pyrsgis.raster.read(img_path)"
      ],
      "execution_count": 0,
      "outputs": []
    },
    {
      "cell_type": "code",
      "metadata": {
        "colab_type": "code",
        "id": "vGEELO3uujS5",
        "outputId": "db3ddd14-2095-4a36-936a-6aaa8f8fba76",
        "colab": {
          "base_uri": "https://localhost:8080/",
          "height": 34
        }
      },
      "source": [
        "# Print its shape\n",
        "print(\"Image shape: \",img.shape)"
      ],
      "execution_count": 0,
      "outputs": [
        {
          "output_type": "stream",
          "text": [
            "Image shape:  (3, 1299, 1482)\n"
          ],
          "name": "stdout"
        }
      ]
    },
    {
      "cell_type": "code",
      "metadata": {
        "colab_type": "code",
        "id": "KAh7NFewVrKe",
        "colab": {}
      },
      "source": [
        "# Resize original image to compatible size\n",
        "img = np.swapaxes(img,0,-1)\n",
        "orig_resized = resize(img, (1024,1024))"
      ],
      "execution_count": 0,
      "outputs": []
    },
    {
      "cell_type": "code",
      "metadata": {
        "colab_type": "code",
        "id": "lzov3rpeckrN",
        "outputId": "9d5bec55-f038-4233-fb1a-e22d64a4d55f",
        "colab": {
          "base_uri": "https://localhost:8080/",
          "height": 268
        }
      },
      "source": [
        "# Show the original image\n",
        "plt.imshow(orig_resized, interpolation='nearest')\n",
        "plt.show()"
      ],
      "execution_count": 0,
      "outputs": [
        {
          "output_type": "display_data",
          "data": {
            "image/png": "[encoded data removed]",
            "text/plain": [
              "<Figure size 432x288 with 1 Axes>"
            ]
          },
          "metadata": {
            "tags": []
          }
        }
      ]
    },
    {
      "cell_type": "code",
      "metadata": {
        "id": "mrl4Vw_GTVIq",
        "colab_type": "code",
        "outputId": "5589a084-5fb3-4373-d6d4-c82a7c35f5f1",
        "colab": {
          "base_uri": "https://localhost:8080/",
          "height": 268
        }
      },
      "source": [
        "# Test replacing nan values with mean or samples from normal distribution\n",
        "\n",
        "mu, sigma = np.nanmean(img), np.nanstd(img)\n",
        "processed_img = img\n",
        "#processed_img = resize(processed_img, (512,512))\n",
        "n_nan = len(processed_img[np.isnan(processed_img)])\n",
        "processed_img[np.isnan(processed_img)] = mu#np.random.normal(mu,sigma,n_nan)\n",
        "processed_img = resize(processed_img, (512,512))\n",
        "plt.imshow(processed_img, interpolation='nearest')\n",
        "plt.show()"
      ],
      "execution_count": 0,
      "outputs": [
        {
          "output_type": "display_data",
          "data": {
            "image/png": "[encoded data removed]",
            "text/plain": [
              "<Figure size 432x288 with 1 Axes>"
            ]
          },
          "metadata": {
            "tags": []
          }
        }
      ]
    },
    {
      "cell_type": "markdown",
      "metadata": {
        "id": "uI4zPKrdH71D",
        "colab_type": "text"
      },
      "source": [
        "# Create input data"
      ]
    },
    {
      "cell_type": "code",
      "metadata": {
        "colab_type": "code",
        "id": "1NURzseNL_yH",
        "outputId": "87f967d8-2803-4a9f-ed38-73acf51d80c5",
        "colab": {
          "base_uri": "https://localhost:8080/",
          "height": 197
        }
      },
      "source": [
        "# Load Data Frame of NUTS regions and corresponding gdp values\n",
        "y_dat = pd.read_csv(\"/gdrive/My Drive/ThesisData/Data/enhanced_gdp_data.csv\")\n",
        "y_dat.head()"
      ],
      "execution_count": 12,
      "outputs": [
        {
          "output_type": "execute_result",
          "data": {
            "text/html": [
              "<div>\n",
              "<style scoped>\n",
              "    .dataframe tbody tr th:only-of-type {\n",
              "        vertical-align: middle;\n",
              "    }\n",
              "\n",
              "    .dataframe tbody tr th {\n",
              "        vertical-align: top;\n",
              "    }\n",
              "\n",
              "    .dataframe thead th {\n",
              "        text-align: right;\n",
              "    }\n",
              "</style>\n",
              "<table border=\"1\" class=\"dataframe\">\n",
              "  <thead>\n",
              "    <tr style=\"text-align: right;\">\n",
              "      <th></th>\n",
              "      <th>nuts2</th>\n",
              "      <th>year</th>\n",
              "      <th>nuts_value</th>\n",
              "      <th>code</th>\n",
              "      <th>country</th>\n",
              "      <th>country_value</th>\n",
              "      <th>mean_value</th>\n",
              "      <th>diff_value</th>\n",
              "    </tr>\n",
              "  </thead>\n",
              "  <tbody>\n",
              "    <tr>\n",
              "      <th>0</th>\n",
              "      <td>BE10</td>\n",
              "      <td>2008</td>\n",
              "      <td>61100.0</td>\n",
              "      <td>BE</td>\n",
              "      <td>Belgium</td>\n",
              "      <td>33100.0</td>\n",
              "      <td>31881.818182</td>\n",
              "      <td>28000.0</td>\n",
              "    </tr>\n",
              "    <tr>\n",
              "      <th>1</th>\n",
              "      <td>BE21</td>\n",
              "      <td>2008</td>\n",
              "      <td>39200.0</td>\n",
              "      <td>BE</td>\n",
              "      <td>Belgium</td>\n",
              "      <td>33100.0</td>\n",
              "      <td>31881.818182</td>\n",
              "      <td>6100.0</td>\n",
              "    </tr>\n",
              "    <tr>\n",
              "      <th>2</th>\n",
              "      <td>BE22</td>\n",
              "      <td>2008</td>\n",
              "      <td>27500.0</td>\n",
              "      <td>BE</td>\n",
              "      <td>Belgium</td>\n",
              "      <td>33100.0</td>\n",
              "      <td>31881.818182</td>\n",
              "      <td>-5600.0</td>\n",
              "    </tr>\n",
              "    <tr>\n",
              "      <th>3</th>\n",
              "      <td>BE23</td>\n",
              "      <td>2008</td>\n",
              "      <td>29400.0</td>\n",
              "      <td>BE</td>\n",
              "      <td>Belgium</td>\n",
              "      <td>33100.0</td>\n",
              "      <td>31881.818182</td>\n",
              "      <td>-3700.0</td>\n",
              "    </tr>\n",
              "    <tr>\n",
              "      <th>4</th>\n",
              "      <td>BE24</td>\n",
              "      <td>2008</td>\n",
              "      <td>34500.0</td>\n",
              "      <td>BE</td>\n",
              "      <td>Belgium</td>\n",
              "      <td>33100.0</td>\n",
              "      <td>31881.818182</td>\n",
              "      <td>1400.0</td>\n",
              "    </tr>\n",
              "  </tbody>\n",
              "</table>\n",
              "</div>"
            ],
            "text/plain": [
              "  nuts2  year  nuts_value  ... country_value    mean_value  diff_value\n",
              "0  BE10  2008     61100.0  ...       33100.0  31881.818182     28000.0\n",
              "1  BE21  2008     39200.0  ...       33100.0  31881.818182      6100.0\n",
              "2  BE22  2008     27500.0  ...       33100.0  31881.818182     -5600.0\n",
              "3  BE23  2008     29400.0  ...       33100.0  31881.818182     -3700.0\n",
              "4  BE24  2008     34500.0  ...       33100.0  31881.818182      1400.0\n",
              "\n",
              "[5 rows x 8 columns]"
            ]
          },
          "metadata": {
            "tags": []
          },
          "execution_count": 12
        }
      ]
    },
    {
      "cell_type": "code",
      "metadata": {
        "id": "HYE5RQr87GXH",
        "colab_type": "code",
        "outputId": "0125159b-a6f7-4ff5-f893-19983bf3f9ca",
        "colab": {
          "base_uri": "https://localhost:8080/",
          "height": 34
        }
      },
      "source": [
        "# Benchmark for diff-value (other benchmark are in other script)\n",
        "mae_diff = np.mean(abs(y_dat['diff_value']-y_dat['diff_value'].mean()))\n",
        "print(mae_diff)"
      ],
      "execution_count": 8,
      "outputs": [
        {
          "output_type": "stream",
          "text": [
            "5478.004371660496\n"
          ],
          "name": "stdout"
        }
      ]
    },
    {
      "cell_type": "code",
      "metadata": {
        "colab_type": "code",
        "id": "Ogm4ndTFkrib",
        "colab": {}
      },
      "source": [
        "# List of all files in directory of images\n",
        "mypath = \"/gdrive/My Drive/nuts_night/\"\n",
        "mypath_day = \"/gdrive/My Drive/nuts_geotiff/\"\n",
        "onlyfiles = [f for f in listdir(mypath) if isfile(join(mypath, f))]"
      ],
      "execution_count": 0,
      "outputs": []
    },
    {
      "cell_type": "code",
      "metadata": {
        "colab_type": "code",
        "id": "LHq0y4SCsQFp",
        "colab": {}
      },
      "source": [
        "# PreProcess images with certain resolution\n",
        "res = 64\n",
        "x,y,label = sat_images.create_data(onlyfiles[1:],mypath_day,y_dat,prediction='nuts_value',replace_nan='mean',resolution=res,night=False)\n",
        "scipy.io.savemat(\"/gdrive/My Drive/ThesisData/Data/data_day_mean_64_merge.mat\", mdict={'x': x}, oned_as='row')"
      ],
      "execution_count": 0,
      "outputs": []
    },
    {
      "cell_type": "code",
      "metadata": {
        "id": "h3sKahqFojC3",
        "colab_type": "code",
        "colab": {
          "base_uri": "https://localhost:8080/",
          "height": 176
        },
        "outputId": "a17940c0-51ab-4679-e40a-6c16b2d41044"
      },
      "source": [
        "# PreProcess subsample data from raw images\n",
        "res = 64\n",
        "y_dat = pd.read_csv(\"/gdrive/My Drive/ThesisData/Data/enhanced_gdp_data.csv\")\n",
        "mypath = \"/gdrive/My Drive/nuts_day_raw/\"\n",
        "onlyfiles = [f for f in listdir(mypath) if isfile(join(mypath, f))]\n",
        "x,y,label = sat_images.create_sample_data(onlyfiles,mypath,y_dat,resolution=res)"
      ],
      "execution_count": 0,
      "outputs": [
        {
          "output_type": "stream",
          "text": [
            "Image processed:  0  of  127\n",
            "Image processed:  10  of  127\n",
            "Image processed:  20  of  127\n",
            "Image processed:  30  of  127\n",
            "Image processed:  40  of  127\n",
            "Image processed:  50  of  127\n",
            "Image processed:  60  of  127\n",
            "Image processed:  70  of  127\n",
            "Image processed:  80  of  127\n"
          ],
          "name": "stdout"
        }
      ]
    },
    {
      "cell_type": "code",
      "metadata": {
        "id": "B6qu1pX-o0EK",
        "colab_type": "code",
        "colab": {}
      },
      "source": [
        "x.tofile\n",
        "y.tofile\n",
        "label.tofile"
      ],
      "execution_count": 0,
      "outputs": []
    },
    {
      "cell_type": "markdown",
      "metadata": {
        "id": "SKMXwstd9_Py",
        "colab_type": "text"
      },
      "source": [
        "### Save NIGHT images"
      ]
    },
    {
      "cell_type": "code",
      "metadata": {
        "id": "efIlhYNkwutL",
        "colab_type": "code",
        "colab": {}
      },
      "source": [
        "# Save ndarray to reproduce in drive for NIGHT images\n",
        "scipy.io.savemat(\"/gdrive/My Drive/ThesisData/Data/data_night_mean_64.mat\", mdict={'x': x}, oned_as='row')"
      ],
      "execution_count": 0,
      "outputs": []
    },
    {
      "cell_type": "markdown",
      "metadata": {
        "id": "0flpYjXJ-IFs",
        "colab_type": "text"
      },
      "source": [
        "### Save DAY images"
      ]
    },
    {
      "cell_type": "code",
      "metadata": {
        "id": "aGiuo5tw-HFb",
        "colab_type": "code",
        "colab": {}
      },
      "source": [
        "# Save ndarray to reproduce in drive for DAY images\n",
        "scipy.io.savemat(\"/gdrive/My Drive/ThesisData/Data/data_day_mean_64.mat\", mdict={'x': x}, oned_as='row')\n",
        "#scipy.io.savemat(\"/gdrive/My Drive/ThesisData/Data/data_day_mean_512_2.mat\", mdict={'x': x[600:]}, oned_as='row')"
      ],
      "execution_count": 0,
      "outputs": []
    },
    {
      "cell_type": "code",
      "metadata": {
        "colab_type": "code",
        "id": "OgjMrcIH5H5o",
        "colab": {}
      },
      "source": [
        "# Load input from scratch\n",
        "\n",
        "# For DAY images\n",
        "#x = np.vstack((scipy.io.loadmat(\"/gdrive/My Drive/ThesisData/Data/data_day_mean_512_1.mat\")['x'],scipy.io.loadmat(\"/gdrive/My Drive/ThesisData/Data/data_day_mean_512_2.mat\")['x']))\n",
        "\n",
        "# For NIGHT images\n",
        "x = scipy.io.loadmat(\"/gdrive/My Drive/ThesisData/Data/data_night_mean_512.mat\")['x']\n",
        "\n",
        "y, label = sat_images.create_y_label(onlyfiles,mypath,y_dat,prediction='nuts_value')"
      ],
      "execution_count": 0,
      "outputs": []
    },
    {
      "cell_type": "code",
      "metadata": {
        "colab_type": "code",
        "id": "4si-J7h9JBa7",
        "outputId": "6faae17d-ac52-494e-99f3-b2be9e74bd68",
        "colab": {
          "base_uri": "https://localhost:8080/",
          "height": 70
        }
      },
      "source": [
        "# Print shape of images\n",
        "print('Shape of x: ',len(x))\n",
        "print('Shape of y: ',len(y))\n",
        "print('Shape of labels: ', len(label))"
      ],
      "execution_count": 0,
      "outputs": [
        {
          "output_type": "stream",
          "text": [
            "Shape of x:  692\n",
            "Shape of y:  692\n",
            "Shape of labels:  692\n"
          ],
          "name": "stdout"
        }
      ]
    },
    {
      "cell_type": "code",
      "metadata": {
        "id": "9ae7iGkBO_EN",
        "colab_type": "code",
        "outputId": "fb3b6a0a-e8e6-4df2-cde1-62da8707b32b",
        "colab": {
          "base_uri": "https://localhost:8080/",
          "height": 34
        }
      },
      "source": [
        "# Convert grayscale 1-channel to 3-channel (only for transfer learning)\n",
        "x = np.stack((x,)*3, axis=-1)\n",
        "print(x.shape)"
      ],
      "execution_count": 0,
      "outputs": [
        {
          "output_type": "stream",
          "text": [
            "(692, 512, 512, 3)\n"
          ],
          "name": "stdout"
        }
      ]
    },
    {
      "cell_type": "markdown",
      "metadata": {
        "id": "c50RrTy6IHnt",
        "colab_type": "text"
      },
      "source": [
        "## Sample CNN Architectures"
      ]
    },
    {
      "cell_type": "code",
      "metadata": {
        "id": "UAOgPKmfZUfN",
        "colab_type": "code",
        "colab": {}
      },
      "source": [
        "# Very shallow CNN\n",
        "model = Sequential()\n",
        "model.add(Conv2D(32, 3, padding='same', input_shape=in_shape, activation='relu'))\n",
        "model.add(BatchNormalization())\n",
        "model.add(AveragePooling2D(pool_size=(2,2)))\n",
        "model.add(Flatten())\n",
        "model.add(Dense(256, activation='relu'))\n",
        "#model.add(Dropout(0.5))\n",
        "model.add(Dense(units=out_shape,activation='relu'))"
      ],
      "execution_count": 0,
      "outputs": []
    },
    {
      "cell_type": "code",
      "metadata": {
        "id": "DP-SHx_xkNvg",
        "colab_type": "code",
        "colab": {}
      },
      "source": [
        "# Fully connected model\n",
        "model = Sequential()\n",
        "model.add(Flatten(input_shape=x_train.shape[1:]))\n",
        "model.add(Dense(256, activation='relu'))\n",
        "model.add(Dropout(0.5))\n",
        "model.add(Dense(1, activation='relu'))"
      ],
      "execution_count": 0,
      "outputs": []
    },
    {
      "cell_type": "code",
      "metadata": {
        "colab_type": "code",
        "id": "blVC16VGw4af",
        "colab": {}
      },
      "source": [
        "# Deep Model\n",
        "model = Sequential()\n",
        "\n",
        "model.add(Conv2D(32, 3, padding='same', input_shape=in_shape, activation='relu'))\n",
        "model.add(Conv2D(32, 3, padding='same', activation='relu'))\n",
        "model.add(BatchNormalization())\n",
        "model.add(MaxPooling2D(pool_size = (2,2)))\n",
        "\n",
        "model.add(Conv2D(64, 3, padding='same', activation='relu'))\n",
        "model.add(Conv2D(64, 3, padding='same', activation='relu'))\n",
        "model.add(BatchNormalization())\n",
        "model.add(MaxPooling2D(pool_size = (2,2)))\n",
        "\n",
        "model.add(Conv2D(128, 3, padding='same', activation='relu'))\n",
        "model.add(Conv2D(128, 3, padding='same', activation='relu'))\n",
        "model.add(Dropout(0.4))\n",
        "model.add(BatchNormalization())\n",
        "model.add(MaxPooling2D(pool_size = (2,2)))\n",
        "\n",
        "model.add(Conv2D(256, 3, padding='same', activation='relu'))\n",
        "model.add(Conv2D(256, 3, padding='same', activation='relu'))\n",
        "model.add(Dropout(0.4))\n",
        "model.add(BatchNormalization())\n",
        "model.add(MaxPooling2D(pool_size = (2,2)))\n",
        "\n",
        "model.add(Conv2D(512, 3, padding='same', activation='relu'))\n",
        "model.add(Conv2D(512, 3, padding='same', activation='relu'))\n",
        "model.add(Dropout(0.4))\n",
        "model.add(BatchNormalization())\n",
        "model.add(MaxPooling2D(pool_size = (2,2)))\n",
        "\n",
        "model.add(Flatten())\n",
        "model.add(Dense(256, activation='relu', activity_regularizer=l1(0.001)))\n",
        "model.add(Dropout(0.5))\n",
        "\n",
        "model.add(Dense(256, activation='relu',activity_regularizer=l1(0.001)))\n",
        "model.add(Dropout(0.5))\n",
        "model.add(Dense(units=out_shape,activation='relu'))"
      ],
      "execution_count": 0,
      "outputs": []
    },
    {
      "cell_type": "code",
      "metadata": {
        "id": "9L86HWD1sWhR",
        "colab_type": "code",
        "colab": {}
      },
      "source": [
        "# Shallow Model\n",
        "model = tf.keras.Sequential()\n",
        "\n",
        "model.add(Conv2D(16, 3, padding='same', input_shape=in_shape, activation='relu'))\n",
        "model.add(Conv2D(16, 3, padding='same', activation='relu'))\n",
        "model.add(BatchNormalization())\n",
        "model.add(MaxPooling2D(pool_size = (2,2)))\n",
        "\n",
        "model.add(Conv2D(32, 3, padding='same', activation='relu'))\n",
        "model.add(Conv2D(32, 3, padding='same', activation='relu'))\n",
        "model.add(BatchNormalization())\n",
        "model.add(MaxPooling2D(pool_size = (2,2)))\n",
        "\n",
        "model.add(Flatten())\n",
        "model.add(Dense(128, activation='relu', kernel_initializer='normal', activity_regularizer=l1(0.001)))\n",
        "model.add(Dropout(0.5))\n",
        "model.add(Dense(units=out_shape, kernel_initializer='normal',activation='relu'))"
      ],
      "execution_count": 0,
      "outputs": []
    },
    {
      "cell_type": "code",
      "metadata": {
        "colab_type": "code",
        "id": "GXlz_HWWCQuT",
        "outputId": "7c4e700b-4673-4c82-c1d8-1b5e2cbac52c",
        "colab": {
          "base_uri": "https://localhost:8080/",
          "height": 107
        }
      },
      "source": [
        "# Transfer Learning\n",
        "base_model = ResNet50(input_shape=in_shape,include_top=False)\n",
        "\tx=base_model.output\n",
        "\tx=Flatten()(x)\n",
        "\tx=Dense(32,activation='relu')(x) #we add dense layers so that the model can learn more complex functions and classify for better results.\n",
        "\tx=Dropout(0.2)(x) #Dropout\n",
        "\tx=Dense(32,activation='relu')(x) #dense layer 3\n",
        "\tx=Dropout(0.2)(x) #Dropout\n",
        "\tpreds=Dense(units=out_shape, activation = 'relu')(x)\n",
        "\tmodel=Model(inputs=base_model.input,outputs=preds)\n",
        " \n",
        "\tfor layer in model.layers[:156]:\n",
        "  \tlayer.trainable = False"
      ],
      "execution_count": 0,
      "outputs": [
        {
          "output_type": "stream",
          "text": [
            "WARNING:tensorflow:From /usr/local/lib/python3.6/dist-packages/keras/backend/tensorflow_backend.py:4479: The name tf.truncated_normal is deprecated. Please use tf.random.truncated_normal instead.\n",
            "\n",
            "Downloading data from https://github.com/fchollet/deep-learning-models/releases/download/v0.2/resnet50_weights_tf_dim_ordering_tf_kernels_notop.h5\n",
            "94658560/94653016 [==============================] - 7s 0us/step\n"
          ],
          "name": "stdout"
        }
      ]
    },
    {
      "cell_type": "code",
      "metadata": {
        "id": "wA5fZqxXWVMS",
        "colab_type": "code",
        "colab": {}
      },
      "source": [
        "# dense layers much less"
      ],
      "execution_count": 0,
      "outputs": []
    },
    {
      "cell_type": "markdown",
      "metadata": {
        "id": "AQnkjk-Jje67",
        "colab_type": "text"
      },
      "source": [
        "# Training Pipeline for CNN Fitting"
      ]
    },
    {
      "cell_type": "code",
      "metadata": {
        "id": "8Y3Xdhdryg5R",
        "colab_type": "code",
        "outputId": "413989ac-9523-4673-de14-e6d39f7b1c6a",
        "colab": {
          "base_uri": "https://localhost:8080/",
          "height": 34
        }
      },
      "source": [
        "from numpy import load\n",
        "from matplotlib import pyplot\n",
        "from sklearn.model_selection import train_test_split\n",
        "from keras import backend\n",
        "from keras.preprocessing.image import ImageDataGenerator\n",
        "from keras.models import Sequential\n",
        "from keras.models import Model\n",
        "from keras.layers import Conv2D\n",
        "from keras.layers import MaxPooling2D, AveragePooling2D\n",
        "from keras.layers import Dense\n",
        "from keras.layers import Flatten\n",
        "from keras.layers import Dropout\n",
        "from keras.layers import BatchNormalization\n",
        "from keras.regularizers import l1, l2, l1_l2\n",
        "from keras.optimizers import SGD, Adam\n",
        "from keras.applications import VGG16, ResNet50, ResNet50V2, InceptionResNetV2\n",
        "from keras.callbacks import EarlyStopping\n",
        "import scipy\n",
        "import pandas as pd\n",
        "import numpy as np\n",
        "from datetime import date\n",
        "from os import listdir\n",
        "from os.path import isfile, join"
      ],
      "execution_count": 13,
      "outputs": [
        {
          "output_type": "stream",
          "text": [
            "Using TensorFlow backend.\n"
          ],
          "name": "stderr"
        }
      ]
    },
    {
      "cell_type": "code",
      "metadata": {
        "colab_type": "code",
        "id": "jmzlLEqIyAEc",
        "colab": {}
      },
      "source": [
        "# split into train, validation and test dataset\n",
        "def data_split(x, y, label, test_size=0.2, one_d = False):\n",
        "  \n",
        "  np.random.seed(42)\n",
        "\n",
        "  # Create list of unique regions\n",
        "  regions = []\n",
        "  for i in range(len(label)):\n",
        "    regions.append(label[i].rsplit('_',1)[0])\n",
        "\n",
        "  regions = np.unique(regions)\n",
        "\n",
        "  # Split regions into train and test set\n",
        "  msk_test = np.random.rand(len(regions)) < test_size\n",
        "\n",
        "  train_split = regions[~msk_test]\n",
        "  test_split = regions[msk_test]\n",
        "\n",
        "  msk_val = np.random.rand(len(train_split)) < (test_size+0.05)\n",
        "\n",
        "  val_split = train_split[msk_val]\n",
        "  train_split = train_split[~msk_val]\n",
        "\n",
        "  # Split whole data set into test and train based on split regions\n",
        "  import math\n",
        "  label_train = []\n",
        "  label_val = []\n",
        "  label_test = []\n",
        "  x_train = []\n",
        "  y_train = []\n",
        "  x_val = []\n",
        "  y_val = []\n",
        "  x_test = []\n",
        "  y_test = []\n",
        "\n",
        "  # Split into train and test based on previous region split\n",
        "  for i in range(len(label)):\n",
        "    if label[i].rsplit('_',1)[0] in train_split:\n",
        "      if math.isnan(y[i]):\n",
        "        pass\n",
        "      else:\n",
        "        label_train.append(label[i])\n",
        "        x_train.append(x[i])\n",
        "        y_train.append(int(y[i]))\n",
        "    elif label[i].rsplit('_',1)[0] in val_split:\n",
        "      if math.isnan(y[i]):\n",
        "        pass\n",
        "      else:\n",
        "        label_val.append(label[i])\n",
        "        x_val.append(x[i])\n",
        "        y_val.append(int(y[i]))\n",
        "    else:\n",
        "      if math.isnan(y[i]):\n",
        "        pass\n",
        "      else:\n",
        "        label_test.append(label[i])\n",
        "        x_test.append(x[i])\n",
        "        y_test.append(int(y[i]))\n",
        "\n",
        "  # Transform into numpy array\n",
        "  label_train = np.array(label_train)\n",
        "  label_test = np.array(label_test)\n",
        "  label_val = np.array(label_val)\n",
        "  #x_train = np.array(x_train)\n",
        "  #x_test = np.array(x_test)\n",
        "  #x_val = np.array(x_val)\n",
        "  y_train = np.array(y_train)\n",
        "  y_test = np.array(y_test)  \n",
        "  y_val = np.array(y_val)\n",
        "\n",
        "  if one_d:\n",
        "    x_train = np.array([x_train])\n",
        "    x_train = np.moveaxis(x_train,0,-1)\n",
        "    x_val = np.array([x_val])\n",
        "    x_val = np.moveaxis(x_val,0,-1)\n",
        "    x_test = np.array([x_test])\n",
        "    x_test = np.moveaxis(x_test,0,-1)\n",
        "\n",
        "  return x_train, x_val, x_test, y_train, y_val, y_test, label_train, label_val, label_test\n"
      ],
      "execution_count": 0,
      "outputs": []
    },
    {
      "cell_type": "code",
      "metadata": {
        "id": "KfGVznceheZn",
        "colab_type": "code",
        "colab": {}
      },
      "source": [
        "# Feature to combine night and day images into one 4-channel image\n",
        "def combine_img():\n",
        "  mypath_night = \"/gdrive/My Drive/nuts_night/\"\n",
        "  onlyfiles_night = [f for f in listdir(mypath_night) if isfile(join(mypath_night, f))]\n",
        "\n",
        "  y_dat = pd.read_csv(\"/gdrive/My Drive/ThesisData/Data/enhanced_gdp_data.csv\")\n",
        "\n",
        "  y, label = sat_images.create_y_label(onlyfiles_night,mypath_night,y_dat,prediction='nuts_value')\n",
        "\n",
        "  x_day = scipy.io.loadmat(\"/gdrive/My Drive/ThesisData/Data/data_day_mean_64_merge.mat\")['x']\n",
        "  x_night = scipy.io.loadmat(\"/gdrive/My Drive/ThesisData/Data/data_night_mean_64.mat\")['x']\n",
        "  x_night = x_night[1:]\n",
        "\n",
        "  x_night = np.array([x_night])\n",
        "  x_night = np.moveaxis(x_night,0,-1)\n",
        "\n",
        "  #print(x_day.shape)\n",
        "  #print(x_night.shape)\n",
        "\n",
        "  x = np.append(x_day,x_night,axis=3)\n",
        "  #print(x.shape)\n",
        "\n",
        "  return x,y[1:],label[1:]"
      ],
      "execution_count": 0,
      "outputs": []
    },
    {
      "cell_type": "code",
      "metadata": {
        "id": "iTgAnIK3oxcJ",
        "colab_type": "code",
        "colab": {}
      },
      "source": [
        "# load train and test dataset\n",
        "def load_dataset(filepath = \"/gdrive/My Drive/ThesisData/Data/data_night_mean_512.mat\", \n",
        "                 mypath = \"/gdrive/My Drive/nuts_day_raw/\" ,\n",
        "                 one_d = False, \n",
        "                 four_d = False, \n",
        "                 subselect = False,\n",
        "                 res = 256):\n",
        "\t# Load Data Frame of NUTS regions and corresponding gdp values\n",
        "  y_dat = pd.read_csv(\"/gdrive/My Drive/ThesisData/Data/enhanced_gdp_data.csv\")\n",
        "  # List of all files in directory of images\n",
        "  mypath = mypath\n",
        "  onlyfiles = [f for f in listdir(mypath) if isfile(join(mypath, f))]\n",
        "\n",
        "  # load dataset\n",
        "  if four_d:\n",
        "    x,y,label = combine_img()\n",
        "  elif subselect:\n",
        "    x,y,label = sat_images.create_sample_data(onlyfiles,mypath,y_dat,resolution=res)\n",
        "  else:\n",
        "    x = scipy.io.loadmat(filepath)['x']\n",
        "    y, label = sat_images.create_y_label(onlyfiles,mypath,y_dat,prediction='nuts_value')  \n",
        "\n",
        "  if (one_d == False) & (four_d == False) & (subselect == False):\n",
        "    # Convert grayscale 1-channel to 3-channel (only for transfer learning)\n",
        "    x = np.stack((x,)*3, axis=-1)\n",
        "\t\n",
        "  # separate into train and test datasets\n",
        "  x_train, x_val, x_test, y_train, y_val, y_test, label_train, label_val, label_test = data_split(x, y, label, test_size=0.2, one_d = one_d)\n",
        "\t\n",
        "  return x_train, x_val, x_test, y_train, y_val, y_test, label_train, label_val, label_test"
      ],
      "execution_count": 0,
      "outputs": []
    },
    {
      "cell_type": "code",
      "metadata": {
        "id": "OIsyGb6Qx2uB",
        "colab_type": "code",
        "colab": {}
      },
      "source": [
        "# define cnn model\n",
        "def define_model(lr,in_shape=(512, 512, 3), out_shape=1):\n",
        "\t\n",
        "\t# Deep Model\n",
        "\tmodel = Sequential()\n",
        "\n",
        "\tmodel.add(Conv2D(32, 3, padding='same', input_shape=in_shape, activation='relu'))\n",
        "\tmodel.add(Conv2D(32, 3, padding='same', activation='relu'))\n",
        "\tmodel.add(BatchNormalization())\n",
        "\tmodel.add(MaxPooling2D(pool_size = (2,2)))\n",
        "\n",
        "\tmodel.add(Conv2D(64, 3, padding='same', activation='relu'))\n",
        "\tmodel.add(Conv2D(64, 3, padding='same', activation='relu'))\n",
        "\tmodel.add(BatchNormalization())\n",
        "\tmodel.add(MaxPooling2D(pool_size = (2,2)))\n",
        "\n",
        "\tmodel.add(Conv2D(128, 3, padding='same', activation='relu'))\n",
        "\tmodel.add(Conv2D(128, 3, padding='same', activation='relu'))\n",
        "\tmodel.add(Dropout(0.4))\n",
        "\tmodel.add(BatchNormalization())\n",
        "\tmodel.add(MaxPooling2D(pool_size = (2,2)))\n",
        "\n",
        "\tmodel.add(Conv2D(256, 3, padding='same', activation='relu'))\n",
        "\tmodel.add(Conv2D(256, 3, padding='same', activation='relu'))\n",
        "\tmodel.add(Dropout(0.4))\n",
        "\tmodel.add(BatchNormalization())\n",
        "\tmodel.add(MaxPooling2D(pool_size = (2,2)))\n",
        "\n",
        "\tmodel.add(Conv2D(512, 3, padding='same', activation='relu'))\n",
        "\tmodel.add(Conv2D(512, 3, padding='same', activation='relu'))\n",
        "\tmodel.add(Dropout(0.4))\n",
        "\tmodel.add(BatchNormalization())\n",
        "\tmodel.add(MaxPooling2D(pool_size = (2,2)))\n",
        "\n",
        "\tmodel.add(Flatten())\n",
        "\tmodel.add(Dense(256, activation='relu', activity_regularizer=l1(0.001)))\n",
        "\tmodel.add(Dropout(0.5))\n",
        "\n",
        "\tmodel.add(Dense(256, activation='relu',activity_regularizer=l1(0.001)))\n",
        "\tmodel.add(Dropout(0.5))\n",
        "\tmodel.add(Dense(units=out_shape,activation='relu'))\n",
        "\t\n",
        "\t# compile model\n",
        "\topt = Adam(lr=lr)\n",
        "\tmodel.compile(optimizer=opt, loss='mean_squared_error', metrics=['mse','mae'])\n",
        " \n",
        "\treturn model"
      ],
      "execution_count": 0,
      "outputs": []
    },
    {
      "cell_type": "code",
      "metadata": {
        "id": "kg3xSQBLyujR",
        "colab_type": "code",
        "colab": {}
      },
      "source": [
        "# plot diagnostic learning curves\n",
        "def summarize_diagnostics(history,no_layers,in_shape,batch_size,epochs,mse,mae,transfer,lr,optim,comment):\n",
        "\t# plot loss\n",
        "\tpyplot.subplot(211)\n",
        "\tpyplot.title('Model MSE')\n",
        "\tpyplot.plot(history.history['mean_squared_error'], color='blue', label='train')\n",
        "\tpyplot.plot(history.history['val_mean_squared_error'], color='orange', label='val')\n",
        "\tpyplot.xlabel(\"\")\n",
        "\t# plot accuracy\n",
        "\tpyplot.subplot(212)\n",
        "\tpyplot.title('Model MAE')\n",
        "\tpyplot.plot(history.history['mean_absolute_error'], color='blue', label='train')\n",
        "\tpyplot.plot(history.history['val_mean_absolute_error'], color='orange', label='val')\n",
        "\t# save plot to file\n",
        "\tday = date.today()\n",
        "\tfilename = str(day)+\"_\"+str(in_shape[0])+\"_\"+str(in_shape[2])+\"_\"+str(epochs)+\"_\"+str(batch_size)\n",
        "\tpyplot.savefig('/gdrive/My Drive/ThesisData/cnn_results/'+filename + '_plot.png')\n",
        "\tpyplot.close()\n",
        "  \n",
        "\t# write diagnostics to results file\n",
        "\tmyrow = ['\\n'+str(day),str(no_layers),str(batch_size),str(epochs),str(in_shape[0]),str(in_shape[2]),\n",
        "\t         str(history.history['mean_squared_error'][-1]),str(history.history['mean_absolute_error'][-1]),\n",
        "\t\t\t\t\t     str(history.history['val_mean_squared_error'][-1]),str(history.history['val_mean_absolute_error'][-1]),\n",
        "\t\t\t\t\t\t\t   str(mse),str(mae),str(transfer),str(lr),str(optim),str(comment)]\n",
        "\tmyrow = ','.join(myrow)\n",
        "\tfilepath = '/gdrive/My Drive/ThesisData/cnn_results/cnn_results.csv'\n",
        "\twith open(filepath,'a') as fd:\n",
        "\t\tfd.write(myrow)"
      ],
      "execution_count": 0,
      "outputs": []
    },
    {
      "cell_type": "code",
      "metadata": {
        "id": "_B8Hp4kcz3yK",
        "colab_type": "code",
        "colab": {}
      },
      "source": [
        "# run the test harness for evaluating a model\n",
        "def run_test_harness(comment,transfer,optim,lr=0.0001,batch_size = 10,epochs = 50, in_shape = (512,512,3), subselect = False):\n",
        "  \n",
        "  if in_shape[2] == 1:\n",
        "    one_d = True\n",
        "    four_d = False\n",
        "  elif in_shape[2] == 4:\n",
        "    four_d = True\n",
        "    one_d = False\n",
        "  else:\n",
        "    one_d = False\n",
        "    four_d = False\n",
        "  \n",
        "  # load dataset\n",
        "  x_train, x_val, x_test, y_train, y_val, y_test, label_train, label_val, label_test = load_dataset(one_d = one_d,four_d = four_d, res = in_shape[0], subselect=subselect)\n",
        "  \n",
        "  # create data generator\n",
        "  train_datagen = ImageDataGenerator(rescale=(1.0/np.max(x_train)), horizontal_flip=True, vertical_flip=True, rotation_range=90)\n",
        "  val_datagen = ImageDataGenerator(rescale=(1.0/np.max(x_val)))\n",
        "  test_datagen = ImageDataGenerator(rescale=(1.0/np.max(x_test)))\n",
        "\n",
        "  # Define early stopping\n",
        "  es = EarlyStopping(monitor='val_loss', mode='min', verbose=2, patience=20, restore_best_weights=True)\n",
        "\n",
        "  # prepare iterators\n",
        "  train_it = train_datagen.flow(x_train, y_train, batch_size=batch_size)\n",
        "  val_it = val_datagen.flow(x_val, y_val, batch_size=batch_size)\n",
        "  test_it = test_datagen.flow(x_test, y_test, batch_size=1)\n",
        "  \n",
        "  # define model\n",
        "  model = define_model(lr=lr,in_shape=in_shape)\n",
        "  no_layers = len(model.layers)\n",
        "  \n",
        "  # fit model\n",
        "  history = model.fit_generator(train_it, \n",
        "                                steps_per_epoch=len(train_it),\n",
        "                                validation_data=val_it, \n",
        "                                validation_steps=len(val_it),\n",
        "                                callbacks = [es], \n",
        "                                epochs=epochs, \n",
        "                                verbose=2)\n",
        "  \n",
        "  # evaluate model\n",
        "  loss, mse, mae = model.evaluate_generator(test_it, steps=len(test_it), verbose=0)\n",
        "  print('> mse=%.3f, mae=%.3f' % (mse, mae))\n",
        "  \n",
        "  # learning curves\n",
        "  summarize_diagnostics(history=history,\n",
        "                        no_layers=no_layers,\n",
        "                        in_shape = in_shape,\n",
        "                        batch_size=batch_size,\n",
        "                        epochs=len(history.history['loss']),\n",
        "                        mse=mse,mae=mae,\n",
        "                        transfer=transfer,lr=lr,\n",
        "                        optim=optim,\n",
        "                        comment=comment)"
      ],
      "execution_count": 0,
      "outputs": []
    },
    {
      "cell_type": "code",
      "metadata": {
        "id": "PL1etQnh27AK",
        "colab_type": "code",
        "outputId": "6e6deb40-9105-4d21-8305-61fe27ad58cf",
        "colab": {
          "base_uri": "https://localhost:8080/",
          "height": 408
        }
      },
      "source": [
        "run_test_harness(\"first test with subselect raw img\",\"no\",\"adam\",lr=0.0001,batch_size=15,epochs=1000,in_shape=(32,32,3), subselect=True)"
      ],
      "execution_count": 20,
      "outputs": [
        {
          "output_type": "stream",
          "text": [
            "Image processed:  0  of  269\n",
            "Image processed:  10  of  269\n"
          ],
          "name": "stdout"
        },
        {
          "output_type": "error",
          "ename": "KeyboardInterrupt",
          "evalue": "ignored",
          "traceback": [
            "\u001b[0;31m---------------------------------------------------------------------------\u001b[0m",
            "\u001b[0;31mKeyboardInterrupt\u001b[0m                         Traceback (most recent call last)",
            "\u001b[0;32m<ipython-input-20-a499ddae6fe6>\u001b[0m in \u001b[0;36m<module>\u001b[0;34m()\u001b[0m\n\u001b[0;32m----> 1\u001b[0;31m \u001b[0mrun_test_harness\u001b[0m\u001b[0;34m(\u001b[0m\u001b[0;34m\"first test with subselect raw img\"\u001b[0m\u001b[0;34m,\u001b[0m\u001b[0;34m\"no\"\u001b[0m\u001b[0;34m,\u001b[0m\u001b[0;34m\"adam\"\u001b[0m\u001b[0;34m,\u001b[0m\u001b[0mlr\u001b[0m\u001b[0;34m=\u001b[0m\u001b[0;36m0.0001\u001b[0m\u001b[0;34m,\u001b[0m\u001b[0mbatch_size\u001b[0m\u001b[0;34m=\u001b[0m\u001b[0;36m15\u001b[0m\u001b[0;34m,\u001b[0m\u001b[0mepochs\u001b[0m\u001b[0;34m=\u001b[0m\u001b[0;36m1000\u001b[0m\u001b[0;34m,\u001b[0m\u001b[0min_shape\u001b[0m\u001b[0;34m=\u001b[0m\u001b[0;34m(\u001b[0m\u001b[0;36m32\u001b[0m\u001b[0;34m,\u001b[0m\u001b[0;36m32\u001b[0m\u001b[0;34m,\u001b[0m\u001b[0;36m3\u001b[0m\u001b[0;34m)\u001b[0m\u001b[0;34m,\u001b[0m \u001b[0msubselect\u001b[0m\u001b[0;34m=\u001b[0m\u001b[0;32mTrue\u001b[0m\u001b[0;34m)\u001b[0m\u001b[0;34m\u001b[0m\u001b[0;34m\u001b[0m\u001b[0m\n\u001b[0m",
            "\u001b[0;32m<ipython-input-19-8158ee18c630>\u001b[0m in \u001b[0;36mrun_test_harness\u001b[0;34m(comment, transfer, optim, lr, batch_size, epochs, in_shape, subselect)\u001b[0m\n\u001b[1;32m     12\u001b[0m \u001b[0;34m\u001b[0m\u001b[0m\n\u001b[1;32m     13\u001b[0m   \u001b[0;31m# load dataset\u001b[0m\u001b[0;34m\u001b[0m\u001b[0;34m\u001b[0m\u001b[0;34m\u001b[0m\u001b[0m\n\u001b[0;32m---> 14\u001b[0;31m   \u001b[0mx_train\u001b[0m\u001b[0;34m,\u001b[0m \u001b[0mx_val\u001b[0m\u001b[0;34m,\u001b[0m \u001b[0mx_test\u001b[0m\u001b[0;34m,\u001b[0m \u001b[0my_train\u001b[0m\u001b[0;34m,\u001b[0m \u001b[0my_val\u001b[0m\u001b[0;34m,\u001b[0m \u001b[0my_test\u001b[0m\u001b[0;34m,\u001b[0m \u001b[0mlabel_train\u001b[0m\u001b[0;34m,\u001b[0m \u001b[0mlabel_val\u001b[0m\u001b[0;34m,\u001b[0m \u001b[0mlabel_test\u001b[0m \u001b[0;34m=\u001b[0m \u001b[0mload_dataset\u001b[0m\u001b[0;34m(\u001b[0m\u001b[0mone_d\u001b[0m \u001b[0;34m=\u001b[0m \u001b[0mone_d\u001b[0m\u001b[0;34m,\u001b[0m\u001b[0mfour_d\u001b[0m \u001b[0;34m=\u001b[0m \u001b[0mfour_d\u001b[0m\u001b[0;34m,\u001b[0m \u001b[0mres\u001b[0m \u001b[0;34m=\u001b[0m \u001b[0min_shape\u001b[0m\u001b[0;34m[\u001b[0m\u001b[0;36m0\u001b[0m\u001b[0;34m]\u001b[0m\u001b[0;34m,\u001b[0m \u001b[0msubselect\u001b[0m\u001b[0;34m=\u001b[0m\u001b[0msubselect\u001b[0m\u001b[0;34m)\u001b[0m\u001b[0;34m\u001b[0m\u001b[0;34m\u001b[0m\u001b[0m\n\u001b[0m\u001b[1;32m     15\u001b[0m \u001b[0;34m\u001b[0m\u001b[0m\n\u001b[1;32m     16\u001b[0m   \u001b[0;31m# create data generator\u001b[0m\u001b[0;34m\u001b[0m\u001b[0;34m\u001b[0m\u001b[0;34m\u001b[0m\u001b[0m\n",
            "\u001b[0;32m<ipython-input-16-4091132e1de1>\u001b[0m in \u001b[0;36mload_dataset\u001b[0;34m(filepath, mypath, one_d, four_d, subselect, res)\u001b[0m\n\u001b[1;32m     15\u001b[0m     \u001b[0mx\u001b[0m\u001b[0;34m,\u001b[0m\u001b[0my\u001b[0m\u001b[0;34m,\u001b[0m\u001b[0mlabel\u001b[0m \u001b[0;34m=\u001b[0m \u001b[0mcombine_img\u001b[0m\u001b[0;34m(\u001b[0m\u001b[0;34m)\u001b[0m\u001b[0;34m\u001b[0m\u001b[0;34m\u001b[0m\u001b[0m\n\u001b[1;32m     16\u001b[0m   \u001b[0;32melif\u001b[0m \u001b[0msubselect\u001b[0m\u001b[0;34m:\u001b[0m\u001b[0;34m\u001b[0m\u001b[0;34m\u001b[0m\u001b[0m\n\u001b[0;32m---> 17\u001b[0;31m     \u001b[0mx\u001b[0m\u001b[0;34m,\u001b[0m\u001b[0my\u001b[0m\u001b[0;34m,\u001b[0m\u001b[0mlabel\u001b[0m \u001b[0;34m=\u001b[0m \u001b[0msat_images\u001b[0m\u001b[0;34m.\u001b[0m\u001b[0mcreate_sample_data\u001b[0m\u001b[0;34m(\u001b[0m\u001b[0monlyfiles\u001b[0m\u001b[0;34m,\u001b[0m\u001b[0mmypath\u001b[0m\u001b[0;34m,\u001b[0m\u001b[0my_dat\u001b[0m\u001b[0;34m,\u001b[0m\u001b[0mresolution\u001b[0m\u001b[0;34m=\u001b[0m\u001b[0mres\u001b[0m\u001b[0;34m)\u001b[0m\u001b[0;34m\u001b[0m\u001b[0;34m\u001b[0m\u001b[0m\n\u001b[0m\u001b[1;32m     18\u001b[0m   \u001b[0;32melse\u001b[0m\u001b[0;34m:\u001b[0m\u001b[0;34m\u001b[0m\u001b[0;34m\u001b[0m\u001b[0m\n\u001b[1;32m     19\u001b[0m     \u001b[0mx\u001b[0m \u001b[0;34m=\u001b[0m \u001b[0mscipy\u001b[0m\u001b[0;34m.\u001b[0m\u001b[0mio\u001b[0m\u001b[0;34m.\u001b[0m\u001b[0mloadmat\u001b[0m\u001b[0;34m(\u001b[0m\u001b[0mfilepath\u001b[0m\u001b[0;34m)\u001b[0m\u001b[0;34m[\u001b[0m\u001b[0;34m'x'\u001b[0m\u001b[0;34m]\u001b[0m\u001b[0;34m\u001b[0m\u001b[0;34m\u001b[0m\u001b[0m\n",
            "\u001b[0;32m<string>\u001b[0m in \u001b[0;36mcreate_sample_data\u001b[0;34m(files, path, y_dat, prediction, resolution)\u001b[0m\n",
            "\u001b[0;32m/usr/local/lib/python3.6/dist-packages/pyrsgis/raster/__init__.py\u001b[0m in \u001b[0;36mread\u001b[0;34m(file, bands)\u001b[0m\n\u001b[1;32m     49\u001b[0m     \u001b[0;32mif\u001b[0m \u001b[0mtype\u001b[0m\u001b[0;34m(\u001b[0m\u001b[0mbands\u001b[0m\u001b[0;34m)\u001b[0m \u001b[0;34m==\u001b[0m \u001b[0mtype\u001b[0m\u001b[0;34m(\u001b[0m\u001b[0;34m'all'\u001b[0m\u001b[0;34m)\u001b[0m\u001b[0;34m:\u001b[0m\u001b[0;34m\u001b[0m\u001b[0;34m\u001b[0m\u001b[0m\n\u001b[1;32m     50\u001b[0m         \u001b[0;32mif\u001b[0m \u001b[0mbands\u001b[0m\u001b[0;34m.\u001b[0m\u001b[0mlower\u001b[0m\u001b[0;34m(\u001b[0m\u001b[0;34m)\u001b[0m\u001b[0;34m==\u001b[0m\u001b[0;34m'all'\u001b[0m\u001b[0;34m:\u001b[0m\u001b[0;34m\u001b[0m\u001b[0;34m\u001b[0m\u001b[0m\n\u001b[0;32m---> 51\u001b[0;31m             \u001b[0marray\u001b[0m \u001b[0;34m=\u001b[0m \u001b[0mds\u001b[0m\u001b[0;34m.\u001b[0m\u001b[0mReadAsArray\u001b[0m\u001b[0;34m(\u001b[0m\u001b[0;34m)\u001b[0m\u001b[0;34m\u001b[0m\u001b[0;34m\u001b[0m\u001b[0m\n\u001b[0m\u001b[1;32m     52\u001b[0m             \u001b[0mds\u001b[0m \u001b[0;34m=\u001b[0m \u001b[0mcreateDS\u001b[0m\u001b[0;34m(\u001b[0m\u001b[0mds\u001b[0m\u001b[0;34m)\u001b[0m\u001b[0;34m\u001b[0m\u001b[0;34m\u001b[0m\u001b[0m\n\u001b[1;32m     53\u001b[0m             \u001b[0;32mreturn\u001b[0m\u001b[0;34m(\u001b[0m\u001b[0mds\u001b[0m\u001b[0;34m,\u001b[0m \u001b[0marray\u001b[0m\u001b[0;34m)\u001b[0m\u001b[0;34m\u001b[0m\u001b[0;34m\u001b[0m\u001b[0m\n",
            "\u001b[0;32m/usr/lib/python3/dist-packages/osgeo/gdal.py\u001b[0m in \u001b[0;36mReadAsArray\u001b[0;34m(self, xoff, yoff, xsize, ysize, buf_obj, buf_xsize, buf_ysize, buf_type, resample_alg, callback, callback_data)\u001b[0m\n\u001b[1;32m   2016\u001b[0m                                                \u001b[0mresample_alg\u001b[0m \u001b[0;34m=\u001b[0m \u001b[0mresample_alg\u001b[0m\u001b[0;34m,\u001b[0m\u001b[0;34m\u001b[0m\u001b[0;34m\u001b[0m\u001b[0m\n\u001b[1;32m   2017\u001b[0m                                                \u001b[0mcallback\u001b[0m \u001b[0;34m=\u001b[0m \u001b[0mcallback\u001b[0m\u001b[0;34m,\u001b[0m\u001b[0;34m\u001b[0m\u001b[0;34m\u001b[0m\u001b[0m\n\u001b[0;32m-> 2018\u001b[0;31m                                                callback_data = callback_data )\n\u001b[0m\u001b[1;32m   2019\u001b[0m \u001b[0;34m\u001b[0m\u001b[0m\n\u001b[1;32m   2020\u001b[0m     def WriteRaster(self, xoff, yoff, xsize, ysize,\n",
            "\u001b[0;32m/usr/lib/python3/dist-packages/osgeo/gdal_array.py\u001b[0m in \u001b[0;36mDatasetReadAsArray\u001b[0;34m(ds, xoff, yoff, win_xsize, win_ysize, buf_obj, buf_xsize, buf_ysize, buf_type, resample_alg, callback, callback_data)\u001b[0m\n\u001b[1;32m    305\u001b[0m \u001b[0;34m\u001b[0m\u001b[0m\n\u001b[1;32m    306\u001b[0m     if DatasetIONumPy( ds, 0, xoff, yoff, win_xsize, win_ysize,\n\u001b[0;32m--> 307\u001b[0;31m                        buf_obj, buf_type, resample_alg, callback, callback_data ) != 0:\n\u001b[0m\u001b[1;32m    308\u001b[0m         \u001b[0;32mreturn\u001b[0m \u001b[0;32mNone\u001b[0m\u001b[0;34m\u001b[0m\u001b[0;34m\u001b[0m\u001b[0m\n\u001b[1;32m    309\u001b[0m \u001b[0;34m\u001b[0m\u001b[0m\n",
            "\u001b[0;32m/usr/lib/python3/dist-packages/osgeo/gdal_array.py\u001b[0m in \u001b[0;36mDatasetIONumPy\u001b[0;34m(ds, bWrite, xoff, yoff, xsize, ysize, psArray, buf_type, resample_alg, callback, callback_data)\u001b[0m\n\u001b[1;32m    148\u001b[0m \u001b[0;32mdef\u001b[0m \u001b[0mDatasetIONumPy\u001b[0m\u001b[0;34m(\u001b[0m\u001b[0mds\u001b[0m\u001b[0;34m,\u001b[0m \u001b[0mbWrite\u001b[0m\u001b[0;34m,\u001b[0m \u001b[0mxoff\u001b[0m\u001b[0;34m,\u001b[0m \u001b[0myoff\u001b[0m\u001b[0;34m,\u001b[0m \u001b[0mxsize\u001b[0m\u001b[0;34m,\u001b[0m \u001b[0mysize\u001b[0m\u001b[0;34m,\u001b[0m \u001b[0mpsArray\u001b[0m\u001b[0;34m,\u001b[0m \u001b[0mbuf_type\u001b[0m\u001b[0;34m,\u001b[0m \u001b[0mresample_alg\u001b[0m\u001b[0;34m,\u001b[0m \u001b[0mcallback\u001b[0m\u001b[0;34m=\u001b[0m\u001b[0;36m0\u001b[0m\u001b[0;34m,\u001b[0m \u001b[0mcallback_data\u001b[0m\u001b[0;34m=\u001b[0m\u001b[0;32mNone\u001b[0m\u001b[0;34m)\u001b[0m\u001b[0;34m:\u001b[0m\u001b[0;34m\u001b[0m\u001b[0;34m\u001b[0m\u001b[0m\n\u001b[1;32m    149\u001b[0m     \u001b[0;34m\"\"\"DatasetIONumPy(Dataset ds, int bWrite, int xoff, int yoff, int xsize, int ysize, PyArrayObject * psArray, int buf_type, GDALRIOResampleAlg resample_alg, GDALProgressFunc callback=0, void * callback_data=None) -> CPLErr\"\"\"\u001b[0m\u001b[0;34m\u001b[0m\u001b[0;34m\u001b[0m\u001b[0m\n\u001b[0;32m--> 150\u001b[0;31m     \u001b[0;32mreturn\u001b[0m \u001b[0m_gdal_array\u001b[0m\u001b[0;34m.\u001b[0m\u001b[0mDatasetIONumPy\u001b[0m\u001b[0;34m(\u001b[0m\u001b[0mds\u001b[0m\u001b[0;34m,\u001b[0m \u001b[0mbWrite\u001b[0m\u001b[0;34m,\u001b[0m \u001b[0mxoff\u001b[0m\u001b[0;34m,\u001b[0m \u001b[0myoff\u001b[0m\u001b[0;34m,\u001b[0m \u001b[0mxsize\u001b[0m\u001b[0;34m,\u001b[0m \u001b[0mysize\u001b[0m\u001b[0;34m,\u001b[0m \u001b[0mpsArray\u001b[0m\u001b[0;34m,\u001b[0m \u001b[0mbuf_type\u001b[0m\u001b[0;34m,\u001b[0m \u001b[0mresample_alg\u001b[0m\u001b[0;34m,\u001b[0m \u001b[0mcallback\u001b[0m\u001b[0;34m,\u001b[0m \u001b[0mcallback_data\u001b[0m\u001b[0;34m)\u001b[0m\u001b[0;34m\u001b[0m\u001b[0;34m\u001b[0m\u001b[0m\n\u001b[0m\u001b[1;32m    151\u001b[0m \u001b[0;34m\u001b[0m\u001b[0m\n\u001b[1;32m    152\u001b[0m \u001b[0;32mdef\u001b[0m \u001b[0mVirtualMemGetArray\u001b[0m\u001b[0;34m(\u001b[0m\u001b[0mvirtualmem\u001b[0m\u001b[0;34m)\u001b[0m\u001b[0;34m:\u001b[0m\u001b[0;34m\u001b[0m\u001b[0;34m\u001b[0m\u001b[0m\n",
            "\u001b[0;31mKeyboardInterrupt\u001b[0m: "
          ]
        }
      ]
    },
    {
      "cell_type": "code",
      "metadata": {
        "id": "DUKfMJg_kOeT",
        "colab_type": "code",
        "colab": {}
      },
      "source": [
        ""
      ],
      "execution_count": 0,
      "outputs": []
    }
  ]
}