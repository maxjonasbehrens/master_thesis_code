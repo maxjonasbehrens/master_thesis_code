{
  "nbformat": 4,
  "nbformat_minor": 0,
  "metadata": {
    "colab": {
      "name": "ee_import.ipynb",
      "provenance": [],
      "collapsed_sections": [],
      "toc_visible": true,
      "machine_shape": "hm"
    },
    "kernelspec": {
      "name": "python3",
      "display_name": "Python 3"
    },
    "accelerator": "GPU"
  },
  "cells": [
    {
      "cell_type": "markdown",
      "metadata": {
        "colab_type": "text",
        "id": "jcCwLDmWkrHi"
      },
      "source": [
        "## PreProcess Images and feed into CNN"
      ]
    },
    {
      "cell_type": "code",
      "metadata": {
        "colab_type": "code",
        "id": "KnRwnXgRkXTH",
        "outputId": "aa5d6452-7b32-4c1e-834e-c50cb85d5d08",
        "colab": {
          "base_uri": "https://localhost:8080/",
          "height": 34
        }
      },
      "source": [
        "# Mount Google Drice\n",
        "from google.colab import drive\n",
        "drive.mount('/gdrive')"
      ],
      "execution_count": 36,
      "outputs": [
        {
          "output_type": "stream",
          "text": [
            "Drive already mounted at /gdrive; to attempt to forcibly remount, call drive.mount(\"/gdrive\", force_remount=True).\n"
          ],
          "name": "stdout"
        }
      ]
    },
    {
      "cell_type": "code",
      "metadata": {
        "colab_type": "code",
        "id": "1Lfk-ya7Ux0k",
        "outputId": "82d974b2-fddc-4339-a5b0-7ada5ee6cbbb",
        "colab": {
          "base_uri": "https://localhost:8080/",
          "height": 87
        }
      },
      "source": [
        "!pip install pyrsgis"
      ],
      "execution_count": 0,
      "outputs": [
        {
          "output_type": "stream",
          "text": [
            "Collecting pyrsgis\n",
            "  Downloading https://files.pythonhosted.org/packages/35/ab/7fcabaa7a75977e79fa535d781f2be92cd71331e9b21457b836442f3a475/pyrsgis-0.2.6-py3-none-any.whl\n",
            "Installing collected packages: pyrsgis\n",
            "Successfully installed pyrsgis-0.2.6\n"
          ],
          "name": "stdout"
        }
      ]
    },
    {
      "cell_type": "code",
      "metadata": {
        "id": "eA5AhCi0KFdG",
        "colab_type": "code",
        "outputId": "27f96aa4-15a3-4e74-fe17-ffa219e08d6d",
        "colab": {
          "base_uri": "https://localhost:8080/",
          "height": 141
        }
      },
      "source": [
        "!git clone https://github.com/maxjonasbehrens/master_thesis_code\n",
        "#%cd /content/master_thesis_code\n",
        "#!git pull"
      ],
      "execution_count": 0,
      "outputs": [
        {
          "output_type": "stream",
          "text": [
            "Cloning into 'master_thesis_code'...\n",
            "remote: Enumerating objects: 246, done.\u001b[K\n",
            "remote: Counting objects:   0% (1/246)\u001b[K\rremote: Counting objects:   1% (3/246)\u001b[K\rremote: Counting objects:   2% (5/246)\u001b[K\rremote: Counting objects:   3% (8/246)\u001b[K\rremote: Counting objects:   4% (10/246)\u001b[K\rremote: Counting objects:   5% (13/246)\u001b[K\rremote: Counting objects:   6% (15/246)\u001b[K\rremote: Counting objects:   7% (18/246)\u001b[K\rremote: Counting objects:   8% (20/246)\u001b[K\rremote: Counting objects:   9% (23/246)\u001b[K\rremote: Counting objects:  10% (25/246)\u001b[K\rremote: Counting objects:  11% (28/246)\u001b[K\rremote: Counting objects:  12% (30/246)\u001b[K\rremote: Counting objects:  13% (32/246)\u001b[K\rremote: Counting objects:  14% (35/246)\u001b[K\rremote: Counting objects:  15% (37/246)\u001b[K\rremote: Counting objects:  16% (40/246)\u001b[K\rremote: Counting objects:  17% (42/246)\u001b[K\rremote: Counting objects:  18% (45/246)\u001b[K\rremote: Counting objects:  19% (47/246)\u001b[K\rremote: Counting objects:  20% (50/246)\u001b[K\rremote: Counting objects:  21% (52/246)\u001b[K\rremote: Counting objects:  22% (55/246)\u001b[K\rremote: Counting objects:  23% (57/246)\u001b[K\rremote: Counting objects:  24% (60/246)\u001b[K\rremote: Counting objects:  25% (62/246)\u001b[K\rremote: Counting objects:  26% (64/246)\u001b[K\rremote: Counting objects:  27% (67/246)\u001b[K\rremote: Counting objects:  28% (69/246)\u001b[K\rremote: Counting objects:  29% (72/246)\u001b[K\rremote: Counting objects:  30% (74/246)\u001b[K\rremote: Counting objects:  31% (77/246)\u001b[K\rremote: Counting objects:  32% (79/246)\u001b[K\rremote: Counting objects:  33% (82/246)\u001b[K\rremote: Counting objects:  34% (84/246)\u001b[K\rremote: Counting objects:  35% (87/246)\u001b[K\rremote: Counting objects:  36% (89/246)\u001b[K\rremote: Counting objects:  37% (92/246)\u001b[K\rremote: Counting objects:  38% (94/246)\u001b[K\rremote: Counting objects:  39% (96/246)\u001b[K\rremote: Counting objects:  40% (99/246)\u001b[K\rremote: Counting objects:  41% (101/246)\rremote: Counting objects:  42% (104/246)\u001b[K\rremote: Counting objects:  43% (106/246)\u001b[K\rremote: Counting objects:  44% (109/246)\u001b[K\rremote: Counting objects:  45% (111/246)\u001b[K\rremote: Counting objects:  46% (114/246)\u001b[K\rremote: Counting objects:  47% (116/246)\u001b[K\rremote: Counting objects:  48% (119/246)\u001b[K\rremote: Counting objects:  49% (121/246)\u001b[K\rremote: Counting objects:  50% (123/246)\u001b[K\rremote: Counting objects:  51% (126/246)\u001b[K\rremote: Counting objects:  52% (128/246)\u001b[K\rremote: Counting objects:  53% (131/246)\u001b[K\rremote: Counting objects:  54% (133/246)\u001b[K\rremote: Counting objects:  55% (136/246)\u001b[K\rremote: Counting objects:  56% (138/246)\u001b[K\rremote: Counting objects:  57% (141/246)\u001b[K\rremote: Counting objects:  58% (143/246)\u001b[K\rremote: Counting objects:  59% (146/246)\u001b[K\rremote: Counting objects:  60% (148/246)\u001b[K\rremote: Counting objects:  61% (151/246)\u001b[K\rremote: Counting objects:  62% (153/246)\u001b[K\rremote: Counting objects:  63% (155/246)\u001b[K\rremote: Counting objects:  64% (158/246)\u001b[K\rremote: Counting objects:  65% (160/246)\u001b[K\rremote: Counting objects:  66% (163/246)\u001b[K\rremote: Counting objects:  67% (165/246)\u001b[K\rremote: Counting objects:  68% (168/246)\u001b[K\rremote: Counting objects:  69% (170/246)\u001b[K\rremote: Counting objects:  70% (173/246)\u001b[K\rremote: Counting objects:  71% (175/246)\u001b[K\rremote: Counting objects:  72% (178/246)\u001b[K\rremote: Counting objects:  73% (180/246)\u001b[K\rremote: Counting objects:  74% (183/246)\u001b[K\rremote: Counting objects:  75% (185/246)\u001b[K\rremote: Counting objects:  76% (187/246)\u001b[K\rremote: Counting objects:  77% (190/246)\u001b[K\rremote: Counting objects:  78% (192/246)\u001b[K\rremote: Counting objects:  79% (195/246)\u001b[K\rremote: Counting objects:  80% (197/246)\u001b[K\rremote: Counting objects:  81% (200/246)\u001b[K\rremote: Counting objects:  82% (202/246)\u001b[K\rremote: Counting objects:  83% (205/246)\u001b[K\rremote: Counting objects:  84% (207/246)\u001b[K\rremote: Counting objects:  85% (210/246)\u001b[K\rremote: Counting objects:  86% (212/246)\u001b[K\rremote: Counting objects:  87% (215/246)\u001b[K\rremote: Counting objects:  88% (217/246)\u001b[K\rremote: Counting objects:  89% (219/246)\u001b[K\rremote: Counting objects:  90% (222/246)\u001b[K\rremote: Counting objects:  91% (224/246)\u001b[K\rremote: Counting objects:  92% (227/246)\u001b[K\rremote: Counting objects:  93% (229/246)\u001b[K\rremote: Counting objects:  94% (232/246)\u001b[K\rremote: Counting objects:  95% (234/246)\u001b[K\rremote: Counting objects:  96% (237/246)\u001b[K\rremote: Counting objects:  97% (239/246)\u001b[K\rremote: Counting objects:  98% (242/246)\u001b[K\rremote: Counting objects:  99% (244/246)\u001b[K\rremote: Counting objects: 100% (246/246)\u001b[K\rremote: Counting objects: 100% (246/246), done.\u001b[K\n",
            "remote: Compressing objects: 100% (166/166), done.\u001b[K\n",
            "remote: Total 246 (delta 126), reused 178 (delta 78), pack-reused 0\u001b[K\n",
            "Receiving objects: 100% (246/246), 559.54 KiB | 817.00 KiB/s, done.\n",
            "Resolving deltas: 100% (126/126), done.\n"
          ],
          "name": "stdout"
        }
      ]
    },
    {
      "cell_type": "code",
      "metadata": {
        "id": "MbcpkAIYKSkw",
        "colab_type": "code",
        "colab": {}
      },
      "source": [
        "%load /content/master_thesis_code/NeuralNetTrain/imgProcessing/sat_images.py"
      ],
      "execution_count": 0,
      "outputs": []
    },
    {
      "cell_type": "code",
      "metadata": {
        "colab_type": "code",
        "id": "CwZd9v4Ukxt6",
        "colab": {}
      },
      "source": [
        "import tensorflow as tf\n",
        "import numpy as np\n",
        "import pandas as pd\n",
        "from tensorflow import keras\n",
        "import pyrsgis\n",
        "import cv2\n",
        "from skimage.transform import resize\n",
        "from PIL import Image\n",
        "%matplotlib inline \n",
        "from matplotlib import pyplot as plt\n",
        "from os import listdir\n",
        "from os.path import isfile, join\n",
        "import scipy.io\n",
        "import sklearn.model_selection"
      ],
      "execution_count": 0,
      "outputs": []
    },
    {
      "cell_type": "code",
      "metadata": {
        "id": "yoaE3NmFOOAD",
        "colab_type": "code",
        "colab": {}
      },
      "source": [
        "# Import own module to preprocess images\n",
        "import imp\n",
        "sat_images = imp.new_module('sat_images')\n",
        "exec(open(\"/content/master_thesis_code/NeuralNetTrain/imgProcessing/sat_images.py\").read(), sat_images.__dict__)"
      ],
      "execution_count": 0,
      "outputs": []
    },
    {
      "cell_type": "markdown",
      "metadata": {
        "colab_type": "text",
        "id": "V8Lm_M34332n"
      },
      "source": [
        "## Test for one image"
      ]
    },
    {
      "cell_type": "code",
      "metadata": {
        "colab_type": "code",
        "id": "VLRyltYwk3HL",
        "colab": {}
      },
      "source": [
        "# Download test image from drive\n",
        "img_path = \"/gdrive/My Drive/nuts_night/BE34_2013.tif\"\n",
        "\n",
        "ds1, img = pyrsgis.raster.read(img_path)"
      ],
      "execution_count": 0,
      "outputs": []
    },
    {
      "cell_type": "code",
      "metadata": {
        "colab_type": "code",
        "id": "vGEELO3uujS5",
        "outputId": "d20ee6c4-ee25-4494-9a2e-53fc1388a53e",
        "colab": {
          "base_uri": "https://localhost:8080/",
          "height": 34
        }
      },
      "source": [
        "# Print its shape\n",
        "print(\"Image shape: \",img.shape)"
      ],
      "execution_count": 0,
      "outputs": [
        {
          "output_type": "stream",
          "text": [
            "Image shape:  (1299, 1482)\n"
          ],
          "name": "stdout"
        }
      ]
    },
    {
      "cell_type": "code",
      "metadata": {
        "colab_type": "code",
        "id": "KAh7NFewVrKe",
        "colab": {}
      },
      "source": [
        "# Resize original image to compatible size\n",
        "orig_img = np.swapaxes(img,0,-1)\n",
        "orig_resized = resize(orig_img, (256,256))"
      ],
      "execution_count": 0,
      "outputs": []
    },
    {
      "cell_type": "code",
      "metadata": {
        "colab_type": "code",
        "id": "lzov3rpeckrN",
        "outputId": "8f1d92a7-3feb-44d3-a9a6-31ecf4f03549",
        "colab": {
          "base_uri": "https://localhost:8080/",
          "height": 268
        }
      },
      "source": [
        "# Show the original image\n",
        "plt.imshow(orig_resized, interpolation='nearest')\n",
        "plt.show()"
      ],
      "execution_count": 0,
      "outputs": [
        {
          "output_type": "display_data",
          "data": {
            "image/png": "[encoded data removed]",
            "text/plain": [
              "<Figure size 432x288 with 1 Axes>"
            ]
          },
          "metadata": {
            "tags": []
          }
        }
      ]
    },
    {
      "cell_type": "code",
      "metadata": {
        "colab_type": "code",
        "id": "1NURzseNL_yH",
        "outputId": "62b619ee-969e-4724-e1ff-fae57eac8232",
        "colab": {
          "base_uri": "https://localhost:8080/",
          "height": 197
        }
      },
      "source": [
        "# Check the data frame\n",
        "y_dat = pd.read_csv(\"/gdrive/My Drive/ThesisData/Data/enhanced_gdp_data.csv\")\n",
        "y_dat.head()"
      ],
      "execution_count": 0,
      "outputs": [
        {
          "output_type": "execute_result",
          "data": {
            "text/html": [
              "<div>\n",
              "<style scoped>\n",
              "    .dataframe tbody tr th:only-of-type {\n",
              "        vertical-align: middle;\n",
              "    }\n",
              "\n",
              "    .dataframe tbody tr th {\n",
              "        vertical-align: top;\n",
              "    }\n",
              "\n",
              "    .dataframe thead th {\n",
              "        text-align: right;\n",
              "    }\n",
              "</style>\n",
              "<table border=\"1\" class=\"dataframe\">\n",
              "  <thead>\n",
              "    <tr style=\"text-align: right;\">\n",
              "      <th></th>\n",
              "      <th>nuts2</th>\n",
              "      <th>year</th>\n",
              "      <th>nuts_value</th>\n",
              "      <th>code</th>\n",
              "      <th>country</th>\n",
              "      <th>country_value</th>\n",
              "      <th>mean_value</th>\n",
              "      <th>diff_value</th>\n",
              "    </tr>\n",
              "  </thead>\n",
              "  <tbody>\n",
              "    <tr>\n",
              "      <th>0</th>\n",
              "      <td>BE10</td>\n",
              "      <td>2008</td>\n",
              "      <td>61100.0</td>\n",
              "      <td>BE</td>\n",
              "      <td>Belgium</td>\n",
              "      <td>33100.0</td>\n",
              "      <td>31881.818182</td>\n",
              "      <td>28000.0</td>\n",
              "    </tr>\n",
              "    <tr>\n",
              "      <th>1</th>\n",
              "      <td>BE21</td>\n",
              "      <td>2008</td>\n",
              "      <td>39200.0</td>\n",
              "      <td>BE</td>\n",
              "      <td>Belgium</td>\n",
              "      <td>33100.0</td>\n",
              "      <td>31881.818182</td>\n",
              "      <td>6100.0</td>\n",
              "    </tr>\n",
              "    <tr>\n",
              "      <th>2</th>\n",
              "      <td>BE22</td>\n",
              "      <td>2008</td>\n",
              "      <td>27500.0</td>\n",
              "      <td>BE</td>\n",
              "      <td>Belgium</td>\n",
              "      <td>33100.0</td>\n",
              "      <td>31881.818182</td>\n",
              "      <td>-5600.0</td>\n",
              "    </tr>\n",
              "    <tr>\n",
              "      <th>3</th>\n",
              "      <td>BE23</td>\n",
              "      <td>2008</td>\n",
              "      <td>29400.0</td>\n",
              "      <td>BE</td>\n",
              "      <td>Belgium</td>\n",
              "      <td>33100.0</td>\n",
              "      <td>31881.818182</td>\n",
              "      <td>-3700.0</td>\n",
              "    </tr>\n",
              "    <tr>\n",
              "      <th>4</th>\n",
              "      <td>BE24</td>\n",
              "      <td>2008</td>\n",
              "      <td>34500.0</td>\n",
              "      <td>BE</td>\n",
              "      <td>Belgium</td>\n",
              "      <td>33100.0</td>\n",
              "      <td>31881.818182</td>\n",
              "      <td>1400.0</td>\n",
              "    </tr>\n",
              "  </tbody>\n",
              "</table>\n",
              "</div>"
            ],
            "text/plain": [
              "  nuts2  year  nuts_value  ... country_value    mean_value  diff_value\n",
              "0  BE10  2008     61100.0  ...       33100.0  31881.818182     28000.0\n",
              "1  BE21  2008     39200.0  ...       33100.0  31881.818182      6100.0\n",
              "2  BE22  2008     27500.0  ...       33100.0  31881.818182     -5600.0\n",
              "3  BE23  2008     29400.0  ...       33100.0  31881.818182     -3700.0\n",
              "4  BE24  2008     34500.0  ...       33100.0  31881.818182      1400.0\n",
              "\n",
              "[5 rows x 8 columns]"
            ]
          },
          "metadata": {
            "tags": []
          },
          "execution_count": 7
        }
      ]
    },
    {
      "cell_type": "code",
      "metadata": {
        "id": "HYE5RQr87GXH",
        "colab_type": "code",
        "outputId": "efcd067c-1e0f-4eee-fc0b-93e518d3c9dd",
        "colab": {
          "base_uri": "https://localhost:8080/",
          "height": 34
        }
      },
      "source": [
        "mae_diff = np.mean(abs(y_dat['diff_value']-y_dat['diff_value'].mean()))\n",
        "print(mae_diff)"
      ],
      "execution_count": 0,
      "outputs": [
        {
          "output_type": "stream",
          "text": [
            "5478.004371660496\n"
          ],
          "name": "stdout"
        }
      ]
    },
    {
      "cell_type": "code",
      "metadata": {
        "colab_type": "code",
        "id": "Ogm4ndTFkrib",
        "colab": {}
      },
      "source": [
        "# List of all files in directory\n",
        "mypath = \"/gdrive/My Drive/nuts_night/\"\n",
        "onlyfiles = [f for f in listdir(mypath) if isfile(join(mypath, f))]"
      ],
      "execution_count": 0,
      "outputs": []
    },
    {
      "cell_type": "code",
      "metadata": {
        "colab_type": "code",
        "id": "LHq0y4SCsQFp",
        "outputId": "e9a0ea66-ee35-4256-8fa2-e3e6d35f4f54",
        "colab": {
          "base_uri": "https://localhost:8080/",
          "height": 1000
        }
      },
      "source": [
        "# PreProcess images with certain resolution\n",
        "res = 512\n",
        "x,y,label = sat_images.create_data(onlyfiles,mypath,y_dat,prediction='diff_value',resolution=res,night=True)"
      ],
      "execution_count": 0,
      "outputs": [
        {
          "output_type": "stream",
          "text": [
            "Image processed:  0  of  692\n",
            "Image processed:  10  of  692\n",
            "Image processed:  30  of  692\n",
            "Image processed:  40  of  692\n",
            "Image processed:  50  of  692\n",
            "Image processed:  60  of  692\n",
            "Image processed:  70  of  692\n",
            "Image processed:  80  of  692\n",
            "Image processed:  90  of  692\n",
            "Image processed:  100  of  692\n",
            "Image processed:  110  of  692\n",
            "Image processed:  120  of  692\n",
            "Image processed:  130  of  692\n",
            "Image processed:  140  of  692\n",
            "Image processed:  150  of  692\n",
            "Image processed:  160  of  692\n",
            "Image processed:  170  of  692\n",
            "Image processed:  180  of  692\n",
            "Image processed:  190  of  692\n",
            "Image processed:  200  of  692\n",
            "Image processed:  210  of  692\n",
            "Image processed:  220  of  692\n",
            "Image processed:  230  of  692\n",
            "Image processed:  240  of  692\n",
            "Image processed:  250  of  692\n",
            "Image processed:  260  of  692\n",
            "Image processed:  270  of  692\n",
            "Image processed:  280  of  692\n",
            "Image processed:  290  of  692\n",
            "Image processed:  300  of  692\n",
            "Image processed:  310  of  692\n",
            "Image processed:  320  of  692\n",
            "Image processed:  330  of  692\n",
            "Image processed:  340  of  692\n",
            "Image processed:  350  of  692\n",
            "Image processed:  360  of  692\n",
            "Image processed:  370  of  692\n",
            "Image processed:  380  of  692\n",
            "Image processed:  390  of  692\n",
            "Image processed:  400  of  692\n",
            "Image processed:  410  of  692\n",
            "Image processed:  420  of  692\n",
            "Image processed:  430  of  692\n",
            "Image processed:  440  of  692\n",
            "Image processed:  450  of  692\n",
            "Image processed:  460  of  692\n",
            "Image processed:  470  of  692\n",
            "Image processed:  480  of  692\n",
            "Image processed:  490  of  692\n",
            "Image processed:  500  of  692\n",
            "Image processed:  510  of  692\n",
            "Image processed:  520  of  692\n",
            "Image processed:  530  of  692\n",
            "Image processed:  540  of  692\n",
            "Image processed:  550  of  692\n",
            "Image processed:  560  of  692\n",
            "Image processed:  570  of  692\n",
            "Image processed:  580  of  692\n",
            "Image processed:  590  of  692\n",
            "Image processed:  600  of  692\n",
            "Image processed:  610  of  692\n",
            "Image processed:  620  of  692\n",
            "Image processed:  630  of  692\n",
            "Image processed:  640  of  692\n",
            "Image processed:  650  of  692\n",
            "Image processed:  660  of  692\n",
            "Image processed:  670  of  692\n",
            "Image processed:  680  of  692\n",
            "Image processed:  690  of  692\n"
          ],
          "name": "stdout"
        }
      ]
    },
    {
      "cell_type": "code",
      "metadata": {
        "id": "efIlhYNkwutL",
        "colab_type": "code",
        "colab": {}
      },
      "source": [
        "# Save ndarray to reproduce\n",
        "scipy.io.savemat(\"/gdrive/My Drive/ThesisData/Data/data_night_orig_512.mat\", mdict={'x': x}, oned_as='row')"
      ],
      "execution_count": 0,
      "outputs": []
    },
    {
      "cell_type": "code",
      "metadata": {
        "colab_type": "code",
        "id": "OgjMrcIH5H5o",
        "colab": {}
      },
      "source": [
        "# Load input from scratch\n",
        "#x = np.vstack((scipy.io.loadmat(\"/gdrive/My Drive/ThesisData/Data/data_day_orig_512_1.mat\")['x'],scipy.io.loadmat(\"/gdrive/My Drive/ThesisData/Data/data_day_orig_512_2.mat\")['x']))\n",
        "x = scipy.io.loadmat(\"/gdrive/My Drive/ThesisData/Data/data_night_orig_512.mat\")['x']\n",
        "y, label = sat_images.create_y_label(onlyfiles,mypath,y_dat,prediction='nuts_value')"
      ],
      "execution_count": 0,
      "outputs": []
    },
    {
      "cell_type": "code",
      "metadata": {
        "colab_type": "code",
        "id": "4si-J7h9JBa7",
        "outputId": "6da0eead-3414-4221-f35a-fd1659b816a3",
        "colab": {
          "base_uri": "https://localhost:8080/",
          "height": 70
        }
      },
      "source": [
        "# Print shape of images\n",
        "print('Shape of x: ',len(x))\n",
        "print('Shape of y: ',len(y))\n",
        "print('Shape of labels: ', len(label))"
      ],
      "execution_count": 0,
      "outputs": [
        {
          "output_type": "stream",
          "text": [
            "Shape of x:  692\n",
            "Shape of y:  692\n",
            "Shape of labels:  692\n"
          ],
          "name": "stdout"
        }
      ]
    },
    {
      "cell_type": "markdown",
      "metadata": {
        "colab_type": "text",
        "id": "ypHbpM5ZAKmb"
      },
      "source": [
        "## Create Train and Test Sets"
      ]
    },
    {
      "cell_type": "code",
      "metadata": {
        "colab_type": "code",
        "id": "sTyG9Ew6mgrH",
        "outputId": "44a827a3-4cc6-4e5b-a5ac-bc99773860e8",
        "colab": {
          "base_uri": "https://localhost:8080/",
          "height": 34
        }
      },
      "source": [
        "# Create list of unique regions\n",
        "regions = []\n",
        "for i in range(len(label)):\n",
        "  regions.append(label[i].rsplit('_',1)[0])\n",
        "\n",
        "regions = np.unique(regions)\n",
        "print(len(regions))"
      ],
      "execution_count": 0,
      "outputs": [
        {
          "output_type": "stream",
          "text": [
            "117\n"
          ],
          "name": "stdout"
        }
      ]
    },
    {
      "cell_type": "code",
      "metadata": {
        "colab_type": "code",
        "id": "pBDk2TjtqEmw",
        "outputId": "23158390-9cce-4058-9463-3a0dbbb57783",
        "colab": {
          "base_uri": "https://localhost:8080/",
          "height": 70
        }
      },
      "source": [
        "# Split regions into train and test set\n",
        "msk_test = np.random.rand(len(regions)) < 0.2\n",
        "\n",
        "train_split = regions[~msk_test]\n",
        "test_split = regions[msk_test]\n",
        "\n",
        "msk_val = np.random.rand(len(train_split)) < 0.25\n",
        "\n",
        "val_split = train_split[msk_val]\n",
        "train_split = train_split[~msk_val]\n",
        "print(len(train_split))\n",
        "print(len(val_split))\n",
        "print(len(test_split))"
      ],
      "execution_count": 0,
      "outputs": [
        {
          "output_type": "stream",
          "text": [
            "77\n",
            "17\n",
            "23\n"
          ],
          "name": "stdout"
        }
      ]
    },
    {
      "cell_type": "code",
      "metadata": {
        "colab_type": "code",
        "id": "a8-L2N-XrKN3",
        "outputId": "e4903a62-7c75-47c8-b81b-35ecd01cf23b",
        "colab": {
          "base_uri": "https://localhost:8080/",
          "height": 87
        }
      },
      "source": [
        "# Split whole data set into test and train based on split regions\n",
        "import math\n",
        "label_train = []\n",
        "label_val = []\n",
        "label_test = []\n",
        "x_train = []\n",
        "y_train = []\n",
        "x_val = []\n",
        "y_val = []\n",
        "x_test = []\n",
        "y_test = []\n",
        "\n",
        "# Split into train and test based on previous region split\n",
        "for i in range(len(label)):\n",
        "  if label[i].rsplit('_',1)[0] in train_split:\n",
        "    if math.isnan(y[i]):\n",
        "      pass\n",
        "    else:\n",
        "      label_train.append(label[i])\n",
        "      x_train.append(x[i])\n",
        "      y_train.append(int(y[i]))\n",
        "  elif label[i].rsplit('_',1)[0] in val_split:\n",
        "    if math.isnan(y[i]):\n",
        "      pass\n",
        "    else:\n",
        "      label_val.append(label[i])\n",
        "      x_val.append(x[i])\n",
        "      y_val.append(int(y[i]))\n",
        "  else:\n",
        "    if math.isnan(y[i]):\n",
        "      pass\n",
        "    else:\n",
        "      label_test.append(label[i])\n",
        "      x_test.append(x[i])\n",
        "      y_test.append(int(y[i]))\n",
        "\n",
        "# Transform into numpy array\n",
        "label_train = np.array(label_train)\n",
        "label_test = np.array(label_test)\n",
        "label_val = np.array(label_val)\n",
        "x_train = np.array(x_train)\n",
        "x_test = np.array(x_test)\n",
        "x_val = np.array(x_val)\n",
        "y_train = np.array(y_train)\n",
        "y_test = np.array(y_test)  \n",
        "y_val = np.array(y_val)\n",
        "\n",
        "# Print Shape\n",
        "print(x_train.shape)\n",
        "print(x_test.shape)\n",
        "print(y_test.shape)\n",
        "print(x_val.shape)"
      ],
      "execution_count": 47,
      "outputs": [
        {
          "output_type": "stream",
          "text": [
            "(452, 512, 512)\n",
            "(138, 512, 512)\n",
            "(138,)\n",
            "(102, 512, 512)\n"
          ],
          "name": "stdout"
        }
      ]
    },
    {
      "cell_type": "code",
      "metadata": {
        "colab_type": "code",
        "id": "aKRDGusTeNXU",
        "outputId": "9bf6c27a-174e-46f4-d349-ed4117199270",
        "colab": {
          "base_uri": "https://localhost:8080/",
          "height": 70
        }
      },
      "source": [
        "# Only execute when using night images, since they are 1d\n",
        "x_train = np.array([x_train])\n",
        "x_train = np.moveaxis(x_train,0,-1)\n",
        "print(x_train.shape)\n",
        "x_val = np.array([x_val])\n",
        "x_val = np.moveaxis(x_val,0,-1)\n",
        "print(x_val.shape)\n",
        "x_test = np.array([x_test])\n",
        "x_test = np.moveaxis(x_test,0,-1)\n",
        "print(x_test.shape)"
      ],
      "execution_count": 48,
      "outputs": [
        {
          "output_type": "stream",
          "text": [
            "(452, 512, 512, 1)\n",
            "(102, 512, 512, 1)\n",
            "(138, 512, 512, 1)\n"
          ],
          "name": "stdout"
        }
      ]
    },
    {
      "cell_type": "code",
      "metadata": {
        "id": "kpGLI20HvjIj",
        "colab_type": "code",
        "colab": {
          "base_uri": "https://localhost:8080/",
          "height": 34
        },
        "outputId": "b0222215-fe3a-47d8-c740-bf282f7bae8a"
      },
      "source": [
        "# Normalise the data\n",
        "x_train = (x_train/np.max(x_train))\n",
        "x_test = (x_test/np.max(x_test))\n",
        "x_val = (x_val/np.max(x_val))\n",
        "print(np.max(x_train))"
      ],
      "execution_count": 49,
      "outputs": [
        {
          "output_type": "stream",
          "text": [
            "1.0\n"
          ],
          "name": "stdout"
        }
      ]
    },
    {
      "cell_type": "code",
      "metadata": {
        "colab_type": "code",
        "id": "blVC16VGw4af",
        "colab": {}
      },
      "source": [
        "# Deep Model\n",
        "model = tf.keras.Sequential()\n",
        "\n",
        "model.add(tf.keras.layers.Conv2D(32, 3, padding='same', input_shape=(512,512,1), activation='relu'))\n",
        "model.add(tf.keras.layers.Conv2D(32, 3, padding='same', activation='relu'))\n",
        "model.add(tf.keras.layers.BatchNormalization())\n",
        "model.add(tf.keras.layers.MaxPooling2D(pool_size = (2,2)))\n",
        "\n",
        "model.add(tf.keras.layers.Conv2D(64, 3, padding='same', activation='relu'))\n",
        "model.add(tf.keras.layers.Conv2D(64, 3, padding='same', activation='relu'))\n",
        "model.add(tf.keras.layers.BatchNormalization())\n",
        "model.add(tf.keras.layers.MaxPooling2D(pool_size = (2,2)))\n",
        "\n",
        "model.add(tf.keras.layers.Conv2D(128, 3, padding='same', activation='relu'))\n",
        "model.add(tf.keras.layers.Conv2D(128, 3, padding='same', activation='relu'))\n",
        "model.add(tf.keras.layers.BatchNormalization())\n",
        "model.add(tf.keras.layers.MaxPooling2D(pool_size = (2,2)))\n",
        "\n",
        "#model.add(tf.keras.layers.Conv2D(256, 3, padding='same', activation='relu'))\n",
        "#model.add(tf.keras.layers.Conv2D(256, 3, padding='same', activation='relu'))\n",
        "#model.add(tf.keras.layers.BatchNormalization())\n",
        "#model.add(tf.keras.layers.MaxPooling2D(pool_size = (2,2)))\n",
        "\n",
        "#model.add(tf.keras.layers.Conv2D(512, 3, padding='same', activation='relu'))\n",
        "#model.add(tf.keras.layers.Conv2D(512, 3, padding='same', activation='relu'))\n",
        "#model.add(tf.keras.layers.BatchNormalization())\n",
        "#model.add(tf.keras.layers.MaxPooling2D(pool_size = (2,2)))\n",
        "\n",
        "model.add(tf.keras.layers.Flatten())\n",
        "model.add(tf.keras.layers.Dense(128, activation='relu', activity_regularizer=tf.keras.regularizers.l1(0.0001)))\n",
        "model.add(tf.keras.layers.Dropout(0.5))\n",
        "\n",
        "model.add(tf.keras.layers.Dense(128, activation='relu', activity_regularizer=tf.keras.regularizers.l1(0.0001)))\n",
        "model.add(tf.keras.layers.Dropout(0.5))\n",
        "model.add(tf.keras.layers.Dense(units=1, activation = 'linear'))"
      ],
      "execution_count": 0,
      "outputs": []
    },
    {
      "cell_type": "code",
      "metadata": {
        "colab_type": "code",
        "id": "GXlz_HWWCQuT",
        "outputId": "1472b5f6-29eb-4d48-94f2-2cb8ea95c70d",
        "colab": {
          "base_uri": "https://localhost:8080/",
          "height": 90
        }
      },
      "source": [
        "# Transfer Learning\n",
        "base_model = tf.keras.applications.MobileNet(input_shape=(512,512,3),include_top=False)\n",
        "x=base_model.output\n",
        "x=tf.keras.layers.GlobalAveragePooling2D()(x)\n",
        "x=tf.keras.layers.Dense(1024,activation='relu')(x) #we add dense layers so that the model can learn more complex functions and classify for better results.\n",
        "x=tf.keras.layers.Dense(1024,activation='relu')(x) #dense layer 2\n",
        "x=tf.keras.layers.Dense(512,activation='relu')(x) #dense layer 3\n",
        "preds=tf.keras.layers.Dense(units=1, activation = 'linear')(x)\n",
        "model=tf.keras.models.Model(inputs=base_model.input,outputs=preds)"
      ],
      "execution_count": 0,
      "outputs": [
        {
          "output_type": "stream",
          "text": [
            "WARNING:tensorflow:From /usr/local/lib/python3.6/dist-packages/tensorflow_core/python/ops/resource_variable_ops.py:1630: calling BaseResourceVariable.__init__ (from tensorflow.python.ops.resource_variable_ops) with constraint is deprecated and will be removed in a future version.\n",
            "Instructions for updating:\n",
            "If using Keras pass *_constraint arguments to layers.\n"
          ],
          "name": "stdout"
        }
      ]
    },
    {
      "cell_type": "code",
      "metadata": {
        "colab_type": "code",
        "id": "3hhLQUBa0NiP",
        "colab": {}
      },
      "source": [
        "model.compile(loss='mean_squared_error', optimizer='adam', metrics=['mse','mae'])"
      ],
      "execution_count": 0,
      "outputs": []
    },
    {
      "cell_type": "code",
      "metadata": {
        "colab_type": "code",
        "id": "4ihqmhUq0nES",
        "colab": {}
      },
      "source": [
        "# Data Augmentation\n",
        "training_data_generator = tf.keras.preprocessing.image.ImageDataGenerator()\n",
        "validation_data_generator = tf.keras.preprocessing.image.ImageDataGenerator()\n",
        "test_data_generator = tf.keras.preprocessing.image.ImageDataGenerator()"
      ],
      "execution_count": 0,
      "outputs": []
    },
    {
      "cell_type": "code",
      "metadata": {
        "colab_type": "code",
        "id": "yH4IdyFm0u0B",
        "colab": {}
      },
      "source": [
        "# Data Preparation\n",
        "batch_size = 10\n",
        "\n",
        "# Define the data flow\n",
        "training_generator = training_data_generator.flow(x_train,y_train,batch_size=batch_size)\n",
        "validation_generator = validation_data_generator.flow(x_val, y_val,batch_size=batch_size)\n",
        "test_generator = test_data_generator.flow(x_test,y_test,batch_size=1,shuffle=False)"
      ],
      "execution_count": 0,
      "outputs": []
    },
    {
      "cell_type": "code",
      "metadata": {
        "colab_type": "code",
        "id": "X_QVrMSF1i3f",
        "outputId": "25ceeb5e-73b1-4a90-b3c4-b6d6b5cf7abf",
        "colab": {
          "base_uri": "https://localhost:8080/",
          "height": 1000
        }
      },
      "source": [
        "# Calculate the number of steps\n",
        "training_steps = training_generator.n/batch_size\n",
        "validation_steps = validation_generator.n/batch_size\n",
        "\n",
        "# Run the model\n",
        "model.fit_generator(training_generator,\n",
        "                    steps_per_epoch=training_steps,\n",
        "                    epochs = 50,\n",
        "                    validation_data = validation_generator,\n",
        "                    validation_steps = validation_steps,\n",
        "                    verbose = 1\n",
        "                   )"
      ],
      "execution_count": 54,
      "outputs": [
        {
          "output_type": "stream",
          "text": [
            "Epoch 1/50\n",
            "45/45 [============================>.] - ETA: 0s - loss: 253792993.0222 - mean_squared_error: 257905648.0000 - mean_absolute_error: 12050.7617Epoch 1/50\n",
            "46/45 [==============================] - 13s 291ms/step - loss: 253140818.1926 - mean_squared_error: 257064128.0000 - mean_absolute_error: 12017.5977 - val_loss: 408033956.0784 - val_mean_squared_error: 380903264.0000 - val_mean_absolute_error: 16785.6660\n",
            "Epoch 2/50\n",
            "45/45 [============================>.] - ETA: 0s - loss: 156403533.8222 - mean_squared_error: 152362800.0000 - mean_absolute_error: 8898.9785Epoch 1/50\n",
            "46/45 [==============================] - 7s 155ms/step - loss: 153941446.6728 - mean_squared_error: 150033008.0000 - mean_absolute_error: 8807.9658 - val_loss: 237079398.4314 - val_mean_squared_error: 223320208.0000 - val_mean_absolute_error: 12180.6934\n",
            "Epoch 3/50\n",
            "45/45 [============================>.] - ETA: 0s - loss: 118854827.2000 - mean_squared_error: 116618704.0000 - mean_absolute_error: 8257.3652Epoch 1/50\n",
            "46/45 [==============================] - 7s 155ms/step - loss: 117298861.5963 - mean_squared_error: 115132600.0000 - mean_absolute_error: 8207.7529 - val_loss: 197119701.1765 - val_mean_squared_error: 189428320.0000 - val_mean_absolute_error: 11277.7500\n",
            "Epoch 4/50\n",
            "45/45 [============================>.] - ETA: 0s - loss: 73415627.3833 - mean_squared_error: 74690912.0000 - mean_absolute_error: 6603.5488Epoch 1/50\n",
            "46/45 [==============================] - 7s 155ms/step - loss: 73837207.2494 - mean_squared_error: 75064584.0000 - mean_absolute_error: 6613.2339 - val_loss: 251613883.1373 - val_mean_squared_error: 241208704.0000 - val_mean_absolute_error: 12717.7881\n",
            "Epoch 5/50\n",
            "45/45 [============================>.] - ETA: 0s - loss: 62256796.8667 - mean_squared_error: 62629368.0000 - mean_absolute_error: 5870.2476Epoch 1/50\n",
            "46/45 [==============================] - 7s 155ms/step - loss: 61280940.9012 - mean_squared_error: 61620488.0000 - mean_absolute_error: 5816.0195 - val_loss: 336757043.1373 - val_mean_squared_error: 317834240.0000 - val_mean_absolute_error: 15162.1719\n",
            "Epoch 6/50\n",
            "45/45 [============================>.] - ETA: 0s - loss: 45747494.6889 - mean_squared_error: 45911840.0000 - mean_absolute_error: 4889.8252Epoch 1/50\n",
            "46/45 [==============================] - 7s 155ms/step - loss: 46509504.6578 - mean_squared_error: 46679932.0000 - mean_absolute_error: 4920.4248 - val_loss: 284177816.4706 - val_mean_squared_error: 265976256.0000 - val_mean_absolute_error: 13671.5049\n",
            "Epoch 7/50\n",
            "45/45 [============================>.] - ETA: 0s - loss: 43043832.5444 - mean_squared_error: 41968988.0000 - mean_absolute_error: 4831.8745Epoch 1/50\n",
            "46/45 [==============================] - 7s 156ms/step - loss: 42954268.0884 - mean_squared_error: 41924400.0000 - mean_absolute_error: 4832.8457 - val_loss: 224116420.3922 - val_mean_squared_error: 217614080.0000 - val_mean_absolute_error: 12148.8711\n",
            "Epoch 8/50\n",
            "45/45 [============================>.] - ETA: 0s - loss: 41994599.0889 - mean_squared_error: 42541992.0000 - mean_absolute_error: 4633.1450Epoch 1/50\n",
            "46/45 [==============================] - 7s 155ms/step - loss: 41919326.1142 - mean_squared_error: 42441720.0000 - mean_absolute_error: 4607.6616 - val_loss: 151516672.9412 - val_mean_squared_error: 148060656.0000 - val_mean_absolute_error: 9601.9697\n",
            "Epoch 9/50\n",
            "45/45 [============================>.] - ETA: 0s - loss: 41656670.0667 - mean_squared_error: 41708028.0000 - mean_absolute_error: 4685.8887Epoch 1/50\n",
            "46/45 [==============================] - 7s 155ms/step - loss: 41375123.4893 - mean_squared_error: 41419380.0000 - mean_absolute_error: 4683.3789 - val_loss: 152844117.2549 - val_mean_squared_error: 150167328.0000 - val_mean_absolute_error: 9689.1260\n",
            "Epoch 10/50\n",
            "45/45 [============================>.] - ETA: 0s - loss: 37925186.0889 - mean_squared_error: 38572892.0000 - mean_absolute_error: 4484.4067Epoch 1/50\n",
            "46/45 [==============================] - 7s 155ms/step - loss: 38305155.2331 - mean_squared_error: 38931400.0000 - mean_absolute_error: 4515.0420 - val_loss: 101341126.2745 - val_mean_squared_error: 99142248.0000 - val_mean_absolute_error: 7656.7290\n",
            "Epoch 11/50\n",
            "45/45 [============================>.] - ETA: 0s - loss: 44506994.8000 - mean_squared_error: 44948748.0000 - mean_absolute_error: 4459.0259Epoch 1/50\n",
            "46/45 [==============================] - 7s 155ms/step - loss: 44883106.4148 - mean_squared_error: 45312248.0000 - mean_absolute_error: 4472.6294 - val_loss: 80696840.8824 - val_mean_squared_error: 79966832.0000 - val_mean_absolute_error: 6625.7241\n",
            "Epoch 12/50\n",
            "45/45 [============================>.] - ETA: 0s - loss: 34327615.7889 - mean_squared_error: 33882728.0000 - mean_absolute_error: 4387.1333Epoch 1/50\n",
            "46/45 [==============================] - 7s 155ms/step - loss: 35216965.9572 - mean_squared_error: 34806736.0000 - mean_absolute_error: 4454.0874 - val_loss: 64351634.9020 - val_mean_squared_error: 63952092.0000 - val_mean_absolute_error: 5720.7446\n",
            "Epoch 13/50\n",
            "45/45 [============================>.] - ETA: 0s - loss: 34129747.7722 - mean_squared_error: 33877904.0000 - mean_absolute_error: 4146.8052Epoch 1/50\n",
            "46/45 [==============================] - 7s 155ms/step - loss: 33494313.7478 - mean_squared_error: 33242368.0000 - mean_absolute_error: 4099.5850 - val_loss: 62309383.7255 - val_mean_squared_error: 60453796.0000 - val_mean_absolute_error: 6105.0005\n",
            "Epoch 14/50\n",
            "45/45 [============================>.] - ETA: 0s - loss: 35802586.5944 - mean_squared_error: 36273988.0000 - mean_absolute_error: 4128.6494Epoch 1/50\n",
            "46/45 [==============================] - 7s 155ms/step - loss: 35859255.7380 - mean_squared_error: 36311228.0000 - mean_absolute_error: 4158.5024 - val_loss: 63264079.4118 - val_mean_squared_error: 60757856.0000 - val_mean_absolute_error: 5897.2173\n",
            "Epoch 15/50\n",
            "45/45 [============================>.] - ETA: 0s - loss: 33438936.0111 - mean_squared_error: 33634072.0000 - mean_absolute_error: 4173.2412Epoch 1/50\n",
            "46/45 [==============================] - 7s 155ms/step - loss: 32971557.5828 - mean_squared_error: 33150150.0000 - mean_absolute_error: 4144.4336 - val_loss: 63013575.8824 - val_mean_squared_error: 61419832.0000 - val_mean_absolute_error: 6141.7114\n",
            "Epoch 16/50\n",
            "45/45 [============================>.] - ETA: 0s - loss: 32542952.3889 - mean_squared_error: 32306234.0000 - mean_absolute_error: 4140.8267Epoch 1/50\n",
            "46/45 [==============================] - 7s 155ms/step - loss: 32344074.3392 - mean_squared_error: 32114158.0000 - mean_absolute_error: 4123.0698 - val_loss: 67440447.1569 - val_mean_squared_error: 66221212.0000 - val_mean_absolute_error: 6436.3745\n",
            "Epoch 17/50\n",
            "45/45 [============================>.] - ETA: 0s - loss: 39651749.3000 - mean_squared_error: 40169116.0000 - mean_absolute_error: 4443.2563Epoch 1/50\n",
            "46/45 [==============================] - 7s 155ms/step - loss: 39209072.5249 - mean_squared_error: 39696376.0000 - mean_absolute_error: 4419.8633 - val_loss: 77586673.9216 - val_mean_squared_error: 76706864.0000 - val_mean_absolute_error: 6690.1685\n",
            "Epoch 18/50\n",
            "45/45 [============================>.] - ETA: 0s - loss: 27676181.2500 - mean_squared_error: 28161692.0000 - mean_absolute_error: 3746.5020Epoch 1/50\n",
            "46/45 [==============================] - 7s 155ms/step - loss: 28065338.3522 - mean_squared_error: 28536566.0000 - mean_absolute_error: 3777.7383 - val_loss: 59522413.5294 - val_mean_squared_error: 52541676.0000 - val_mean_absolute_error: 5965.9136\n",
            "Epoch 19/50\n",
            "45/45 [============================>.] - ETA: 0s - loss: 31627325.3944 - mean_squared_error: 30891948.0000 - mean_absolute_error: 3815.1619Epoch 1/50\n",
            "46/45 [==============================] - 7s 155ms/step - loss: 32592043.0272 - mean_squared_error: 31905206.0000 - mean_absolute_error: 3864.6360 - val_loss: 54372864.5098 - val_mean_squared_error: 52087564.0000 - val_mean_absolute_error: 5831.3218\n",
            "Epoch 20/50\n",
            "45/45 [============================>.] - ETA: 0s - loss: 36164161.6556 - mean_squared_error: 35400328.0000 - mean_absolute_error: 4263.2183Epoch 1/50\n",
            "46/45 [==============================] - 7s 155ms/step - loss: 36742399.3408 - mean_squared_error: 36021644.0000 - mean_absolute_error: 4285.1016 - val_loss: 110657918.4314 - val_mean_squared_error: 109573752.0000 - val_mean_absolute_error: 8281.5781\n",
            "Epoch 21/50\n",
            "45/45 [============================>.] - ETA: 0s - loss: 38702194.8889 - mean_squared_error: 38705128.0000 - mean_absolute_error: 4389.5259Epoch 1/50\n",
            "46/45 [==============================] - 7s 155ms/step - loss: 38366768.1941 - mean_squared_error: 38363764.0000 - mean_absolute_error: 4374.5303 - val_loss: 58247143.9216 - val_mean_squared_error: 57334288.0000 - val_mean_absolute_error: 5644.1509\n",
            "Epoch 22/50\n",
            "45/45 [============================>.] - ETA: 0s - loss: 37260761.9889 - mean_squared_error: 36235772.0000 - mean_absolute_error: 4099.8491Epoch 1/50\n",
            "46/45 [==============================] - 7s 155ms/step - loss: 37459074.2612 - mean_squared_error: 36481888.0000 - mean_absolute_error: 4116.6699 - val_loss: 71914783.9216 - val_mean_squared_error: 70025288.0000 - val_mean_absolute_error: 6841.0098\n",
            "Epoch 23/50\n",
            "45/45 [============================>.] - ETA: 0s - loss: 34651506.9556 - mean_squared_error: 35120728.0000 - mean_absolute_error: 4196.2593Epoch 1/50\n",
            "46/45 [==============================] - 7s 155ms/step - loss: 34410335.4433 - mean_squared_error: 34855068.0000 - mean_absolute_error: 4183.0391 - val_loss: 61206817.8431 - val_mean_squared_error: 57924956.0000 - val_mean_absolute_error: 6004.4824\n",
            "Epoch 24/50\n",
            "45/45 [============================>.] - ETA: 0s - loss: 26764276.5778 - mean_squared_error: 26853538.0000 - mean_absolute_error: 3630.5476Epoch 1/50\n",
            "46/45 [==============================] - 7s 155ms/step - loss: 26750078.8513 - mean_squared_error: 26835230.0000 - mean_absolute_error: 3625.2371 - val_loss: 56054712.5490 - val_mean_squared_error: 52816660.0000 - val_mean_absolute_error: 5791.6089\n",
            "Epoch 25/50\n",
            "45/45 [============================>.] - ETA: 0s - loss: 38368885.6222 - mean_squared_error: 38574360.0000 - mean_absolute_error: 4180.7896Epoch 1/50\n",
            "46/45 [==============================] - 7s 155ms/step - loss: 37942765.4964 - mean_squared_error: 38131960.0000 - mean_absolute_error: 4154.5254 - val_loss: 48866770.5882 - val_mean_squared_error: 45592000.0000 - val_mean_absolute_error: 5286.9956\n",
            "Epoch 26/50\n",
            "45/45 [============================>.] - ETA: 0s - loss: 36319103.0625 - mean_squared_error: 36965908.0000 - mean_absolute_error: 4204.7148Epoch 1/50\n",
            "46/45 [==============================] - 7s 155ms/step - loss: 35635703.6098 - mean_squared_error: 36242672.0000 - mean_absolute_error: 4150.3926 - val_loss: 53016982.3529 - val_mean_squared_error: 49824944.0000 - val_mean_absolute_error: 5473.6729\n",
            "Epoch 27/50\n",
            "45/45 [============================>.] - ETA: 0s - loss: 39173645.7444 - mean_squared_error: 38940300.0000 - mean_absolute_error: 4289.1997Epoch 1/50\n",
            "46/45 [==============================] - 7s 155ms/step - loss: 38953939.2929 - mean_squared_error: 38726892.0000 - mean_absolute_error: 4285.5747 - val_loss: 61130948.8235 - val_mean_squared_error: 58190892.0000 - val_mean_absolute_error: 6083.3823\n",
            "Epoch 28/50\n",
            "45/45 [============================>.] - ETA: 0s - loss: 36332766.6556 - mean_squared_error: 36041696.0000 - mean_absolute_error: 4153.1460Epoch 1/50\n",
            "46/45 [==============================] - 7s 155ms/step - loss: 35876819.5823 - mean_squared_error: 35590452.0000 - mean_absolute_error: 4127.5127 - val_loss: 60739166.2745 - val_mean_squared_error: 58885256.0000 - val_mean_absolute_error: 6145.2573\n",
            "Epoch 29/50\n",
            "45/45 [============================>.] - ETA: 0s - loss: 31069356.9778 - mean_squared_error: 31574730.0000 - mean_absolute_error: 3812.8716Epoch 1/50\n",
            "46/45 [==============================] - 7s 155ms/step - loss: 30722098.2385 - mean_squared_error: 31199578.0000 - mean_absolute_error: 3780.4304 - val_loss: 45449885.4902 - val_mean_squared_error: 43190236.0000 - val_mean_absolute_error: 5056.5483\n",
            "Epoch 30/50\n",
            "45/45 [============================>.] - ETA: 0s - loss: 25295857.6778 - mean_squared_error: 25668380.0000 - mean_absolute_error: 3639.4429Epoch 1/50\n",
            "46/45 [==============================] - 7s 155ms/step - loss: 25826819.5804 - mean_squared_error: 26192408.0000 - mean_absolute_error: 3688.0588 - val_loss: 50962951.3725 - val_mean_squared_error: 48986992.0000 - val_mean_absolute_error: 5385.4946\n",
            "Epoch 31/50\n",
            "45/45 [============================>.] - ETA: 0s - loss: 37127198.0861 - mean_squared_error: 36840264.0000 - mean_absolute_error: 4065.3604Epoch 1/50\n",
            "46/45 [==============================] - 7s 155ms/step - loss: 37834791.0534 - mean_squared_error: 37572532.0000 - mean_absolute_error: 4102.1147 - val_loss: 58244203.1373 - val_mean_squared_error: 56133500.0000 - val_mean_absolute_error: 5765.4619\n",
            "Epoch 32/50\n",
            "45/45 [============================>.] - ETA: 0s - loss: 25714456.4333 - mean_squared_error: 25982980.0000 - mean_absolute_error: 3639.2156Epoch 1/50\n",
            "46/45 [==============================] - 7s 155ms/step - loss: 26015361.2134 - mean_squared_error: 26277472.0000 - mean_absolute_error: 3665.7393 - val_loss: 81884373.3333 - val_mean_squared_error: 80059696.0000 - val_mean_absolute_error: 6809.9438\n",
            "Epoch 33/50\n",
            "45/45 [============================>.] - ETA: 0s - loss: 32100912.6556 - mean_squared_error: 32595484.0000 - mean_absolute_error: 4019.7625Epoch 1/50\n",
            "46/45 [==============================] - 7s 155ms/step - loss: 31754260.0432 - mean_squared_error: 32221418.0000 - mean_absolute_error: 3999.7849 - val_loss: 55951125.2941 - val_mean_squared_error: 53436556.0000 - val_mean_absolute_error: 5771.8242\n",
            "Epoch 34/50\n",
            "45/45 [============================>.] - ETA: 0s - loss: 30512747.7667 - mean_squared_error: 30184888.0000 - mean_absolute_error: 3827.2397Epoch 1/50\n",
            "46/45 [==============================] - 7s 155ms/step - loss: 30385725.1230 - mean_squared_error: 30069858.0000 - mean_absolute_error: 3832.3452 - val_loss: 53076944.1176 - val_mean_squared_error: 50878608.0000 - val_mean_absolute_error: 5519.1147\n",
            "Epoch 35/50\n",
            "45/45 [============================>.] - ETA: 0s - loss: 33001925.3625 - mean_squared_error: 33589364.0000 - mean_absolute_error: 4048.4307Epoch 1/50\n",
            "46/45 [==============================] - 7s 155ms/step - loss: 32635886.4844 - mean_squared_error: 33191556.0000 - mean_absolute_error: 4027.5652 - val_loss: 69756366.0784 - val_mean_squared_error: 68060696.0000 - val_mean_absolute_error: 6312.8657\n",
            "Epoch 36/50\n",
            "45/45 [============================>.] - ETA: 0s - loss: 30263604.2444 - mean_squared_error: 30707074.0000 - mean_absolute_error: 3846.0112Epoch 1/50\n",
            "46/45 [==============================] - 7s 155ms/step - loss: 30146300.9871 - mean_squared_error: 30568540.0000 - mean_absolute_error: 3840.8159 - val_loss: 48260630.7843 - val_mean_squared_error: 44725580.0000 - val_mean_absolute_error: 5190.6128\n",
            "Epoch 37/50\n",
            "45/45 [============================>.] - ETA: 0s - loss: 38629430.4778 - mean_squared_error: 38895300.0000 - mean_absolute_error: 4172.1660Epoch 1/50\n",
            "46/45 [==============================] - 7s 155ms/step - loss: 38265713.0432 - mean_squared_error: 38513772.0000 - mean_absolute_error: 4149.1426 - val_loss: 69925563.7255 - val_mean_squared_error: 67833312.0000 - val_mean_absolute_error: 6720.3823\n",
            "Epoch 38/50\n",
            "45/45 [============================>.] - ETA: 0s - loss: 33863634.1167 - mean_squared_error: 34420892.0000 - mean_absolute_error: 3944.4961Epoch 1/50\n",
            "46/45 [==============================] - 7s 155ms/step - loss: 33757063.6505 - mean_squared_error: 34288352.0000 - mean_absolute_error: 3945.1162 - val_loss: 50045086.2745 - val_mean_squared_error: 47861300.0000 - val_mean_absolute_error: 5537.7925\n",
            "Epoch 39/50\n",
            "45/45 [============================>.] - ETA: 0s - loss: 28329392.1130 - mean_squared_error: 28840632.0000 - mean_absolute_error: 3736.5737Epoch 1/50\n",
            "46/45 [==============================] - 7s 155ms/step - loss: 29067868.4853 - mean_squared_error: 29569762.0000 - mean_absolute_error: 3760.8574 - val_loss: 59406729.4118 - val_mean_squared_error: 57803376.0000 - val_mean_absolute_error: 6110.9321\n",
            "Epoch 40/50\n",
            "45/45 [============================>.] - ETA: 0s - loss: 34750554.5667 - mean_squared_error: 34789440.0000 - mean_absolute_error: 4072.8882Epoch 1/50\n",
            "46/45 [==============================] - 7s 155ms/step - loss: 34211517.3011 - mean_squared_error: 34239388.0000 - mean_absolute_error: 4035.2810 - val_loss: 48083863.3333 - val_mean_squared_error: 46220980.0000 - val_mean_absolute_error: 5389.7900\n",
            "Epoch 41/50\n",
            "45/45 [============================>.] - ETA: 0s - loss: 26612050.1500 - mean_squared_error: 26955036.0000 - mean_absolute_error: 3656.7632Epoch 1/50\n",
            "46/45 [==============================] - 7s 155ms/step - loss: 26562051.6676 - mean_squared_error: 26889322.0000 - mean_absolute_error: 3662.1414 - val_loss: 56943611.9608 - val_mean_squared_error: 55070344.0000 - val_mean_absolute_error: 5928.5728\n",
            "Epoch 42/50\n",
            "45/45 [============================>.] - ETA: 0s - loss: 25476505.0333 - mean_squared_error: 25768008.0000 - mean_absolute_error: 3595.5161Epoch 1/50\n",
            "46/45 [==============================] - 7s 155ms/step - loss: 25605133.3524 - mean_squared_error: 25886242.0000 - mean_absolute_error: 3626.2778 - val_loss: 65347933.7255 - val_mean_squared_error: 63680468.0000 - val_mean_absolute_error: 6072.2070\n",
            "Epoch 43/50\n",
            "45/45 [============================>.] - ETA: 0s - loss: 29828958.8000 - mean_squared_error: 29709394.0000 - mean_absolute_error: 3866.0957Epoch 1/50\n",
            "46/45 [==============================] - 7s 155ms/step - loss: 29420748.5351 - mean_squared_error: 29299288.0000 - mean_absolute_error: 3830.3289 - val_loss: 58503884.3137 - val_mean_squared_error: 56540100.0000 - val_mean_absolute_error: 5696.1523\n",
            "Epoch 44/50\n",
            "45/45 [============================>.] - ETA: 0s - loss: 27374746.0861 - mean_squared_error: 27857008.0000 - mean_absolute_error: 3710.5632Epoch 1/50\n",
            "46/45 [==============================] - 7s 155ms/step - loss: 27280899.7603 - mean_squared_error: 27740658.0000 - mean_absolute_error: 3709.1265 - val_loss: 81876627.8431 - val_mean_squared_error: 80483872.0000 - val_mean_absolute_error: 6954.0884\n",
            "Epoch 45/50\n",
            "45/45 [============================>.] - ETA: 0s - loss: 33620992.8451 - mean_squared_error: 34223852.0000 - mean_absolute_error: 4017.9570Epoch 1/50\n",
            "46/45 [==============================] - 7s 155ms/step - loss: 32992139.6013 - mean_squared_error: 33558012.0000 - mean_absolute_error: 3967.0840 - val_loss: 52311712.4510 - val_mean_squared_error: 50093240.0000 - val_mean_absolute_error: 5218.6748\n",
            "Epoch 46/50\n",
            "45/45 [============================>.] - ETA: 0s - loss: 32828142.7222 - mean_squared_error: 32673148.0000 - mean_absolute_error: 4036.5396Epoch 1/50\n",
            "46/45 [==============================] - 7s 155ms/step - loss: 32400017.4545 - mean_squared_error: 32244316.0000 - mean_absolute_error: 4003.5945 - val_loss: 70474845.0000 - val_mean_squared_error: 69252416.0000 - val_mean_absolute_error: 6161.6465\n",
            "Epoch 47/50\n",
            "45/45 [============================>.] - ETA: 0s - loss: 28115275.2111 - mean_squared_error: 28240442.0000 - mean_absolute_error: 3841.5210Epoch 1/50\n",
            "46/45 [==============================] - 7s 155ms/step - loss: 28761293.8019 - mean_squared_error: 28892228.0000 - mean_absolute_error: 3885.3232 - val_loss: 68115640.7843 - val_mean_squared_error: 67012536.0000 - val_mean_absolute_error: 6160.7388\n",
            "Epoch 48/50\n",
            "45/45 [============================>.] - ETA: 0s - loss: 25650347.2889 - mean_squared_error: 26092432.0000 - mean_absolute_error: 3542.4946Epoch 1/50\n",
            "46/45 [==============================] - 7s 155ms/step - loss: 25482369.2056 - mean_squared_error: 25902406.0000 - mean_absolute_error: 3530.5308 - val_loss: 59629209.0196 - val_mean_squared_error: 55500052.0000 - val_mean_absolute_error: 5721.0859\n",
            "Epoch 49/50\n",
            "45/45 [============================>.] - ETA: 0s - loss: 28513443.8667 - mean_squared_error: 27811542.0000 - mean_absolute_error: 3697.9512Epoch 1/50\n",
            "46/45 [==============================] - 7s 155ms/step - loss: 28634445.2828 - mean_squared_error: 27965020.0000 - mean_absolute_error: 3723.8108 - val_loss: 70940601.7647 - val_mean_squared_error: 67956968.0000 - val_mean_absolute_error: 6318.9829\n",
            "Epoch 50/50\n",
            "45/45 [============================>.] - ETA: 0s - loss: 40625893.3444 - mean_squared_error: 41316176.0000 - mean_absolute_error: 4337.7764Epoch 1/50\n",
            "46/45 [==============================] - 7s 155ms/step - loss: 40185412.8066 - mean_squared_error: 40838184.0000 - mean_absolute_error: 4325.1372 - val_loss: 58294684.6078 - val_mean_squared_error: 56480596.0000 - val_mean_absolute_error: 5697.5581\n"
          ],
          "name": "stdout"
        },
        {
          "output_type": "execute_result",
          "data": {
            "text/plain": [
              "<tensorflow.python.keras.callbacks.History at 0x7fd47c987a58>"
            ]
          },
          "metadata": {
            "tags": []
          },
          "execution_count": 54
        }
      ]
    },
    {
      "cell_type": "code",
      "metadata": {
        "colab_type": "code",
        "id": "n1XeOAyH1vIN",
        "outputId": "ed12c532-f672-44a7-b105-628926259a20",
        "colab": {
          "base_uri": "https://localhost:8080/",
          "height": 70
        }
      },
      "source": [
        "# Calculate the test performance\n",
        "test_score = model.evaluate_generator(test_generator)\n",
        "print('Test loss: '+str(test_score[0]))\n",
        "print('Test MSE: '+str(test_score[1]))\n",
        "print('Test MAE: '+str(test_score[2]))"
      ],
      "execution_count": 55,
      "outputs": [
        {
          "output_type": "stream",
          "text": [
            "Test loss: 186862245.7321291\n",
            "Test MSE: 186862270.0\n",
            "Test MAE: 9718.86\n"
          ],
          "name": "stdout"
        }
      ]
    },
    {
      "cell_type": "code",
      "metadata": {
        "colab_type": "code",
        "id": "jmzlLEqIyAEc",
        "colab": {}
      },
      "source": [
        ""
      ],
      "execution_count": 0,
      "outputs": []
    }
  ]
}