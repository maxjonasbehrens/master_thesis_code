{
 "nbformat": 4,
 "nbformat_minor": 2,
 "metadata": {
  "language_info": {
   "name": "python",
   "codemirror_mode": {
    "name": "ipython",
    "version": 3
   },
   "version": "3.7.4-final"
  },
  "orig_nbformat": 2,
  "file_extension": ".py",
  "mimetype": "text/x-python",
  "name": "python",
  "npconvert_exporter": "python",
  "pygments_lexer": "ipython3",
  "version": 3,
  "kernelspec": {
   "name": "python37464bitminiconda3virtualenv50a318cd79ca4af7924999d0c66ee6d6",
   "display_name": "Python 3.7.4 64-bit ('miniconda3': virtualenv)"
  }
 },
 "cells": [
  {
   "cell_type": "markdown",
   "metadata": {},
   "source": [
    "# Notebook to analyse Results from CNN Training"
   ]
  },
  {
   "cell_type": "code",
   "execution_count": 46,
   "metadata": {},
   "outputs": [],
   "source": [
    "# Load needed packages\n",
    "import numpy as np\n",
    "import pandas as pd\n",
    "import matplotlib.pyplot as pyplot\n",
    "from sklearn.linear_model import LinearRegression"
   ]
  },
  {
   "cell_type": "code",
   "execution_count": 47,
   "metadata": {},
   "outputs": [
    {
     "output_type": "stream",
     "name": "stdout",
     "text": "Absolute DF: (75, 18)\nRelative DF: (77, 18)\nCombined DF: (152, 18)\n"
    }
   ],
   "source": [
    "# Import result data\n",
    "res_dat = pd.read_csv(\"/Users/maxbehrens/Documents/Msc/Thesis/Data/results/cnn_results_final.csv\")\n",
    "print('Absolute DF: '+str(res_dat.shape))\n",
    "res_dat_diff = pd.read_csv(\"/Users/maxbehrens/Documents/Msc/Thesis/Data/results/cnn_results_diff.csv\")\n",
    "print('Relative DF: '+str(res_dat_diff.shape))\n",
    "res_dat = res_dat.append(res_dat_diff)\n",
    "print('Combined DF: '+str(res_dat.shape))\n",
    "res_dat.reset_index(drop=True, inplace=True)"
   ]
  },
  {
   "cell_type": "markdown",
   "metadata": {},
   "source": [
    "# Filter by Validation MSE"
   ]
  },
  {
   "cell_type": "markdown",
   "metadata": {},
   "source": [
    "## Optimising Function\n",
    "\n",
    "Adam seems to work best."
   ]
  },
  {
   "cell_type": "code",
   "execution_count": 48,
   "metadata": {},
   "outputs": [
    {
     "output_type": "execute_result",
     "data": {
      "text/plain": "   prediction    optim     val_mse\n3   nuts_diff      sgd    0.402534\n7  nuts_value      sgd    0.676800\n6  nuts_value  rmsprob    5.106956\n2   nuts_diff  rmsprob    8.221484\n4  nuts_value     adam   12.697920\n0   nuts_diff     adam   14.079164\n5  nuts_value   adamax   38.195111\n1   nuts_diff   adamax  192.523990",
      "text/html": "<div>\n<style scoped>\n    .dataframe tbody tr th:only-of-type {\n        vertical-align: middle;\n    }\n\n    .dataframe tbody tr th {\n        vertical-align: top;\n    }\n\n    .dataframe thead th {\n        text-align: right;\n    }\n</style>\n<table border=\"1\" class=\"dataframe\">\n  <thead>\n    <tr style=\"text-align: right;\">\n      <th></th>\n      <th>prediction</th>\n      <th>optim</th>\n      <th>val_mse</th>\n    </tr>\n  </thead>\n  <tbody>\n    <tr>\n      <th>3</th>\n      <td>nuts_diff</td>\n      <td>sgd</td>\n      <td>0.402534</td>\n    </tr>\n    <tr>\n      <th>7</th>\n      <td>nuts_value</td>\n      <td>sgd</td>\n      <td>0.676800</td>\n    </tr>\n    <tr>\n      <th>6</th>\n      <td>nuts_value</td>\n      <td>rmsprob</td>\n      <td>5.106956</td>\n    </tr>\n    <tr>\n      <th>2</th>\n      <td>nuts_diff</td>\n      <td>rmsprob</td>\n      <td>8.221484</td>\n    </tr>\n    <tr>\n      <th>4</th>\n      <td>nuts_value</td>\n      <td>adam</td>\n      <td>12.697920</td>\n    </tr>\n    <tr>\n      <th>0</th>\n      <td>nuts_diff</td>\n      <td>adam</td>\n      <td>14.079164</td>\n    </tr>\n    <tr>\n      <th>5</th>\n      <td>nuts_value</td>\n      <td>adamax</td>\n      <td>38.195111</td>\n    </tr>\n    <tr>\n      <th>1</th>\n      <td>nuts_diff</td>\n      <td>adamax</td>\n      <td>192.523990</td>\n    </tr>\n  </tbody>\n</table>\n</div>"
     },
     "metadata": {},
     "execution_count": 48
    }
   ],
   "source": [
    "res_dat.groupby(['prediction','optim'])['val_mse'].mean().reset_index().sort_values('val_mse')"
   ]
  },
  {
   "cell_type": "markdown",
   "metadata": {},
   "source": [
    "## Model Type\n",
    "\n",
    "- For nuts_value smaller models and transfer learning seems to lead to better results.\n",
    "- For nuts_diff transfer models and larger models seems to work better"
   ]
  },
  {
   "cell_type": "code",
   "execution_count": 49,
   "metadata": {},
   "outputs": [
    {
     "output_type": "execute_result",
     "data": {
      "text/plain": "   prediction         transfer     val_mse\n0   nuts_diff  inception_model    0.241636\n2   nuts_diff     mobile_model    0.295845\n5  nuts_value  inception_model    0.390545\n1   nuts_diff          m_model    0.434973\n7  nuts_value     mobile_model    0.514573\n6  nuts_value          m_model    0.542444\n8  nuts_value          s_model    6.384526\n3   nuts_diff          s_model   10.276953\n9  nuts_value         xs_model   62.654977\n4   nuts_diff         xs_model  259.020890",
      "text/html": "<div>\n<style scoped>\n    .dataframe tbody tr th:only-of-type {\n        vertical-align: middle;\n    }\n\n    .dataframe tbody tr th {\n        vertical-align: top;\n    }\n\n    .dataframe thead th {\n        text-align: right;\n    }\n</style>\n<table border=\"1\" class=\"dataframe\">\n  <thead>\n    <tr style=\"text-align: right;\">\n      <th></th>\n      <th>prediction</th>\n      <th>transfer</th>\n      <th>val_mse</th>\n    </tr>\n  </thead>\n  <tbody>\n    <tr>\n      <th>0</th>\n      <td>nuts_diff</td>\n      <td>inception_model</td>\n      <td>0.241636</td>\n    </tr>\n    <tr>\n      <th>2</th>\n      <td>nuts_diff</td>\n      <td>mobile_model</td>\n      <td>0.295845</td>\n    </tr>\n    <tr>\n      <th>5</th>\n      <td>nuts_value</td>\n      <td>inception_model</td>\n      <td>0.390545</td>\n    </tr>\n    <tr>\n      <th>1</th>\n      <td>nuts_diff</td>\n      <td>m_model</td>\n      <td>0.434973</td>\n    </tr>\n    <tr>\n      <th>7</th>\n      <td>nuts_value</td>\n      <td>mobile_model</td>\n      <td>0.514573</td>\n    </tr>\n    <tr>\n      <th>6</th>\n      <td>nuts_value</td>\n      <td>m_model</td>\n      <td>0.542444</td>\n    </tr>\n    <tr>\n      <th>8</th>\n      <td>nuts_value</td>\n      <td>s_model</td>\n      <td>6.384526</td>\n    </tr>\n    <tr>\n      <th>3</th>\n      <td>nuts_diff</td>\n      <td>s_model</td>\n      <td>10.276953</td>\n    </tr>\n    <tr>\n      <th>9</th>\n      <td>nuts_value</td>\n      <td>xs_model</td>\n      <td>62.654977</td>\n    </tr>\n    <tr>\n      <th>4</th>\n      <td>nuts_diff</td>\n      <td>xs_model</td>\n      <td>259.020890</td>\n    </tr>\n  </tbody>\n</table>\n</div>"
     },
     "metadata": {},
     "execution_count": 49
    }
   ],
   "source": [
    "res_dat.groupby(['prediction','transfer'])['val_mse'].mean().reset_index().sort_values(['val_mse'])"
   ]
  },
  {
   "cell_type": "markdown",
   "metadata": {},
   "source": [
    "## Learning Rate\n",
    "\n",
    "Smaller learning rate seems to improve the results."
   ]
  },
  {
   "cell_type": "code",
   "execution_count": 50,
   "metadata": {},
   "outputs": [
    {
     "output_type": "execute_result",
     "data": {
      "text/plain": "   prediction        lr     val_mse\n6  nuts_value  0.000100    1.743445\n0   nuts_diff  0.000001    1.855402\n4  nuts_value  0.000001    1.924946\n5  nuts_value  0.000010    5.340740\n1   nuts_diff  0.000010    8.728598\n2   nuts_diff  0.000100   14.192922\n7  nuts_value  0.001000   55.329530\n3   nuts_diff  0.001000  201.255038",
      "text/html": "<div>\n<style scoped>\n    .dataframe tbody tr th:only-of-type {\n        vertical-align: middle;\n    }\n\n    .dataframe tbody tr th {\n        vertical-align: top;\n    }\n\n    .dataframe thead th {\n        text-align: right;\n    }\n</style>\n<table border=\"1\" class=\"dataframe\">\n  <thead>\n    <tr style=\"text-align: right;\">\n      <th></th>\n      <th>prediction</th>\n      <th>lr</th>\n      <th>val_mse</th>\n    </tr>\n  </thead>\n  <tbody>\n    <tr>\n      <th>6</th>\n      <td>nuts_value</td>\n      <td>0.000100</td>\n      <td>1.743445</td>\n    </tr>\n    <tr>\n      <th>0</th>\n      <td>nuts_diff</td>\n      <td>0.000001</td>\n      <td>1.855402</td>\n    </tr>\n    <tr>\n      <th>4</th>\n      <td>nuts_value</td>\n      <td>0.000001</td>\n      <td>1.924946</td>\n    </tr>\n    <tr>\n      <th>5</th>\n      <td>nuts_value</td>\n      <td>0.000010</td>\n      <td>5.340740</td>\n    </tr>\n    <tr>\n      <th>1</th>\n      <td>nuts_diff</td>\n      <td>0.000010</td>\n      <td>8.728598</td>\n    </tr>\n    <tr>\n      <th>2</th>\n      <td>nuts_diff</td>\n      <td>0.000100</td>\n      <td>14.192922</td>\n    </tr>\n    <tr>\n      <th>7</th>\n      <td>nuts_value</td>\n      <td>0.001000</td>\n      <td>55.329530</td>\n    </tr>\n    <tr>\n      <th>3</th>\n      <td>nuts_diff</td>\n      <td>0.001000</td>\n      <td>201.255038</td>\n    </tr>\n  </tbody>\n</table>\n</div>"
     },
     "metadata": {},
     "execution_count": 50
    }
   ],
   "source": [
    "res_dat.groupby(['prediction','lr'])['val_mse'].mean().reset_index().sort_values(['val_mse'])"
   ]
  },
  {
   "cell_type": "markdown",
   "metadata": {},
   "source": [
    "## Putting it all together"
   ]
  },
  {
   "cell_type": "code",
   "execution_count": 52,
   "metadata": {},
   "outputs": [
    {
     "output_type": "execute_result",
     "data": {
      "text/plain": "    prediction         transfer        lr     val_mse\n11   nuts_diff     mobile_model  0.001000    0.220764\n2    nuts_diff  inception_model  0.000100    0.228100\n1    nuts_diff  inception_model  0.000010    0.238331\n3    nuts_diff  inception_model  0.001000    0.242053\n5    nuts_diff          m_model  0.000010    0.256325\n0    nuts_diff  inception_model  0.000001    0.258058\n9    nuts_diff     mobile_model  0.000010    0.269702\n10   nuts_diff     mobile_model  0.000100    0.298714\n22  nuts_value  inception_model  0.000100    0.352674\n23  nuts_value  inception_model  0.001000    0.375006\n8    nuts_diff     mobile_model  0.000001    0.394201\n21  nuts_value  inception_model  0.000010    0.402085\n27  nuts_value          m_model  0.001000    0.403267\n30  nuts_value     mobile_model  0.000100    0.424580\n20  nuts_value  inception_model  0.000001    0.431417\n4    nuts_diff          m_model  0.000001    0.450857\n25  nuts_value          m_model  0.000010    0.459482\n6    nuts_diff          m_model  0.000100    0.461746\n26  nuts_value          m_model  0.000100    0.485871\n29  nuts_value     mobile_model  0.000010    0.492233\n28  nuts_value     mobile_model  0.000001    0.504025\n7    nuts_diff          m_model  0.001000    0.616296\n31  nuts_value     mobile_model  0.001000    0.637454\n24  nuts_value          m_model  0.000001    0.786364\n34  nuts_value          s_model  0.000100    0.967155\n32  nuts_value          s_model  0.000001    1.672299\n15   nuts_diff          s_model  0.001000    2.681279\n12   nuts_diff          s_model  0.000001    2.860668\n14   nuts_diff          s_model  0.000100    4.225123\n35  nuts_value          s_model  0.001000    5.414557\n16   nuts_diff         xs_model  0.000001    5.564545\n36  nuts_value         xs_model  0.000001    6.230627\n38  nuts_value         xs_model  0.000100    6.292874\n37  nuts_value         xs_model  0.000010    8.227982\n17   nuts_diff         xs_model  0.000010   14.904921\n33  nuts_value          s_model  0.000010   15.887257\n13   nuts_diff          s_model  0.000010   27.973712\n18   nuts_diff         xs_model  0.000100   63.258978\n39  nuts_value         xs_model  0.001000  229.868425\n19   nuts_diff         xs_model  0.001000  952.355114",
      "text/html": "<div>\n<style scoped>\n    .dataframe tbody tr th:only-of-type {\n        vertical-align: middle;\n    }\n\n    .dataframe tbody tr th {\n        vertical-align: top;\n    }\n\n    .dataframe thead th {\n        text-align: right;\n    }\n</style>\n<table border=\"1\" class=\"dataframe\">\n  <thead>\n    <tr style=\"text-align: right;\">\n      <th></th>\n      <th>prediction</th>\n      <th>transfer</th>\n      <th>lr</th>\n      <th>val_mse</th>\n    </tr>\n  </thead>\n  <tbody>\n    <tr>\n      <th>11</th>\n      <td>nuts_diff</td>\n      <td>mobile_model</td>\n      <td>0.001000</td>\n      <td>0.220764</td>\n    </tr>\n    <tr>\n      <th>2</th>\n      <td>nuts_diff</td>\n      <td>inception_model</td>\n      <td>0.000100</td>\n      <td>0.228100</td>\n    </tr>\n    <tr>\n      <th>1</th>\n      <td>nuts_diff</td>\n      <td>inception_model</td>\n      <td>0.000010</td>\n      <td>0.238331</td>\n    </tr>\n    <tr>\n      <th>3</th>\n      <td>nuts_diff</td>\n      <td>inception_model</td>\n      <td>0.001000</td>\n      <td>0.242053</td>\n    </tr>\n    <tr>\n      <th>5</th>\n      <td>nuts_diff</td>\n      <td>m_model</td>\n      <td>0.000010</td>\n      <td>0.256325</td>\n    </tr>\n    <tr>\n      <th>0</th>\n      <td>nuts_diff</td>\n      <td>inception_model</td>\n      <td>0.000001</td>\n      <td>0.258058</td>\n    </tr>\n    <tr>\n      <th>9</th>\n      <td>nuts_diff</td>\n      <td>mobile_model</td>\n      <td>0.000010</td>\n      <td>0.269702</td>\n    </tr>\n    <tr>\n      <th>10</th>\n      <td>nuts_diff</td>\n      <td>mobile_model</td>\n      <td>0.000100</td>\n      <td>0.298714</td>\n    </tr>\n    <tr>\n      <th>22</th>\n      <td>nuts_value</td>\n      <td>inception_model</td>\n      <td>0.000100</td>\n      <td>0.352674</td>\n    </tr>\n    <tr>\n      <th>23</th>\n      <td>nuts_value</td>\n      <td>inception_model</td>\n      <td>0.001000</td>\n      <td>0.375006</td>\n    </tr>\n    <tr>\n      <th>8</th>\n      <td>nuts_diff</td>\n      <td>mobile_model</td>\n      <td>0.000001</td>\n      <td>0.394201</td>\n    </tr>\n    <tr>\n      <th>21</th>\n      <td>nuts_value</td>\n      <td>inception_model</td>\n      <td>0.000010</td>\n      <td>0.402085</td>\n    </tr>\n    <tr>\n      <th>27</th>\n      <td>nuts_value</td>\n      <td>m_model</td>\n      <td>0.001000</td>\n      <td>0.403267</td>\n    </tr>\n    <tr>\n      <th>30</th>\n      <td>nuts_value</td>\n      <td>mobile_model</td>\n      <td>0.000100</td>\n      <td>0.424580</td>\n    </tr>\n    <tr>\n      <th>20</th>\n      <td>nuts_value</td>\n      <td>inception_model</td>\n      <td>0.000001</td>\n      <td>0.431417</td>\n    </tr>\n    <tr>\n      <th>4</th>\n      <td>nuts_diff</td>\n      <td>m_model</td>\n      <td>0.000001</td>\n      <td>0.450857</td>\n    </tr>\n    <tr>\n      <th>25</th>\n      <td>nuts_value</td>\n      <td>m_model</td>\n      <td>0.000010</td>\n      <td>0.459482</td>\n    </tr>\n    <tr>\n      <th>6</th>\n      <td>nuts_diff</td>\n      <td>m_model</td>\n      <td>0.000100</td>\n      <td>0.461746</td>\n    </tr>\n    <tr>\n      <th>26</th>\n      <td>nuts_value</td>\n      <td>m_model</td>\n      <td>0.000100</td>\n      <td>0.485871</td>\n    </tr>\n    <tr>\n      <th>29</th>\n      <td>nuts_value</td>\n      <td>mobile_model</td>\n      <td>0.000010</td>\n      <td>0.492233</td>\n    </tr>\n    <tr>\n      <th>28</th>\n      <td>nuts_value</td>\n      <td>mobile_model</td>\n      <td>0.000001</td>\n      <td>0.504025</td>\n    </tr>\n    <tr>\n      <th>7</th>\n      <td>nuts_diff</td>\n      <td>m_model</td>\n      <td>0.001000</td>\n      <td>0.616296</td>\n    </tr>\n    <tr>\n      <th>31</th>\n      <td>nuts_value</td>\n      <td>mobile_model</td>\n      <td>0.001000</td>\n      <td>0.637454</td>\n    </tr>\n    <tr>\n      <th>24</th>\n      <td>nuts_value</td>\n      <td>m_model</td>\n      <td>0.000001</td>\n      <td>0.786364</td>\n    </tr>\n    <tr>\n      <th>34</th>\n      <td>nuts_value</td>\n      <td>s_model</td>\n      <td>0.000100</td>\n      <td>0.967155</td>\n    </tr>\n    <tr>\n      <th>32</th>\n      <td>nuts_value</td>\n      <td>s_model</td>\n      <td>0.000001</td>\n      <td>1.672299</td>\n    </tr>\n    <tr>\n      <th>15</th>\n      <td>nuts_diff</td>\n      <td>s_model</td>\n      <td>0.001000</td>\n      <td>2.681279</td>\n    </tr>\n    <tr>\n      <th>12</th>\n      <td>nuts_diff</td>\n      <td>s_model</td>\n      <td>0.000001</td>\n      <td>2.860668</td>\n    </tr>\n    <tr>\n      <th>14</th>\n      <td>nuts_diff</td>\n      <td>s_model</td>\n      <td>0.000100</td>\n      <td>4.225123</td>\n    </tr>\n    <tr>\n      <th>35</th>\n      <td>nuts_value</td>\n      <td>s_model</td>\n      <td>0.001000</td>\n      <td>5.414557</td>\n    </tr>\n    <tr>\n      <th>16</th>\n      <td>nuts_diff</td>\n      <td>xs_model</td>\n      <td>0.000001</td>\n      <td>5.564545</td>\n    </tr>\n    <tr>\n      <th>36</th>\n      <td>nuts_value</td>\n      <td>xs_model</td>\n      <td>0.000001</td>\n      <td>6.230627</td>\n    </tr>\n    <tr>\n      <th>38</th>\n      <td>nuts_value</td>\n      <td>xs_model</td>\n      <td>0.000100</td>\n      <td>6.292874</td>\n    </tr>\n    <tr>\n      <th>37</th>\n      <td>nuts_value</td>\n      <td>xs_model</td>\n      <td>0.000010</td>\n      <td>8.227982</td>\n    </tr>\n    <tr>\n      <th>17</th>\n      <td>nuts_diff</td>\n      <td>xs_model</td>\n      <td>0.000010</td>\n      <td>14.904921</td>\n    </tr>\n    <tr>\n      <th>33</th>\n      <td>nuts_value</td>\n      <td>s_model</td>\n      <td>0.000010</td>\n      <td>15.887257</td>\n    </tr>\n    <tr>\n      <th>13</th>\n      <td>nuts_diff</td>\n      <td>s_model</td>\n      <td>0.000010</td>\n      <td>27.973712</td>\n    </tr>\n    <tr>\n      <th>18</th>\n      <td>nuts_diff</td>\n      <td>xs_model</td>\n      <td>0.000100</td>\n      <td>63.258978</td>\n    </tr>\n    <tr>\n      <th>39</th>\n      <td>nuts_value</td>\n      <td>xs_model</td>\n      <td>0.001000</td>\n      <td>229.868425</td>\n    </tr>\n    <tr>\n      <th>19</th>\n      <td>nuts_diff</td>\n      <td>xs_model</td>\n      <td>0.001000</td>\n      <td>952.355114</td>\n    </tr>\n  </tbody>\n</table>\n</div>"
     },
     "metadata": {},
     "execution_count": 52
    }
   ],
   "source": [
    "res_dat.groupby(['prediction','transfer','lr'])['val_mse'].mean().reset_index().sort_values(['val_mse'])"
   ]
  },
  {
   "cell_type": "markdown",
   "metadata": {},
   "source": [
    "- The best model seems to come from RMSProp Optimiser, very small model and high learning rate"
   ]
  },
  {
   "cell_type": "code",
   "execution_count": 53,
   "metadata": {},
   "outputs": [
    {
     "output_type": "execute_result",
     "data": {
      "text/plain": "     prediction    optim         transfer       lr      val_mse    val_mae\n10    nuts_diff     adam     mobile_model  0.00010     0.187100   0.314113\n41    nuts_diff  rmsprob  inception_model  0.00010     0.196607   0.336306\n48    nuts_diff  rmsprob     mobile_model  0.00001     0.197601   0.331402\n6     nuts_diff     adam          m_model  0.00010     0.199481   0.339075\n50    nuts_diff  rmsprob     mobile_model  0.00100     0.199883   0.329470\n..          ...      ...              ...      ...          ...        ...\n52    nuts_diff  rmsprob          s_model  0.00001   109.495255   3.313060\n18    nuts_diff     adam         xs_model  0.00010   144.526199   6.704063\n94   nuts_value     adam         xs_model  0.00100   221.912476  11.085407\n114  nuts_value   adamax         xs_model  0.00100   696.742554  14.609852\n38    nuts_diff   adamax         xs_model  0.00100  3702.368896  31.242395\n\n[151 rows x 6 columns]",
      "text/html": "<div>\n<style scoped>\n    .dataframe tbody tr th:only-of-type {\n        vertical-align: middle;\n    }\n\n    .dataframe tbody tr th {\n        vertical-align: top;\n    }\n\n    .dataframe thead th {\n        text-align: right;\n    }\n</style>\n<table border=\"1\" class=\"dataframe\">\n  <thead>\n    <tr style=\"text-align: right;\">\n      <th></th>\n      <th>prediction</th>\n      <th>optim</th>\n      <th>transfer</th>\n      <th>lr</th>\n      <th>val_mse</th>\n      <th>val_mae</th>\n    </tr>\n  </thead>\n  <tbody>\n    <tr>\n      <th>10</th>\n      <td>nuts_diff</td>\n      <td>adam</td>\n      <td>mobile_model</td>\n      <td>0.00010</td>\n      <td>0.187100</td>\n      <td>0.314113</td>\n    </tr>\n    <tr>\n      <th>41</th>\n      <td>nuts_diff</td>\n      <td>rmsprob</td>\n      <td>inception_model</td>\n      <td>0.00010</td>\n      <td>0.196607</td>\n      <td>0.336306</td>\n    </tr>\n    <tr>\n      <th>48</th>\n      <td>nuts_diff</td>\n      <td>rmsprob</td>\n      <td>mobile_model</td>\n      <td>0.00001</td>\n      <td>0.197601</td>\n      <td>0.331402</td>\n    </tr>\n    <tr>\n      <th>6</th>\n      <td>nuts_diff</td>\n      <td>adam</td>\n      <td>m_model</td>\n      <td>0.00010</td>\n      <td>0.199481</td>\n      <td>0.339075</td>\n    </tr>\n    <tr>\n      <th>50</th>\n      <td>nuts_diff</td>\n      <td>rmsprob</td>\n      <td>mobile_model</td>\n      <td>0.00100</td>\n      <td>0.199883</td>\n      <td>0.329470</td>\n    </tr>\n    <tr>\n      <th>...</th>\n      <td>...</td>\n      <td>...</td>\n      <td>...</td>\n      <td>...</td>\n      <td>...</td>\n      <td>...</td>\n    </tr>\n    <tr>\n      <th>52</th>\n      <td>nuts_diff</td>\n      <td>rmsprob</td>\n      <td>s_model</td>\n      <td>0.00001</td>\n      <td>109.495255</td>\n      <td>3.313060</td>\n    </tr>\n    <tr>\n      <th>18</th>\n      <td>nuts_diff</td>\n      <td>adam</td>\n      <td>xs_model</td>\n      <td>0.00010</td>\n      <td>144.526199</td>\n      <td>6.704063</td>\n    </tr>\n    <tr>\n      <th>94</th>\n      <td>nuts_value</td>\n      <td>adam</td>\n      <td>xs_model</td>\n      <td>0.00100</td>\n      <td>221.912476</td>\n      <td>11.085407</td>\n    </tr>\n    <tr>\n      <th>114</th>\n      <td>nuts_value</td>\n      <td>adamax</td>\n      <td>xs_model</td>\n      <td>0.00100</td>\n      <td>696.742554</td>\n      <td>14.609852</td>\n    </tr>\n    <tr>\n      <th>38</th>\n      <td>nuts_diff</td>\n      <td>adamax</td>\n      <td>xs_model</td>\n      <td>0.00100</td>\n      <td>3702.368896</td>\n      <td>31.242395</td>\n    </tr>\n  </tbody>\n</table>\n<p>151 rows × 6 columns</p>\n</div>"
     },
     "metadata": {},
     "execution_count": 53
    }
   ],
   "source": [
    "res_dat.groupby(['prediction','optim','transfer','lr'])['val_mse','val_mae'].mean().reset_index().sort_values(['val_mse'])"
   ]
  },
  {
   "cell_type": "markdown",
   "metadata": {},
   "source": [
    "## Get Minimum per Group to identify best config per model"
   ]
  },
  {
   "cell_type": "code",
   "execution_count": 54,
   "metadata": {},
   "outputs": [
    {
     "output_type": "execute_result",
     "data": {
      "text/plain": "           date  no_layers  batch_size  epochs  res  dims  train_mse  \\\n141  2020-04-01        161           8      33  128     3   0.175943   \n128  2020-03-31        786           8      93  128     3   0.214842   \n109  2020-03-31         14          16      50  224     3   1.000012   \n77   2020-03-30          3          16      34  224     3   1.024195   \n99   2020-03-31          8          16     109  224     3   0.831297   \n\n     train_mae   val_mse   val_mae      test_mse     test_mae  \\\n141   0.258067  0.187100  0.314113  3.718807e+07  4576.021515   \n128   0.141631  0.196607  0.336306  3.873773e+07  4529.964899   \n109   0.402939  0.199481  0.339075  4.091630e+07  4837.077766   \n77    0.402934  0.204136  0.335459  8.854131e+07  5736.178039   \n99    0.382421  0.204280  0.333147  8.364756e+07  5341.106480   \n\n            transfer       lr    optim      comment         type prediction  \n141     mobile_model  0.00010     adam  iterated nn  viirs_night  nuts_diff  \n128  inception_model  0.00010  rmsprob  iterated nn  viirs_night  nuts_diff  \n109          m_model  0.00010     adam  iterated nn  viirs_night  nuts_diff  \n77          xs_model  0.00001      sgd  iterated nn  viirs_night  nuts_diff  \n99           s_model  0.00010  rmsprob  iterated nn  viirs_night  nuts_diff  ",
      "text/html": "<div>\n<style scoped>\n    .dataframe tbody tr th:only-of-type {\n        vertical-align: middle;\n    }\n\n    .dataframe tbody tr th {\n        vertical-align: top;\n    }\n\n    .dataframe thead th {\n        text-align: right;\n    }\n</style>\n<table border=\"1\" class=\"dataframe\">\n  <thead>\n    <tr style=\"text-align: right;\">\n      <th></th>\n      <th>date</th>\n      <th>no_layers</th>\n      <th>batch_size</th>\n      <th>epochs</th>\n      <th>res</th>\n      <th>dims</th>\n      <th>train_mse</th>\n      <th>train_mae</th>\n      <th>val_mse</th>\n      <th>val_mae</th>\n      <th>test_mse</th>\n      <th>test_mae</th>\n      <th>transfer</th>\n      <th>lr</th>\n      <th>optim</th>\n      <th>comment</th>\n      <th>type</th>\n      <th>prediction</th>\n    </tr>\n  </thead>\n  <tbody>\n    <tr>\n      <th>141</th>\n      <td>2020-04-01</td>\n      <td>161</td>\n      <td>8</td>\n      <td>33</td>\n      <td>128</td>\n      <td>3</td>\n      <td>0.175943</td>\n      <td>0.258067</td>\n      <td>0.187100</td>\n      <td>0.314113</td>\n      <td>3.718807e+07</td>\n      <td>4576.021515</td>\n      <td>mobile_model</td>\n      <td>0.00010</td>\n      <td>adam</td>\n      <td>iterated nn</td>\n      <td>viirs_night</td>\n      <td>nuts_diff</td>\n    </tr>\n    <tr>\n      <th>128</th>\n      <td>2020-03-31</td>\n      <td>786</td>\n      <td>8</td>\n      <td>93</td>\n      <td>128</td>\n      <td>3</td>\n      <td>0.214842</td>\n      <td>0.141631</td>\n      <td>0.196607</td>\n      <td>0.336306</td>\n      <td>3.873773e+07</td>\n      <td>4529.964899</td>\n      <td>inception_model</td>\n      <td>0.00010</td>\n      <td>rmsprob</td>\n      <td>iterated nn</td>\n      <td>viirs_night</td>\n      <td>nuts_diff</td>\n    </tr>\n    <tr>\n      <th>109</th>\n      <td>2020-03-31</td>\n      <td>14</td>\n      <td>16</td>\n      <td>50</td>\n      <td>224</td>\n      <td>3</td>\n      <td>1.000012</td>\n      <td>0.402939</td>\n      <td>0.199481</td>\n      <td>0.339075</td>\n      <td>4.091630e+07</td>\n      <td>4837.077766</td>\n      <td>m_model</td>\n      <td>0.00010</td>\n      <td>adam</td>\n      <td>iterated nn</td>\n      <td>viirs_night</td>\n      <td>nuts_diff</td>\n    </tr>\n    <tr>\n      <th>77</th>\n      <td>2020-03-30</td>\n      <td>3</td>\n      <td>16</td>\n      <td>34</td>\n      <td>224</td>\n      <td>3</td>\n      <td>1.024195</td>\n      <td>0.402934</td>\n      <td>0.204136</td>\n      <td>0.335459</td>\n      <td>8.854131e+07</td>\n      <td>5736.178039</td>\n      <td>xs_model</td>\n      <td>0.00001</td>\n      <td>sgd</td>\n      <td>iterated nn</td>\n      <td>viirs_night</td>\n      <td>nuts_diff</td>\n    </tr>\n    <tr>\n      <th>99</th>\n      <td>2020-03-31</td>\n      <td>8</td>\n      <td>16</td>\n      <td>109</td>\n      <td>224</td>\n      <td>3</td>\n      <td>0.831297</td>\n      <td>0.382421</td>\n      <td>0.204280</td>\n      <td>0.333147</td>\n      <td>8.364756e+07</td>\n      <td>5341.106480</td>\n      <td>s_model</td>\n      <td>0.00010</td>\n      <td>rmsprob</td>\n      <td>iterated nn</td>\n      <td>viirs_night</td>\n      <td>nuts_diff</td>\n    </tr>\n  </tbody>\n</table>\n</div>"
     },
     "metadata": {},
     "execution_count": 54
    }
   ],
   "source": [
    "res_dat.loc[res_dat.groupby('transfer')['val_mse'].idxmin()].sort_values('val_mse')"
   ]
  },
  {
   "cell_type": "code",
   "execution_count": 55,
   "metadata": {},
   "outputs": [
    {
     "output_type": "execute_result",
     "data": {
      "text/plain": "           date  no_layers  batch_size  epochs  res  dims  train_mse  \\\n141  2020-04-01        161           8      33  128     3   0.175943   \n128  2020-03-31        786           8      93  128     3   0.214842   \n109  2020-03-31         14          16      50  224     3   1.000012   \n77   2020-03-30          3          16      34  224     3   1.024195   \n99   2020-03-31          8          16     109  224     3   0.831297   \n50   2020-03-31        786          16      44  224     3   0.362070   \n31   2020-03-30         14          16     104  224     3   0.443608   \n2    2020-03-30          3          16      35  224     3   0.913748   \n60   2020-03-31        161           8      49  224     3   0.210946   \n22   2020-03-30          8          16      42  224     3   1.000228   \n\n     train_mae   val_mse   val_mae      test_mse      test_mae  \\\n141   0.258067  0.187100  0.314113  3.718807e+07   4576.021515   \n128   0.141631  0.196607  0.336306  3.873773e+07   4529.964899   \n109   0.402939  0.199481  0.339075  4.091630e+07   4837.077766   \n77    0.402934  0.204136  0.335459  8.854131e+07   5736.178039   \n99    0.382421  0.204280  0.333147  8.364756e+07   5341.106480   \n50    0.238672  0.291538  0.433632  2.482037e+08  12669.431791   \n31    0.497277  0.376948  0.506384  2.092537e+08  11950.476919   \n2     0.596321  0.380223  0.503052  2.758528e+08  12802.620296   \n60    0.342324  0.393468  0.515830  1.734627e+08  11157.854450   \n22    0.621141  0.402281  0.511368  1.634465e+08  10987.016705   \n\n            transfer       lr    optim      comment         type  prediction  \n141     mobile_model  0.00010     adam  iterated nn  viirs_night   nuts_diff  \n128  inception_model  0.00010  rmsprob  iterated nn  viirs_night   nuts_diff  \n109          m_model  0.00010     adam  iterated nn  viirs_night   nuts_diff  \n77          xs_model  0.00001      sgd  iterated nn  viirs_night   nuts_diff  \n99           s_model  0.00010  rmsprob  iterated nn  viirs_night   nuts_diff  \n50   inception_model  0.00010     adam  iterated nn  viirs_night  nuts_value  \n31           m_model  0.00001      sgd  iterated nn  viirs_night  nuts_value  \n2           xs_model  0.00001      sgd  iterated nn  viirs_night  nuts_value  \n60      mobile_model  0.00010      sgd  iterated nn  viirs_night  nuts_value  \n22           s_model  0.00100  rmsprob  iterated nn  viirs_night  nuts_value  ",
      "text/html": "<div>\n<style scoped>\n    .dataframe tbody tr th:only-of-type {\n        vertical-align: middle;\n    }\n\n    .dataframe tbody tr th {\n        vertical-align: top;\n    }\n\n    .dataframe thead th {\n        text-align: right;\n    }\n</style>\n<table border=\"1\" class=\"dataframe\">\n  <thead>\n    <tr style=\"text-align: right;\">\n      <th></th>\n      <th>date</th>\n      <th>no_layers</th>\n      <th>batch_size</th>\n      <th>epochs</th>\n      <th>res</th>\n      <th>dims</th>\n      <th>train_mse</th>\n      <th>train_mae</th>\n      <th>val_mse</th>\n      <th>val_mae</th>\n      <th>test_mse</th>\n      <th>test_mae</th>\n      <th>transfer</th>\n      <th>lr</th>\n      <th>optim</th>\n      <th>comment</th>\n      <th>type</th>\n      <th>prediction</th>\n    </tr>\n  </thead>\n  <tbody>\n    <tr>\n      <th>141</th>\n      <td>2020-04-01</td>\n      <td>161</td>\n      <td>8</td>\n      <td>33</td>\n      <td>128</td>\n      <td>3</td>\n      <td>0.175943</td>\n      <td>0.258067</td>\n      <td>0.187100</td>\n      <td>0.314113</td>\n      <td>3.718807e+07</td>\n      <td>4576.021515</td>\n      <td>mobile_model</td>\n      <td>0.00010</td>\n      <td>adam</td>\n      <td>iterated nn</td>\n      <td>viirs_night</td>\n      <td>nuts_diff</td>\n    </tr>\n    <tr>\n      <th>128</th>\n      <td>2020-03-31</td>\n      <td>786</td>\n      <td>8</td>\n      <td>93</td>\n      <td>128</td>\n      <td>3</td>\n      <td>0.214842</td>\n      <td>0.141631</td>\n      <td>0.196607</td>\n      <td>0.336306</td>\n      <td>3.873773e+07</td>\n      <td>4529.964899</td>\n      <td>inception_model</td>\n      <td>0.00010</td>\n      <td>rmsprob</td>\n      <td>iterated nn</td>\n      <td>viirs_night</td>\n      <td>nuts_diff</td>\n    </tr>\n    <tr>\n      <th>109</th>\n      <td>2020-03-31</td>\n      <td>14</td>\n      <td>16</td>\n      <td>50</td>\n      <td>224</td>\n      <td>3</td>\n      <td>1.000012</td>\n      <td>0.402939</td>\n      <td>0.199481</td>\n      <td>0.339075</td>\n      <td>4.091630e+07</td>\n      <td>4837.077766</td>\n      <td>m_model</td>\n      <td>0.00010</td>\n      <td>adam</td>\n      <td>iterated nn</td>\n      <td>viirs_night</td>\n      <td>nuts_diff</td>\n    </tr>\n    <tr>\n      <th>77</th>\n      <td>2020-03-30</td>\n      <td>3</td>\n      <td>16</td>\n      <td>34</td>\n      <td>224</td>\n      <td>3</td>\n      <td>1.024195</td>\n      <td>0.402934</td>\n      <td>0.204136</td>\n      <td>0.335459</td>\n      <td>8.854131e+07</td>\n      <td>5736.178039</td>\n      <td>xs_model</td>\n      <td>0.00001</td>\n      <td>sgd</td>\n      <td>iterated nn</td>\n      <td>viirs_night</td>\n      <td>nuts_diff</td>\n    </tr>\n    <tr>\n      <th>99</th>\n      <td>2020-03-31</td>\n      <td>8</td>\n      <td>16</td>\n      <td>109</td>\n      <td>224</td>\n      <td>3</td>\n      <td>0.831297</td>\n      <td>0.382421</td>\n      <td>0.204280</td>\n      <td>0.333147</td>\n      <td>8.364756e+07</td>\n      <td>5341.106480</td>\n      <td>s_model</td>\n      <td>0.00010</td>\n      <td>rmsprob</td>\n      <td>iterated nn</td>\n      <td>viirs_night</td>\n      <td>nuts_diff</td>\n    </tr>\n    <tr>\n      <th>50</th>\n      <td>2020-03-31</td>\n      <td>786</td>\n      <td>16</td>\n      <td>44</td>\n      <td>224</td>\n      <td>3</td>\n      <td>0.362070</td>\n      <td>0.238672</td>\n      <td>0.291538</td>\n      <td>0.433632</td>\n      <td>2.482037e+08</td>\n      <td>12669.431791</td>\n      <td>inception_model</td>\n      <td>0.00010</td>\n      <td>adam</td>\n      <td>iterated nn</td>\n      <td>viirs_night</td>\n      <td>nuts_value</td>\n    </tr>\n    <tr>\n      <th>31</th>\n      <td>2020-03-30</td>\n      <td>14</td>\n      <td>16</td>\n      <td>104</td>\n      <td>224</td>\n      <td>3</td>\n      <td>0.443608</td>\n      <td>0.497277</td>\n      <td>0.376948</td>\n      <td>0.506384</td>\n      <td>2.092537e+08</td>\n      <td>11950.476919</td>\n      <td>m_model</td>\n      <td>0.00001</td>\n      <td>sgd</td>\n      <td>iterated nn</td>\n      <td>viirs_night</td>\n      <td>nuts_value</td>\n    </tr>\n    <tr>\n      <th>2</th>\n      <td>2020-03-30</td>\n      <td>3</td>\n      <td>16</td>\n      <td>35</td>\n      <td>224</td>\n      <td>3</td>\n      <td>0.913748</td>\n      <td>0.596321</td>\n      <td>0.380223</td>\n      <td>0.503052</td>\n      <td>2.758528e+08</td>\n      <td>12802.620296</td>\n      <td>xs_model</td>\n      <td>0.00001</td>\n      <td>sgd</td>\n      <td>iterated nn</td>\n      <td>viirs_night</td>\n      <td>nuts_value</td>\n    </tr>\n    <tr>\n      <th>60</th>\n      <td>2020-03-31</td>\n      <td>161</td>\n      <td>8</td>\n      <td>49</td>\n      <td>224</td>\n      <td>3</td>\n      <td>0.210946</td>\n      <td>0.342324</td>\n      <td>0.393468</td>\n      <td>0.515830</td>\n      <td>1.734627e+08</td>\n      <td>11157.854450</td>\n      <td>mobile_model</td>\n      <td>0.00010</td>\n      <td>sgd</td>\n      <td>iterated nn</td>\n      <td>viirs_night</td>\n      <td>nuts_value</td>\n    </tr>\n    <tr>\n      <th>22</th>\n      <td>2020-03-30</td>\n      <td>8</td>\n      <td>16</td>\n      <td>42</td>\n      <td>224</td>\n      <td>3</td>\n      <td>1.000228</td>\n      <td>0.621141</td>\n      <td>0.402281</td>\n      <td>0.511368</td>\n      <td>1.634465e+08</td>\n      <td>10987.016705</td>\n      <td>s_model</td>\n      <td>0.00100</td>\n      <td>rmsprob</td>\n      <td>iterated nn</td>\n      <td>viirs_night</td>\n      <td>nuts_value</td>\n    </tr>\n  </tbody>\n</table>\n</div>"
     },
     "metadata": {},
     "execution_count": 55
    }
   ],
   "source": [
    "res_dat.loc[res_dat.groupby(['prediction','transfer'])['val_mse'].idxmin()].sort_values('val_mse')"
   ]
  },
  {
   "cell_type": "code",
   "execution_count": 56,
   "metadata": {},
   "outputs": [
    {
     "output_type": "execute_result",
     "data": {
      "text/plain": "           date  no_layers  batch_size  epochs  res  dims  train_mse  \\\n141  2020-04-01        161           8      33  128     3   0.175943   \n128  2020-03-31        786           8      93  128     3   0.214842   \n109  2020-03-31         14          16      50  224     3   1.000012   \n99   2020-03-31          8          16     109  224     3   0.831297   \n77   2020-03-30          3          16      34  224     3   1.024195   \n22   2020-03-30          8          16      42  224     3   1.000228   \n60   2020-03-31        161           8      49  224     3   0.210946   \n31   2020-03-30         14          16     104  224     3   0.443608   \n50   2020-03-31        786          16      44  224     3   0.362070   \n2    2020-03-30          3          16      35  224     3   0.913748   \n\n     train_mae   val_mse   val_mae      test_mse      test_mae  \\\n141   0.258067  0.187100  0.314113  3.718807e+07   4576.021515   \n128   0.141631  0.196607  0.336306  3.873773e+07   4529.964899   \n109   0.402939  0.199481  0.339075  4.091630e+07   4837.077766   \n99    0.382421  0.204280  0.333147  8.364756e+07   5341.106480   \n77    0.402934  0.204136  0.335459  8.854131e+07   5736.178039   \n22    0.621141  0.402281  0.511368  1.634465e+08  10987.016705   \n60    0.342324  0.393468  0.515830  1.734627e+08  11157.854450   \n31    0.497277  0.376948  0.506384  2.092537e+08  11950.476919   \n50    0.238672  0.291538  0.433632  2.482037e+08  12669.431791   \n2     0.596321  0.380223  0.503052  2.758528e+08  12802.620296   \n\n            transfer       lr    optim      comment         type  prediction  \n141     mobile_model  0.00010     adam  iterated nn  viirs_night   nuts_diff  \n128  inception_model  0.00010  rmsprob  iterated nn  viirs_night   nuts_diff  \n109          m_model  0.00010     adam  iterated nn  viirs_night   nuts_diff  \n99           s_model  0.00010  rmsprob  iterated nn  viirs_night   nuts_diff  \n77          xs_model  0.00001      sgd  iterated nn  viirs_night   nuts_diff  \n22           s_model  0.00100  rmsprob  iterated nn  viirs_night  nuts_value  \n60      mobile_model  0.00010      sgd  iterated nn  viirs_night  nuts_value  \n31           m_model  0.00001      sgd  iterated nn  viirs_night  nuts_value  \n50   inception_model  0.00010     adam  iterated nn  viirs_night  nuts_value  \n2           xs_model  0.00001      sgd  iterated nn  viirs_night  nuts_value  ",
      "text/html": "<div>\n<style scoped>\n    .dataframe tbody tr th:only-of-type {\n        vertical-align: middle;\n    }\n\n    .dataframe tbody tr th {\n        vertical-align: top;\n    }\n\n    .dataframe thead th {\n        text-align: right;\n    }\n</style>\n<table border=\"1\" class=\"dataframe\">\n  <thead>\n    <tr style=\"text-align: right;\">\n      <th></th>\n      <th>date</th>\n      <th>no_layers</th>\n      <th>batch_size</th>\n      <th>epochs</th>\n      <th>res</th>\n      <th>dims</th>\n      <th>train_mse</th>\n      <th>train_mae</th>\n      <th>val_mse</th>\n      <th>val_mae</th>\n      <th>test_mse</th>\n      <th>test_mae</th>\n      <th>transfer</th>\n      <th>lr</th>\n      <th>optim</th>\n      <th>comment</th>\n      <th>type</th>\n      <th>prediction</th>\n    </tr>\n  </thead>\n  <tbody>\n    <tr>\n      <th>141</th>\n      <td>2020-04-01</td>\n      <td>161</td>\n      <td>8</td>\n      <td>33</td>\n      <td>128</td>\n      <td>3</td>\n      <td>0.175943</td>\n      <td>0.258067</td>\n      <td>0.187100</td>\n      <td>0.314113</td>\n      <td>3.718807e+07</td>\n      <td>4576.021515</td>\n      <td>mobile_model</td>\n      <td>0.00010</td>\n      <td>adam</td>\n      <td>iterated nn</td>\n      <td>viirs_night</td>\n      <td>nuts_diff</td>\n    </tr>\n    <tr>\n      <th>128</th>\n      <td>2020-03-31</td>\n      <td>786</td>\n      <td>8</td>\n      <td>93</td>\n      <td>128</td>\n      <td>3</td>\n      <td>0.214842</td>\n      <td>0.141631</td>\n      <td>0.196607</td>\n      <td>0.336306</td>\n      <td>3.873773e+07</td>\n      <td>4529.964899</td>\n      <td>inception_model</td>\n      <td>0.00010</td>\n      <td>rmsprob</td>\n      <td>iterated nn</td>\n      <td>viirs_night</td>\n      <td>nuts_diff</td>\n    </tr>\n    <tr>\n      <th>109</th>\n      <td>2020-03-31</td>\n      <td>14</td>\n      <td>16</td>\n      <td>50</td>\n      <td>224</td>\n      <td>3</td>\n      <td>1.000012</td>\n      <td>0.402939</td>\n      <td>0.199481</td>\n      <td>0.339075</td>\n      <td>4.091630e+07</td>\n      <td>4837.077766</td>\n      <td>m_model</td>\n      <td>0.00010</td>\n      <td>adam</td>\n      <td>iterated nn</td>\n      <td>viirs_night</td>\n      <td>nuts_diff</td>\n    </tr>\n    <tr>\n      <th>99</th>\n      <td>2020-03-31</td>\n      <td>8</td>\n      <td>16</td>\n      <td>109</td>\n      <td>224</td>\n      <td>3</td>\n      <td>0.831297</td>\n      <td>0.382421</td>\n      <td>0.204280</td>\n      <td>0.333147</td>\n      <td>8.364756e+07</td>\n      <td>5341.106480</td>\n      <td>s_model</td>\n      <td>0.00010</td>\n      <td>rmsprob</td>\n      <td>iterated nn</td>\n      <td>viirs_night</td>\n      <td>nuts_diff</td>\n    </tr>\n    <tr>\n      <th>77</th>\n      <td>2020-03-30</td>\n      <td>3</td>\n      <td>16</td>\n      <td>34</td>\n      <td>224</td>\n      <td>3</td>\n      <td>1.024195</td>\n      <td>0.402934</td>\n      <td>0.204136</td>\n      <td>0.335459</td>\n      <td>8.854131e+07</td>\n      <td>5736.178039</td>\n      <td>xs_model</td>\n      <td>0.00001</td>\n      <td>sgd</td>\n      <td>iterated nn</td>\n      <td>viirs_night</td>\n      <td>nuts_diff</td>\n    </tr>\n    <tr>\n      <th>22</th>\n      <td>2020-03-30</td>\n      <td>8</td>\n      <td>16</td>\n      <td>42</td>\n      <td>224</td>\n      <td>3</td>\n      <td>1.000228</td>\n      <td>0.621141</td>\n      <td>0.402281</td>\n      <td>0.511368</td>\n      <td>1.634465e+08</td>\n      <td>10987.016705</td>\n      <td>s_model</td>\n      <td>0.00100</td>\n      <td>rmsprob</td>\n      <td>iterated nn</td>\n      <td>viirs_night</td>\n      <td>nuts_value</td>\n    </tr>\n    <tr>\n      <th>60</th>\n      <td>2020-03-31</td>\n      <td>161</td>\n      <td>8</td>\n      <td>49</td>\n      <td>224</td>\n      <td>3</td>\n      <td>0.210946</td>\n      <td>0.342324</td>\n      <td>0.393468</td>\n      <td>0.515830</td>\n      <td>1.734627e+08</td>\n      <td>11157.854450</td>\n      <td>mobile_model</td>\n      <td>0.00010</td>\n      <td>sgd</td>\n      <td>iterated nn</td>\n      <td>viirs_night</td>\n      <td>nuts_value</td>\n    </tr>\n    <tr>\n      <th>31</th>\n      <td>2020-03-30</td>\n      <td>14</td>\n      <td>16</td>\n      <td>104</td>\n      <td>224</td>\n      <td>3</td>\n      <td>0.443608</td>\n      <td>0.497277</td>\n      <td>0.376948</td>\n      <td>0.506384</td>\n      <td>2.092537e+08</td>\n      <td>11950.476919</td>\n      <td>m_model</td>\n      <td>0.00001</td>\n      <td>sgd</td>\n      <td>iterated nn</td>\n      <td>viirs_night</td>\n      <td>nuts_value</td>\n    </tr>\n    <tr>\n      <th>50</th>\n      <td>2020-03-31</td>\n      <td>786</td>\n      <td>16</td>\n      <td>44</td>\n      <td>224</td>\n      <td>3</td>\n      <td>0.362070</td>\n      <td>0.238672</td>\n      <td>0.291538</td>\n      <td>0.433632</td>\n      <td>2.482037e+08</td>\n      <td>12669.431791</td>\n      <td>inception_model</td>\n      <td>0.00010</td>\n      <td>adam</td>\n      <td>iterated nn</td>\n      <td>viirs_night</td>\n      <td>nuts_value</td>\n    </tr>\n    <tr>\n      <th>2</th>\n      <td>2020-03-30</td>\n      <td>3</td>\n      <td>16</td>\n      <td>35</td>\n      <td>224</td>\n      <td>3</td>\n      <td>0.913748</td>\n      <td>0.596321</td>\n      <td>0.380223</td>\n      <td>0.503052</td>\n      <td>2.758528e+08</td>\n      <td>12802.620296</td>\n      <td>xs_model</td>\n      <td>0.00001</td>\n      <td>sgd</td>\n      <td>iterated nn</td>\n      <td>viirs_night</td>\n      <td>nuts_value</td>\n    </tr>\n  </tbody>\n</table>\n</div>"
     },
     "metadata": {},
     "execution_count": 56
    }
   ],
   "source": [
    "res_dat.loc[res_dat.groupby(['prediction','transfer'])['val_mse'].idxmin()].sort_values('test_mse')"
   ]
  },
  {
   "cell_type": "markdown",
   "metadata": {},
   "source": [
    "## Detailed Country Analysis"
   ]
  },
  {
   "cell_type": "code",
   "execution_count": 58,
   "metadata": {},
   "outputs": [
    {
     "output_type": "execute_result",
     "data": {
      "text/plain": "  country          mae           mse  size\n0      ME   513.488770  2.636707e+05     3\n1      BG   622.249832  5.800257e+05     8\n2      PL   818.868851  9.796654e+05     4\n3      SK   873.117889  1.281159e+06     4\n4      CZ  1237.313156  1.854997e+06     8",
      "text/html": "<div>\n<style scoped>\n    .dataframe tbody tr th:only-of-type {\n        vertical-align: middle;\n    }\n\n    .dataframe tbody tr th {\n        vertical-align: top;\n    }\n\n    .dataframe thead th {\n        text-align: right;\n    }\n</style>\n<table border=\"1\" class=\"dataframe\">\n  <thead>\n    <tr style=\"text-align: right;\">\n      <th></th>\n      <th>country</th>\n      <th>mae</th>\n      <th>mse</th>\n      <th>size</th>\n    </tr>\n  </thead>\n  <tbody>\n    <tr>\n      <th>0</th>\n      <td>ME</td>\n      <td>513.488770</td>\n      <td>2.636707e+05</td>\n      <td>3</td>\n    </tr>\n    <tr>\n      <th>1</th>\n      <td>BG</td>\n      <td>622.249832</td>\n      <td>5.800257e+05</td>\n      <td>8</td>\n    </tr>\n    <tr>\n      <th>2</th>\n      <td>PL</td>\n      <td>818.868851</td>\n      <td>9.796654e+05</td>\n      <td>4</td>\n    </tr>\n    <tr>\n      <th>3</th>\n      <td>SK</td>\n      <td>873.117889</td>\n      <td>1.281159e+06</td>\n      <td>4</td>\n    </tr>\n    <tr>\n      <th>4</th>\n      <td>CZ</td>\n      <td>1237.313156</td>\n      <td>1.854997e+06</td>\n      <td>8</td>\n    </tr>\n  </tbody>\n</table>\n</div>"
     },
     "metadata": {},
     "execution_count": 58
    }
   ],
   "source": [
    "relative_country = pd.read_csv(\"/Users/maxbehrens/Documents/Msc/Thesis/Data/results/result_country_relative.csv\")\n",
    "relative_country = relative_country.sort_values('mse')\n",
    "relative_country.head()"
   ]
  },
  {
   "cell_type": "code",
   "execution_count": 59,
   "metadata": {},
   "outputs": [
    {
     "output_type": "execute_result",
     "data": {
      "text/plain": "  country          mae           mse  size\n0      HU  3537.720215  1.398283e+07     4\n1      UK  4684.828823  3.564075e+07    28\n2      ES  5281.241455  3.587981e+07    16\n4      LT  6407.195312  5.002542e+07     4\n3      FR  5832.748177  5.085548e+07    15",
      "text/html": "<div>\n<style scoped>\n    .dataframe tbody tr th:only-of-type {\n        vertical-align: middle;\n    }\n\n    .dataframe tbody tr th {\n        vertical-align: top;\n    }\n\n    .dataframe thead th {\n        text-align: right;\n    }\n</style>\n<table border=\"1\" class=\"dataframe\">\n  <thead>\n    <tr style=\"text-align: right;\">\n      <th></th>\n      <th>country</th>\n      <th>mae</th>\n      <th>mse</th>\n      <th>size</th>\n    </tr>\n  </thead>\n  <tbody>\n    <tr>\n      <th>0</th>\n      <td>HU</td>\n      <td>3537.720215</td>\n      <td>1.398283e+07</td>\n      <td>4</td>\n    </tr>\n    <tr>\n      <th>1</th>\n      <td>UK</td>\n      <td>4684.828823</td>\n      <td>3.564075e+07</td>\n      <td>28</td>\n    </tr>\n    <tr>\n      <th>2</th>\n      <td>ES</td>\n      <td>5281.241455</td>\n      <td>3.587981e+07</td>\n      <td>16</td>\n    </tr>\n    <tr>\n      <th>4</th>\n      <td>LT</td>\n      <td>6407.195312</td>\n      <td>5.002542e+07</td>\n      <td>4</td>\n    </tr>\n    <tr>\n      <th>3</th>\n      <td>FR</td>\n      <td>5832.748177</td>\n      <td>5.085548e+07</td>\n      <td>15</td>\n    </tr>\n  </tbody>\n</table>\n</div>"
     },
     "metadata": {},
     "execution_count": 59
    }
   ],
   "source": [
    "absolute_country = pd.read_csv(\"/Users/maxbehrens/Documents/Msc/Thesis/Data/results/result_country_abs.csv\")\n",
    "absolute_country = absolute_country.sort_values('mse')\n",
    "absolute_country.head()"
   ]
  },
  {
   "cell_type": "code",
   "execution_count": 60,
   "metadata": {},
   "outputs": [
    {
     "output_type": "execute_result",
     "data": {
      "text/plain": "  Code   Country\n0   BE   Belgium\n1   BG  Bulgaria\n2   CZ   Czechia\n3   DK   Denmark\n4   DE   Germany",
      "text/html": "<div>\n<style scoped>\n    .dataframe tbody tr th:only-of-type {\n        vertical-align: middle;\n    }\n\n    .dataframe tbody tr th {\n        vertical-align: top;\n    }\n\n    .dataframe thead th {\n        text-align: right;\n    }\n</style>\n<table border=\"1\" class=\"dataframe\">\n  <thead>\n    <tr style=\"text-align: right;\">\n      <th></th>\n      <th>Code</th>\n      <th>Country</th>\n    </tr>\n  </thead>\n  <tbody>\n    <tr>\n      <th>0</th>\n      <td>BE</td>\n      <td>Belgium</td>\n    </tr>\n    <tr>\n      <th>1</th>\n      <td>BG</td>\n      <td>Bulgaria</td>\n    </tr>\n    <tr>\n      <th>2</th>\n      <td>CZ</td>\n      <td>Czechia</td>\n    </tr>\n    <tr>\n      <th>3</th>\n      <td>DK</td>\n      <td>Denmark</td>\n    </tr>\n    <tr>\n      <th>4</th>\n      <td>DE</td>\n      <td>Germany</td>\n    </tr>\n  </tbody>\n</table>\n</div>"
     },
     "metadata": {},
     "execution_count": 60
    }
   ],
   "source": [
    "country_codes = pd.read_csv(\"/Users/maxbehrens/Documents/Msc/Thesis/Data/gdp_data/country_codes.csv\", delimiter=';')\n",
    "country_codes.head()"
   ]
  },
  {
   "cell_type": "code",
   "execution_count": 112,
   "metadata": {},
   "outputs": [
    {
     "output_type": "execute_result",
     "data": {
      "text/plain": "                test_files    test_preds  test_true_vals country  \\\n0  DE27_1.0393751_2016.png  27921.974609         38000.0      DE   \n1  AT12_1.2089163_2017.png  26230.986328         34400.0      AT   \n2  RO21_0.4932655_2016.png  23727.232422          5300.0      RO   \n3  DE27_1.0918305_2015.png  15489.111328         37100.0      DE   \n4  NL41_4.6125097_2017.png  25341.615234         43400.0      NL   \n\n             se     abs_error  \n0  1.015666e+08  10078.025391  \n1  6.673278e+07   8169.013672  \n2  3.395629e+08  18427.232422  \n3  4.670305e+08  21610.888672  \n4  3.261053e+08  18058.384766  ",
      "text/html": "<div>\n<style scoped>\n    .dataframe tbody tr th:only-of-type {\n        vertical-align: middle;\n    }\n\n    .dataframe tbody tr th {\n        vertical-align: top;\n    }\n\n    .dataframe thead th {\n        text-align: right;\n    }\n</style>\n<table border=\"1\" class=\"dataframe\">\n  <thead>\n    <tr style=\"text-align: right;\">\n      <th></th>\n      <th>test_files</th>\n      <th>test_preds</th>\n      <th>test_true_vals</th>\n      <th>country</th>\n      <th>se</th>\n      <th>abs_error</th>\n    </tr>\n  </thead>\n  <tbody>\n    <tr>\n      <th>0</th>\n      <td>DE27_1.0393751_2016.png</td>\n      <td>27921.974609</td>\n      <td>38000.0</td>\n      <td>DE</td>\n      <td>1.015666e+08</td>\n      <td>10078.025391</td>\n    </tr>\n    <tr>\n      <th>1</th>\n      <td>AT12_1.2089163_2017.png</td>\n      <td>26230.986328</td>\n      <td>34400.0</td>\n      <td>AT</td>\n      <td>6.673278e+07</td>\n      <td>8169.013672</td>\n    </tr>\n    <tr>\n      <th>2</th>\n      <td>RO21_0.4932655_2016.png</td>\n      <td>23727.232422</td>\n      <td>5300.0</td>\n      <td>RO</td>\n      <td>3.395629e+08</td>\n      <td>18427.232422</td>\n    </tr>\n    <tr>\n      <th>3</th>\n      <td>DE27_1.0918305_2015.png</td>\n      <td>15489.111328</td>\n      <td>37100.0</td>\n      <td>DE</td>\n      <td>4.670305e+08</td>\n      <td>21610.888672</td>\n    </tr>\n    <tr>\n      <th>4</th>\n      <td>NL41_4.6125097_2017.png</td>\n      <td>25341.615234</td>\n      <td>43400.0</td>\n      <td>NL</td>\n      <td>3.261053e+08</td>\n      <td>18058.384766</td>\n    </tr>\n  </tbody>\n</table>\n</div>"
     },
     "metadata": {},
     "execution_count": 112
    }
   ],
   "source": [
    "abs_preds = pd.read_csv(\"/Users/maxbehrens/Documents/Msc/Thesis/Data/results/result_preds_abs.csv\")\n",
    "abs_preds.head()"
   ]
  },
  {
   "cell_type": "code",
   "execution_count": 87,
   "metadata": {},
   "outputs": [
    {
     "output_type": "execute_result",
     "data": {
      "text/plain": "                test_files   test_preds  test_true_vals country            se  \\\n0  DE27_1.0393751_2016.png -1797.677734          -400.0      DE  1.953503e+06   \n1  AT12_1.2089163_2017.png  -513.488770         -7700.0      AT  5.164594e+07   \n2  RO21_0.4932655_2016.png  -513.488770         -3300.0      RO  7.764645e+06   \n3  DE27_1.0918305_2015.png  -513.488770          -200.0      DE  9.827521e+04   \n4  NL41_4.6125097_2017.png  -513.488770           400.0      NL  8.344617e+05   \n\n     abs_error  \n0  1397.677734  \n1  7186.511230  \n2  2786.511230  \n3   313.488770  \n4   913.488770  ",
      "text/html": "<div>\n<style scoped>\n    .dataframe tbody tr th:only-of-type {\n        vertical-align: middle;\n    }\n\n    .dataframe tbody tr th {\n        vertical-align: top;\n    }\n\n    .dataframe thead th {\n        text-align: right;\n    }\n</style>\n<table border=\"1\" class=\"dataframe\">\n  <thead>\n    <tr style=\"text-align: right;\">\n      <th></th>\n      <th>test_files</th>\n      <th>test_preds</th>\n      <th>test_true_vals</th>\n      <th>country</th>\n      <th>se</th>\n      <th>abs_error</th>\n    </tr>\n  </thead>\n  <tbody>\n    <tr>\n      <th>0</th>\n      <td>DE27_1.0393751_2016.png</td>\n      <td>-1797.677734</td>\n      <td>-400.0</td>\n      <td>DE</td>\n      <td>1.953503e+06</td>\n      <td>1397.677734</td>\n    </tr>\n    <tr>\n      <th>1</th>\n      <td>AT12_1.2089163_2017.png</td>\n      <td>-513.488770</td>\n      <td>-7700.0</td>\n      <td>AT</td>\n      <td>5.164594e+07</td>\n      <td>7186.511230</td>\n    </tr>\n    <tr>\n      <th>2</th>\n      <td>RO21_0.4932655_2016.png</td>\n      <td>-513.488770</td>\n      <td>-3300.0</td>\n      <td>RO</td>\n      <td>7.764645e+06</td>\n      <td>2786.511230</td>\n    </tr>\n    <tr>\n      <th>3</th>\n      <td>DE27_1.0918305_2015.png</td>\n      <td>-513.488770</td>\n      <td>-200.0</td>\n      <td>DE</td>\n      <td>9.827521e+04</td>\n      <td>313.488770</td>\n    </tr>\n    <tr>\n      <th>4</th>\n      <td>NL41_4.6125097_2017.png</td>\n      <td>-513.488770</td>\n      <td>400.0</td>\n      <td>NL</td>\n      <td>8.344617e+05</td>\n      <td>913.488770</td>\n    </tr>\n  </tbody>\n</table>\n</div>"
     },
     "metadata": {},
     "execution_count": 87
    }
   ],
   "source": [
    "rel_preds = pd.read_csv(\"/Users/maxbehrens/Documents/Msc/Thesis/Data/results/result_preds_relative.csv\")\n",
    "rel_preds.head()"
   ]
  },
  {
   "cell_type": "code",
   "execution_count": null,
   "metadata": {},
   "outputs": [],
   "source": [
    "cleaned_gdp = pd.read_csv()"
   ]
  },
  {
   "cell_type": "markdown",
   "metadata": {},
   "source": [
    "## More analysis"
   ]
  },
  {
   "cell_type": "code",
   "execution_count": 113,
   "metadata": {},
   "outputs": [
    {
     "output_type": "execute_result",
     "data": {
      "text/plain": "   country         std\n12      ME  404.145188\n14      PL  457.347424\n17      SK  485.626743\n1       BG  499.821397\n18      TR  816.675170",
      "text/html": "<div>\n<style scoped>\n    .dataframe tbody tr th:only-of-type {\n        vertical-align: middle;\n    }\n\n    .dataframe tbody tr th {\n        vertical-align: top;\n    }\n\n    .dataframe thead th {\n        text-align: right;\n    }\n</style>\n<table border=\"1\" class=\"dataframe\">\n  <thead>\n    <tr style=\"text-align: right;\">\n      <th></th>\n      <th>country</th>\n      <th>std</th>\n    </tr>\n  </thead>\n  <tbody>\n    <tr>\n      <th>12</th>\n      <td>ME</td>\n      <td>404.145188</td>\n    </tr>\n    <tr>\n      <th>14</th>\n      <td>PL</td>\n      <td>457.347424</td>\n    </tr>\n    <tr>\n      <th>17</th>\n      <td>SK</td>\n      <td>485.626743</td>\n    </tr>\n    <tr>\n      <th>1</th>\n      <td>BG</td>\n      <td>499.821397</td>\n    </tr>\n    <tr>\n      <th>18</th>\n      <td>TR</td>\n      <td>816.675170</td>\n    </tr>\n  </tbody>\n</table>\n</div>"
     },
     "metadata": {},
     "execution_count": 113
    }
   ],
   "source": [
    "country_std = abs_preds.groupby('country')['test_true_vals'].std().reset_index().sort_values('test_true_vals')\n",
    "country_std.columns = ['country','std']\n",
    "country_std.head()"
   ]
  },
  {
   "cell_type": "code",
   "execution_count": 120,
   "metadata": {},
   "outputs": [
    {
     "output_type": "execute_result",
     "data": {
      "text/plain": "  country     mean\n0      AT  39800.0\n1      BG   5487.5\n2      CZ  14025.0\n3      DE  39602.5\n4      DK  38437.5",
      "text/html": "<div>\n<style scoped>\n    .dataframe tbody tr th:only-of-type {\n        vertical-align: middle;\n    }\n\n    .dataframe tbody tr th {\n        vertical-align: top;\n    }\n\n    .dataframe thead th {\n        text-align: right;\n    }\n</style>\n<table border=\"1\" class=\"dataframe\">\n  <thead>\n    <tr style=\"text-align: right;\">\n      <th></th>\n      <th>country</th>\n      <th>mean</th>\n    </tr>\n  </thead>\n  <tbody>\n    <tr>\n      <th>0</th>\n      <td>AT</td>\n      <td>39800.0</td>\n    </tr>\n    <tr>\n      <th>1</th>\n      <td>BG</td>\n      <td>5487.5</td>\n    </tr>\n    <tr>\n      <th>2</th>\n      <td>CZ</td>\n      <td>14025.0</td>\n    </tr>\n    <tr>\n      <th>3</th>\n      <td>DE</td>\n      <td>39602.5</td>\n    </tr>\n    <tr>\n      <th>4</th>\n      <td>DK</td>\n      <td>38437.5</td>\n    </tr>\n  </tbody>\n</table>\n</div>"
     },
     "metadata": {},
     "execution_count": 120
    }
   ],
   "source": [
    "country_mean = abs_preds.groupby('country')['test_true_vals'].mean().reset_index()\n",
    "country_mean.columns = ['country','mean']\n",
    "country_mean.head()"
   ]
  },
  {
   "cell_type": "code",
   "execution_count": 121,
   "metadata": {},
   "outputs": [],
   "source": [
    "relative_country_stats = relative_country.merge(country_std, on='country',how='left').merge(country_mean, on='country',how='left')\n",
    "absolute_country_stats = absolute_country.merge(country_std, on='country',how='left').merge(country_mean, on='country',how='left')"
   ]
  },
  {
   "cell_type": "code",
   "execution_count": 125,
   "metadata": {},
   "outputs": [
    {
     "output_type": "execute_result",
     "data": {
      "text/plain": "   country           mae           mse  size          std          mean\n0       ME    513.488770  2.636707e+05     3   404.145188   5966.666667\n1       BG    622.249832  5.800257e+05     8   499.821397   5487.500000\n2       PL    818.868851  9.796654e+05     4   457.347424   9175.000000\n3       SK    873.117889  1.281159e+06     4   485.626743  13775.000000\n4       CZ   1237.313156  1.854997e+06     8  1020.853984  14025.000000\n5       PT   1305.351990  2.543652e+06    16  1603.004991  16718.750000\n6       TR   1733.978996  3.923786e+06    16   816.675170   6781.250000\n7       LV   1780.246948  4.030403e+06     4   898.146239  12700.000000\n8       RO   2120.458679  5.980381e+06     8  1640.502972   6562.500000\n9       NL   2181.553141  8.645790e+06    12  3233.384098  40025.000000\n10      EL   2815.152496  1.288799e+07    20  3806.818675  15285.000000\n11      ES   3978.881416  1.692507e+07    16  3438.119641  20525.000000\n12      AT   6033.011738  4.127769e+07    16  6772.394948  39800.000000\n13      LT   6488.488770  4.219236e+07     4  1393.735986  19425.000000\n14      FR   5459.857381  4.241780e+07    15  3473.546287  27313.333333\n15      DE   5559.834829  6.038223e+07    40  7570.099329  39602.500000\n16      UK   7194.183084  6.274256e+07    28  3713.886069  28746.428571\n17      IT   7628.089600  6.314076e+07    12  6382.979261  22233.333333\n18      DK   9227.324646  1.121144e+08     8  5494.916482  38437.500000\n19      HU  12958.266693  1.696158e+08     4  1699.019325  23700.000000",
      "text/html": "<div>\n<style scoped>\n    .dataframe tbody tr th:only-of-type {\n        vertical-align: middle;\n    }\n\n    .dataframe tbody tr th {\n        vertical-align: top;\n    }\n\n    .dataframe thead th {\n        text-align: right;\n    }\n</style>\n<table border=\"1\" class=\"dataframe\">\n  <thead>\n    <tr style=\"text-align: right;\">\n      <th></th>\n      <th>country</th>\n      <th>mae</th>\n      <th>mse</th>\n      <th>size</th>\n      <th>std</th>\n      <th>mean</th>\n    </tr>\n  </thead>\n  <tbody>\n    <tr>\n      <th>0</th>\n      <td>ME</td>\n      <td>513.488770</td>\n      <td>2.636707e+05</td>\n      <td>3</td>\n      <td>404.145188</td>\n      <td>5966.666667</td>\n    </tr>\n    <tr>\n      <th>1</th>\n      <td>BG</td>\n      <td>622.249832</td>\n      <td>5.800257e+05</td>\n      <td>8</td>\n      <td>499.821397</td>\n      <td>5487.500000</td>\n    </tr>\n    <tr>\n      <th>2</th>\n      <td>PL</td>\n      <td>818.868851</td>\n      <td>9.796654e+05</td>\n      <td>4</td>\n      <td>457.347424</td>\n      <td>9175.000000</td>\n    </tr>\n    <tr>\n      <th>3</th>\n      <td>SK</td>\n      <td>873.117889</td>\n      <td>1.281159e+06</td>\n      <td>4</td>\n      <td>485.626743</td>\n      <td>13775.000000</td>\n    </tr>\n    <tr>\n      <th>4</th>\n      <td>CZ</td>\n      <td>1237.313156</td>\n      <td>1.854997e+06</td>\n      <td>8</td>\n      <td>1020.853984</td>\n      <td>14025.000000</td>\n    </tr>\n    <tr>\n      <th>5</th>\n      <td>PT</td>\n      <td>1305.351990</td>\n      <td>2.543652e+06</td>\n      <td>16</td>\n      <td>1603.004991</td>\n      <td>16718.750000</td>\n    </tr>\n    <tr>\n      <th>6</th>\n      <td>TR</td>\n      <td>1733.978996</td>\n      <td>3.923786e+06</td>\n      <td>16</td>\n      <td>816.675170</td>\n      <td>6781.250000</td>\n    </tr>\n    <tr>\n      <th>7</th>\n      <td>LV</td>\n      <td>1780.246948</td>\n      <td>4.030403e+06</td>\n      <td>4</td>\n      <td>898.146239</td>\n      <td>12700.000000</td>\n    </tr>\n    <tr>\n      <th>8</th>\n      <td>RO</td>\n      <td>2120.458679</td>\n      <td>5.980381e+06</td>\n      <td>8</td>\n      <td>1640.502972</td>\n      <td>6562.500000</td>\n    </tr>\n    <tr>\n      <th>9</th>\n      <td>NL</td>\n      <td>2181.553141</td>\n      <td>8.645790e+06</td>\n      <td>12</td>\n      <td>3233.384098</td>\n      <td>40025.000000</td>\n    </tr>\n    <tr>\n      <th>10</th>\n      <td>EL</td>\n      <td>2815.152496</td>\n      <td>1.288799e+07</td>\n      <td>20</td>\n      <td>3806.818675</td>\n      <td>15285.000000</td>\n    </tr>\n    <tr>\n      <th>11</th>\n      <td>ES</td>\n      <td>3978.881416</td>\n      <td>1.692507e+07</td>\n      <td>16</td>\n      <td>3438.119641</td>\n      <td>20525.000000</td>\n    </tr>\n    <tr>\n      <th>12</th>\n      <td>AT</td>\n      <td>6033.011738</td>\n      <td>4.127769e+07</td>\n      <td>16</td>\n      <td>6772.394948</td>\n      <td>39800.000000</td>\n    </tr>\n    <tr>\n      <th>13</th>\n      <td>LT</td>\n      <td>6488.488770</td>\n      <td>4.219236e+07</td>\n      <td>4</td>\n      <td>1393.735986</td>\n      <td>19425.000000</td>\n    </tr>\n    <tr>\n      <th>14</th>\n      <td>FR</td>\n      <td>5459.857381</td>\n      <td>4.241780e+07</td>\n      <td>15</td>\n      <td>3473.546287</td>\n      <td>27313.333333</td>\n    </tr>\n    <tr>\n      <th>15</th>\n      <td>DE</td>\n      <td>5559.834829</td>\n      <td>6.038223e+07</td>\n      <td>40</td>\n      <td>7570.099329</td>\n      <td>39602.500000</td>\n    </tr>\n    <tr>\n      <th>16</th>\n      <td>UK</td>\n      <td>7194.183084</td>\n      <td>6.274256e+07</td>\n      <td>28</td>\n      <td>3713.886069</td>\n      <td>28746.428571</td>\n    </tr>\n    <tr>\n      <th>17</th>\n      <td>IT</td>\n      <td>7628.089600</td>\n      <td>6.314076e+07</td>\n      <td>12</td>\n      <td>6382.979261</td>\n      <td>22233.333333</td>\n    </tr>\n    <tr>\n      <th>18</th>\n      <td>DK</td>\n      <td>9227.324646</td>\n      <td>1.121144e+08</td>\n      <td>8</td>\n      <td>5494.916482</td>\n      <td>38437.500000</td>\n    </tr>\n    <tr>\n      <th>19</th>\n      <td>HU</td>\n      <td>12958.266693</td>\n      <td>1.696158e+08</td>\n      <td>4</td>\n      <td>1699.019325</td>\n      <td>23700.000000</td>\n    </tr>\n  </tbody>\n</table>\n</div>"
     },
     "metadata": {},
     "execution_count": 125
    }
   ],
   "source": [
    "relative_country_stats.head(20)"
   ]
  },
  {
   "cell_type": "code",
   "execution_count": 124,
   "metadata": {},
   "outputs": [],
   "source": [
    "relative_country_stats.to_csv(\"/Users/maxbehrens/Documents/Msc/Thesis/Data/results/result_relative_country_std.csv\", index=False)\n",
    "absolute_country_stats.to_csv(\"/Users/maxbehrens/Documents/Msc/Thesis/Data/results/result_absolute_country_std.csv\", index=False)"
   ]
  },
  {
   "cell_type": "markdown",
   "metadata": {},
   "source": [
    "## Convert results into latex table output"
   ]
  },
  {
   "cell_type": "code",
   "execution_count": 127,
   "metadata": {},
   "outputs": [
    {
     "output_type": "stream",
     "name": "stdout",
     "text": "Hungary & \\multicolumn{1}{c}{13982832} & \\multicolumn{1}{c}{3538} & \\multicolumn{1}{c}{4} & \\multicolumn{1}{c}{23700} & \\multicolumn{1}{c}{1699} \\\\ [1.1ex]\nUnited Kingdom & \\multicolumn{1}{c}{35640754} & \\multicolumn{1}{c}{4685} & \\multicolumn{1}{c}{28} & \\multicolumn{1}{c}{28746} & \\multicolumn{1}{c}{3714} \\\\ [1.1ex]\nSpain & \\multicolumn{1}{c}{35879807} & \\multicolumn{1}{c}{5281} & \\multicolumn{1}{c}{16} & \\multicolumn{1}{c}{20525} & \\multicolumn{1}{c}{3438} \\\\ [1.1ex]\nLithuania & \\multicolumn{1}{c}{50025422} & \\multicolumn{1}{c}{6407} & \\multicolumn{1}{c}{4} & \\multicolumn{1}{c}{19425} & \\multicolumn{1}{c}{1394} \\\\ [1.1ex]\nFrance & \\multicolumn{1}{c}{50855480} & \\multicolumn{1}{c}{5833} & \\multicolumn{1}{c}{15} & \\multicolumn{1}{c}{27313} & \\multicolumn{1}{c}{3474} \\\\ [1.1ex]\nItaly & \\multicolumn{1}{c}{58833615} & \\multicolumn{1}{c}{6635} & \\multicolumn{1}{c}{12} & \\multicolumn{1}{c}{22233} & \\multicolumn{1}{c}{6383} \\\\ [1.1ex]\nPortugal & \\multicolumn{1}{c}{62129150} & \\multicolumn{1}{c}{7237} & \\multicolumn{1}{c}{16} & \\multicolumn{1}{c}{16719} & \\multicolumn{1}{c}{1603} \\\\ [1.1ex]\nGreece & \\multicolumn{1}{c}{107072286} & \\multicolumn{1}{c}{8904} & \\multicolumn{1}{c}{20} & \\multicolumn{1}{c}{15285} & \\multicolumn{1}{c}{3807} \\\\ [1.1ex]\nSlovakia & \\multicolumn{1}{c}{114819775} & \\multicolumn{1}{c}{10393} & \\multicolumn{1}{c}{4} & \\multicolumn{1}{c}{13775} & \\multicolumn{1}{c}{486} \\\\ [1.1ex]\nCzechia & \\multicolumn{1}{c}{136526347} & \\multicolumn{1}{c}{11137} & \\multicolumn{1}{c}{8} & \\multicolumn{1}{c}{14025} & \\multicolumn{1}{c}{1021} \\\\ [1.1ex]\nLatvia & \\multicolumn{1}{c}{206346691} & \\multicolumn{1}{c}{13978} & \\multicolumn{1}{c}{4} & \\multicolumn{1}{c}{12700} & \\multicolumn{1}{c}{898} \\\\ [1.1ex]\nPoland & \\multicolumn{1}{c}{219900773} & \\multicolumn{1}{c}{14778} & \\multicolumn{1}{c}{4} & \\multicolumn{1}{c}{9175} & \\multicolumn{1}{c}{457} \\\\ [1.1ex]\nTurkey & \\multicolumn{1}{c}{260948637} & \\multicolumn{1}{c}{15379} & \\multicolumn{1}{c}{16} & \\multicolumn{1}{c}{6781} & \\multicolumn{1}{c}{817} \\\\ [1.1ex]\nNetherlands & \\multicolumn{1}{c}{262132354} & \\multicolumn{1}{c}{15638} & \\multicolumn{1}{c}{12} & \\multicolumn{1}{c}{40025} & \\multicolumn{1}{c}{3233} \\\\ [1.1ex]\nDenmark & \\multicolumn{1}{c}{263387736} & \\multicolumn{1}{c}{14990} & \\multicolumn{1}{c}{8} & \\multicolumn{1}{c}{38438} & \\multicolumn{1}{c}{5495} \\\\ [1.1ex]\nGermany & \\multicolumn{1}{c}{283623286} & \\multicolumn{1}{c}{14938} & \\multicolumn{1}{c}{40} & \\multicolumn{1}{c}{39602} & \\multicolumn{1}{c}{7570} \\\\ [1.1ex]\nAustria & \\multicolumn{1}{c}{313878393} & \\multicolumn{1}{c}{14723} & \\multicolumn{1}{c}{16} & \\multicolumn{1}{c}{39800} & \\multicolumn{1}{c}{6772} \\\\ [1.1ex]\nMontenegro & \\multicolumn{1}{c}{325611845} & \\multicolumn{1}{c}{17119} & \\multicolumn{1}{c}{3} & \\multicolumn{1}{c}{5967} & \\multicolumn{1}{c}{404} \\\\ [1.1ex]\nRomania & \\multicolumn{1}{c}{375524755} & \\multicolumn{1}{c}{18891} & \\multicolumn{1}{c}{8} & \\multicolumn{1}{c}{6562} & \\multicolumn{1}{c}{1641} \\\\ [1.1ex]\nBulgaria & \\multicolumn{1}{c}{375624776} & \\multicolumn{1}{c}{18978} & \\multicolumn{1}{c}{8} & \\multicolumn{1}{c}{5488} & \\multicolumn{1}{c}{500} \\\\ [1.1ex]\n"
    }
   ],
   "source": [
    "for index, row in absolute_country_stats.sort_values('mse').iterrows():\n",
    "    print(country_codes.loc[country_codes['Code']==row['country'],'Country'].values[0]+\" & \\multicolumn{1}{c}{\"+str(round(row['mse']))+\"} & \\multicolumn{1}{c}{\"+str(round(row['mae']))+\"} & \\multicolumn{1}{c}{\"+str(round(row['size']))+\"} & \\multicolumn{1}{c}{\"+str(round(row['mean']))+\"} & \\multicolumn{1}{c}{\"+str(round(row['std']))+\"} \\\\\\ [1.1ex]\")"
   ]
  },
  {
   "cell_type": "code",
   "execution_count": 128,
   "metadata": {},
   "outputs": [
    {
     "output_type": "stream",
     "name": "stdout",
     "text": "Montenegro & \\multicolumn{1}{c}{263671} & \\multicolumn{1}{c}{513} & \\multicolumn{1}{c}{3} & \\multicolumn{1}{c}{5967} & \\multicolumn{1}{c}{404} \\\\ [1.1ex]\nBulgaria & \\multicolumn{1}{c}{580026} & \\multicolumn{1}{c}{622} & \\multicolumn{1}{c}{8} & \\multicolumn{1}{c}{5488} & \\multicolumn{1}{c}{500} \\\\ [1.1ex]\nPoland & \\multicolumn{1}{c}{979665} & \\multicolumn{1}{c}{819} & \\multicolumn{1}{c}{4} & \\multicolumn{1}{c}{9175} & \\multicolumn{1}{c}{457} \\\\ [1.1ex]\nSlovakia & \\multicolumn{1}{c}{1281159} & \\multicolumn{1}{c}{873} & \\multicolumn{1}{c}{4} & \\multicolumn{1}{c}{13775} & \\multicolumn{1}{c}{486} \\\\ [1.1ex]\nCzechia & \\multicolumn{1}{c}{1854997} & \\multicolumn{1}{c}{1237} & \\multicolumn{1}{c}{8} & \\multicolumn{1}{c}{14025} & \\multicolumn{1}{c}{1021} \\\\ [1.1ex]\nPortugal & \\multicolumn{1}{c}{2543652} & \\multicolumn{1}{c}{1305} & \\multicolumn{1}{c}{16} & \\multicolumn{1}{c}{16719} & \\multicolumn{1}{c}{1603} \\\\ [1.1ex]\nTurkey & \\multicolumn{1}{c}{3923786} & \\multicolumn{1}{c}{1734} & \\multicolumn{1}{c}{16} & \\multicolumn{1}{c}{6781} & \\multicolumn{1}{c}{817} \\\\ [1.1ex]\nLatvia & \\multicolumn{1}{c}{4030403} & \\multicolumn{1}{c}{1780} & \\multicolumn{1}{c}{4} & \\multicolumn{1}{c}{12700} & \\multicolumn{1}{c}{898} \\\\ [1.1ex]\nRomania & \\multicolumn{1}{c}{5980381} & \\multicolumn{1}{c}{2120} & \\multicolumn{1}{c}{8} & \\multicolumn{1}{c}{6562} & \\multicolumn{1}{c}{1641} \\\\ [1.1ex]\nNetherlands & \\multicolumn{1}{c}{8645790} & \\multicolumn{1}{c}{2182} & \\multicolumn{1}{c}{12} & \\multicolumn{1}{c}{40025} & \\multicolumn{1}{c}{3233} \\\\ [1.1ex]\nGreece & \\multicolumn{1}{c}{12887990} & \\multicolumn{1}{c}{2815} & \\multicolumn{1}{c}{20} & \\multicolumn{1}{c}{15285} & \\multicolumn{1}{c}{3807} \\\\ [1.1ex]\nSpain & \\multicolumn{1}{c}{16925072} & \\multicolumn{1}{c}{3979} & \\multicolumn{1}{c}{16} & \\multicolumn{1}{c}{20525} & \\multicolumn{1}{c}{3438} \\\\ [1.1ex]\nAustria & \\multicolumn{1}{c}{41277692} & \\multicolumn{1}{c}{6033} & \\multicolumn{1}{c}{16} & \\multicolumn{1}{c}{39800} & \\multicolumn{1}{c}{6772} \\\\ [1.1ex]\nLithuania & \\multicolumn{1}{c}{42192362} & \\multicolumn{1}{c}{6488} & \\multicolumn{1}{c}{4} & \\multicolumn{1}{c}{19425} & \\multicolumn{1}{c}{1394} \\\\ [1.1ex]\nFrance & \\multicolumn{1}{c}{42417796} & \\multicolumn{1}{c}{5460} & \\multicolumn{1}{c}{15} & \\multicolumn{1}{c}{27313} & \\multicolumn{1}{c}{3474} \\\\ [1.1ex]\nGermany & \\multicolumn{1}{c}{60382234} & \\multicolumn{1}{c}{5560} & \\multicolumn{1}{c}{40} & \\multicolumn{1}{c}{39602} & \\multicolumn{1}{c}{7570} \\\\ [1.1ex]\nUnited Kingdom & \\multicolumn{1}{c}{62742560} & \\multicolumn{1}{c}{7194} & \\multicolumn{1}{c}{28} & \\multicolumn{1}{c}{28746} & \\multicolumn{1}{c}{3714} \\\\ [1.1ex]\nItaly & \\multicolumn{1}{c}{63140758} & \\multicolumn{1}{c}{7628} & \\multicolumn{1}{c}{12} & \\multicolumn{1}{c}{22233} & \\multicolumn{1}{c}{6383} \\\\ [1.1ex]\nDenmark & \\multicolumn{1}{c}{112114400} & \\multicolumn{1}{c}{9227} & \\multicolumn{1}{c}{8} & \\multicolumn{1}{c}{38438} & \\multicolumn{1}{c}{5495} \\\\ [1.1ex]\nHungary & \\multicolumn{1}{c}{169615758} & \\multicolumn{1}{c}{12958} & \\multicolumn{1}{c}{4} & \\multicolumn{1}{c}{23700} & \\multicolumn{1}{c}{1699} \\\\ [1.1ex]\n"
    }
   ],
   "source": [
    "for index, row in relative_country_stats.sort_values('mse').iterrows():\n",
    "    print(country_codes.loc[country_codes['Code']==row['country'],'Country'].values[0]+\" & \\multicolumn{1}{c}{\"+str(round(row['mse']))+\"} & \\multicolumn{1}{c}{\"+str(round(row['mae']))+\"} & \\multicolumn{1}{c}{\"+str(round(row['size']))+\"} & \\multicolumn{1}{c}{\"+str(round(row['mean']))+\"} & \\multicolumn{1}{c}{\"+str(round(row['std']))+\"} \\\\\\ [1.1ex]\")"
   ]
  },
  {
   "cell_type": "code",
   "execution_count": null,
   "metadata": {},
   "outputs": [],
   "source": []
  }
 ]
}