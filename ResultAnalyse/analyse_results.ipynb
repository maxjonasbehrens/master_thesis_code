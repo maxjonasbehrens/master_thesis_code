{
 "nbformat": 4,
 "nbformat_minor": 2,
 "metadata": {
  "language_info": {
   "name": "python",
   "codemirror_mode": {
    "name": "ipython",
    "version": 3
   },
   "version": "3.7.4-final"
  },
  "orig_nbformat": 2,
  "file_extension": ".py",
  "mimetype": "text/x-python",
  "name": "python",
  "npconvert_exporter": "python",
  "pygments_lexer": "ipython3",
  "version": 3,
  "kernelspec": {
   "name": "python37464bitminiconda3virtualenv50a318cd79ca4af7924999d0c66ee6d6",
   "display_name": "Python 3.7.4 64-bit ('miniconda3': virtualenv)"
  }
 },
 "cells": [
  {
   "cell_type": "markdown",
   "metadata": {},
   "source": [
    "# Notebook to analyse Results from CNN Training"
   ]
  },
  {
   "cell_type": "code",
   "execution_count": 1,
   "metadata": {},
   "outputs": [],
   "source": [
    "# Load needed packages\n",
    "import numpy as np\n",
    "import pandas as pd\n",
    "import matplotlib.pyplot as pyplot"
   ]
  },
  {
   "cell_type": "code",
   "execution_count": 5,
   "metadata": {},
   "outputs": [
    {
     "name": "stdout",
     "output_type": "stream",
     "text": "date  no_layers  batch_size  epochs  res  dims  train_mse  \\\n38  2020-03-28         14          16      35  256     3   1.000340   \n39  2020-03-28         14          16      39  256     3   1.000341   \n40  2020-03-28         14          16      45  256     3   1.000036   \n41  2020-03-28         14          16      62  256     3   1.000063   \n42  2020-03-28         14          16      59  256     3   1.000066   \n43  2020-03-28         14          16      61  256     3   1.000067   \n44  2020-03-28        786          16      54  256     3   0.737364   \n45  2020-03-28        786          16      62  256     3   0.421838   \n46  2020-03-28        786          16      91  256     3   0.330426   \n47  2020-03-28        786          16      33  256     3   0.472859   \n\n    train_mae   val_mse   val_mae      test_mse     test_mae         transfer  \\\n38   0.397556  0.205472  0.336306  3.649610e+07  4496.582847          m_model   \n39   0.397540  0.205449  0.336277  3.649592e+07  4496.558034          m_model   \n40   0.401754  0.210162  0.341815  3.697409e+07  4562.039520          m_model   \n41   0.400591  0.208831  0.340292  3.703529e+07  4570.274386          m_model   \n42   0.400444  0.208666  0.340102  3.703943e+07  4570.829376          m_model   \n43   0.400419  0.208639  0.340071  3.703973e+07  4570.869237          m_model   \n44   0.255779  0.269529  0.403085  4.105822e+07  4871.202389  inception_model   \n45   0.263398  0.224134  0.357456  4.336239e+07  5090.437821  inception_model   \n46   0.248668  0.206927  0.343514  8.542570e+07  6357.400156  inception_model   \n47   0.297498  0.228052  0.361035  8.424416e+07  6296.724218  inception_model   \n\n          lr    optim      comment         type Prediction  \n38  0.000010  rmsprob  iterated nn  viirs_night  nuts_diff  \n39  0.000001  rmsprob  iterated nn  viirs_night  nuts_diff  \n40  0.001000   adamax  iterated nn  viirs_night  nuts_diff  \n41  0.000100   adamax  iterated nn  viirs_night  nuts_diff  \n42  0.000010   adamax  iterated nn  viirs_night  nuts_diff  \n43  0.000001   adamax  iterated nn  viirs_night  nuts_diff  \n44  0.001000      sgd  iterated nn  viirs_night  nuts_diff  \n45  0.000100      sgd  iterated nn  viirs_night  nuts_diff  \n46  0.000010      sgd  iterated nn  viirs_night  nuts_diff  \n47  0.000001      sgd  iterated nn  viirs_night  nuts_diff  \n(48, 18)\n"
    }
   ],
   "source": [
    "# Import result data\n",
    "res_dat = pd.read_excel(\"/Users/maxbehrens/Documents/Msc/Thesis/Data/results/cnn_results_cleaned.xlsx\", skiprows=1)\n",
    "res_dat.loc[res_dat['lr']==1,'lr'] = 0.001\n",
    "print(res_dat.tail(10))\n",
    "print(res_dat.shape)"
   ]
  },
  {
   "cell_type": "markdown",
   "metadata": {},
   "source": [
    "## Optimising Function\n",
    "\n",
    "Adam seems to work best."
   ]
  },
  {
   "cell_type": "code",
   "execution_count": 13,
   "metadata": {},
   "outputs": [
    {
     "data": {
      "text/html": "<div>\n<style scoped>\n    .dataframe tbody tr th:only-of-type {\n        vertical-align: middle;\n    }\n\n    .dataframe tbody tr th {\n        vertical-align: top;\n    }\n\n    .dataframe thead th {\n        text-align: right;\n    }\n</style>\n<table border=\"1\" class=\"dataframe\">\n  <thead>\n    <tr style=\"text-align: right;\">\n      <th></th>\n      <th>Prediction</th>\n      <th>optim</th>\n      <th>val_mse</th>\n    </tr>\n  </thead>\n  <tbody>\n    <tr>\n      <th>2</th>\n      <td>nuts_diff</td>\n      <td>rmsprob</td>\n      <td>0.204225</td>\n    </tr>\n    <tr>\n      <th>1</th>\n      <td>nuts_diff</td>\n      <td>adamax</td>\n      <td>0.209147</td>\n    </tr>\n    <tr>\n      <th>3</th>\n      <td>nuts_diff</td>\n      <td>sgd</td>\n      <td>0.218564</td>\n    </tr>\n    <tr>\n      <th>0</th>\n      <td>nuts_diff</td>\n      <td>adam</td>\n      <td>0.350007</td>\n    </tr>\n  </tbody>\n</table>\n</div>",
      "text/plain": "  Prediction    optim   val_mse\n2  nuts_diff  rmsprob  0.204225\n1  nuts_diff   adamax  0.209147\n3  nuts_diff      sgd  0.218564\n0  nuts_diff     adam  0.350007"
     },
     "execution_count": 13,
     "metadata": {},
     "output_type": "execute_result"
    }
   ],
   "source": [
    "res_dat.groupby(['Prediction','optim'])['val_mse'].mean().reset_index().sort_values('val_mse')"
   ]
  },
  {
   "cell_type": "markdown",
   "metadata": {},
   "source": [
    "## Model Type\n",
    "\n",
    "- For nuts_value smaller models and transfer learning seems to lead to better results.\n",
    "- For nuts_diff transfer models and larger models seems to work better"
   ]
  },
  {
   "cell_type": "code",
   "execution_count": 9,
   "metadata": {},
   "outputs": [
    {
     "data": {
      "text/html": "<div>\n<style scoped>\n    .dataframe tbody tr th:only-of-type {\n        vertical-align: middle;\n    }\n\n    .dataframe tbody tr th {\n        vertical-align: top;\n    }\n\n    .dataframe thead th {\n        text-align: right;\n    }\n</style>\n<table border=\"1\" class=\"dataframe\">\n  <thead>\n    <tr style=\"text-align: right;\">\n      <th></th>\n      <th>Prediction</th>\n      <th>transfer</th>\n      <th>val_mse</th>\n    </tr>\n  </thead>\n  <tbody>\n    <tr>\n      <th>3</th>\n      <td>nuts_diff</td>\n      <td>xs_model</td>\n      <td>0.208664</td>\n    </tr>\n    <tr>\n      <th>1</th>\n      <td>nuts_diff</td>\n      <td>m_model</td>\n      <td>0.209402</td>\n    </tr>\n    <tr>\n      <th>0</th>\n      <td>nuts_diff</td>\n      <td>inception_model</td>\n      <td>0.232161</td>\n    </tr>\n    <tr>\n      <th>2</th>\n      <td>nuts_diff</td>\n      <td>s_model</td>\n      <td>0.347134</td>\n    </tr>\n  </tbody>\n</table>\n</div>",
      "text/plain": "  Prediction         transfer   val_mse\n3  nuts_diff         xs_model  0.208664\n1  nuts_diff          m_model  0.209402\n0  nuts_diff  inception_model  0.232161\n2  nuts_diff          s_model  0.347134"
     },
     "execution_count": 9,
     "metadata": {},
     "output_type": "execute_result"
    }
   ],
   "source": [
    "res_dat.groupby(['Prediction','transfer'])['val_mse'].mean().reset_index().sort_values(['val_mse'])"
   ]
  },
  {
   "cell_type": "markdown",
   "metadata": {},
   "source": [
    "## Learning Rate\n",
    "\n",
    "Smaller learning rate seems to improve the results."
   ]
  },
  {
   "cell_type": "code",
   "execution_count": 10,
   "metadata": {},
   "outputs": [
    {
     "data": {
      "text/html": "<div>\n<style scoped>\n    .dataframe tbody tr th:only-of-type {\n        vertical-align: middle;\n    }\n\n    .dataframe tbody tr th {\n        vertical-align: top;\n    }\n\n    .dataframe thead th {\n        text-align: right;\n    }\n</style>\n<table border=\"1\" class=\"dataframe\">\n  <thead>\n    <tr style=\"text-align: right;\">\n      <th></th>\n      <th>Prediction</th>\n      <th>lr</th>\n      <th>val_mse</th>\n    </tr>\n  </thead>\n  <tbody>\n    <tr>\n      <th>2</th>\n      <td>nuts_diff</td>\n      <td>0.000100</td>\n      <td>0.218337</td>\n    </tr>\n    <tr>\n      <th>0</th>\n      <td>nuts_diff</td>\n      <td>0.000001</td>\n      <td>0.234603</td>\n    </tr>\n    <tr>\n      <th>1</th>\n      <td>nuts_diff</td>\n      <td>0.000010</td>\n      <td>0.236487</td>\n    </tr>\n    <tr>\n      <th>3</th>\n      <td>nuts_diff</td>\n      <td>0.001000</td>\n      <td>0.292516</td>\n    </tr>\n  </tbody>\n</table>\n</div>",
      "text/plain": "  Prediction        lr   val_mse\n2  nuts_diff  0.000100  0.218337\n0  nuts_diff  0.000001  0.234603\n1  nuts_diff  0.000010  0.236487\n3  nuts_diff  0.001000  0.292516"
     },
     "execution_count": 10,
     "metadata": {},
     "output_type": "execute_result"
    }
   ],
   "source": [
    "res_dat.groupby(['Prediction','lr'])['val_mse'].mean().reset_index().sort_values(['val_mse'])"
   ]
  },
  {
   "cell_type": "markdown",
   "metadata": {},
   "source": [
    "## Batch Size\n",
    "\n",
    "Batch size seems not to make a difference."
   ]
  },
  {
   "cell_type": "code",
   "execution_count": 11,
   "metadata": {},
   "outputs": [
    {
     "data": {
      "text/html": "<div>\n<style scoped>\n    .dataframe tbody tr th:only-of-type {\n        vertical-align: middle;\n    }\n\n    .dataframe tbody tr th {\n        vertical-align: top;\n    }\n\n    .dataframe thead th {\n        text-align: right;\n    }\n</style>\n<table border=\"1\" class=\"dataframe\">\n  <thead>\n    <tr style=\"text-align: right;\">\n      <th></th>\n      <th>Prediction</th>\n      <th>batch_size</th>\n      <th>val_mse</th>\n    </tr>\n  </thead>\n  <tbody>\n    <tr>\n      <th>0</th>\n      <td>nuts_diff</td>\n      <td>8</td>\n      <td>0.208664</td>\n    </tr>\n    <tr>\n      <th>1</th>\n      <td>nuts_diff</td>\n      <td>16</td>\n      <td>0.263896</td>\n    </tr>\n  </tbody>\n</table>\n</div>",
      "text/plain": "  Prediction  batch_size   val_mse\n0  nuts_diff           8  0.208664\n1  nuts_diff          16  0.263896"
     },
     "execution_count": 11,
     "metadata": {},
     "output_type": "execute_result"
    }
   ],
   "source": [
    "res_dat.groupby(['Prediction','batch_size'])['val_mse'].mean().reset_index().sort_values(['val_mse'])"
   ]
  },
  {
   "cell_type": "code",
   "execution_count": null,
   "metadata": {},
   "outputs": [],
   "source": []
  }
 ]
}