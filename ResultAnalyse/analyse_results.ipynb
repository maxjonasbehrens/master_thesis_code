{
 "cells": [
  {
   "cell_type": "markdown",
   "metadata": {},
   "source": [
    "# Notebook to Analyse Results from CNN Training"
   ]
  },
  {
   "cell_type": "code",
   "execution_count": 1,
   "metadata": {},
   "outputs": [],
   "source": [
    "# Load needed packages\n",
    "import numpy as np\n",
    "import pandas as pd\n",
    "import matplotlib.pyplot as pyplot\n",
    "from sklearn.linear_model import LinearRegression"
   ]
  },
  {
   "cell_type": "code",
   "execution_count": 2,
   "metadata": {},
   "outputs": [
    {
     "output_type": "stream",
     "name": "stdout",
     "text": "Absolute DF: (75, 18)\nRelative DF: (77, 18)\nCombined DF: (152, 18)\n"
    }
   ],
   "source": [
    "# Import result data and combine DF from both GDP metrics\n",
    "res_dat = pd.read_csv(\"/Users/maxbehrens/Documents/Msc/Thesis/Data/results/cnn_results_final.csv\")\n",
    "print('Absolute DF: '+str(res_dat.shape))\n",
    "res_dat_diff = pd.read_csv(\"/Users/maxbehrens/Documents/Msc/Thesis/Data/results/cnn_results_diff.csv\")\n",
    "print('Relative DF: '+str(res_dat_diff.shape))\n",
    "res_dat = res_dat.append(res_dat_diff)\n",
    "print('Combined DF: '+str(res_dat.shape))\n",
    "res_dat.reset_index(drop=True, inplace=True)"
   ]
  },
  {
   "cell_type": "markdown",
   "metadata": {},
   "source": [
    "# Filter by Validation MSE"
   ]
  },
  {
   "cell_type": "markdown",
   "metadata": {},
   "source": [
    "## Results per Optimising Function\n",
    "\n",
    "Just experimental as not very representative."
   ]
  },
  {
   "cell_type": "code",
   "execution_count": 3,
   "metadata": {},
   "outputs": [
    {
     "output_type": "execute_result",
     "data": {
      "text/plain": "   prediction    optim     val_mse\n3   nuts_diff      sgd    0.402534\n7  nuts_value      sgd    0.682682\n6  nuts_value  rmsprob    5.105038\n2   nuts_diff  rmsprob    8.221484\n4  nuts_value     adam   12.708447\n0   nuts_diff     adam   14.079164\n5  nuts_value   adamax   38.195111\n1   nuts_diff   adamax  192.523990",
      "text/html": "<div>\n<style scoped>\n    .dataframe tbody tr th:only-of-type {\n        vertical-align: middle;\n    }\n\n    .dataframe tbody tr th {\n        vertical-align: top;\n    }\n\n    .dataframe thead th {\n        text-align: right;\n    }\n</style>\n<table border=\"1\" class=\"dataframe\">\n  <thead>\n    <tr style=\"text-align: right;\">\n      <th></th>\n      <th>prediction</th>\n      <th>optim</th>\n      <th>val_mse</th>\n    </tr>\n  </thead>\n  <tbody>\n    <tr>\n      <th>3</th>\n      <td>nuts_diff</td>\n      <td>sgd</td>\n      <td>0.402534</td>\n    </tr>\n    <tr>\n      <th>7</th>\n      <td>nuts_value</td>\n      <td>sgd</td>\n      <td>0.682682</td>\n    </tr>\n    <tr>\n      <th>6</th>\n      <td>nuts_value</td>\n      <td>rmsprob</td>\n      <td>5.105038</td>\n    </tr>\n    <tr>\n      <th>2</th>\n      <td>nuts_diff</td>\n      <td>rmsprob</td>\n      <td>8.221484</td>\n    </tr>\n    <tr>\n      <th>4</th>\n      <td>nuts_value</td>\n      <td>adam</td>\n      <td>12.708447</td>\n    </tr>\n    <tr>\n      <th>0</th>\n      <td>nuts_diff</td>\n      <td>adam</td>\n      <td>14.079164</td>\n    </tr>\n    <tr>\n      <th>5</th>\n      <td>nuts_value</td>\n      <td>adamax</td>\n      <td>38.195111</td>\n    </tr>\n    <tr>\n      <th>1</th>\n      <td>nuts_diff</td>\n      <td>adamax</td>\n      <td>192.523990</td>\n    </tr>\n  </tbody>\n</table>\n</div>"
     },
     "metadata": {},
     "execution_count": 3
    }
   ],
   "source": [
    "# Groupby Optimiser\n",
    "res_dat.groupby(['prediction','optim'])['val_mse'].mean().reset_index().sort_values('val_mse')"
   ]
  },
  {
   "cell_type": "markdown",
   "metadata": {},
   "source": [
    "## Model Type\n",
    "\n",
    "Transfer Models seem to work best."
   ]
  },
  {
   "cell_type": "code",
   "execution_count": 4,
   "metadata": {},
   "outputs": [
    {
     "output_type": "execute_result",
     "data": {
      "text/plain": "   prediction         transfer     val_mse\n0   nuts_diff  inception_model    0.241636\n2   nuts_diff     mobile_model    0.295845\n5  nuts_value  inception_model    0.409371\n1   nuts_diff          m_model    0.434973\n7  nuts_value     mobile_model    0.514573\n6  nuts_value          m_model    0.542444\n8  nuts_value          s_model    6.384526\n3   nuts_diff          s_model   10.276953\n9  nuts_value         xs_model   62.654977\n4   nuts_diff         xs_model  259.020890",
      "text/html": "<div>\n<style scoped>\n    .dataframe tbody tr th:only-of-type {\n        vertical-align: middle;\n    }\n\n    .dataframe tbody tr th {\n        vertical-align: top;\n    }\n\n    .dataframe thead th {\n        text-align: right;\n    }\n</style>\n<table border=\"1\" class=\"dataframe\">\n  <thead>\n    <tr style=\"text-align: right;\">\n      <th></th>\n      <th>prediction</th>\n      <th>transfer</th>\n      <th>val_mse</th>\n    </tr>\n  </thead>\n  <tbody>\n    <tr>\n      <th>0</th>\n      <td>nuts_diff</td>\n      <td>inception_model</td>\n      <td>0.241636</td>\n    </tr>\n    <tr>\n      <th>2</th>\n      <td>nuts_diff</td>\n      <td>mobile_model</td>\n      <td>0.295845</td>\n    </tr>\n    <tr>\n      <th>5</th>\n      <td>nuts_value</td>\n      <td>inception_model</td>\n      <td>0.409371</td>\n    </tr>\n    <tr>\n      <th>1</th>\n      <td>nuts_diff</td>\n      <td>m_model</td>\n      <td>0.434973</td>\n    </tr>\n    <tr>\n      <th>7</th>\n      <td>nuts_value</td>\n      <td>mobile_model</td>\n      <td>0.514573</td>\n    </tr>\n    <tr>\n      <th>6</th>\n      <td>nuts_value</td>\n      <td>m_model</td>\n      <td>0.542444</td>\n    </tr>\n    <tr>\n      <th>8</th>\n      <td>nuts_value</td>\n      <td>s_model</td>\n      <td>6.384526</td>\n    </tr>\n    <tr>\n      <th>3</th>\n      <td>nuts_diff</td>\n      <td>s_model</td>\n      <td>10.276953</td>\n    </tr>\n    <tr>\n      <th>9</th>\n      <td>nuts_value</td>\n      <td>xs_model</td>\n      <td>62.654977</td>\n    </tr>\n    <tr>\n      <th>4</th>\n      <td>nuts_diff</td>\n      <td>xs_model</td>\n      <td>259.020890</td>\n    </tr>\n  </tbody>\n</table>\n</div>"
     },
     "metadata": {},
     "execution_count": 4
    }
   ],
   "source": [
    "# Groupby Model Type\n",
    "res_dat.groupby(['prediction','transfer'])['val_mse'].mean().reset_index().sort_values(['val_mse'])"
   ]
  },
  {
   "cell_type": "markdown",
   "metadata": {},
   "source": [
    "## Learning Rate"
   ]
  },
  {
   "cell_type": "code",
   "execution_count": 5,
   "metadata": {},
   "outputs": [
    {
     "output_type": "execute_result",
     "data": {
      "text/plain": "   prediction        lr     val_mse\n6  nuts_value  0.000100    1.753972\n0   nuts_diff  0.000001    1.855402\n4  nuts_value  0.000001    1.924946\n5  nuts_value  0.000010    5.338823\n1   nuts_diff  0.000010    8.728598\n2   nuts_diff  0.000100   14.192922\n7  nuts_value  0.001000   55.335412\n3   nuts_diff  0.001000  201.255038",
      "text/html": "<div>\n<style scoped>\n    .dataframe tbody tr th:only-of-type {\n        vertical-align: middle;\n    }\n\n    .dataframe tbody tr th {\n        vertical-align: top;\n    }\n\n    .dataframe thead th {\n        text-align: right;\n    }\n</style>\n<table border=\"1\" class=\"dataframe\">\n  <thead>\n    <tr style=\"text-align: right;\">\n      <th></th>\n      <th>prediction</th>\n      <th>lr</th>\n      <th>val_mse</th>\n    </tr>\n  </thead>\n  <tbody>\n    <tr>\n      <th>6</th>\n      <td>nuts_value</td>\n      <td>0.000100</td>\n      <td>1.753972</td>\n    </tr>\n    <tr>\n      <th>0</th>\n      <td>nuts_diff</td>\n      <td>0.000001</td>\n      <td>1.855402</td>\n    </tr>\n    <tr>\n      <th>4</th>\n      <td>nuts_value</td>\n      <td>0.000001</td>\n      <td>1.924946</td>\n    </tr>\n    <tr>\n      <th>5</th>\n      <td>nuts_value</td>\n      <td>0.000010</td>\n      <td>5.338823</td>\n    </tr>\n    <tr>\n      <th>1</th>\n      <td>nuts_diff</td>\n      <td>0.000010</td>\n      <td>8.728598</td>\n    </tr>\n    <tr>\n      <th>2</th>\n      <td>nuts_diff</td>\n      <td>0.000100</td>\n      <td>14.192922</td>\n    </tr>\n    <tr>\n      <th>7</th>\n      <td>nuts_value</td>\n      <td>0.001000</td>\n      <td>55.335412</td>\n    </tr>\n    <tr>\n      <th>3</th>\n      <td>nuts_diff</td>\n      <td>0.001000</td>\n      <td>201.255038</td>\n    </tr>\n  </tbody>\n</table>\n</div>"
     },
     "metadata": {},
     "execution_count": 5
    }
   ],
   "source": [
    "# Groupby Learning Rate\n",
    "res_dat.groupby(['prediction','lr'])['val_mse'].mean().reset_index().sort_values(['val_mse'])"
   ]
  },
  {
   "cell_type": "markdown",
   "metadata": {},
   "source": [
    "## Putting it all together"
   ]
  },
  {
   "cell_type": "code",
   "execution_count": 6,
   "metadata": {},
   "outputs": [
    {
     "output_type": "execute_result",
     "data": {
      "text/plain": "     prediction    optim         transfer       lr      val_mse    val_mae\n10    nuts_diff     adam     mobile_model  0.00010     0.187100   0.314113\n41    nuts_diff  rmsprob  inception_model  0.00010     0.196607   0.336306\n48    nuts_diff  rmsprob     mobile_model  0.00001     0.197601   0.331402\n6     nuts_diff     adam          m_model  0.00010     0.199481   0.339075\n50    nuts_diff  rmsprob     mobile_model  0.00100     0.199883   0.329470\n..          ...      ...              ...      ...          ...        ...\n52    nuts_diff  rmsprob          s_model  0.00001   109.495255   3.313060\n18    nuts_diff     adam         xs_model  0.00010   144.526199   6.704063\n94   nuts_value     adam         xs_model  0.00100   221.912476  11.085407\n114  nuts_value   adamax         xs_model  0.00100   696.742554  14.609852\n38    nuts_diff   adamax         xs_model  0.00100  3702.368896  31.242395\n\n[151 rows x 6 columns]",
      "text/html": "<div>\n<style scoped>\n    .dataframe tbody tr th:only-of-type {\n        vertical-align: middle;\n    }\n\n    .dataframe tbody tr th {\n        vertical-align: top;\n    }\n\n    .dataframe thead th {\n        text-align: right;\n    }\n</style>\n<table border=\"1\" class=\"dataframe\">\n  <thead>\n    <tr style=\"text-align: right;\">\n      <th></th>\n      <th>prediction</th>\n      <th>optim</th>\n      <th>transfer</th>\n      <th>lr</th>\n      <th>val_mse</th>\n      <th>val_mae</th>\n    </tr>\n  </thead>\n  <tbody>\n    <tr>\n      <th>10</th>\n      <td>nuts_diff</td>\n      <td>adam</td>\n      <td>mobile_model</td>\n      <td>0.00010</td>\n      <td>0.187100</td>\n      <td>0.314113</td>\n    </tr>\n    <tr>\n      <th>41</th>\n      <td>nuts_diff</td>\n      <td>rmsprob</td>\n      <td>inception_model</td>\n      <td>0.00010</td>\n      <td>0.196607</td>\n      <td>0.336306</td>\n    </tr>\n    <tr>\n      <th>48</th>\n      <td>nuts_diff</td>\n      <td>rmsprob</td>\n      <td>mobile_model</td>\n      <td>0.00001</td>\n      <td>0.197601</td>\n      <td>0.331402</td>\n    </tr>\n    <tr>\n      <th>6</th>\n      <td>nuts_diff</td>\n      <td>adam</td>\n      <td>m_model</td>\n      <td>0.00010</td>\n      <td>0.199481</td>\n      <td>0.339075</td>\n    </tr>\n    <tr>\n      <th>50</th>\n      <td>nuts_diff</td>\n      <td>rmsprob</td>\n      <td>mobile_model</td>\n      <td>0.00100</td>\n      <td>0.199883</td>\n      <td>0.329470</td>\n    </tr>\n    <tr>\n      <th>...</th>\n      <td>...</td>\n      <td>...</td>\n      <td>...</td>\n      <td>...</td>\n      <td>...</td>\n      <td>...</td>\n    </tr>\n    <tr>\n      <th>52</th>\n      <td>nuts_diff</td>\n      <td>rmsprob</td>\n      <td>s_model</td>\n      <td>0.00001</td>\n      <td>109.495255</td>\n      <td>3.313060</td>\n    </tr>\n    <tr>\n      <th>18</th>\n      <td>nuts_diff</td>\n      <td>adam</td>\n      <td>xs_model</td>\n      <td>0.00010</td>\n      <td>144.526199</td>\n      <td>6.704063</td>\n    </tr>\n    <tr>\n      <th>94</th>\n      <td>nuts_value</td>\n      <td>adam</td>\n      <td>xs_model</td>\n      <td>0.00100</td>\n      <td>221.912476</td>\n      <td>11.085407</td>\n    </tr>\n    <tr>\n      <th>114</th>\n      <td>nuts_value</td>\n      <td>adamax</td>\n      <td>xs_model</td>\n      <td>0.00100</td>\n      <td>696.742554</td>\n      <td>14.609852</td>\n    </tr>\n    <tr>\n      <th>38</th>\n      <td>nuts_diff</td>\n      <td>adamax</td>\n      <td>xs_model</td>\n      <td>0.00100</td>\n      <td>3702.368896</td>\n      <td>31.242395</td>\n    </tr>\n  </tbody>\n</table>\n<p>151 rows × 6 columns</p>\n</div>"
     },
     "metadata": {},
     "execution_count": 6
    }
   ],
   "source": [
    "# Groupby all varied entities (Model, Optimiser, Learning Rate)\n",
    "res_dat.groupby(['prediction','optim','transfer','lr'])['val_mse','val_mae'].mean().reset_index().sort_values(['val_mse'])"
   ]
  },
  {
   "cell_type": "markdown",
   "metadata": {},
   "source": [
    "## Get Minimum per Group to identify best config per model"
   ]
  },
  {
   "cell_type": "code",
   "execution_count": 7,
   "metadata": {},
   "outputs": [
    {
     "output_type": "execute_result",
     "data": {
      "text/plain": "           date  no_layers  batch_size  epochs  res  dims  train_mse  \\\n141  2020-04-01        161           8      33  128     3   0.175943   \n128  2020-03-31        786           8      93  128     3   0.214842   \n109  2020-03-31         14          16      50  224     3   1.000012   \n77   2020-03-30          3          16      34  224     3   1.024195   \n99   2020-03-31          8          16     109  224     3   0.831297   \n53   2020-03-31        786           8      34  224     3   0.167386   \n31   2020-03-30         14          16     104  224     3   0.443608   \n2    2020-03-30          3          16      35  224     3   0.913748   \n60   2020-03-31        161           8      49  224     3   0.210946   \n22   2020-03-30          8          16      42  224     3   1.000228   \n\n     train_mae   val_mse   val_mae      test_mse      test_mae  \\\n141   0.258067  0.187100  0.314113  3.610731e+07   4426.158017   \n128   0.141631  0.196607  0.336306  3.873773e+07   4529.964899   \n109   0.402939  0.199481  0.339075  4.091630e+07   4837.077766   \n77    0.402934  0.204136  0.335459  8.854131e+07   5736.178039   \n99    0.382421  0.204280  0.333147  8.364756e+07   5341.106480   \n53    0.272442  0.340211  0.471769  1.796214e+08  11267.296640   \n31    0.497277  0.376948  0.506384  2.092537e+08  11950.476919   \n2     0.596321  0.380223  0.503052  2.758528e+08  12802.620296   \n60    0.342324  0.393468  0.515830  1.734627e+08  11157.854450   \n22    0.621141  0.402281  0.511368  1.634465e+08  10987.016705   \n\n            transfer       lr    optim      comment         type  prediction  \n141     mobile_model  0.00010     adam  iterated nn  viirs_night   nuts_diff  \n128  inception_model  0.00010  rmsprob  iterated nn  viirs_night   nuts_diff  \n109          m_model  0.00010     adam  iterated nn  viirs_night   nuts_diff  \n77          xs_model  0.00001      sgd  iterated nn  viirs_night   nuts_diff  \n99           s_model  0.00010  rmsprob  iterated nn  viirs_night   nuts_diff  \n53   inception_model  0.00001  rmsprob  iterated nn  viirs_night  nuts_value  \n31           m_model  0.00001      sgd  iterated nn  viirs_night  nuts_value  \n2           xs_model  0.00001      sgd  iterated nn  viirs_night  nuts_value  \n60      mobile_model  0.00010      sgd  iterated nn  viirs_night  nuts_value  \n22           s_model  0.00100  rmsprob  iterated nn  viirs_night  nuts_value  ",
      "text/html": "<div>\n<style scoped>\n    .dataframe tbody tr th:only-of-type {\n        vertical-align: middle;\n    }\n\n    .dataframe tbody tr th {\n        vertical-align: top;\n    }\n\n    .dataframe thead th {\n        text-align: right;\n    }\n</style>\n<table border=\"1\" class=\"dataframe\">\n  <thead>\n    <tr style=\"text-align: right;\">\n      <th></th>\n      <th>date</th>\n      <th>no_layers</th>\n      <th>batch_size</th>\n      <th>epochs</th>\n      <th>res</th>\n      <th>dims</th>\n      <th>train_mse</th>\n      <th>train_mae</th>\n      <th>val_mse</th>\n      <th>val_mae</th>\n      <th>test_mse</th>\n      <th>test_mae</th>\n      <th>transfer</th>\n      <th>lr</th>\n      <th>optim</th>\n      <th>comment</th>\n      <th>type</th>\n      <th>prediction</th>\n    </tr>\n  </thead>\n  <tbody>\n    <tr>\n      <th>141</th>\n      <td>2020-04-01</td>\n      <td>161</td>\n      <td>8</td>\n      <td>33</td>\n      <td>128</td>\n      <td>3</td>\n      <td>0.175943</td>\n      <td>0.258067</td>\n      <td>0.187100</td>\n      <td>0.314113</td>\n      <td>3.610731e+07</td>\n      <td>4426.158017</td>\n      <td>mobile_model</td>\n      <td>0.00010</td>\n      <td>adam</td>\n      <td>iterated nn</td>\n      <td>viirs_night</td>\n      <td>nuts_diff</td>\n    </tr>\n    <tr>\n      <th>128</th>\n      <td>2020-03-31</td>\n      <td>786</td>\n      <td>8</td>\n      <td>93</td>\n      <td>128</td>\n      <td>3</td>\n      <td>0.214842</td>\n      <td>0.141631</td>\n      <td>0.196607</td>\n      <td>0.336306</td>\n      <td>3.873773e+07</td>\n      <td>4529.964899</td>\n      <td>inception_model</td>\n      <td>0.00010</td>\n      <td>rmsprob</td>\n      <td>iterated nn</td>\n      <td>viirs_night</td>\n      <td>nuts_diff</td>\n    </tr>\n    <tr>\n      <th>109</th>\n      <td>2020-03-31</td>\n      <td>14</td>\n      <td>16</td>\n      <td>50</td>\n      <td>224</td>\n      <td>3</td>\n      <td>1.000012</td>\n      <td>0.402939</td>\n      <td>0.199481</td>\n      <td>0.339075</td>\n      <td>4.091630e+07</td>\n      <td>4837.077766</td>\n      <td>m_model</td>\n      <td>0.00010</td>\n      <td>adam</td>\n      <td>iterated nn</td>\n      <td>viirs_night</td>\n      <td>nuts_diff</td>\n    </tr>\n    <tr>\n      <th>77</th>\n      <td>2020-03-30</td>\n      <td>3</td>\n      <td>16</td>\n      <td>34</td>\n      <td>224</td>\n      <td>3</td>\n      <td>1.024195</td>\n      <td>0.402934</td>\n      <td>0.204136</td>\n      <td>0.335459</td>\n      <td>8.854131e+07</td>\n      <td>5736.178039</td>\n      <td>xs_model</td>\n      <td>0.00001</td>\n      <td>sgd</td>\n      <td>iterated nn</td>\n      <td>viirs_night</td>\n      <td>nuts_diff</td>\n    </tr>\n    <tr>\n      <th>99</th>\n      <td>2020-03-31</td>\n      <td>8</td>\n      <td>16</td>\n      <td>109</td>\n      <td>224</td>\n      <td>3</td>\n      <td>0.831297</td>\n      <td>0.382421</td>\n      <td>0.204280</td>\n      <td>0.333147</td>\n      <td>8.364756e+07</td>\n      <td>5341.106480</td>\n      <td>s_model</td>\n      <td>0.00010</td>\n      <td>rmsprob</td>\n      <td>iterated nn</td>\n      <td>viirs_night</td>\n      <td>nuts_diff</td>\n    </tr>\n    <tr>\n      <th>53</th>\n      <td>2020-03-31</td>\n      <td>786</td>\n      <td>8</td>\n      <td>34</td>\n      <td>224</td>\n      <td>3</td>\n      <td>0.167386</td>\n      <td>0.272442</td>\n      <td>0.340211</td>\n      <td>0.471769</td>\n      <td>1.796214e+08</td>\n      <td>11267.296640</td>\n      <td>inception_model</td>\n      <td>0.00001</td>\n      <td>rmsprob</td>\n      <td>iterated nn</td>\n      <td>viirs_night</td>\n      <td>nuts_value</td>\n    </tr>\n    <tr>\n      <th>31</th>\n      <td>2020-03-30</td>\n      <td>14</td>\n      <td>16</td>\n      <td>104</td>\n      <td>224</td>\n      <td>3</td>\n      <td>0.443608</td>\n      <td>0.497277</td>\n      <td>0.376948</td>\n      <td>0.506384</td>\n      <td>2.092537e+08</td>\n      <td>11950.476919</td>\n      <td>m_model</td>\n      <td>0.00001</td>\n      <td>sgd</td>\n      <td>iterated nn</td>\n      <td>viirs_night</td>\n      <td>nuts_value</td>\n    </tr>\n    <tr>\n      <th>2</th>\n      <td>2020-03-30</td>\n      <td>3</td>\n      <td>16</td>\n      <td>35</td>\n      <td>224</td>\n      <td>3</td>\n      <td>0.913748</td>\n      <td>0.596321</td>\n      <td>0.380223</td>\n      <td>0.503052</td>\n      <td>2.758528e+08</td>\n      <td>12802.620296</td>\n      <td>xs_model</td>\n      <td>0.00001</td>\n      <td>sgd</td>\n      <td>iterated nn</td>\n      <td>viirs_night</td>\n      <td>nuts_value</td>\n    </tr>\n    <tr>\n      <th>60</th>\n      <td>2020-03-31</td>\n      <td>161</td>\n      <td>8</td>\n      <td>49</td>\n      <td>224</td>\n      <td>3</td>\n      <td>0.210946</td>\n      <td>0.342324</td>\n      <td>0.393468</td>\n      <td>0.515830</td>\n      <td>1.734627e+08</td>\n      <td>11157.854450</td>\n      <td>mobile_model</td>\n      <td>0.00010</td>\n      <td>sgd</td>\n      <td>iterated nn</td>\n      <td>viirs_night</td>\n      <td>nuts_value</td>\n    </tr>\n    <tr>\n      <th>22</th>\n      <td>2020-03-30</td>\n      <td>8</td>\n      <td>16</td>\n      <td>42</td>\n      <td>224</td>\n      <td>3</td>\n      <td>1.000228</td>\n      <td>0.621141</td>\n      <td>0.402281</td>\n      <td>0.511368</td>\n      <td>1.634465e+08</td>\n      <td>10987.016705</td>\n      <td>s_model</td>\n      <td>0.00100</td>\n      <td>rmsprob</td>\n      <td>iterated nn</td>\n      <td>viirs_night</td>\n      <td>nuts_value</td>\n    </tr>\n  </tbody>\n</table>\n</div>"
     },
     "metadata": {},
     "execution_count": 7
    }
   ],
   "source": [
    "# Groupby GDP Metric and Model to get best config per GDP and Model\n",
    "res_dat.loc[res_dat.groupby(['prediction','transfer'])['val_mse'].idxmin()].sort_values('val_mse')"
   ]
  },
  {
   "cell_type": "markdown",
   "metadata": {},
   "source": [
    "## Detailed Country Analysis"
   ]
  },
  {
   "cell_type": "code",
   "execution_count": 8,
   "metadata": {},
   "outputs": [
    {
     "output_type": "execute_result",
     "data": {
      "text/plain": "  country          mae           mse  size\n0      BG   605.282026  9.333309e+05   240\n1      SK   655.497549  1.373092e+06   120\n2      PL  1118.846502  1.634909e+06   120\n5      CZ  1329.954475  2.265202e+06   240\n4      ME  1310.228221  2.541235e+06    90",
      "text/html": "<div>\n<style scoped>\n    .dataframe tbody tr th:only-of-type {\n        vertical-align: middle;\n    }\n\n    .dataframe tbody tr th {\n        vertical-align: top;\n    }\n\n    .dataframe thead th {\n        text-align: right;\n    }\n</style>\n<table border=\"1\" class=\"dataframe\">\n  <thead>\n    <tr style=\"text-align: right;\">\n      <th></th>\n      <th>country</th>\n      <th>mae</th>\n      <th>mse</th>\n      <th>size</th>\n    </tr>\n  </thead>\n  <tbody>\n    <tr>\n      <th>0</th>\n      <td>BG</td>\n      <td>605.282026</td>\n      <td>9.333309e+05</td>\n      <td>240</td>\n    </tr>\n    <tr>\n      <th>1</th>\n      <td>SK</td>\n      <td>655.497549</td>\n      <td>1.373092e+06</td>\n      <td>120</td>\n    </tr>\n    <tr>\n      <th>2</th>\n      <td>PL</td>\n      <td>1118.846502</td>\n      <td>1.634909e+06</td>\n      <td>120</td>\n    </tr>\n    <tr>\n      <th>5</th>\n      <td>CZ</td>\n      <td>1329.954475</td>\n      <td>2.265202e+06</td>\n      <td>240</td>\n    </tr>\n    <tr>\n      <th>4</th>\n      <td>ME</td>\n      <td>1310.228221</td>\n      <td>2.541235e+06</td>\n      <td>90</td>\n    </tr>\n  </tbody>\n</table>\n</div>"
     },
     "metadata": {},
     "execution_count": 8
    }
   ],
   "source": [
    "# Load prediction accuracy per country for relative GDP\n",
    "relative_country = pd.read_csv(\"/Users/maxbehrens/Documents/Msc/Thesis/Data/results/result_country_relative.csv\")\n",
    "relative_country = relative_country.sort_values('mse')\n",
    "relative_country.head()"
   ]
  },
  {
   "cell_type": "code",
   "execution_count": 9,
   "metadata": {},
   "outputs": [
    {
     "output_type": "execute_result",
     "data": {
      "text/plain": "   country          mae           mse  size\n8       HU  4535.263464  3.712200e+07   116\n10      LT  5150.862809  4.156815e+07   116\n6       ES  5425.947529  4.737486e+07   464\n9       IT  6733.844866  6.713411e+07   348\n7       FR  6666.207202  6.872155e+07   435",
      "text/html": "<div>\n<style scoped>\n    .dataframe tbody tr th:only-of-type {\n        vertical-align: middle;\n    }\n\n    .dataframe tbody tr th {\n        vertical-align: top;\n    }\n\n    .dataframe thead th {\n        text-align: right;\n    }\n</style>\n<table border=\"1\" class=\"dataframe\">\n  <thead>\n    <tr style=\"text-align: right;\">\n      <th></th>\n      <th>country</th>\n      <th>mae</th>\n      <th>mse</th>\n      <th>size</th>\n    </tr>\n  </thead>\n  <tbody>\n    <tr>\n      <th>8</th>\n      <td>HU</td>\n      <td>4535.263464</td>\n      <td>3.712200e+07</td>\n      <td>116</td>\n    </tr>\n    <tr>\n      <th>10</th>\n      <td>LT</td>\n      <td>5150.862809</td>\n      <td>4.156815e+07</td>\n      <td>116</td>\n    </tr>\n    <tr>\n      <th>6</th>\n      <td>ES</td>\n      <td>5425.947529</td>\n      <td>4.737486e+07</td>\n      <td>464</td>\n    </tr>\n    <tr>\n      <th>9</th>\n      <td>IT</td>\n      <td>6733.844866</td>\n      <td>6.713411e+07</td>\n      <td>348</td>\n    </tr>\n    <tr>\n      <th>7</th>\n      <td>FR</td>\n      <td>6666.207202</td>\n      <td>6.872155e+07</td>\n      <td>435</td>\n    </tr>\n  </tbody>\n</table>\n</div>"
     },
     "metadata": {},
     "execution_count": 9
    }
   ],
   "source": [
    "# Load prediction accuracy per country for absolute GDP\n",
    "absolute_country = pd.read_csv(\"/Users/maxbehrens/Documents/Msc/Thesis/Data/results/result_country_abs.csv\")\n",
    "absolute_country = absolute_country.sort_values('mse')\n",
    "absolute_country.head()"
   ]
  },
  {
   "cell_type": "code",
   "execution_count": 10,
   "metadata": {},
   "outputs": [
    {
     "output_type": "execute_result",
     "data": {
      "text/plain": "  Code   Country\n0   BE   Belgium\n1   BG  Bulgaria\n2   CZ   Czechia\n3   DK   Denmark\n4   DE   Germany",
      "text/html": "<div>\n<style scoped>\n    .dataframe tbody tr th:only-of-type {\n        vertical-align: middle;\n    }\n\n    .dataframe tbody tr th {\n        vertical-align: top;\n    }\n\n    .dataframe thead th {\n        text-align: right;\n    }\n</style>\n<table border=\"1\" class=\"dataframe\">\n  <thead>\n    <tr style=\"text-align: right;\">\n      <th></th>\n      <th>Code</th>\n      <th>Country</th>\n    </tr>\n  </thead>\n  <tbody>\n    <tr>\n      <th>0</th>\n      <td>BE</td>\n      <td>Belgium</td>\n    </tr>\n    <tr>\n      <th>1</th>\n      <td>BG</td>\n      <td>Bulgaria</td>\n    </tr>\n    <tr>\n      <th>2</th>\n      <td>CZ</td>\n      <td>Czechia</td>\n    </tr>\n    <tr>\n      <th>3</th>\n      <td>DK</td>\n      <td>Denmark</td>\n    </tr>\n    <tr>\n      <th>4</th>\n      <td>DE</td>\n      <td>Germany</td>\n    </tr>\n  </tbody>\n</table>\n</div>"
     },
     "metadata": {},
     "execution_count": 10
    }
   ],
   "source": [
    "# Load country codes\n",
    "country_codes = pd.read_csv(\"/Users/maxbehrens/Documents/Msc/Thesis/Data/gdp_data/country_codes.csv\", delimiter=';')\n",
    "country_codes.head()"
   ]
  },
  {
   "cell_type": "code",
   "execution_count": 11,
   "metadata": {},
   "outputs": [],
   "source": [
    "# Load Absolute GDP predictions\n",
    "abs_preds = pd.read_csv(\"/Users/maxbehrens/Documents/Msc/Thesis/Data/results/result_preds_abs.csv\")"
   ]
  },
  {
   "cell_type": "markdown",
   "metadata": {},
   "source": [
    "## More analysis"
   ]
  },
  {
   "cell_type": "code",
   "execution_count": 12,
   "metadata": {},
   "outputs": [
    {
     "output_type": "execute_result",
     "data": {
      "text/plain": "   country         std\n12      ME  331.896126\n14      PL  397.792824\n17      SK  422.389682\n1       BG  468.551004\n11      LV  781.191954",
      "text/html": "<div>\n<style scoped>\n    .dataframe tbody tr th:only-of-type {\n        vertical-align: middle;\n    }\n\n    .dataframe tbody tr th {\n        vertical-align: top;\n    }\n\n    .dataframe thead th {\n        text-align: right;\n    }\n</style>\n<table border=\"1\" class=\"dataframe\">\n  <thead>\n    <tr style=\"text-align: right;\">\n      <th></th>\n      <th>country</th>\n      <th>std</th>\n    </tr>\n  </thead>\n  <tbody>\n    <tr>\n      <th>12</th>\n      <td>ME</td>\n      <td>331.896126</td>\n    </tr>\n    <tr>\n      <th>14</th>\n      <td>PL</td>\n      <td>397.792824</td>\n    </tr>\n    <tr>\n      <th>17</th>\n      <td>SK</td>\n      <td>422.389682</td>\n    </tr>\n    <tr>\n      <th>1</th>\n      <td>BG</td>\n      <td>468.551004</td>\n    </tr>\n    <tr>\n      <th>11</th>\n      <td>LV</td>\n      <td>781.191954</td>\n    </tr>\n  </tbody>\n</table>\n</div>"
     },
     "metadata": {},
     "execution_count": 12
    }
   ],
   "source": [
    "# Standard Dev. per Country\n",
    "country_std = abs_preds.groupby('country')['test_true_vals'].std().reset_index().sort_values('test_true_vals')\n",
    "country_std.columns = ['country','std']\n",
    "country_std.head()"
   ]
  },
  {
   "cell_type": "code",
   "execution_count": 13,
   "metadata": {},
   "outputs": [
    {
     "output_type": "execute_result",
     "data": {
      "text/plain": "  country     mean\n0      AT  39800.0\n1      BG   5487.5\n2      CZ  14025.0\n3      DE  39602.5\n4      DK  38437.5",
      "text/html": "<div>\n<style scoped>\n    .dataframe tbody tr th:only-of-type {\n        vertical-align: middle;\n    }\n\n    .dataframe tbody tr th {\n        vertical-align: top;\n    }\n\n    .dataframe thead th {\n        text-align: right;\n    }\n</style>\n<table border=\"1\" class=\"dataframe\">\n  <thead>\n    <tr style=\"text-align: right;\">\n      <th></th>\n      <th>country</th>\n      <th>mean</th>\n    </tr>\n  </thead>\n  <tbody>\n    <tr>\n      <th>0</th>\n      <td>AT</td>\n      <td>39800.0</td>\n    </tr>\n    <tr>\n      <th>1</th>\n      <td>BG</td>\n      <td>5487.5</td>\n    </tr>\n    <tr>\n      <th>2</th>\n      <td>CZ</td>\n      <td>14025.0</td>\n    </tr>\n    <tr>\n      <th>3</th>\n      <td>DE</td>\n      <td>39602.5</td>\n    </tr>\n    <tr>\n      <th>4</th>\n      <td>DK</td>\n      <td>38437.5</td>\n    </tr>\n  </tbody>\n</table>\n</div>"
     },
     "metadata": {},
     "execution_count": 13
    }
   ],
   "source": [
    "# Average per Country\n",
    "country_mean = abs_preds.groupby('country')['test_true_vals'].mean().reset_index()\n",
    "country_mean.columns = ['country','mean']\n",
    "country_mean.head()"
   ]
  },
  {
   "cell_type": "code",
   "execution_count": 14,
   "metadata": {},
   "outputs": [],
   "source": [
    "# Merge prediction results with general country stats\n",
    "relative_country_stats = relative_country.merge(country_std, on='country',how='left').merge(country_mean, on='country',how='left')\n",
    "absolute_country_stats = absolute_country.merge(country_std, on='country',how='left').merge(country_mean, on='country',how='left')"
   ]
  },
  {
   "cell_type": "code",
   "execution_count": 15,
   "metadata": {},
   "outputs": [
    {
     "output_type": "execute_result",
     "data": {
      "text/plain": "   country           mae           mse  size          std          mean\n0       BG    605.282026  9.333309e+05   240   468.551004   5487.500000\n1       SK    655.497549  1.373092e+06   120   422.389682  13775.000000\n2       PL   1118.846502  1.634909e+06   120   397.792824   9175.000000\n3       CZ   1329.954475  2.265202e+06   240   956.986160  14025.000000\n4       ME   1310.228221  2.541235e+06    90   331.896126   5966.666667\n5       PT   1263.235610  2.545178e+06   480  1553.778141  16718.750000\n6       RO   1464.334218  3.174598e+06   240  1537.867965   6562.500000\n7       LV   1386.681310  3.347000e+06   120   781.191954  12700.000000\n8       TR   1735.905234  3.954965e+06   480   791.595806   6781.250000\n9       NL   2516.569192  1.044407e+07   360  3100.187082  40025.000000\n10      EL   3110.576364  1.514730e+07   600  3713.630660  15285.000000\n11      ES   3708.094727  1.529250e+07   480  3332.538062  20525.000000\n12      FR   5005.682019  3.609728e+07   450  3359.628390  27313.333333\n13      AT   6158.611419  4.374292e+07   480  6564.420757  39800.000000\n14      LT   7289.832318  5.408010e+07   120  1212.247284  19425.000000\n15      IT   6978.462838  5.447627e+07   360  6120.036855  22233.333333\n16      UK   6895.982648  5.961171e+07   840  3649.211465  28746.428571\n17      DE   5594.618681  6.431780e+07  1200  7478.098176  39602.500000\n18      DK   9142.915857  1.083254e+08   240  5151.137289  38437.500000\n19      HU  13486.889156  1.839220e+08   120  1477.777415  23700.000000",
      "text/html": "<div>\n<style scoped>\n    .dataframe tbody tr th:only-of-type {\n        vertical-align: middle;\n    }\n\n    .dataframe tbody tr th {\n        vertical-align: top;\n    }\n\n    .dataframe thead th {\n        text-align: right;\n    }\n</style>\n<table border=\"1\" class=\"dataframe\">\n  <thead>\n    <tr style=\"text-align: right;\">\n      <th></th>\n      <th>country</th>\n      <th>mae</th>\n      <th>mse</th>\n      <th>size</th>\n      <th>std</th>\n      <th>mean</th>\n    </tr>\n  </thead>\n  <tbody>\n    <tr>\n      <th>0</th>\n      <td>BG</td>\n      <td>605.282026</td>\n      <td>9.333309e+05</td>\n      <td>240</td>\n      <td>468.551004</td>\n      <td>5487.500000</td>\n    </tr>\n    <tr>\n      <th>1</th>\n      <td>SK</td>\n      <td>655.497549</td>\n      <td>1.373092e+06</td>\n      <td>120</td>\n      <td>422.389682</td>\n      <td>13775.000000</td>\n    </tr>\n    <tr>\n      <th>2</th>\n      <td>PL</td>\n      <td>1118.846502</td>\n      <td>1.634909e+06</td>\n      <td>120</td>\n      <td>397.792824</td>\n      <td>9175.000000</td>\n    </tr>\n    <tr>\n      <th>3</th>\n      <td>CZ</td>\n      <td>1329.954475</td>\n      <td>2.265202e+06</td>\n      <td>240</td>\n      <td>956.986160</td>\n      <td>14025.000000</td>\n    </tr>\n    <tr>\n      <th>4</th>\n      <td>ME</td>\n      <td>1310.228221</td>\n      <td>2.541235e+06</td>\n      <td>90</td>\n      <td>331.896126</td>\n      <td>5966.666667</td>\n    </tr>\n    <tr>\n      <th>5</th>\n      <td>PT</td>\n      <td>1263.235610</td>\n      <td>2.545178e+06</td>\n      <td>480</td>\n      <td>1553.778141</td>\n      <td>16718.750000</td>\n    </tr>\n    <tr>\n      <th>6</th>\n      <td>RO</td>\n      <td>1464.334218</td>\n      <td>3.174598e+06</td>\n      <td>240</td>\n      <td>1537.867965</td>\n      <td>6562.500000</td>\n    </tr>\n    <tr>\n      <th>7</th>\n      <td>LV</td>\n      <td>1386.681310</td>\n      <td>3.347000e+06</td>\n      <td>120</td>\n      <td>781.191954</td>\n      <td>12700.000000</td>\n    </tr>\n    <tr>\n      <th>8</th>\n      <td>TR</td>\n      <td>1735.905234</td>\n      <td>3.954965e+06</td>\n      <td>480</td>\n      <td>791.595806</td>\n      <td>6781.250000</td>\n    </tr>\n    <tr>\n      <th>9</th>\n      <td>NL</td>\n      <td>2516.569192</td>\n      <td>1.044407e+07</td>\n      <td>360</td>\n      <td>3100.187082</td>\n      <td>40025.000000</td>\n    </tr>\n    <tr>\n      <th>10</th>\n      <td>EL</td>\n      <td>3110.576364</td>\n      <td>1.514730e+07</td>\n      <td>600</td>\n      <td>3713.630660</td>\n      <td>15285.000000</td>\n    </tr>\n    <tr>\n      <th>11</th>\n      <td>ES</td>\n      <td>3708.094727</td>\n      <td>1.529250e+07</td>\n      <td>480</td>\n      <td>3332.538062</td>\n      <td>20525.000000</td>\n    </tr>\n    <tr>\n      <th>12</th>\n      <td>FR</td>\n      <td>5005.682019</td>\n      <td>3.609728e+07</td>\n      <td>450</td>\n      <td>3359.628390</td>\n      <td>27313.333333</td>\n    </tr>\n    <tr>\n      <th>13</th>\n      <td>AT</td>\n      <td>6158.611419</td>\n      <td>4.374292e+07</td>\n      <td>480</td>\n      <td>6564.420757</td>\n      <td>39800.000000</td>\n    </tr>\n    <tr>\n      <th>14</th>\n      <td>LT</td>\n      <td>7289.832318</td>\n      <td>5.408010e+07</td>\n      <td>120</td>\n      <td>1212.247284</td>\n      <td>19425.000000</td>\n    </tr>\n    <tr>\n      <th>15</th>\n      <td>IT</td>\n      <td>6978.462838</td>\n      <td>5.447627e+07</td>\n      <td>360</td>\n      <td>6120.036855</td>\n      <td>22233.333333</td>\n    </tr>\n    <tr>\n      <th>16</th>\n      <td>UK</td>\n      <td>6895.982648</td>\n      <td>5.961171e+07</td>\n      <td>840</td>\n      <td>3649.211465</td>\n      <td>28746.428571</td>\n    </tr>\n    <tr>\n      <th>17</th>\n      <td>DE</td>\n      <td>5594.618681</td>\n      <td>6.431780e+07</td>\n      <td>1200</td>\n      <td>7478.098176</td>\n      <td>39602.500000</td>\n    </tr>\n    <tr>\n      <th>18</th>\n      <td>DK</td>\n      <td>9142.915857</td>\n      <td>1.083254e+08</td>\n      <td>240</td>\n      <td>5151.137289</td>\n      <td>38437.500000</td>\n    </tr>\n    <tr>\n      <th>19</th>\n      <td>HU</td>\n      <td>13486.889156</td>\n      <td>1.839220e+08</td>\n      <td>120</td>\n      <td>1477.777415</td>\n      <td>23700.000000</td>\n    </tr>\n  </tbody>\n</table>\n</div>"
     },
     "metadata": {},
     "execution_count": 15
    }
   ],
   "source": [
    "# Check output\n",
    "relative_country_stats.head(20)"
   ]
  },
  {
   "cell_type": "code",
   "execution_count": 16,
   "metadata": {},
   "outputs": [],
   "source": [
    "# Save results to csv\n",
    "relative_country_stats.to_csv(\"/Users/maxbehrens/Documents/Msc/Thesis/Data/results/result_relative_country_std.csv\", index=False)\n",
    "absolute_country_stats.to_csv(\"/Users/maxbehrens/Documents/Msc/Thesis/Data/results/result_absolute_country_std.csv\", index=False)"
   ]
  },
  {
   "cell_type": "markdown",
   "metadata": {},
   "source": [
    "## Convert results into latex table output"
   ]
  },
  {
   "cell_type": "code",
   "execution_count": 17,
   "metadata": {},
   "outputs": [
    {
     "output_type": "stream",
     "name": "stdout",
     "text": "Hungary & \\multicolumn{1}{c}{37,121,999} & \\multicolumn{1}{c}{4,535} & \\multicolumn{1}{c}{4} & \\multicolumn{1}{c}{23,700} & \\multicolumn{1}{c}{1,478} \\\\ [1.1ex]\nLithuania & \\multicolumn{1}{c}{41,568,150} & \\multicolumn{1}{c}{5,151} & \\multicolumn{1}{c}{4} & \\multicolumn{1}{c}{19,425} & \\multicolumn{1}{c}{1,212} \\\\ [1.1ex]\nSpain & \\multicolumn{1}{c}{47,374,860} & \\multicolumn{1}{c}{5,426} & \\multicolumn{1}{c}{16} & \\multicolumn{1}{c}{20,525} & \\multicolumn{1}{c}{3,333} \\\\ [1.1ex]\nItaly & \\multicolumn{1}{c}{67,134,113} & \\multicolumn{1}{c}{6,734} & \\multicolumn{1}{c}{12} & \\multicolumn{1}{c}{22,233} & \\multicolumn{1}{c}{6,120} \\\\ [1.1ex]\nFrance & \\multicolumn{1}{c}{68,721,548} & \\multicolumn{1}{c}{6,666} & \\multicolumn{1}{c}{15} & \\multicolumn{1}{c}{27,313} & \\multicolumn{1}{c}{3,360} \\\\ [1.1ex]\nPortugal & \\multicolumn{1}{c}{69,297,673} & \\multicolumn{1}{c}{6,836} & \\multicolumn{1}{c}{16} & \\multicolumn{1}{c}{16,719} & \\multicolumn{1}{c}{1,554} \\\\ [1.1ex]\nUnited Kingdom & \\multicolumn{1}{c}{87,874,999} & \\multicolumn{1}{c}{7,819} & \\multicolumn{1}{c}{28} & \\multicolumn{1}{c}{28,746} & \\multicolumn{1}{c}{3,649} \\\\ [1.1ex]\nGreece & \\multicolumn{1}{c}{109,229,417} & \\multicolumn{1}{c}{8,687} & \\multicolumn{1}{c}{20} & \\multicolumn{1}{c}{15,285} & \\multicolumn{1}{c}{3,714} \\\\ [1.1ex]\nSlovakia & \\multicolumn{1}{c}{115,373,540} & \\multicolumn{1}{c}{9,004} & \\multicolumn{1}{c}{4} & \\multicolumn{1}{c}{13,775} & \\multicolumn{1}{c}{422} \\\\ [1.1ex]\nCzechia & \\multicolumn{1}{c}{129,444,598} & \\multicolumn{1}{c}{9,427} & \\multicolumn{1}{c}{8} & \\multicolumn{1}{c}{14,025} & \\multicolumn{1}{c}{957} \\\\ [1.1ex]\nLatvia & \\multicolumn{1}{c}{150,602,457} & \\multicolumn{1}{c}{10,163} & \\multicolumn{1}{c}{4} & \\multicolumn{1}{c}{12,700} & \\multicolumn{1}{c}{781} \\\\ [1.1ex]\nPoland & \\multicolumn{1}{c}{202,535,576} & \\multicolumn{1}{c}{13,126} & \\multicolumn{1}{c}{4} & \\multicolumn{1}{c}{9,175} & \\multicolumn{1}{c}{398} \\\\ [1.1ex]\nDenmark & \\multicolumn{1}{c}{292,363,180} & \\multicolumn{1}{c}{15,659} & \\multicolumn{1}{c}{8} & \\multicolumn{1}{c}{38,438} & \\multicolumn{1}{c}{5,151} \\\\ [1.1ex]\nRomania & \\multicolumn{1}{c}{293,610,791} & \\multicolumn{1}{c}{16,053} & \\multicolumn{1}{c}{8} & \\multicolumn{1}{c}{6,562} & \\multicolumn{1}{c}{1,538} \\\\ [1.1ex]\nTurkey & \\multicolumn{1}{c}{313,544,117} & \\multicolumn{1}{c}{16,582} & \\multicolumn{1}{c}{16} & \\multicolumn{1}{c}{6,781} & \\multicolumn{1}{c}{792} \\\\ [1.1ex]\nMontenegro & \\multicolumn{1}{c}{319,349,441} & \\multicolumn{1}{c}{16,729} & \\multicolumn{1}{c}{3} & \\multicolumn{1}{c}{5,967} & \\multicolumn{1}{c}{332} \\\\ [1.1ex]\nBulgaria & \\multicolumn{1}{c}{324,613,259} & \\multicolumn{1}{c}{16,769} & \\multicolumn{1}{c}{8} & \\multicolumn{1}{c}{5,488} & \\multicolumn{1}{c}{469} \\\\ [1.1ex]\nNetherlands & \\multicolumn{1}{c}{339,474,391} & \\multicolumn{1}{c}{17,311} & \\multicolumn{1}{c}{12} & \\multicolumn{1}{c}{40,025} & \\multicolumn{1}{c}{3,100} \\\\ [1.1ex]\nGermany & \\multicolumn{1}{c}{373,128,849} & \\multicolumn{1}{c}{17,056} & \\multicolumn{1}{c}{40} & \\multicolumn{1}{c}{39,602} & \\multicolumn{1}{c}{7,478} \\\\ [1.1ex]\nAustria & \\multicolumn{1}{c}{375,014,995} & \\multicolumn{1}{c}{17,627} & \\multicolumn{1}{c}{16} & \\multicolumn{1}{c}{39,800} & \\multicolumn{1}{c}{6,564} \\\\ [1.1ex]\n"
    }
   ],
   "source": [
    "# For Absolute GDP Predictions\n",
    "for index, row in absolute_country_stats.sort_values('mse').iterrows():\n",
    "    print(country_codes.loc[country_codes['Code']==row['country'],'Country'].values[0]+\" & \\multicolumn{1}{c}{\"+'{:,}'.format(round(row[\"mse\"]))+\"} & \\multicolumn{1}{c}{\"+'{:,}'.format(round(row['mae']))+\"} & \\multicolumn{1}{c}{\"+'{:,}'.format(round(row['size']/29))+\"} & \\multicolumn{1}{c}{\"+'{:,}'.format(round(row['mean']))+\"} & \\multicolumn{1}{c}{\"+'{:,}'.format(round(row['std']))+\"} \\\\\\ [1.1ex]\")"
   ]
  },
  {
   "cell_type": "code",
   "execution_count": 19,
   "metadata": {},
   "outputs": [
    {
     "output_type": "stream",
     "name": "stdout",
     "text": "Bulgaria & \\multicolumn{1}{c}{933,331} & \\multicolumn{1}{c}{605} & \\multicolumn{1}{c}{8} & \\multicolumn{1}{c}{5,488} & \\multicolumn{1}{c}{469} \\\\ [1.1ex]\nSlovakia & \\multicolumn{1}{c}{1,373,092} & \\multicolumn{1}{c}{655} & \\multicolumn{1}{c}{4} & \\multicolumn{1}{c}{13,775} & \\multicolumn{1}{c}{422} \\\\ [1.1ex]\nPoland & \\multicolumn{1}{c}{1,634,909} & \\multicolumn{1}{c}{1,119} & \\multicolumn{1}{c}{4} & \\multicolumn{1}{c}{9,175} & \\multicolumn{1}{c}{398} \\\\ [1.1ex]\nCzechia & \\multicolumn{1}{c}{2,265,202} & \\multicolumn{1}{c}{1,330} & \\multicolumn{1}{c}{8} & \\multicolumn{1}{c}{14,025} & \\multicolumn{1}{c}{957} \\\\ [1.1ex]\nMontenegro & \\multicolumn{1}{c}{2,541,235} & \\multicolumn{1}{c}{1,310} & \\multicolumn{1}{c}{3} & \\multicolumn{1}{c}{5,967} & \\multicolumn{1}{c}{332} \\\\ [1.1ex]\nPortugal & \\multicolumn{1}{c}{2,545,178} & \\multicolumn{1}{c}{1,263} & \\multicolumn{1}{c}{16} & \\multicolumn{1}{c}{16,719} & \\multicolumn{1}{c}{1,554} \\\\ [1.1ex]\nRomania & \\multicolumn{1}{c}{3,174,598} & \\multicolumn{1}{c}{1,464} & \\multicolumn{1}{c}{8} & \\multicolumn{1}{c}{6,562} & \\multicolumn{1}{c}{1,538} \\\\ [1.1ex]\nLatvia & \\multicolumn{1}{c}{3,347,000} & \\multicolumn{1}{c}{1,387} & \\multicolumn{1}{c}{4} & \\multicolumn{1}{c}{12,700} & \\multicolumn{1}{c}{781} \\\\ [1.1ex]\nTurkey & \\multicolumn{1}{c}{3,954,965} & \\multicolumn{1}{c}{1,736} & \\multicolumn{1}{c}{16} & \\multicolumn{1}{c}{6,781} & \\multicolumn{1}{c}{792} \\\\ [1.1ex]\nNetherlands & \\multicolumn{1}{c}{10,444,068} & \\multicolumn{1}{c}{2,517} & \\multicolumn{1}{c}{12} & \\multicolumn{1}{c}{40,025} & \\multicolumn{1}{c}{3,100} \\\\ [1.1ex]\nGreece & \\multicolumn{1}{c}{15,147,302} & \\multicolumn{1}{c}{3,111} & \\multicolumn{1}{c}{20} & \\multicolumn{1}{c}{15,285} & \\multicolumn{1}{c}{3,714} \\\\ [1.1ex]\nSpain & \\multicolumn{1}{c}{15,292,496} & \\multicolumn{1}{c}{3,708} & \\multicolumn{1}{c}{16} & \\multicolumn{1}{c}{20,525} & \\multicolumn{1}{c}{3,333} \\\\ [1.1ex]\nFrance & \\multicolumn{1}{c}{36,097,281} & \\multicolumn{1}{c}{5,006} & \\multicolumn{1}{c}{15} & \\multicolumn{1}{c}{27,313} & \\multicolumn{1}{c}{3,360} \\\\ [1.1ex]\nAustria & \\multicolumn{1}{c}{43,742,916} & \\multicolumn{1}{c}{6,159} & \\multicolumn{1}{c}{16} & \\multicolumn{1}{c}{39,800} & \\multicolumn{1}{c}{6,564} \\\\ [1.1ex]\nLithuania & \\multicolumn{1}{c}{54,080,104} & \\multicolumn{1}{c}{7,290} & \\multicolumn{1}{c}{4} & \\multicolumn{1}{c}{19,425} & \\multicolumn{1}{c}{1,212} \\\\ [1.1ex]\nItaly & \\multicolumn{1}{c}{54,476,273} & \\multicolumn{1}{c}{6,978} & \\multicolumn{1}{c}{12} & \\multicolumn{1}{c}{22,233} & \\multicolumn{1}{c}{6,120} \\\\ [1.1ex]\nUnited Kingdom & \\multicolumn{1}{c}{59,611,714} & \\multicolumn{1}{c}{6,896} & \\multicolumn{1}{c}{28} & \\multicolumn{1}{c}{28,746} & \\multicolumn{1}{c}{3,649} \\\\ [1.1ex]\nGermany & \\multicolumn{1}{c}{64,317,802} & \\multicolumn{1}{c}{5,595} & \\multicolumn{1}{c}{40} & \\multicolumn{1}{c}{39,602} & \\multicolumn{1}{c}{7,478} \\\\ [1.1ex]\nDenmark & \\multicolumn{1}{c}{108,325,356} & \\multicolumn{1}{c}{9,143} & \\multicolumn{1}{c}{8} & \\multicolumn{1}{c}{38,438} & \\multicolumn{1}{c}{5,151} \\\\ [1.1ex]\nHungary & \\multicolumn{1}{c}{183,922,015} & \\multicolumn{1}{c}{13,487} & \\multicolumn{1}{c}{4} & \\multicolumn{1}{c}{23,700} & \\multicolumn{1}{c}{1,478} \\\\ [1.1ex]\n"
    }
   ],
   "source": [
    "# For Relative GDP Predictions\n",
    "for index, row in relative_country_stats.sort_values('mse').iterrows():\n",
    "    print(country_codes.loc[country_codes['Code']==row['country'],'Country'].values[0]+\" & \\multicolumn{1}{c}{\"+'{:,}'.format(round(row[\"mse\"]))+\"} & \\multicolumn{1}{c}{\"+'{:,}'.format(round(row['mae']))+\"} & \\multicolumn{1}{c}{\"+'{:,}'.format(round(row['size']/30))+\"} & \\multicolumn{1}{c}{\"+'{:,}'.format(round(row['mean']))+\"} & \\multicolumn{1}{c}{\"+'{:,}'.format(round(row['std']))+\"} \\\\\\ [1.1ex]\")"
   ]
  },
  {
   "cell_type": "code",
   "execution_count": null,
   "metadata": {},
   "outputs": [],
   "source": []
  }
 ],
 "metadata": {
  "language_info": {
   "name": "python",
   "codemirror_mode": {
    "name": "ipython",
    "version": 3
   },
   "version": "3.7.4-final"
  },
  "orig_nbformat": 2,
  "file_extension": ".py",
  "mimetype": "text/x-python",
  "name": "python",
  "npconvert_exporter": "python",
  "pygments_lexer": "ipython3",
  "version": 3,
  "kernelspec": {
   "name": "python37464bitminiconda3virtualenv50a318cd79ca4af7924999d0c66ee6d6",
   "display_name": "Python 3.7.4 64-bit ('miniconda3': virtualenv)"
  }
 },
 "nbformat": 4,
 "nbformat_minor": 2
}