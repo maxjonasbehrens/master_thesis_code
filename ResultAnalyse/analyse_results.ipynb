{
 "nbformat": 4,
 "nbformat_minor": 2,
 "metadata": {
  "language_info": {
   "name": "python",
   "codemirror_mode": {
    "name": "ipython",
    "version": 3
   },
   "version": "3.7.4-final"
  },
  "orig_nbformat": 2,
  "file_extension": ".py",
  "mimetype": "text/x-python",
  "name": "python",
  "npconvert_exporter": "python",
  "pygments_lexer": "ipython3",
  "version": 3,
  "kernelspec": {
   "name": "python37464bitminiconda3virtualenv50a318cd79ca4af7924999d0c66ee6d6",
   "display_name": "Python 3.7.4 64-bit ('miniconda3': virtualenv)"
  }
 },
 "cells": [
  {
   "cell_type": "markdown",
   "metadata": {},
   "source": [
    "# Notebook to analyse Results from CNN Training"
   ]
  },
  {
   "cell_type": "code",
   "execution_count": 18,
   "metadata": {},
   "outputs": [],
   "source": [
    "# Load needed packages\n",
    "import numpy as np\n",
    "import pandas as pd\n",
    "import matplotlib.pyplot as pyplot"
   ]
  },
  {
   "cell_type": "code",
   "execution_count": 25,
   "metadata": {},
   "outputs": [
    {
     "data": {
      "text/html": "<div>\n<style scoped>\n    .dataframe tbody tr th:only-of-type {\n        vertical-align: middle;\n    }\n\n    .dataframe tbody tr th {\n        vertical-align: top;\n    }\n\n    .dataframe thead th {\n        text-align: right;\n    }\n</style>\n<table border=\"1\" class=\"dataframe\">\n  <thead>\n    <tr style=\"text-align: right;\">\n      <th></th>\n      <th>date</th>\n      <th>no_layers</th>\n      <th>batch_size</th>\n      <th>epochs</th>\n      <th>res</th>\n      <th>dims</th>\n      <th>train_mse</th>\n      <th>train_mae</th>\n      <th>val_mse</th>\n      <th>val_mae</th>\n      <th>test_mse</th>\n      <th>test_mae</th>\n      <th>transfer</th>\n      <th>lr</th>\n      <th>optim</th>\n      <th>comment</th>\n      <th>type</th>\n      <th>prediction</th>\n    </tr>\n  </thead>\n  <tbody>\n    <tr>\n      <th>83</th>\n      <td>2020-03-29</td>\n      <td>181</td>\n      <td>16</td>\n      <td>46</td>\n      <td>256</td>\n      <td>3</td>\n      <td>1.000001</td>\n      <td>0.402500</td>\n      <td>0.210931</td>\n      <td>0.342692</td>\n      <td>3.743913e+07</td>\n      <td>4623.755444</td>\n      <td>resnet_model</td>\n      <td>0.000001</td>\n      <td>adam</td>\n      <td>iterated nn</td>\n      <td>viirs_night</td>\n      <td>nuts_diff</td>\n    </tr>\n    <tr>\n      <th>84</th>\n      <td>2020-03-29</td>\n      <td>181</td>\n      <td>16</td>\n      <td>107</td>\n      <td>256</td>\n      <td>3</td>\n      <td>1.000503</td>\n      <td>0.398351</td>\n      <td>0.206448</td>\n      <td>0.337493</td>\n      <td>3.647298e+07</td>\n      <td>4493.468813</td>\n      <td>resnet_model</td>\n      <td>0.001000</td>\n      <td>rmsprob</td>\n      <td>iterated nn</td>\n      <td>viirs_night</td>\n      <td>nuts_diff</td>\n    </tr>\n    <tr>\n      <th>85</th>\n      <td>2020-03-29</td>\n      <td>181</td>\n      <td>16</td>\n      <td>41</td>\n      <td>256</td>\n      <td>3</td>\n      <td>1.000369</td>\n      <td>0.397534</td>\n      <td>0.205430</td>\n      <td>0.336254</td>\n      <td>3.650967e+07</td>\n      <td>4498.403978</td>\n      <td>resnet_model</td>\n      <td>0.000100</td>\n      <td>rmsprob</td>\n      <td>iterated nn</td>\n      <td>viirs_night</td>\n      <td>nuts_diff</td>\n    </tr>\n    <tr>\n      <th>86</th>\n      <td>2020-03-29</td>\n      <td>181</td>\n      <td>16</td>\n      <td>54</td>\n      <td>256</td>\n      <td>3</td>\n      <td>1.000332</td>\n      <td>0.397619</td>\n      <td>0.205539</td>\n      <td>0.336388</td>\n      <td>3.650858e+07</td>\n      <td>4498.258503</td>\n      <td>resnet_model</td>\n      <td>0.000010</td>\n      <td>rmsprob</td>\n      <td>iterated nn</td>\n      <td>viirs_night</td>\n      <td>nuts_diff</td>\n    </tr>\n    <tr>\n      <th>87</th>\n      <td>2020-03-29</td>\n      <td>181</td>\n      <td>16</td>\n      <td>45</td>\n      <td>256</td>\n      <td>3</td>\n      <td>1.000331</td>\n      <td>0.397606</td>\n      <td>0.205523</td>\n      <td>0.336368</td>\n      <td>3.650848e+07</td>\n      <td>4498.245052</td>\n      <td>resnet_model</td>\n      <td>0.000001</td>\n      <td>rmsprob</td>\n      <td>iterated nn</td>\n      <td>viirs_night</td>\n      <td>nuts_diff</td>\n    </tr>\n    <tr>\n      <th>88</th>\n      <td>2020-03-29</td>\n      <td>181</td>\n      <td>16</td>\n      <td>49</td>\n      <td>256</td>\n      <td>3</td>\n      <td>1.000020</td>\n      <td>0.401923</td>\n      <td>0.210250</td>\n      <td>0.341917</td>\n      <td>3.694366e+07</td>\n      <td>4557.916217</td>\n      <td>resnet_model</td>\n      <td>0.001000</td>\n      <td>adamax</td>\n      <td>iterated nn</td>\n      <td>viirs_night</td>\n      <td>nuts_diff</td>\n    </tr>\n    <tr>\n      <th>89</th>\n      <td>2020-03-29</td>\n      <td>181</td>\n      <td>16</td>\n      <td>39</td>\n      <td>256</td>\n      <td>3</td>\n      <td>1.000080</td>\n      <td>0.400253</td>\n      <td>0.208462</td>\n      <td>0.339867</td>\n      <td>3.695893e+07</td>\n      <td>4559.988459</td>\n      <td>resnet_model</td>\n      <td>0.000100</td>\n      <td>adamax</td>\n      <td>iterated nn</td>\n      <td>viirs_night</td>\n      <td>nuts_diff</td>\n    </tr>\n    <tr>\n      <th>90</th>\n      <td>2020-03-29</td>\n      <td>181</td>\n      <td>16</td>\n      <td>66</td>\n      <td>256</td>\n      <td>3</td>\n      <td>1.000091</td>\n      <td>0.400043</td>\n      <td>0.208222</td>\n      <td>0.339589</td>\n      <td>3.696407e+07</td>\n      <td>4560.683876</td>\n      <td>resnet_model</td>\n      <td>0.000010</td>\n      <td>adamax</td>\n      <td>iterated nn</td>\n      <td>viirs_night</td>\n      <td>nuts_diff</td>\n    </tr>\n    <tr>\n      <th>91</th>\n      <td>2020-03-29</td>\n      <td>181</td>\n      <td>16</td>\n      <td>63</td>\n      <td>256</td>\n      <td>3</td>\n      <td>1.000091</td>\n      <td>0.400025</td>\n      <td>0.208206</td>\n      <td>0.339570</td>\n      <td>3.696476e+07</td>\n      <td>4560.777753</td>\n      <td>resnet_model</td>\n      <td>0.000001</td>\n      <td>adamax</td>\n      <td>iterated nn</td>\n      <td>viirs_night</td>\n      <td>nuts_diff</td>\n    </tr>\n    <tr>\n      <th>92</th>\n      <td>2020-03-29</td>\n      <td>3</td>\n      <td>16</td>\n      <td>92</td>\n      <td>256</td>\n      <td>3</td>\n      <td>1.000401</td>\n      <td>0.621457</td>\n      <td>0.403024</td>\n      <td>0.511362</td>\n      <td>1.633803e+08</td>\n      <td>10984.113821</td>\n      <td>xs_model</td>\n      <td>0.001000</td>\n      <td>sgd</td>\n      <td>iterated nn</td>\n      <td>viirs_night</td>\n      <td>nuts_value</td>\n    </tr>\n  </tbody>\n</table>\n</div>",
      "text/plain": "          date  no_layers  batch_size  epochs  res  dims  train_mse  \\\n83  2020-03-29        181          16      46  256     3   1.000001   \n84  2020-03-29        181          16     107  256     3   1.000503   \n85  2020-03-29        181          16      41  256     3   1.000369   \n86  2020-03-29        181          16      54  256     3   1.000332   \n87  2020-03-29        181          16      45  256     3   1.000331   \n88  2020-03-29        181          16      49  256     3   1.000020   \n89  2020-03-29        181          16      39  256     3   1.000080   \n90  2020-03-29        181          16      66  256     3   1.000091   \n91  2020-03-29        181          16      63  256     3   1.000091   \n92  2020-03-29          3          16      92  256     3   1.000401   \n\n    train_mae   val_mse   val_mae      test_mse      test_mae      transfer  \\\n83   0.402500  0.210931  0.342692  3.743913e+07   4623.755444  resnet_model   \n84   0.398351  0.206448  0.337493  3.647298e+07   4493.468813  resnet_model   \n85   0.397534  0.205430  0.336254  3.650967e+07   4498.403978  resnet_model   \n86   0.397619  0.205539  0.336388  3.650858e+07   4498.258503  resnet_model   \n87   0.397606  0.205523  0.336368  3.650848e+07   4498.245052  resnet_model   \n88   0.401923  0.210250  0.341917  3.694366e+07   4557.916217  resnet_model   \n89   0.400253  0.208462  0.339867  3.695893e+07   4559.988459  resnet_model   \n90   0.400043  0.208222  0.339589  3.696407e+07   4560.683876  resnet_model   \n91   0.400025  0.208206  0.339570  3.696476e+07   4560.777753  resnet_model   \n92   0.621457  0.403024  0.511362  1.633803e+08  10984.113821      xs_model   \n\n          lr    optim      comment         type  prediction  \n83  0.000001     adam  iterated nn  viirs_night   nuts_diff  \n84  0.001000  rmsprob  iterated nn  viirs_night   nuts_diff  \n85  0.000100  rmsprob  iterated nn  viirs_night   nuts_diff  \n86  0.000010  rmsprob  iterated nn  viirs_night   nuts_diff  \n87  0.000001  rmsprob  iterated nn  viirs_night   nuts_diff  \n88  0.001000   adamax  iterated nn  viirs_night   nuts_diff  \n89  0.000100   adamax  iterated nn  viirs_night   nuts_diff  \n90  0.000010   adamax  iterated nn  viirs_night   nuts_diff  \n91  0.000001   adamax  iterated nn  viirs_night   nuts_diff  \n92  0.001000      sgd  iterated nn  viirs_night  nuts_value  "
     },
     "execution_count": 25,
     "metadata": {},
     "output_type": "execute_result"
    }
   ],
   "source": [
    "# Import result data\n",
    "res_dat = pd.read_excel(\"/Users/maxbehrens/Documents/Msc/Thesis/Data/results/cnn_results_cleaned.xlsx\", skiprows=1)\n",
    "res_dat.loc[res_dat['lr']==1,'lr'] = 0.001\n",
    "res_dat.tail(10)"
   ]
  },
  {
   "cell_type": "markdown",
   "metadata": {},
   "source": [
    "# Filter by Validation MSE"
   ]
  },
  {
   "cell_type": "markdown",
   "metadata": {},
   "source": [
    "## Optimising Function\n",
    "\n",
    "Adam seems to work best."
   ]
  },
  {
   "cell_type": "code",
   "execution_count": 20,
   "metadata": {},
   "outputs": [
    {
     "data": {
      "text/html": "<div>\n<style scoped>\n    .dataframe tbody tr th:only-of-type {\n        vertical-align: middle;\n    }\n\n    .dataframe tbody tr th {\n        vertical-align: top;\n    }\n\n    .dataframe thead th {\n        text-align: right;\n    }\n</style>\n<table border=\"1\" class=\"dataframe\">\n  <thead>\n    <tr style=\"text-align: right;\">\n      <th></th>\n      <th>prediction</th>\n      <th>optim</th>\n      <th>val_mse</th>\n    </tr>\n  </thead>\n  <tbody>\n    <tr>\n      <th>2</th>\n      <td>nuts_diff</td>\n      <td>rmsprob</td>\n      <td>0.205196</td>\n    </tr>\n    <tr>\n      <th>1</th>\n      <td>nuts_diff</td>\n      <td>adamax</td>\n      <td>0.209564</td>\n    </tr>\n    <tr>\n      <th>3</th>\n      <td>nuts_diff</td>\n      <td>sgd</td>\n      <td>0.225406</td>\n    </tr>\n    <tr>\n      <th>0</th>\n      <td>nuts_diff</td>\n      <td>adam</td>\n      <td>0.281097</td>\n    </tr>\n    <tr>\n      <th>4</th>\n      <td>nuts_value</td>\n      <td>sgd</td>\n      <td>0.403024</td>\n    </tr>\n  </tbody>\n</table>\n</div>",
      "text/plain": "   prediction    optim   val_mse\n2   nuts_diff  rmsprob  0.205196\n1   nuts_diff   adamax  0.209564\n3   nuts_diff      sgd  0.225406\n0   nuts_diff     adam  0.281097\n4  nuts_value      sgd  0.403024"
     },
     "execution_count": 20,
     "metadata": {},
     "output_type": "execute_result"
    }
   ],
   "source": [
    "res_dat.groupby(['prediction','optim'])['val_mse'].mean().reset_index().sort_values('val_mse')"
   ]
  },
  {
   "cell_type": "markdown",
   "metadata": {},
   "source": [
    "## Model Type\n",
    "\n",
    "- For nuts_value smaller models and transfer learning seems to lead to better results.\n",
    "- For nuts_diff transfer models and larger models seems to work better"
   ]
  },
  {
   "cell_type": "code",
   "execution_count": 21,
   "metadata": {},
   "outputs": [
    {
     "data": {
      "text/html": "<div>\n<style scoped>\n    .dataframe tbody tr th:only-of-type {\n        vertical-align: middle;\n    }\n\n    .dataframe tbody tr th {\n        vertical-align: top;\n    }\n\n    .dataframe thead th {\n        text-align: right;\n    }\n</style>\n<table border=\"1\" class=\"dataframe\">\n  <thead>\n    <tr style=\"text-align: right;\">\n      <th></th>\n      <th>prediction</th>\n      <th>transfer</th>\n      <th>val_mse</th>\n    </tr>\n  </thead>\n  <tbody>\n    <tr>\n      <th>5</th>\n      <td>nuts_diff</td>\n      <td>xs_model</td>\n      <td>0.208664</td>\n    </tr>\n    <tr>\n      <th>3</th>\n      <td>nuts_diff</td>\n      <td>resnet_model</td>\n      <td>0.209401</td>\n    </tr>\n    <tr>\n      <th>1</th>\n      <td>nuts_diff</td>\n      <td>m_model</td>\n      <td>0.209402</td>\n    </tr>\n    <tr>\n      <th>0</th>\n      <td>nuts_diff</td>\n      <td>inception_model</td>\n      <td>0.215212</td>\n    </tr>\n    <tr>\n      <th>2</th>\n      <td>nuts_diff</td>\n      <td>mobile_model</td>\n      <td>0.222514</td>\n    </tr>\n    <tr>\n      <th>4</th>\n      <td>nuts_diff</td>\n      <td>s_model</td>\n      <td>0.347134</td>\n    </tr>\n    <tr>\n      <th>6</th>\n      <td>nuts_value</td>\n      <td>xs_model</td>\n      <td>0.403024</td>\n    </tr>\n  </tbody>\n</table>\n</div>",
      "text/plain": "   prediction         transfer   val_mse\n5   nuts_diff         xs_model  0.208664\n3   nuts_diff     resnet_model  0.209401\n1   nuts_diff          m_model  0.209402\n0   nuts_diff  inception_model  0.215212\n2   nuts_diff     mobile_model  0.222514\n4   nuts_diff          s_model  0.347134\n6  nuts_value         xs_model  0.403024"
     },
     "execution_count": 21,
     "metadata": {},
     "output_type": "execute_result"
    }
   ],
   "source": [
    "res_dat.groupby(['prediction','transfer'])['val_mse'].mean().reset_index().sort_values(['val_mse'])"
   ]
  },
  {
   "cell_type": "markdown",
   "metadata": {},
   "source": [
    "## Learning Rate\n",
    "\n",
    "Smaller learning rate seems to improve the results."
   ]
  },
  {
   "cell_type": "code",
   "execution_count": 22,
   "metadata": {},
   "outputs": [
    {
     "data": {
      "text/html": "<div>\n<style scoped>\n    .dataframe tbody tr th:only-of-type {\n        vertical-align: middle;\n    }\n\n    .dataframe tbody tr th {\n        vertical-align: top;\n    }\n\n    .dataframe thead th {\n        text-align: right;\n    }\n</style>\n<table border=\"1\" class=\"dataframe\">\n  <thead>\n    <tr style=\"text-align: right;\">\n      <th></th>\n      <th>prediction</th>\n      <th>lr</th>\n      <th>val_mse</th>\n    </tr>\n  </thead>\n  <tbody>\n    <tr>\n      <th>2</th>\n      <td>nuts_diff</td>\n      <td>0.000100</td>\n      <td>0.215653</td>\n    </tr>\n    <tr>\n      <th>0</th>\n      <td>nuts_diff</td>\n      <td>0.000001</td>\n      <td>0.225966</td>\n    </tr>\n    <tr>\n      <th>1</th>\n      <td>nuts_diff</td>\n      <td>0.000010</td>\n      <td>0.226620</td>\n    </tr>\n    <tr>\n      <th>3</th>\n      <td>nuts_diff</td>\n      <td>0.001000</td>\n      <td>0.253879</td>\n    </tr>\n    <tr>\n      <th>4</th>\n      <td>nuts_value</td>\n      <td>0.001000</td>\n      <td>0.403024</td>\n    </tr>\n  </tbody>\n</table>\n</div>",
      "text/plain": "   prediction        lr   val_mse\n2   nuts_diff  0.000100  0.215653\n0   nuts_diff  0.000001  0.225966\n1   nuts_diff  0.000010  0.226620\n3   nuts_diff  0.001000  0.253879\n4  nuts_value  0.001000  0.403024"
     },
     "execution_count": 22,
     "metadata": {},
     "output_type": "execute_result"
    }
   ],
   "source": [
    "res_dat.groupby(['prediction','lr'])['val_mse'].mean().reset_index().sort_values(['val_mse'])"
   ]
  },
  {
   "cell_type": "markdown",
   "metadata": {},
   "source": [
    "## Batch Size\n",
    "\n",
    "Batch size seems not to make a difference."
   ]
  },
  {
   "cell_type": "code",
   "execution_count": 23,
   "metadata": {},
   "outputs": [
    {
     "data": {
      "text/html": "<div>\n<style scoped>\n    .dataframe tbody tr th:only-of-type {\n        vertical-align: middle;\n    }\n\n    .dataframe tbody tr th {\n        vertical-align: top;\n    }\n\n    .dataframe thead th {\n        text-align: right;\n    }\n</style>\n<table border=\"1\" class=\"dataframe\">\n  <thead>\n    <tr style=\"text-align: right;\">\n      <th></th>\n      <th>prediction</th>\n      <th>batch_size</th>\n      <th>val_mse</th>\n    </tr>\n  </thead>\n  <tbody>\n    <tr>\n      <th>0</th>\n      <td>nuts_diff</td>\n      <td>8</td>\n      <td>0.208664</td>\n    </tr>\n    <tr>\n      <th>1</th>\n      <td>nuts_diff</td>\n      <td>16</td>\n      <td>0.235132</td>\n    </tr>\n    <tr>\n      <th>2</th>\n      <td>nuts_value</td>\n      <td>16</td>\n      <td>0.403024</td>\n    </tr>\n  </tbody>\n</table>\n</div>",
      "text/plain": "   prediction  batch_size   val_mse\n0   nuts_diff           8  0.208664\n1   nuts_diff          16  0.235132\n2  nuts_value          16  0.403024"
     },
     "execution_count": 23,
     "metadata": {},
     "output_type": "execute_result"
    }
   ],
   "source": [
    "res_dat.groupby(['prediction','batch_size'])['val_mse'].mean().reset_index().sort_values(['val_mse'])"
   ]
  },
  {
   "cell_type": "markdown",
   "metadata": {},
   "source": [
    "## Putting it all together"
   ]
  },
  {
   "cell_type": "code",
   "execution_count": 26,
   "metadata": {},
   "outputs": [
    {
     "data": {
      "text/html": "<div>\n<style scoped>\n    .dataframe tbody tr th:only-of-type {\n        vertical-align: middle;\n    }\n\n    .dataframe tbody tr th {\n        vertical-align: top;\n    }\n\n    .dataframe thead th {\n        text-align: right;\n    }\n</style>\n<table border=\"1\" class=\"dataframe\">\n  <thead>\n    <tr style=\"text-align: right;\">\n      <th></th>\n      <th>prediction</th>\n      <th>transfer</th>\n      <th>lr</th>\n      <th>val_mse</th>\n    </tr>\n  </thead>\n  <tbody>\n    <tr>\n      <th>1</th>\n      <td>nuts_diff</td>\n      <td>inception_model</td>\n      <td>0.000010</td>\n      <td>0.208105</td>\n    </tr>\n    <tr>\n      <th>22</th>\n      <td>nuts_diff</td>\n      <td>xs_model</td>\n      <td>0.000100</td>\n      <td>0.208131</td>\n    </tr>\n    <tr>\n      <th>21</th>\n      <td>nuts_diff</td>\n      <td>xs_model</td>\n      <td>0.000010</td>\n      <td>0.208373</td>\n    </tr>\n    <tr>\n      <th>20</th>\n      <td>nuts_diff</td>\n      <td>xs_model</td>\n      <td>0.000001</td>\n      <td>0.208387</td>\n    </tr>\n    <tr>\n      <th>14</th>\n      <td>nuts_diff</td>\n      <td>resnet_model</td>\n      <td>0.000100</td>\n      <td>0.209067</td>\n    </tr>\n    <tr>\n      <th>12</th>\n      <td>nuts_diff</td>\n      <td>resnet_model</td>\n      <td>0.000001</td>\n      <td>0.209091</td>\n    </tr>\n    <tr>\n      <th>13</th>\n      <td>nuts_diff</td>\n      <td>resnet_model</td>\n      <td>0.000010</td>\n      <td>0.209100</td>\n    </tr>\n    <tr>\n      <th>7</th>\n      <td>nuts_diff</td>\n      <td>m_model</td>\n      <td>0.001000</td>\n      <td>0.209162</td>\n    </tr>\n    <tr>\n      <th>6</th>\n      <td>nuts_diff</td>\n      <td>m_model</td>\n      <td>0.000100</td>\n      <td>0.209456</td>\n    </tr>\n    <tr>\n      <th>5</th>\n      <td>nuts_diff</td>\n      <td>m_model</td>\n      <td>0.000010</td>\n      <td>0.209475</td>\n    </tr>\n    <tr>\n      <th>4</th>\n      <td>nuts_diff</td>\n      <td>m_model</td>\n      <td>0.000001</td>\n      <td>0.209516</td>\n    </tr>\n    <tr>\n      <th>23</th>\n      <td>nuts_diff</td>\n      <td>xs_model</td>\n      <td>0.001000</td>\n      <td>0.209766</td>\n    </tr>\n    <tr>\n      <th>15</th>\n      <td>nuts_diff</td>\n      <td>resnet_model</td>\n      <td>0.001000</td>\n      <td>0.210345</td>\n    </tr>\n    <tr>\n      <th>0</th>\n      <td>nuts_diff</td>\n      <td>inception_model</td>\n      <td>0.000001</td>\n      <td>0.213350</td>\n    </tr>\n    <tr>\n      <th>11</th>\n      <td>nuts_diff</td>\n      <td>mobile_model</td>\n      <td>0.001000</td>\n      <td>0.214234</td>\n    </tr>\n    <tr>\n      <th>2</th>\n      <td>nuts_diff</td>\n      <td>inception_model</td>\n      <td>0.000100</td>\n      <td>0.214334</td>\n    </tr>\n    <tr>\n      <th>10</th>\n      <td>nuts_diff</td>\n      <td>mobile_model</td>\n      <td>0.000100</td>\n      <td>0.217626</td>\n    </tr>\n    <tr>\n      <th>3</th>\n      <td>nuts_diff</td>\n      <td>inception_model</td>\n      <td>0.001000</td>\n      <td>0.225060</td>\n    </tr>\n    <tr>\n      <th>9</th>\n      <td>nuts_diff</td>\n      <td>mobile_model</td>\n      <td>0.000010</td>\n      <td>0.228128</td>\n    </tr>\n    <tr>\n      <th>8</th>\n      <td>nuts_diff</td>\n      <td>mobile_model</td>\n      <td>0.000001</td>\n      <td>0.230067</td>\n    </tr>\n    <tr>\n      <th>18</th>\n      <td>nuts_diff</td>\n      <td>s_model</td>\n      <td>0.000100</td>\n      <td>0.241853</td>\n    </tr>\n    <tr>\n      <th>16</th>\n      <td>nuts_diff</td>\n      <td>s_model</td>\n      <td>0.000001</td>\n      <td>0.305188</td>\n    </tr>\n    <tr>\n      <th>17</th>\n      <td>nuts_diff</td>\n      <td>s_model</td>\n      <td>0.000010</td>\n      <td>0.319842</td>\n    </tr>\n    <tr>\n      <th>24</th>\n      <td>nuts_value</td>\n      <td>xs_model</td>\n      <td>0.001000</td>\n      <td>0.403024</td>\n    </tr>\n    <tr>\n      <th>19</th>\n      <td>nuts_diff</td>\n      <td>s_model</td>\n      <td>0.001000</td>\n      <td>0.521651</td>\n    </tr>\n  </tbody>\n</table>\n</div>",
      "text/plain": "    prediction         transfer        lr   val_mse\n1    nuts_diff  inception_model  0.000010  0.208105\n22   nuts_diff         xs_model  0.000100  0.208131\n21   nuts_diff         xs_model  0.000010  0.208373\n20   nuts_diff         xs_model  0.000001  0.208387\n14   nuts_diff     resnet_model  0.000100  0.209067\n12   nuts_diff     resnet_model  0.000001  0.209091\n13   nuts_diff     resnet_model  0.000010  0.209100\n7    nuts_diff          m_model  0.001000  0.209162\n6    nuts_diff          m_model  0.000100  0.209456\n5    nuts_diff          m_model  0.000010  0.209475\n4    nuts_diff          m_model  0.000001  0.209516\n23   nuts_diff         xs_model  0.001000  0.209766\n15   nuts_diff     resnet_model  0.001000  0.210345\n0    nuts_diff  inception_model  0.000001  0.213350\n11   nuts_diff     mobile_model  0.001000  0.214234\n2    nuts_diff  inception_model  0.000100  0.214334\n10   nuts_diff     mobile_model  0.000100  0.217626\n3    nuts_diff  inception_model  0.001000  0.225060\n9    nuts_diff     mobile_model  0.000010  0.228128\n8    nuts_diff     mobile_model  0.000001  0.230067\n18   nuts_diff          s_model  0.000100  0.241853\n16   nuts_diff          s_model  0.000001  0.305188\n17   nuts_diff          s_model  0.000010  0.319842\n24  nuts_value         xs_model  0.001000  0.403024\n19   nuts_diff          s_model  0.001000  0.521651"
     },
     "execution_count": 26,
     "metadata": {},
     "output_type": "execute_result"
    }
   ],
   "source": [
    "res_dat.groupby(['prediction','transfer','lr'])['val_mse'].mean().reset_index().sort_values(['val_mse'])"
   ]
  },
  {
   "cell_type": "markdown",
   "metadata": {},
   "source": [
    "- The best model seems to come from RMSProp Optimiser, very small model and high learning rate"
   ]
  },
  {
   "cell_type": "code",
   "execution_count": 28,
   "metadata": {},
   "outputs": [
    {
     "data": {
      "text/html": "<div>\n<style scoped>\n    .dataframe tbody tr th:only-of-type {\n        vertical-align: middle;\n    }\n\n    .dataframe tbody tr th {\n        vertical-align: top;\n    }\n\n    .dataframe thead th {\n        text-align: right;\n    }\n</style>\n<table border=\"1\" class=\"dataframe\">\n  <thead>\n    <tr style=\"text-align: right;\">\n      <th></th>\n      <th>prediction</th>\n      <th>optim</th>\n      <th>transfer</th>\n      <th>lr</th>\n      <th>val_mse</th>\n    </tr>\n  </thead>\n  <tbody>\n    <tr>\n      <th>71</th>\n      <td>nuts_diff</td>\n      <td>rmsprob</td>\n      <td>xs_model</td>\n      <td>0.001000</td>\n      <td>0.200480</td>\n    </tr>\n    <tr>\n      <th>70</th>\n      <td>nuts_diff</td>\n      <td>rmsprob</td>\n      <td>xs_model</td>\n      <td>0.000100</td>\n      <td>0.202079</td>\n    </tr>\n    <tr>\n      <th>69</th>\n      <td>nuts_diff</td>\n      <td>rmsprob</td>\n      <td>xs_model</td>\n      <td>0.000010</td>\n      <td>0.202300</td>\n    </tr>\n    <tr>\n      <th>68</th>\n      <td>nuts_diff</td>\n      <td>rmsprob</td>\n      <td>xs_model</td>\n      <td>0.000001</td>\n      <td>0.202375</td>\n    </tr>\n    <tr>\n      <th>64</th>\n      <td>nuts_diff</td>\n      <td>rmsprob</td>\n      <td>s_model</td>\n      <td>0.000001</td>\n      <td>0.204975</td>\n    </tr>\n    <tr>\n      <th>...</th>\n      <td>...</td>\n      <td>...</td>\n      <td>...</td>\n      <td>...</td>\n      <td>...</td>\n    </tr>\n    <tr>\n      <th>18</th>\n      <td>nuts_diff</td>\n      <td>adam</td>\n      <td>s_model</td>\n      <td>0.000100</td>\n      <td>0.311689</td>\n    </tr>\n    <tr>\n      <th>92</th>\n      <td>nuts_value</td>\n      <td>sgd</td>\n      <td>xs_model</td>\n      <td>0.001000</td>\n      <td>0.403024</td>\n    </tr>\n    <tr>\n      <th>16</th>\n      <td>nuts_diff</td>\n      <td>adam</td>\n      <td>s_model</td>\n      <td>0.000001</td>\n      <td>0.502132</td>\n    </tr>\n    <tr>\n      <th>17</th>\n      <td>nuts_diff</td>\n      <td>adam</td>\n      <td>s_model</td>\n      <td>0.000010</td>\n      <td>0.546015</td>\n    </tr>\n    <tr>\n      <th>19</th>\n      <td>nuts_diff</td>\n      <td>adam</td>\n      <td>s_model</td>\n      <td>0.001000</td>\n      <td>1.149362</td>\n    </tr>\n  </tbody>\n</table>\n<p>93 rows × 5 columns</p>\n</div>",
      "text/plain": "    prediction    optim  transfer        lr   val_mse\n71   nuts_diff  rmsprob  xs_model  0.001000  0.200480\n70   nuts_diff  rmsprob  xs_model  0.000100  0.202079\n69   nuts_diff  rmsprob  xs_model  0.000010  0.202300\n68   nuts_diff  rmsprob  xs_model  0.000001  0.202375\n64   nuts_diff  rmsprob   s_model  0.000001  0.204975\n..         ...      ...       ...       ...       ...\n18   nuts_diff     adam   s_model  0.000100  0.311689\n92  nuts_value      sgd  xs_model  0.001000  0.403024\n16   nuts_diff     adam   s_model  0.000001  0.502132\n17   nuts_diff     adam   s_model  0.000010  0.546015\n19   nuts_diff     adam   s_model  0.001000  1.149362\n\n[93 rows x 5 columns]"
     },
     "execution_count": 28,
     "metadata": {},
     "output_type": "execute_result"
    }
   ],
   "source": [
    "res_dat.groupby(['prediction','optim','transfer','lr'])['val_mse'].mean().reset_index().sort_values(['val_mse'])"
   ]
  },
  {
   "cell_type": "code",
   "execution_count": 35,
   "metadata": {},
   "outputs": [
    {
     "data": {
      "text/html": "<div>\n<style scoped>\n    .dataframe tbody tr th:only-of-type {\n        vertical-align: middle;\n    }\n\n    .dataframe tbody tr th {\n        vertical-align: top;\n    }\n\n    .dataframe thead th {\n        text-align: right;\n    }\n</style>\n<table border=\"1\" class=\"dataframe\">\n  <thead>\n    <tr style=\"text-align: right;\">\n      <th></th>\n      <th>date</th>\n      <th>no_layers</th>\n      <th>batch_size</th>\n      <th>epochs</th>\n      <th>res</th>\n      <th>dims</th>\n      <th>train_mse</th>\n      <th>train_mae</th>\n      <th>val_mse</th>\n      <th>val_mae</th>\n      <th>test_mse</th>\n      <th>test_mae</th>\n      <th>transfer</th>\n      <th>lr</th>\n      <th>optim</th>\n      <th>comment</th>\n      <th>type</th>\n      <th>prediction</th>\n    </tr>\n  </thead>\n  <tbody>\n    <tr>\n      <th>8</th>\n      <td>2020-03-27</td>\n      <td>3</td>\n      <td>8</td>\n      <td>69</td>\n      <td>256</td>\n      <td>3</td>\n      <td>1.001475</td>\n      <td>0.393669</td>\n      <td>0.20048</td>\n      <td>0.330197</td>\n      <td>3.608354e+07</td>\n      <td>4439.712597</td>\n      <td>xs_model</td>\n      <td>0.001</td>\n      <td>rmsprob</td>\n      <td>iterated nn</td>\n      <td>viirs_night</td>\n      <td>nuts_diff</td>\n    </tr>\n  </tbody>\n</table>\n</div>",
      "text/plain": "         date  no_layers  batch_size  epochs  res  dims  train_mse  train_mae  \\\n8  2020-03-27          3           8      69  256     3   1.001475   0.393669   \n\n   val_mse   val_mae      test_mse     test_mae  transfer     lr    optim  \\\n8  0.20048  0.330197  3.608354e+07  4439.712597  xs_model  0.001  rmsprob   \n\n       comment         type prediction  \n8  iterated nn  viirs_night  nuts_diff  "
     },
     "execution_count": 35,
     "metadata": {},
     "output_type": "execute_result"
    }
   ],
   "source": [
    "res_dat.loc[res_dat['val_mse']==min(res_dat['val_mse'])]"
   ]
  },
  {
   "cell_type": "code",
   "execution_count": null,
   "metadata": {},
   "outputs": [],
   "source": []
  }
 ]
}